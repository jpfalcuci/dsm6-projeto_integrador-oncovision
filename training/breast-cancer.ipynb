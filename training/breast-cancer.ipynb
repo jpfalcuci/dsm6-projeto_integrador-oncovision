{
 "cells": [
  {
   "cell_type": "markdown",
   "id": "70f96095",
   "metadata": {},
   "source": [
    "# 📊 Breast Cancer Prediction Dataset\n",
    "\n",
    "*🔗 Fonte: [Breast Cancer Prediction Dataset - Kaggle](https://www.kaggle.com/datasets/merishnasuwal/breast-cancer-prediction-dataset)*\n",
    "\n",
    "**Descrição:**\n",
    "O câncer de mama é o câncer mais comum entre as mulheres no mundo. Ele representa 25% de todos os casos de câncer e afetou mais de 2,1 milhões de pessoas apenas em 2015. O câncer de mama começa quando células da mama começam a crescer descontroladamente. Essas células normalmente formam tumores que podem ser vistos em radiografias ou sentidos como nódulos na área da mama. O principal desafio para a detecção é classificar corretamente os tumores como malignos (cancerosos) ou benignos (não cancerosos).\n",
    "\n",
    "**Objetivos:**\n",
    "- Entender o conjunto de dados e realizar a limpeza (se necessário).\n",
    "- Construir modelos de classificação para prever se o tipo de câncer é maligno ou benigno.\n",
    "- Ajustar hiperparâmetros e comparar as métricas de avaliação de diferentes algoritmos de classificação."
   ]
  },
  {
   "cell_type": "markdown",
   "id": "39518cc6",
   "metadata": {},
   "source": [
    "---\n",
    "### ⚙️ Importações e configuração"
   ]
  },
  {
   "cell_type": "code",
   "execution_count": null,
   "id": "2c4af542",
   "metadata": {},
   "outputs": [],
   "source": [
    "import os\n",
    "import pickle\n",
    "import numpy as np\n",
    "import pandas as pd\n",
    "import seaborn as sns\n",
    "import plotly.express as px\n",
    "import matplotlib.pyplot as plt\n",
    "import plotly.graph_objects as go\n",
    "from plotly.subplots import make_subplots\n",
    "from sklearn.tree import DecisionTreeClassifier, plot_tree\n",
    "from sklearn.metrics import accuracy_score, confusion_matrix\n",
    "from sklearn.ensemble import RandomForestClassifier, GradientBoostingClassifier\n",
    "from sklearn.neighbors import KNeighborsClassifier\n",
    "from sklearn.linear_model import LogisticRegression\n",
    "from sklearn.preprocessing import StandardScaler\n",
    "from sklearn.model_selection import train_test_split\n",
    "\n",
    "sns.set_theme(style=\"whitegrid\")\n",
    "os.environ[\"LOKY_MAX_CPU_COUNT\"] = \"2\""
   ]
  },
  {
   "cell_type": "markdown",
   "id": "5764f2a2",
   "metadata": {},
   "source": [
    "---\n",
    "### 🔍 Carregar e visualizar os dados"
   ]
  },
  {
   "cell_type": "code",
   "execution_count": 2,
   "id": "e2f79f70",
   "metadata": {},
   "outputs": [
    {
     "name": "stdout",
     "output_type": "stream",
     "text": [
      "🎲 Formato do dataset: (569, 6)\n"
     ]
    },
    {
     "data": {
      "text/html": [
       "<div>\n",
       "<style scoped>\n",
       "    .dataframe tbody tr th:only-of-type {\n",
       "        vertical-align: middle;\n",
       "    }\n",
       "\n",
       "    .dataframe tbody tr th {\n",
       "        vertical-align: top;\n",
       "    }\n",
       "\n",
       "    .dataframe thead th {\n",
       "        text-align: right;\n",
       "    }\n",
       "</style>\n",
       "<table border=\"1\" class=\"dataframe\">\n",
       "  <thead>\n",
       "    <tr style=\"text-align: right;\">\n",
       "      <th></th>\n",
       "      <th>mean_radius</th>\n",
       "      <th>mean_texture</th>\n",
       "      <th>mean_perimeter</th>\n",
       "      <th>mean_area</th>\n",
       "      <th>mean_smoothness</th>\n",
       "      <th>diagnosis</th>\n",
       "    </tr>\n",
       "  </thead>\n",
       "  <tbody>\n",
       "    <tr>\n",
       "      <th>0</th>\n",
       "      <td>17.99</td>\n",
       "      <td>10.38</td>\n",
       "      <td>122.80</td>\n",
       "      <td>1001.0</td>\n",
       "      <td>0.11840</td>\n",
       "      <td>0</td>\n",
       "    </tr>\n",
       "    <tr>\n",
       "      <th>1</th>\n",
       "      <td>20.57</td>\n",
       "      <td>17.77</td>\n",
       "      <td>132.90</td>\n",
       "      <td>1326.0</td>\n",
       "      <td>0.08474</td>\n",
       "      <td>0</td>\n",
       "    </tr>\n",
       "    <tr>\n",
       "      <th>2</th>\n",
       "      <td>19.69</td>\n",
       "      <td>21.25</td>\n",
       "      <td>130.00</td>\n",
       "      <td>1203.0</td>\n",
       "      <td>0.10960</td>\n",
       "      <td>0</td>\n",
       "    </tr>\n",
       "    <tr>\n",
       "      <th>3</th>\n",
       "      <td>11.42</td>\n",
       "      <td>20.38</td>\n",
       "      <td>77.58</td>\n",
       "      <td>386.1</td>\n",
       "      <td>0.14250</td>\n",
       "      <td>0</td>\n",
       "    </tr>\n",
       "    <tr>\n",
       "      <th>4</th>\n",
       "      <td>20.29</td>\n",
       "      <td>14.34</td>\n",
       "      <td>135.10</td>\n",
       "      <td>1297.0</td>\n",
       "      <td>0.10030</td>\n",
       "      <td>0</td>\n",
       "    </tr>\n",
       "  </tbody>\n",
       "</table>\n",
       "</div>"
      ],
      "text/plain": [
       "   mean_radius  mean_texture  mean_perimeter  mean_area  mean_smoothness  \\\n",
       "0        17.99         10.38          122.80     1001.0          0.11840   \n",
       "1        20.57         17.77          132.90     1326.0          0.08474   \n",
       "2        19.69         21.25          130.00     1203.0          0.10960   \n",
       "3        11.42         20.38           77.58      386.1          0.14250   \n",
       "4        20.29         14.34          135.10     1297.0          0.10030   \n",
       "\n",
       "   diagnosis  \n",
       "0          0  \n",
       "1          0  \n",
       "2          0  \n",
       "3          0  \n",
       "4          0  "
      ]
     },
     "metadata": {},
     "output_type": "display_data"
    },
    {
     "name": "stdout",
     "output_type": "stream",
     "text": [
      "\n",
      "ℹ️ Informações do dataset:\n",
      "<class 'pandas.core.frame.DataFrame'>\n",
      "RangeIndex: 569 entries, 0 to 568\n",
      "Data columns (total 6 columns):\n",
      " #   Column           Non-Null Count  Dtype  \n",
      "---  ------           --------------  -----  \n",
      " 0   mean_radius      569 non-null    float64\n",
      " 1   mean_texture     569 non-null    float64\n",
      " 2   mean_perimeter   569 non-null    float64\n",
      " 3   mean_area        569 non-null    float64\n",
      " 4   mean_smoothness  569 non-null    float64\n",
      " 5   diagnosis        569 non-null    int64  \n",
      "dtypes: float64(5), int64(1)\n",
      "memory usage: 26.8 KB\n",
      "None\n",
      "\n",
      "📈 Estatísticas descritivas:\n"
     ]
    },
    {
     "data": {
      "text/html": [
       "<style type=\"text/css\">\n",
       "#T_200d0_row0_col0, #T_200d0_row1_col0, #T_200d0_row2_col0, #T_200d0_row3_col0, #T_200d0_row4_col0, #T_200d0_row4_col1, #T_200d0_row4_col2, #T_200d0_row4_col3, #T_200d0_row4_col4, #T_200d0_row4_col5, #T_200d0_row4_col6, #T_200d0_row4_col7, #T_200d0_row5_col0, #T_200d0_row5_col1, #T_200d0_row5_col2, #T_200d0_row5_col3, #T_200d0_row5_col4, #T_200d0_row5_col5, #T_200d0_row5_col6, #T_200d0_row5_col7 {\n",
       "  background-color: #e3d9c1;\n",
       "  color: #000000;\n",
       "}\n",
       "#T_200d0_row0_col1, #T_200d0_row0_col6, #T_200d0_row1_col7 {\n",
       "  background-color: #e1d5bd;\n",
       "  color: #000000;\n",
       "}\n",
       "#T_200d0_row0_col2, #T_200d0_row0_col7 {\n",
       "  background-color: #e2d7c0;\n",
       "  color: #000000;\n",
       "}\n",
       "#T_200d0_row0_col3 {\n",
       "  background-color: #dfcfb6;\n",
       "  color: #000000;\n",
       "}\n",
       "#T_200d0_row0_col4, #T_200d0_row1_col1, #T_200d0_row1_col6 {\n",
       "  background-color: #e0d2ba;\n",
       "  color: #000000;\n",
       "}\n",
       "#T_200d0_row0_col5 {\n",
       "  background-color: #e1d4bc;\n",
       "  color: #000000;\n",
       "}\n",
       "#T_200d0_row1_col2 {\n",
       "  background-color: #e2d6be;\n",
       "  color: #000000;\n",
       "}\n",
       "#T_200d0_row1_col3, #T_200d0_row2_col2 {\n",
       "  background-color: #decab2;\n",
       "  color: #000000;\n",
       "}\n",
       "#T_200d0_row1_col4, #T_200d0_row1_col5 {\n",
       "  background-color: #e0d1b9;\n",
       "  color: #000000;\n",
       "}\n",
       "#T_200d0_row2_col1, #T_200d0_row2_col6 {\n",
       "  background-color: #d9baa5;\n",
       "  color: #000000;\n",
       "}\n",
       "#T_200d0_row2_col3 {\n",
       "  background-color: #ca9190;\n",
       "  color: #f1f1f1;\n",
       "}\n",
       "#T_200d0_row2_col4 {\n",
       "  background-color: #d6af9e;\n",
       "  color: #000000;\n",
       "}\n",
       "#T_200d0_row2_col5 {\n",
       "  background-color: #d7b5a1;\n",
       "  color: #000000;\n",
       "}\n",
       "#T_200d0_row2_col7 {\n",
       "  background-color: #ddc8b0;\n",
       "  color: #000000;\n",
       "}\n",
       "#T_200d0_row3_col1, #T_200d0_row3_col2, #T_200d0_row3_col3, #T_200d0_row3_col4, #T_200d0_row3_col5, #T_200d0_row3_col6, #T_200d0_row3_col7 {\n",
       "  background-color: #27213f;\n",
       "  color: #f1f1f1;\n",
       "}\n",
       "</style>\n",
       "<table id=\"T_200d0\">\n",
       "  <thead>\n",
       "    <tr>\n",
       "      <th class=\"blank level0\" >&nbsp;</th>\n",
       "      <th id=\"T_200d0_level0_col0\" class=\"col_heading level0 col0\" >count</th>\n",
       "      <th id=\"T_200d0_level0_col1\" class=\"col_heading level0 col1\" >mean</th>\n",
       "      <th id=\"T_200d0_level0_col2\" class=\"col_heading level0 col2\" >std</th>\n",
       "      <th id=\"T_200d0_level0_col3\" class=\"col_heading level0 col3\" >min</th>\n",
       "      <th id=\"T_200d0_level0_col4\" class=\"col_heading level0 col4\" >25%</th>\n",
       "      <th id=\"T_200d0_level0_col5\" class=\"col_heading level0 col5\" >50%</th>\n",
       "      <th id=\"T_200d0_level0_col6\" class=\"col_heading level0 col6\" >75%</th>\n",
       "      <th id=\"T_200d0_level0_col7\" class=\"col_heading level0 col7\" >max</th>\n",
       "    </tr>\n",
       "  </thead>\n",
       "  <tbody>\n",
       "    <tr>\n",
       "      <th id=\"T_200d0_level0_row0\" class=\"row_heading level0 row0\" >mean_radius</th>\n",
       "      <td id=\"T_200d0_row0_col0\" class=\"data row0 col0\" >569.000000</td>\n",
       "      <td id=\"T_200d0_row0_col1\" class=\"data row0 col1\" >14.127292</td>\n",
       "      <td id=\"T_200d0_row0_col2\" class=\"data row0 col2\" >3.524049</td>\n",
       "      <td id=\"T_200d0_row0_col3\" class=\"data row0 col3\" >6.981000</td>\n",
       "      <td id=\"T_200d0_row0_col4\" class=\"data row0 col4\" >11.700000</td>\n",
       "      <td id=\"T_200d0_row0_col5\" class=\"data row0 col5\" >13.370000</td>\n",
       "      <td id=\"T_200d0_row0_col6\" class=\"data row0 col6\" >15.780000</td>\n",
       "      <td id=\"T_200d0_row0_col7\" class=\"data row0 col7\" >28.110000</td>\n",
       "    </tr>\n",
       "    <tr>\n",
       "      <th id=\"T_200d0_level0_row1\" class=\"row_heading level0 row1\" >mean_texture</th>\n",
       "      <td id=\"T_200d0_row1_col0\" class=\"data row1 col0\" >569.000000</td>\n",
       "      <td id=\"T_200d0_row1_col1\" class=\"data row1 col1\" >19.289649</td>\n",
       "      <td id=\"T_200d0_row1_col2\" class=\"data row1 col2\" >4.301036</td>\n",
       "      <td id=\"T_200d0_row1_col3\" class=\"data row1 col3\" >9.710000</td>\n",
       "      <td id=\"T_200d0_row1_col4\" class=\"data row1 col4\" >16.170000</td>\n",
       "      <td id=\"T_200d0_row1_col5\" class=\"data row1 col5\" >18.840000</td>\n",
       "      <td id=\"T_200d0_row1_col6\" class=\"data row1 col6\" >21.800000</td>\n",
       "      <td id=\"T_200d0_row1_col7\" class=\"data row1 col7\" >39.280000</td>\n",
       "    </tr>\n",
       "    <tr>\n",
       "      <th id=\"T_200d0_level0_row2\" class=\"row_heading level0 row2\" >mean_perimeter</th>\n",
       "      <td id=\"T_200d0_row2_col0\" class=\"data row2 col0\" >569.000000</td>\n",
       "      <td id=\"T_200d0_row2_col1\" class=\"data row2 col1\" >91.969033</td>\n",
       "      <td id=\"T_200d0_row2_col2\" class=\"data row2 col2\" >24.298981</td>\n",
       "      <td id=\"T_200d0_row2_col3\" class=\"data row2 col3\" >43.790000</td>\n",
       "      <td id=\"T_200d0_row2_col4\" class=\"data row2 col4\" >75.170000</td>\n",
       "      <td id=\"T_200d0_row2_col5\" class=\"data row2 col5\" >86.240000</td>\n",
       "      <td id=\"T_200d0_row2_col6\" class=\"data row2 col6\" >104.100000</td>\n",
       "      <td id=\"T_200d0_row2_col7\" class=\"data row2 col7\" >188.500000</td>\n",
       "    </tr>\n",
       "    <tr>\n",
       "      <th id=\"T_200d0_level0_row3\" class=\"row_heading level0 row3\" >mean_area</th>\n",
       "      <td id=\"T_200d0_row3_col0\" class=\"data row3 col0\" >569.000000</td>\n",
       "      <td id=\"T_200d0_row3_col1\" class=\"data row3 col1\" >654.889104</td>\n",
       "      <td id=\"T_200d0_row3_col2\" class=\"data row3 col2\" >351.914129</td>\n",
       "      <td id=\"T_200d0_row3_col3\" class=\"data row3 col3\" >143.500000</td>\n",
       "      <td id=\"T_200d0_row3_col4\" class=\"data row3 col4\" >420.300000</td>\n",
       "      <td id=\"T_200d0_row3_col5\" class=\"data row3 col5\" >551.100000</td>\n",
       "      <td id=\"T_200d0_row3_col6\" class=\"data row3 col6\" >782.700000</td>\n",
       "      <td id=\"T_200d0_row3_col7\" class=\"data row3 col7\" >2501.000000</td>\n",
       "    </tr>\n",
       "    <tr>\n",
       "      <th id=\"T_200d0_level0_row4\" class=\"row_heading level0 row4\" >mean_smoothness</th>\n",
       "      <td id=\"T_200d0_row4_col0\" class=\"data row4 col0\" >569.000000</td>\n",
       "      <td id=\"T_200d0_row4_col1\" class=\"data row4 col1\" >0.096360</td>\n",
       "      <td id=\"T_200d0_row4_col2\" class=\"data row4 col2\" >0.014064</td>\n",
       "      <td id=\"T_200d0_row4_col3\" class=\"data row4 col3\" >0.052630</td>\n",
       "      <td id=\"T_200d0_row4_col4\" class=\"data row4 col4\" >0.086370</td>\n",
       "      <td id=\"T_200d0_row4_col5\" class=\"data row4 col5\" >0.095870</td>\n",
       "      <td id=\"T_200d0_row4_col6\" class=\"data row4 col6\" >0.105300</td>\n",
       "      <td id=\"T_200d0_row4_col7\" class=\"data row4 col7\" >0.163400</td>\n",
       "    </tr>\n",
       "    <tr>\n",
       "      <th id=\"T_200d0_level0_row5\" class=\"row_heading level0 row5\" >diagnosis</th>\n",
       "      <td id=\"T_200d0_row5_col0\" class=\"data row5 col0\" >569.000000</td>\n",
       "      <td id=\"T_200d0_row5_col1\" class=\"data row5 col1\" >0.627417</td>\n",
       "      <td id=\"T_200d0_row5_col2\" class=\"data row5 col2\" >0.483918</td>\n",
       "      <td id=\"T_200d0_row5_col3\" class=\"data row5 col3\" >0.000000</td>\n",
       "      <td id=\"T_200d0_row5_col4\" class=\"data row5 col4\" >0.000000</td>\n",
       "      <td id=\"T_200d0_row5_col5\" class=\"data row5 col5\" >1.000000</td>\n",
       "      <td id=\"T_200d0_row5_col6\" class=\"data row5 col6\" >1.000000</td>\n",
       "      <td id=\"T_200d0_row5_col7\" class=\"data row5 col7\" >1.000000</td>\n",
       "    </tr>\n",
       "  </tbody>\n",
       "</table>\n"
      ],
      "text/plain": [
       "<pandas.io.formats.style.Styler at 0x2d242563b60>"
      ]
     },
     "metadata": {},
     "output_type": "display_data"
    }
   ],
   "source": [
    "df = pd.read_csv(f'breast_cancer.csv', sep=',')\n",
    "\n",
    "print(\"🎲 Formato do dataset:\", df.shape)\n",
    "display(df.head())\n",
    "print(\"\\nℹ️ Informações do dataset:\")\n",
    "print(df.info())\n",
    "print(f\"\\n📈 Estatísticas descritivas:\")\n",
    "display(df.describe().T.style.background_gradient(cmap = sns.color_palette(\"ch:s=-.2,r=.6\", as_cmap=True)))"
   ]
  },
  {
   "cell_type": "markdown",
   "id": "43dd77ad",
   "metadata": {},
   "source": [
    "---\n",
    "### 📌 Análise de Valores Únicos e Tipos de Colunas"
   ]
  },
  {
   "cell_type": "code",
   "execution_count": 3,
   "id": "41bbcd6c",
   "metadata": {},
   "outputs": [
    {
     "name": "stdout",
     "output_type": "stream",
     "text": [
      "📌 Quantidade de valores únicos em cada coluna:\n",
      "mean_radius        456\n",
      "mean_texture       479\n",
      "mean_perimeter     522\n",
      "mean_area          539\n",
      "mean_smoothness    474\n",
      "diagnosis            2\n",
      "dtype: int64\n"
     ]
    }
   ],
   "source": [
    "print(\"📌 Quantidade de valores únicos em cada coluna:\")\n",
    "print(df.nunique())"
   ]
  },
  {
   "cell_type": "markdown",
   "id": "4a4ec785",
   "metadata": {},
   "source": [
    "---\n",
    "## 📊 Pré-processamento"
   ]
  },
  {
   "cell_type": "markdown",
   "id": "66ac6a7d",
   "metadata": {},
   "source": [
    "---\n",
    "### 🧼 Converter e tratar valores ausentes e duplicados"
   ]
  },
  {
   "cell_type": "code",
   "execution_count": 4,
   "id": "9a06cdab",
   "metadata": {},
   "outputs": [
    {
     "name": "stdout",
     "output_type": "stream",
     "text": [
      "🔍 Removendo duplicatas...\n",
      "➡️ Nenhuma duplicata encontrada.\n"
     ]
    }
   ],
   "source": [
    "# Remover linhas duplicadas, se houver\n",
    "print(f\"🔍 Removendo duplicatas...\")\n",
    "duplicatas = df.duplicated().sum()\n",
    "if duplicatas > 0:\n",
    "    df.drop_duplicates(inplace=True)\n",
    "    print(f\"➡️ {duplicatas} duplicatas removidas.\")\n",
    "else:\n",
    "    print(\"➡️ Nenhuma duplicata encontrada.\")"
   ]
  },
  {
   "cell_type": "code",
   "execution_count": 5,
   "id": "e94736f1",
   "metadata": {},
   "outputs": [
    {
     "name": "stdout",
     "output_type": "stream",
     "text": [
      "🔍 Tratando valores infinitos...\n",
      "➡️ Nenhum valor nulo encontrado.\n"
     ]
    }
   ],
   "source": [
    "# Substituir valores infinitos por NaN e depois remover ou imputar\n",
    "print(f\"🔍 Tratando valores infinitos...\")\n",
    "df.replace([np.inf, -np.inf], np.nan, inplace=True)\n",
    "\n",
    "# Se restar algum NaN após substituir infinitos\n",
    "nulos = df.isnull().sum().sum()\n",
    "if nulos > 0:\n",
    "    df.dropna(inplace=True)\n",
    "    print(f\"➡️ {nulos} valores nulos removidos.\")\n",
    "else:\n",
    "    print(\"➡️ Nenhum valor nulo encontrado.\")"
   ]
  },
  {
   "cell_type": "markdown",
   "id": "a3a950ce",
   "metadata": {},
   "source": [
    "---\n",
    "### 📈 Análise exploratória (EDA)"
   ]
  },
  {
   "cell_type": "code",
   "execution_count": 6,
   "id": "ca77f111",
   "metadata": {},
   "outputs": [],
   "source": [
    "cor_benigno = '#A865C9'\n",
    "cor_maligno = '#f6abb6'"
   ]
  },
  {
   "cell_type": "markdown",
   "id": "1032fad5",
   "metadata": {},
   "source": [
    "#### 🎯 Distribuição dos Diagnósticos\n",
    "##### Gráfico de Barras 📊 e de Pizza 🍕"
   ]
  },
  {
   "cell_type": "code",
   "execution_count": 7,
   "id": "5171c4b8",
   "metadata": {},
   "outputs": [
    {
     "data": {
      "application/vnd.plotly.v1+json": {
       "config": {
        "plotlyServerURL": "https://plot.ly"
       },
       "data": [
        {
         "marker": {
          "color": [
           "#f6abb6",
           "#A865C9"
          ]
         },
         "showlegend": false,
         "text": {
          "bdata": "AAAAAABQdkAAAAAAAIBqQA==",
          "dtype": "f8"
         },
         "textposition": "auto",
         "type": "bar",
         "x": {
          "bdata": "AQA=",
          "dtype": "i1"
         },
         "xaxis": "x",
         "y": {
          "bdata": "ZQHUAA==",
          "dtype": "i2"
         },
         "yaxis": "y"
        },
        {
         "domain": {
          "x": [
           0.55,
           1
          ],
          "y": [
           0,
           1
          ]
         },
         "hole": 0.4,
         "labels": [
          "Benigno (1)",
          "Maligno (0)"
         ],
         "marker": {
          "colors": [
           "#f6abb6",
           "#A865C9"
          ]
         },
         "type": "pie",
         "values": {
          "bdata": "0MsTdO5eT0AwNOyLEaFCQA==",
          "dtype": "f8"
         }
        }
       ],
       "layout": {
        "annotations": [
         {
          "font": {
           "size": 16
          },
          "showarrow": false,
          "text": "Distribuição de Diagnóstico",
          "x": 0.225,
          "xanchor": "center",
          "xref": "paper",
          "y": 1,
          "yanchor": "bottom",
          "yref": "paper"
         },
         {
          "font": {
           "size": 16
          },
          "showarrow": false,
          "text": "Proporção de Diagnóstico",
          "x": 0.775,
          "xanchor": "center",
          "xref": "paper",
          "y": 1,
          "yanchor": "bottom",
          "yref": "paper"
         }
        ],
        "height": 400,
        "template": {
         "data": {
          "bar": [
           {
            "error_x": {
             "color": "#2a3f5f"
            },
            "error_y": {
             "color": "#2a3f5f"
            },
            "marker": {
             "line": {
              "color": "#E5ECF6",
              "width": 0.5
             },
             "pattern": {
              "fillmode": "overlay",
              "size": 10,
              "solidity": 0.2
             }
            },
            "type": "bar"
           }
          ],
          "barpolar": [
           {
            "marker": {
             "line": {
              "color": "#E5ECF6",
              "width": 0.5
             },
             "pattern": {
              "fillmode": "overlay",
              "size": 10,
              "solidity": 0.2
             }
            },
            "type": "barpolar"
           }
          ],
          "carpet": [
           {
            "aaxis": {
             "endlinecolor": "#2a3f5f",
             "gridcolor": "white",
             "linecolor": "white",
             "minorgridcolor": "white",
             "startlinecolor": "#2a3f5f"
            },
            "baxis": {
             "endlinecolor": "#2a3f5f",
             "gridcolor": "white",
             "linecolor": "white",
             "minorgridcolor": "white",
             "startlinecolor": "#2a3f5f"
            },
            "type": "carpet"
           }
          ],
          "choropleth": [
           {
            "colorbar": {
             "outlinewidth": 0,
             "ticks": ""
            },
            "type": "choropleth"
           }
          ],
          "contour": [
           {
            "colorbar": {
             "outlinewidth": 0,
             "ticks": ""
            },
            "colorscale": [
             [
              0,
              "#0d0887"
             ],
             [
              0.1111111111111111,
              "#46039f"
             ],
             [
              0.2222222222222222,
              "#7201a8"
             ],
             [
              0.3333333333333333,
              "#9c179e"
             ],
             [
              0.4444444444444444,
              "#bd3786"
             ],
             [
              0.5555555555555556,
              "#d8576b"
             ],
             [
              0.6666666666666666,
              "#ed7953"
             ],
             [
              0.7777777777777778,
              "#fb9f3a"
             ],
             [
              0.8888888888888888,
              "#fdca26"
             ],
             [
              1,
              "#f0f921"
             ]
            ],
            "type": "contour"
           }
          ],
          "contourcarpet": [
           {
            "colorbar": {
             "outlinewidth": 0,
             "ticks": ""
            },
            "type": "contourcarpet"
           }
          ],
          "heatmap": [
           {
            "colorbar": {
             "outlinewidth": 0,
             "ticks": ""
            },
            "colorscale": [
             [
              0,
              "#0d0887"
             ],
             [
              0.1111111111111111,
              "#46039f"
             ],
             [
              0.2222222222222222,
              "#7201a8"
             ],
             [
              0.3333333333333333,
              "#9c179e"
             ],
             [
              0.4444444444444444,
              "#bd3786"
             ],
             [
              0.5555555555555556,
              "#d8576b"
             ],
             [
              0.6666666666666666,
              "#ed7953"
             ],
             [
              0.7777777777777778,
              "#fb9f3a"
             ],
             [
              0.8888888888888888,
              "#fdca26"
             ],
             [
              1,
              "#f0f921"
             ]
            ],
            "type": "heatmap"
           }
          ],
          "histogram": [
           {
            "marker": {
             "pattern": {
              "fillmode": "overlay",
              "size": 10,
              "solidity": 0.2
             }
            },
            "type": "histogram"
           }
          ],
          "histogram2d": [
           {
            "colorbar": {
             "outlinewidth": 0,
             "ticks": ""
            },
            "colorscale": [
             [
              0,
              "#0d0887"
             ],
             [
              0.1111111111111111,
              "#46039f"
             ],
             [
              0.2222222222222222,
              "#7201a8"
             ],
             [
              0.3333333333333333,
              "#9c179e"
             ],
             [
              0.4444444444444444,
              "#bd3786"
             ],
             [
              0.5555555555555556,
              "#d8576b"
             ],
             [
              0.6666666666666666,
              "#ed7953"
             ],
             [
              0.7777777777777778,
              "#fb9f3a"
             ],
             [
              0.8888888888888888,
              "#fdca26"
             ],
             [
              1,
              "#f0f921"
             ]
            ],
            "type": "histogram2d"
           }
          ],
          "histogram2dcontour": [
           {
            "colorbar": {
             "outlinewidth": 0,
             "ticks": ""
            },
            "colorscale": [
             [
              0,
              "#0d0887"
             ],
             [
              0.1111111111111111,
              "#46039f"
             ],
             [
              0.2222222222222222,
              "#7201a8"
             ],
             [
              0.3333333333333333,
              "#9c179e"
             ],
             [
              0.4444444444444444,
              "#bd3786"
             ],
             [
              0.5555555555555556,
              "#d8576b"
             ],
             [
              0.6666666666666666,
              "#ed7953"
             ],
             [
              0.7777777777777778,
              "#fb9f3a"
             ],
             [
              0.8888888888888888,
              "#fdca26"
             ],
             [
              1,
              "#f0f921"
             ]
            ],
            "type": "histogram2dcontour"
           }
          ],
          "mesh3d": [
           {
            "colorbar": {
             "outlinewidth": 0,
             "ticks": ""
            },
            "type": "mesh3d"
           }
          ],
          "parcoords": [
           {
            "line": {
             "colorbar": {
              "outlinewidth": 0,
              "ticks": ""
             }
            },
            "type": "parcoords"
           }
          ],
          "pie": [
           {
            "automargin": true,
            "type": "pie"
           }
          ],
          "scatter": [
           {
            "fillpattern": {
             "fillmode": "overlay",
             "size": 10,
             "solidity": 0.2
            },
            "type": "scatter"
           }
          ],
          "scatter3d": [
           {
            "line": {
             "colorbar": {
              "outlinewidth": 0,
              "ticks": ""
             }
            },
            "marker": {
             "colorbar": {
              "outlinewidth": 0,
              "ticks": ""
             }
            },
            "type": "scatter3d"
           }
          ],
          "scattercarpet": [
           {
            "marker": {
             "colorbar": {
              "outlinewidth": 0,
              "ticks": ""
             }
            },
            "type": "scattercarpet"
           }
          ],
          "scattergeo": [
           {
            "marker": {
             "colorbar": {
              "outlinewidth": 0,
              "ticks": ""
             }
            },
            "type": "scattergeo"
           }
          ],
          "scattergl": [
           {
            "marker": {
             "colorbar": {
              "outlinewidth": 0,
              "ticks": ""
             }
            },
            "type": "scattergl"
           }
          ],
          "scattermap": [
           {
            "marker": {
             "colorbar": {
              "outlinewidth": 0,
              "ticks": ""
             }
            },
            "type": "scattermap"
           }
          ],
          "scattermapbox": [
           {
            "marker": {
             "colorbar": {
              "outlinewidth": 0,
              "ticks": ""
             }
            },
            "type": "scattermapbox"
           }
          ],
          "scatterpolar": [
           {
            "marker": {
             "colorbar": {
              "outlinewidth": 0,
              "ticks": ""
             }
            },
            "type": "scatterpolar"
           }
          ],
          "scatterpolargl": [
           {
            "marker": {
             "colorbar": {
              "outlinewidth": 0,
              "ticks": ""
             }
            },
            "type": "scatterpolargl"
           }
          ],
          "scatterternary": [
           {
            "marker": {
             "colorbar": {
              "outlinewidth": 0,
              "ticks": ""
             }
            },
            "type": "scatterternary"
           }
          ],
          "surface": [
           {
            "colorbar": {
             "outlinewidth": 0,
             "ticks": ""
            },
            "colorscale": [
             [
              0,
              "#0d0887"
             ],
             [
              0.1111111111111111,
              "#46039f"
             ],
             [
              0.2222222222222222,
              "#7201a8"
             ],
             [
              0.3333333333333333,
              "#9c179e"
             ],
             [
              0.4444444444444444,
              "#bd3786"
             ],
             [
              0.5555555555555556,
              "#d8576b"
             ],
             [
              0.6666666666666666,
              "#ed7953"
             ],
             [
              0.7777777777777778,
              "#fb9f3a"
             ],
             [
              0.8888888888888888,
              "#fdca26"
             ],
             [
              1,
              "#f0f921"
             ]
            ],
            "type": "surface"
           }
          ],
          "table": [
           {
            "cells": {
             "fill": {
              "color": "#EBF0F8"
             },
             "line": {
              "color": "white"
             }
            },
            "header": {
             "fill": {
              "color": "#C8D4E3"
             },
             "line": {
              "color": "white"
             }
            },
            "type": "table"
           }
          ]
         },
         "layout": {
          "annotationdefaults": {
           "arrowcolor": "#2a3f5f",
           "arrowhead": 0,
           "arrowwidth": 1
          },
          "autotypenumbers": "strict",
          "coloraxis": {
           "colorbar": {
            "outlinewidth": 0,
            "ticks": ""
           }
          },
          "colorscale": {
           "diverging": [
            [
             0,
             "#8e0152"
            ],
            [
             0.1,
             "#c51b7d"
            ],
            [
             0.2,
             "#de77ae"
            ],
            [
             0.3,
             "#f1b6da"
            ],
            [
             0.4,
             "#fde0ef"
            ],
            [
             0.5,
             "#f7f7f7"
            ],
            [
             0.6,
             "#e6f5d0"
            ],
            [
             0.7,
             "#b8e186"
            ],
            [
             0.8,
             "#7fbc41"
            ],
            [
             0.9,
             "#4d9221"
            ],
            [
             1,
             "#276419"
            ]
           ],
           "sequential": [
            [
             0,
             "#0d0887"
            ],
            [
             0.1111111111111111,
             "#46039f"
            ],
            [
             0.2222222222222222,
             "#7201a8"
            ],
            [
             0.3333333333333333,
             "#9c179e"
            ],
            [
             0.4444444444444444,
             "#bd3786"
            ],
            [
             0.5555555555555556,
             "#d8576b"
            ],
            [
             0.6666666666666666,
             "#ed7953"
            ],
            [
             0.7777777777777778,
             "#fb9f3a"
            ],
            [
             0.8888888888888888,
             "#fdca26"
            ],
            [
             1,
             "#f0f921"
            ]
           ],
           "sequentialminus": [
            [
             0,
             "#0d0887"
            ],
            [
             0.1111111111111111,
             "#46039f"
            ],
            [
             0.2222222222222222,
             "#7201a8"
            ],
            [
             0.3333333333333333,
             "#9c179e"
            ],
            [
             0.4444444444444444,
             "#bd3786"
            ],
            [
             0.5555555555555556,
             "#d8576b"
            ],
            [
             0.6666666666666666,
             "#ed7953"
            ],
            [
             0.7777777777777778,
             "#fb9f3a"
            ],
            [
             0.8888888888888888,
             "#fdca26"
            ],
            [
             1,
             "#f0f921"
            ]
           ]
          },
          "colorway": [
           "#636efa",
           "#EF553B",
           "#00cc96",
           "#ab63fa",
           "#FFA15A",
           "#19d3f3",
           "#FF6692",
           "#B6E880",
           "#FF97FF",
           "#FECB52"
          ],
          "font": {
           "color": "#2a3f5f"
          },
          "geo": {
           "bgcolor": "white",
           "lakecolor": "white",
           "landcolor": "#E5ECF6",
           "showlakes": true,
           "showland": true,
           "subunitcolor": "white"
          },
          "hoverlabel": {
           "align": "left"
          },
          "hovermode": "closest",
          "mapbox": {
           "style": "light"
          },
          "paper_bgcolor": "white",
          "plot_bgcolor": "#E5ECF6",
          "polar": {
           "angularaxis": {
            "gridcolor": "white",
            "linecolor": "white",
            "ticks": ""
           },
           "bgcolor": "#E5ECF6",
           "radialaxis": {
            "gridcolor": "white",
            "linecolor": "white",
            "ticks": ""
           }
          },
          "scene": {
           "xaxis": {
            "backgroundcolor": "#E5ECF6",
            "gridcolor": "white",
            "gridwidth": 2,
            "linecolor": "white",
            "showbackground": true,
            "ticks": "",
            "zerolinecolor": "white"
           },
           "yaxis": {
            "backgroundcolor": "#E5ECF6",
            "gridcolor": "white",
            "gridwidth": 2,
            "linecolor": "white",
            "showbackground": true,
            "ticks": "",
            "zerolinecolor": "white"
           },
           "zaxis": {
            "backgroundcolor": "#E5ECF6",
            "gridcolor": "white",
            "gridwidth": 2,
            "linecolor": "white",
            "showbackground": true,
            "ticks": "",
            "zerolinecolor": "white"
           }
          },
          "shapedefaults": {
           "line": {
            "color": "#2a3f5f"
           }
          },
          "ternary": {
           "aaxis": {
            "gridcolor": "white",
            "linecolor": "white",
            "ticks": ""
           },
           "baxis": {
            "gridcolor": "white",
            "linecolor": "white",
            "ticks": ""
           },
           "bgcolor": "#E5ECF6",
           "caxis": {
            "gridcolor": "white",
            "linecolor": "white",
            "ticks": ""
           }
          },
          "title": {
           "x": 0.05
          },
          "xaxis": {
           "automargin": true,
           "gridcolor": "white",
           "linecolor": "white",
           "ticks": "",
           "title": {
            "standoff": 15
           },
           "zerolinecolor": "white",
           "zerolinewidth": 2
          },
          "yaxis": {
           "automargin": true,
           "gridcolor": "white",
           "linecolor": "white",
           "ticks": "",
           "title": {
            "standoff": 15
           },
           "zerolinecolor": "white",
           "zerolinewidth": 2
          }
         }
        },
        "title": {
         "text": "🎯 Diagnóstico de Câncer de Mama"
        },
        "width": 1200,
        "xaxis": {
         "anchor": "y",
         "domain": [
          0,
          0.45
         ]
        },
        "yaxis": {
         "anchor": "x",
         "domain": [
          0,
          1
         ]
        }
       }
      }
     },
     "metadata": {},
     "output_type": "display_data"
    }
   ],
   "source": [
    "# Contagem e porcentagem\n",
    "contagem_status = df['diagnosis'].value_counts()\n",
    "porcentagem_status = contagem_status / contagem_status.sum() * 100\n",
    "\n",
    "# Cores personalizadas\n",
    "colors = [cor_maligno, cor_benigno]\n",
    "\n",
    "# Criar subplots: 1 linha, 2 colunas\n",
    "fig = make_subplots(\n",
    "    rows=1, cols=2,\n",
    "    specs=[[{\"type\": \"bar\"}, {\"type\": \"pie\"}]],\n",
    "    subplot_titles=(\"Distribuição de Diagnóstico\", \"Proporção de Diagnóstico\")\n",
    ")\n",
    "\n",
    "# Gráfico de Barras\n",
    "fig.add_trace(\n",
    "    go.Bar(\n",
    "        x=contagem_status.index,\n",
    "        y=contagem_status.values,\n",
    "        marker_color=colors,\n",
    "        text=contagem_status.values,\n",
    "        textposition='auto',\n",
    "        showlegend=False\n",
    "    ),\n",
    "    row=1, col=1\n",
    ")\n",
    "\n",
    "# Gráfico de Pizza\n",
    "fig.add_trace(\n",
    "    go.Pie(\n",
    "        labels=['Benigno (1)', 'Maligno (0)'],\n",
    "        values=porcentagem_status.values,\n",
    "        marker_colors=colors,\n",
    "        hole=0.4\n",
    "    ),\n",
    "    row=1, col=2\n",
    ")\n",
    "\n",
    "# Layout\n",
    "fig.update_layout(\n",
    "    title_text=\"🎯 Diagnóstico de Câncer de Mama\",\n",
    "    width=1200,\n",
    "    height=400\n",
    ")\n",
    "\n",
    "fig.show()"
   ]
  },
  {
   "cell_type": "markdown",
   "id": "f669716a",
   "metadata": {},
   "source": [
    "#### 📏 Histogramas de Variáveis Selecionadas"
   ]
  },
  {
   "cell_type": "code",
   "execution_count": 8,
   "id": "e6ba7c63",
   "metadata": {},
   "outputs": [
    {
     "data": {
      "application/vnd.plotly.v1+json": {
       "config": {
        "plotlyServerURL": "https://plot.ly"
       },
       "data": [
        {
         "bingroup": "x",
         "hovertemplate": "diagnosis=0<br>mean_radius=%{x}<br>count=%{y}<extra></extra>",
         "legendgroup": "0",
         "marker": {
          "color": "#A865C9",
          "pattern": {
           "shape": ""
          }
         },
         "name": "0",
         "orientation": "v",
         "showlegend": true,
         "type": "histogram",
         "x": {
          "bdata": "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",
          "dtype": "f8"
         },
         "xaxis": "x",
         "yaxis": "y"
        },
        {
         "bingroup": "x",
         "hovertemplate": "diagnosis=1<br>mean_radius=%{x}<br>count=%{y}<extra></extra>",
         "legendgroup": "1",
         "marker": {
          "color": "#f6abb6",
          "pattern": {
           "shape": ""
          }
         },
         "name": "1",
         "orientation": "v",
         "showlegend": true,
         "type": "histogram",
         "x": {
          "bdata": "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",
          "dtype": "f8"
         },
         "xaxis": "x",
         "yaxis": "y"
        }
       ],
       "layout": {
        "barmode": "relative",
        "legend": {
         "title": {
          "text": "diagnosis"
         },
         "tracegroupgap": 0
        },
        "template": {
         "data": {
          "bar": [
           {
            "error_x": {
             "color": "#2a3f5f"
            },
            "error_y": {
             "color": "#2a3f5f"
            },
            "marker": {
             "line": {
              "color": "#E5ECF6",
              "width": 0.5
             },
             "pattern": {
              "fillmode": "overlay",
              "size": 10,
              "solidity": 0.2
             }
            },
            "type": "bar"
           }
          ],
          "barpolar": [
           {
            "marker": {
             "line": {
              "color": "#E5ECF6",
              "width": 0.5
             },
             "pattern": {
              "fillmode": "overlay",
              "size": 10,
              "solidity": 0.2
             }
            },
            "type": "barpolar"
           }
          ],
          "carpet": [
           {
            "aaxis": {
             "endlinecolor": "#2a3f5f",
             "gridcolor": "white",
             "linecolor": "white",
             "minorgridcolor": "white",
             "startlinecolor": "#2a3f5f"
            },
            "baxis": {
             "endlinecolor": "#2a3f5f",
             "gridcolor": "white",
             "linecolor": "white",
             "minorgridcolor": "white",
             "startlinecolor": "#2a3f5f"
            },
            "type": "carpet"
           }
          ],
          "choropleth": [
           {
            "colorbar": {
             "outlinewidth": 0,
             "ticks": ""
            },
            "type": "choropleth"
           }
          ],
          "contour": [
           {
            "colorbar": {
             "outlinewidth": 0,
             "ticks": ""
            },
            "colorscale": [
             [
              0,
              "#0d0887"
             ],
             [
              0.1111111111111111,
              "#46039f"
             ],
             [
              0.2222222222222222,
              "#7201a8"
             ],
             [
              0.3333333333333333,
              "#9c179e"
             ],
             [
              0.4444444444444444,
              "#bd3786"
             ],
             [
              0.5555555555555556,
              "#d8576b"
             ],
             [
              0.6666666666666666,
              "#ed7953"
             ],
             [
              0.7777777777777778,
              "#fb9f3a"
             ],
             [
              0.8888888888888888,
              "#fdca26"
             ],
             [
              1,
              "#f0f921"
             ]
            ],
            "type": "contour"
           }
          ],
          "contourcarpet": [
           {
            "colorbar": {
             "outlinewidth": 0,
             "ticks": ""
            },
            "type": "contourcarpet"
           }
          ],
          "heatmap": [
           {
            "colorbar": {
             "outlinewidth": 0,
             "ticks": ""
            },
            "colorscale": [
             [
              0,
              "#0d0887"
             ],
             [
              0.1111111111111111,
              "#46039f"
             ],
             [
              0.2222222222222222,
              "#7201a8"
             ],
             [
              0.3333333333333333,
              "#9c179e"
             ],
             [
              0.4444444444444444,
              "#bd3786"
             ],
             [
              0.5555555555555556,
              "#d8576b"
             ],
             [
              0.6666666666666666,
              "#ed7953"
             ],
             [
              0.7777777777777778,
              "#fb9f3a"
             ],
             [
              0.8888888888888888,
              "#fdca26"
             ],
             [
              1,
              "#f0f921"
             ]
            ],
            "type": "heatmap"
           }
          ],
          "histogram": [
           {
            "marker": {
             "pattern": {
              "fillmode": "overlay",
              "size": 10,
              "solidity": 0.2
             }
            },
            "type": "histogram"
           }
          ],
          "histogram2d": [
           {
            "colorbar": {
             "outlinewidth": 0,
             "ticks": ""
            },
            "colorscale": [
             [
              0,
              "#0d0887"
             ],
             [
              0.1111111111111111,
              "#46039f"
             ],
             [
              0.2222222222222222,
              "#7201a8"
             ],
             [
              0.3333333333333333,
              "#9c179e"
             ],
             [
              0.4444444444444444,
              "#bd3786"
             ],
             [
              0.5555555555555556,
              "#d8576b"
             ],
             [
              0.6666666666666666,
              "#ed7953"
             ],
             [
              0.7777777777777778,
              "#fb9f3a"
             ],
             [
              0.8888888888888888,
              "#fdca26"
             ],
             [
              1,
              "#f0f921"
             ]
            ],
            "type": "histogram2d"
           }
          ],
          "histogram2dcontour": [
           {
            "colorbar": {
             "outlinewidth": 0,
             "ticks": ""
            },
            "colorscale": [
             [
              0,
              "#0d0887"
             ],
             [
              0.1111111111111111,
              "#46039f"
             ],
             [
              0.2222222222222222,
              "#7201a8"
             ],
             [
              0.3333333333333333,
              "#9c179e"
             ],
             [
              0.4444444444444444,
              "#bd3786"
             ],
             [
              0.5555555555555556,
              "#d8576b"
             ],
             [
              0.6666666666666666,
              "#ed7953"
             ],
             [
              0.7777777777777778,
              "#fb9f3a"
             ],
             [
              0.8888888888888888,
              "#fdca26"
             ],
             [
              1,
              "#f0f921"
             ]
            ],
            "type": "histogram2dcontour"
           }
          ],
          "mesh3d": [
           {
            "colorbar": {
             "outlinewidth": 0,
             "ticks": ""
            },
            "type": "mesh3d"
           }
          ],
          "parcoords": [
           {
            "line": {
             "colorbar": {
              "outlinewidth": 0,
              "ticks": ""
             }
            },
            "type": "parcoords"
           }
          ],
          "pie": [
           {
            "automargin": true,
            "type": "pie"
           }
          ],
          "scatter": [
           {
            "fillpattern": {
             "fillmode": "overlay",
             "size": 10,
             "solidity": 0.2
            },
            "type": "scatter"
           }
          ],
          "scatter3d": [
           {
            "line": {
             "colorbar": {
              "outlinewidth": 0,
              "ticks": ""
             }
            },
            "marker": {
             "colorbar": {
              "outlinewidth": 0,
              "ticks": ""
             }
            },
            "type": "scatter3d"
           }
          ],
          "scattercarpet": [
           {
            "marker": {
             "colorbar": {
              "outlinewidth": 0,
              "ticks": ""
             }
            },
            "type": "scattercarpet"
           }
          ],
          "scattergeo": [
           {
            "marker": {
             "colorbar": {
              "outlinewidth": 0,
              "ticks": ""
             }
            },
            "type": "scattergeo"
           }
          ],
          "scattergl": [
           {
            "marker": {
             "colorbar": {
              "outlinewidth": 0,
              "ticks": ""
             }
            },
            "type": "scattergl"
           }
          ],
          "scattermap": [
           {
            "marker": {
             "colorbar": {
              "outlinewidth": 0,
              "ticks": ""
             }
            },
            "type": "scattermap"
           }
          ],
          "scattermapbox": [
           {
            "marker": {
             "colorbar": {
              "outlinewidth": 0,
              "ticks": ""
             }
            },
            "type": "scattermapbox"
           }
          ],
          "scatterpolar": [
           {
            "marker": {
             "colorbar": {
              "outlinewidth": 0,
              "ticks": ""
             }
            },
            "type": "scatterpolar"
           }
          ],
          "scatterpolargl": [
           {
            "marker": {
             "colorbar": {
              "outlinewidth": 0,
              "ticks": ""
             }
            },
            "type": "scatterpolargl"
           }
          ],
          "scatterternary": [
           {
            "marker": {
             "colorbar": {
              "outlinewidth": 0,
              "ticks": ""
             }
            },
            "type": "scatterternary"
           }
          ],
          "surface": [
           {
            "colorbar": {
             "outlinewidth": 0,
             "ticks": ""
            },
            "colorscale": [
             [
              0,
              "#0d0887"
             ],
             [
              0.1111111111111111,
              "#46039f"
             ],
             [
              0.2222222222222222,
              "#7201a8"
             ],
             [
              0.3333333333333333,
              "#9c179e"
             ],
             [
              0.4444444444444444,
              "#bd3786"
             ],
             [
              0.5555555555555556,
              "#d8576b"
             ],
             [
              0.6666666666666666,
              "#ed7953"
             ],
             [
              0.7777777777777778,
              "#fb9f3a"
             ],
             [
              0.8888888888888888,
              "#fdca26"
             ],
             [
              1,
              "#f0f921"
             ]
            ],
            "type": "surface"
           }
          ],
          "table": [
           {
            "cells": {
             "fill": {
              "color": "#EBF0F8"
             },
             "line": {
              "color": "white"
             }
            },
            "header": {
             "fill": {
              "color": "#C8D4E3"
             },
             "line": {
              "color": "white"
             }
            },
            "type": "table"
           }
          ]
         },
         "layout": {
          "annotationdefaults": {
           "arrowcolor": "#2a3f5f",
           "arrowhead": 0,
           "arrowwidth": 1
          },
          "autotypenumbers": "strict",
          "coloraxis": {
           "colorbar": {
            "outlinewidth": 0,
            "ticks": ""
           }
          },
          "colorscale": {
           "diverging": [
            [
             0,
             "#8e0152"
            ],
            [
             0.1,
             "#c51b7d"
            ],
            [
             0.2,
             "#de77ae"
            ],
            [
             0.3,
             "#f1b6da"
            ],
            [
             0.4,
             "#fde0ef"
            ],
            [
             0.5,
             "#f7f7f7"
            ],
            [
             0.6,
             "#e6f5d0"
            ],
            [
             0.7,
             "#b8e186"
            ],
            [
             0.8,
             "#7fbc41"
            ],
            [
             0.9,
             "#4d9221"
            ],
            [
             1,
             "#276419"
            ]
           ],
           "sequential": [
            [
             0,
             "#0d0887"
            ],
            [
             0.1111111111111111,
             "#46039f"
            ],
            [
             0.2222222222222222,
             "#7201a8"
            ],
            [
             0.3333333333333333,
             "#9c179e"
            ],
            [
             0.4444444444444444,
             "#bd3786"
            ],
            [
             0.5555555555555556,
             "#d8576b"
            ],
            [
             0.6666666666666666,
             "#ed7953"
            ],
            [
             0.7777777777777778,
             "#fb9f3a"
            ],
            [
             0.8888888888888888,
             "#fdca26"
            ],
            [
             1,
             "#f0f921"
            ]
           ],
           "sequentialminus": [
            [
             0,
             "#0d0887"
            ],
            [
             0.1111111111111111,
             "#46039f"
            ],
            [
             0.2222222222222222,
             "#7201a8"
            ],
            [
             0.3333333333333333,
             "#9c179e"
            ],
            [
             0.4444444444444444,
             "#bd3786"
            ],
            [
             0.5555555555555556,
             "#d8576b"
            ],
            [
             0.6666666666666666,
             "#ed7953"
            ],
            [
             0.7777777777777778,
             "#fb9f3a"
            ],
            [
             0.8888888888888888,
             "#fdca26"
            ],
            [
             1,
             "#f0f921"
            ]
           ]
          },
          "colorway": [
           "#636efa",
           "#EF553B",
           "#00cc96",
           "#ab63fa",
           "#FFA15A",
           "#19d3f3",
           "#FF6692",
           "#B6E880",
           "#FF97FF",
           "#FECB52"
          ],
          "font": {
           "color": "#2a3f5f"
          },
          "geo": {
           "bgcolor": "white",
           "lakecolor": "white",
           "landcolor": "#E5ECF6",
           "showlakes": true,
           "showland": true,
           "subunitcolor": "white"
          },
          "hoverlabel": {
           "align": "left"
          },
          "hovermode": "closest",
          "mapbox": {
           "style": "light"
          },
          "paper_bgcolor": "white",
          "plot_bgcolor": "#E5ECF6",
          "polar": {
           "angularaxis": {
            "gridcolor": "white",
            "linecolor": "white",
            "ticks": ""
           },
           "bgcolor": "#E5ECF6",
           "radialaxis": {
            "gridcolor": "white",
            "linecolor": "white",
            "ticks": ""
           }
          },
          "scene": {
           "xaxis": {
            "backgroundcolor": "#E5ECF6",
            "gridcolor": "white",
            "gridwidth": 2,
            "linecolor": "white",
            "showbackground": true,
            "ticks": "",
            "zerolinecolor": "white"
           },
           "yaxis": {
            "backgroundcolor": "#E5ECF6",
            "gridcolor": "white",
            "gridwidth": 2,
            "linecolor": "white",
            "showbackground": true,
            "ticks": "",
            "zerolinecolor": "white"
           },
           "zaxis": {
            "backgroundcolor": "#E5ECF6",
            "gridcolor": "white",
            "gridwidth": 2,
            "linecolor": "white",
            "showbackground": true,
            "ticks": "",
            "zerolinecolor": "white"
           }
          },
          "shapedefaults": {
           "line": {
            "color": "#2a3f5f"
           }
          },
          "ternary": {
           "aaxis": {
            "gridcolor": "white",
            "linecolor": "white",
            "ticks": ""
           },
           "baxis": {
            "gridcolor": "white",
            "linecolor": "white",
            "ticks": ""
           },
           "bgcolor": "#E5ECF6",
           "caxis": {
            "gridcolor": "white",
            "linecolor": "white",
            "ticks": ""
           }
          },
          "title": {
           "x": 0.05
          },
          "xaxis": {
           "automargin": true,
           "gridcolor": "white",
           "linecolor": "white",
           "ticks": "",
           "title": {
            "standoff": 15
           },
           "zerolinecolor": "white",
           "zerolinewidth": 2
          },
          "yaxis": {
           "automargin": true,
           "gridcolor": "white",
           "linecolor": "white",
           "ticks": "",
           "title": {
            "standoff": 15
           },
           "zerolinecolor": "white",
           "zerolinewidth": 2
          }
         }
        },
        "title": {
         "subtitle": {
          "text": "Maligno (0) e Benigno (1)"
         },
         "text": "Distribuição de Mean Radius por Diagnóstico"
        },
        "xaxis": {
         "anchor": "y",
         "domain": [
          0,
          1
         ],
         "title": {
          "text": "mean_radius"
         }
        },
        "yaxis": {
         "anchor": "x",
         "domain": [
          0,
          1
         ],
         "title": {
          "text": "count"
         }
        }
       }
      }
     },
     "metadata": {},
     "output_type": "display_data"
    },
    {
     "data": {
      "application/vnd.plotly.v1+json": {
       "config": {
        "plotlyServerURL": "https://plot.ly"
       },
       "data": [
        {
         "bingroup": "x",
         "hovertemplate": "diagnosis=0<br>mean_texture=%{x}<br>count=%{y}<extra></extra>",
         "legendgroup": "0",
         "marker": {
          "color": "#A865C9",
          "pattern": {
           "shape": ""
          }
         },
         "name": "0",
         "orientation": "v",
         "showlegend": true,
         "type": "histogram",
         "x": {
          "bdata": "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",
          "dtype": "f8"
         },
         "xaxis": "x",
         "yaxis": "y"
        },
        {
         "bingroup": "x",
         "hovertemplate": "diagnosis=1<br>mean_texture=%{x}<br>count=%{y}<extra></extra>",
         "legendgroup": "1",
         "marker": {
          "color": "#f6abb6",
          "pattern": {
           "shape": ""
          }
         },
         "name": "1",
         "orientation": "v",
         "showlegend": true,
         "type": "histogram",
         "x": {
          "bdata": "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",
          "dtype": "f8"
         },
         "xaxis": "x",
         "yaxis": "y"
        }
       ],
       "layout": {
        "barmode": "relative",
        "legend": {
         "title": {
          "text": "diagnosis"
         },
         "tracegroupgap": 0
        },
        "template": {
         "data": {
          "bar": [
           {
            "error_x": {
             "color": "#2a3f5f"
            },
            "error_y": {
             "color": "#2a3f5f"
            },
            "marker": {
             "line": {
              "color": "#E5ECF6",
              "width": 0.5
             },
             "pattern": {
              "fillmode": "overlay",
              "size": 10,
              "solidity": 0.2
             }
            },
            "type": "bar"
           }
          ],
          "barpolar": [
           {
            "marker": {
             "line": {
              "color": "#E5ECF6",
              "width": 0.5
             },
             "pattern": {
              "fillmode": "overlay",
              "size": 10,
              "solidity": 0.2
             }
            },
            "type": "barpolar"
           }
          ],
          "carpet": [
           {
            "aaxis": {
             "endlinecolor": "#2a3f5f",
             "gridcolor": "white",
             "linecolor": "white",
             "minorgridcolor": "white",
             "startlinecolor": "#2a3f5f"
            },
            "baxis": {
             "endlinecolor": "#2a3f5f",
             "gridcolor": "white",
             "linecolor": "white",
             "minorgridcolor": "white",
             "startlinecolor": "#2a3f5f"
            },
            "type": "carpet"
           }
          ],
          "choropleth": [
           {
            "colorbar": {
             "outlinewidth": 0,
             "ticks": ""
            },
            "type": "choropleth"
           }
          ],
          "contour": [
           {
            "colorbar": {
             "outlinewidth": 0,
             "ticks": ""
            },
            "colorscale": [
             [
              0,
              "#0d0887"
             ],
             [
              0.1111111111111111,
              "#46039f"
             ],
             [
              0.2222222222222222,
              "#7201a8"
             ],
             [
              0.3333333333333333,
              "#9c179e"
             ],
             [
              0.4444444444444444,
              "#bd3786"
             ],
             [
              0.5555555555555556,
              "#d8576b"
             ],
             [
              0.6666666666666666,
              "#ed7953"
             ],
             [
              0.7777777777777778,
              "#fb9f3a"
             ],
             [
              0.8888888888888888,
              "#fdca26"
             ],
             [
              1,
              "#f0f921"
             ]
            ],
            "type": "contour"
           }
          ],
          "contourcarpet": [
           {
            "colorbar": {
             "outlinewidth": 0,
             "ticks": ""
            },
            "type": "contourcarpet"
           }
          ],
          "heatmap": [
           {
            "colorbar": {
             "outlinewidth": 0,
             "ticks": ""
            },
            "colorscale": [
             [
              0,
              "#0d0887"
             ],
             [
              0.1111111111111111,
              "#46039f"
             ],
             [
              0.2222222222222222,
              "#7201a8"
             ],
             [
              0.3333333333333333,
              "#9c179e"
             ],
             [
              0.4444444444444444,
              "#bd3786"
             ],
             [
              0.5555555555555556,
              "#d8576b"
             ],
             [
              0.6666666666666666,
              "#ed7953"
             ],
             [
              0.7777777777777778,
              "#fb9f3a"
             ],
             [
              0.8888888888888888,
              "#fdca26"
             ],
             [
              1,
              "#f0f921"
             ]
            ],
            "type": "heatmap"
           }
          ],
          "histogram": [
           {
            "marker": {
             "pattern": {
              "fillmode": "overlay",
              "size": 10,
              "solidity": 0.2
             }
            },
            "type": "histogram"
           }
          ],
          "histogram2d": [
           {
            "colorbar": {
             "outlinewidth": 0,
             "ticks": ""
            },
            "colorscale": [
             [
              0,
              "#0d0887"
             ],
             [
              0.1111111111111111,
              "#46039f"
             ],
             [
              0.2222222222222222,
              "#7201a8"
             ],
             [
              0.3333333333333333,
              "#9c179e"
             ],
             [
              0.4444444444444444,
              "#bd3786"
             ],
             [
              0.5555555555555556,
              "#d8576b"
             ],
             [
              0.6666666666666666,
              "#ed7953"
             ],
             [
              0.7777777777777778,
              "#fb9f3a"
             ],
             [
              0.8888888888888888,
              "#fdca26"
             ],
             [
              1,
              "#f0f921"
             ]
            ],
            "type": "histogram2d"
           }
          ],
          "histogram2dcontour": [
           {
            "colorbar": {
             "outlinewidth": 0,
             "ticks": ""
            },
            "colorscale": [
             [
              0,
              "#0d0887"
             ],
             [
              0.1111111111111111,
              "#46039f"
             ],
             [
              0.2222222222222222,
              "#7201a8"
             ],
             [
              0.3333333333333333,
              "#9c179e"
             ],
             [
              0.4444444444444444,
              "#bd3786"
             ],
             [
              0.5555555555555556,
              "#d8576b"
             ],
             [
              0.6666666666666666,
              "#ed7953"
             ],
             [
              0.7777777777777778,
              "#fb9f3a"
             ],
             [
              0.8888888888888888,
              "#fdca26"
             ],
             [
              1,
              "#f0f921"
             ]
            ],
            "type": "histogram2dcontour"
           }
          ],
          "mesh3d": [
           {
            "colorbar": {
             "outlinewidth": 0,
             "ticks": ""
            },
            "type": "mesh3d"
           }
          ],
          "parcoords": [
           {
            "line": {
             "colorbar": {
              "outlinewidth": 0,
              "ticks": ""
             }
            },
            "type": "parcoords"
           }
          ],
          "pie": [
           {
            "automargin": true,
            "type": "pie"
           }
          ],
          "scatter": [
           {
            "fillpattern": {
             "fillmode": "overlay",
             "size": 10,
             "solidity": 0.2
            },
            "type": "scatter"
           }
          ],
          "scatter3d": [
           {
            "line": {
             "colorbar": {
              "outlinewidth": 0,
              "ticks": ""
             }
            },
            "marker": {
             "colorbar": {
              "outlinewidth": 0,
              "ticks": ""
             }
            },
            "type": "scatter3d"
           }
          ],
          "scattercarpet": [
           {
            "marker": {
             "colorbar": {
              "outlinewidth": 0,
              "ticks": ""
             }
            },
            "type": "scattercarpet"
           }
          ],
          "scattergeo": [
           {
            "marker": {
             "colorbar": {
              "outlinewidth": 0,
              "ticks": ""
             }
            },
            "type": "scattergeo"
           }
          ],
          "scattergl": [
           {
            "marker": {
             "colorbar": {
              "outlinewidth": 0,
              "ticks": ""
             }
            },
            "type": "scattergl"
           }
          ],
          "scattermap": [
           {
            "marker": {
             "colorbar": {
              "outlinewidth": 0,
              "ticks": ""
             }
            },
            "type": "scattermap"
           }
          ],
          "scattermapbox": [
           {
            "marker": {
             "colorbar": {
              "outlinewidth": 0,
              "ticks": ""
             }
            },
            "type": "scattermapbox"
           }
          ],
          "scatterpolar": [
           {
            "marker": {
             "colorbar": {
              "outlinewidth": 0,
              "ticks": ""
             }
            },
            "type": "scatterpolar"
           }
          ],
          "scatterpolargl": [
           {
            "marker": {
             "colorbar": {
              "outlinewidth": 0,
              "ticks": ""
             }
            },
            "type": "scatterpolargl"
           }
          ],
          "scatterternary": [
           {
            "marker": {
             "colorbar": {
              "outlinewidth": 0,
              "ticks": ""
             }
            },
            "type": "scatterternary"
           }
          ],
          "surface": [
           {
            "colorbar": {
             "outlinewidth": 0,
             "ticks": ""
            },
            "colorscale": [
             [
              0,
              "#0d0887"
             ],
             [
              0.1111111111111111,
              "#46039f"
             ],
             [
              0.2222222222222222,
              "#7201a8"
             ],
             [
              0.3333333333333333,
              "#9c179e"
             ],
             [
              0.4444444444444444,
              "#bd3786"
             ],
             [
              0.5555555555555556,
              "#d8576b"
             ],
             [
              0.6666666666666666,
              "#ed7953"
             ],
             [
              0.7777777777777778,
              "#fb9f3a"
             ],
             [
              0.8888888888888888,
              "#fdca26"
             ],
             [
              1,
              "#f0f921"
             ]
            ],
            "type": "surface"
           }
          ],
          "table": [
           {
            "cells": {
             "fill": {
              "color": "#EBF0F8"
             },
             "line": {
              "color": "white"
             }
            },
            "header": {
             "fill": {
              "color": "#C8D4E3"
             },
             "line": {
              "color": "white"
             }
            },
            "type": "table"
           }
          ]
         },
         "layout": {
          "annotationdefaults": {
           "arrowcolor": "#2a3f5f",
           "arrowhead": 0,
           "arrowwidth": 1
          },
          "autotypenumbers": "strict",
          "coloraxis": {
           "colorbar": {
            "outlinewidth": 0,
            "ticks": ""
           }
          },
          "colorscale": {
           "diverging": [
            [
             0,
             "#8e0152"
            ],
            [
             0.1,
             "#c51b7d"
            ],
            [
             0.2,
             "#de77ae"
            ],
            [
             0.3,
             "#f1b6da"
            ],
            [
             0.4,
             "#fde0ef"
            ],
            [
             0.5,
             "#f7f7f7"
            ],
            [
             0.6,
             "#e6f5d0"
            ],
            [
             0.7,
             "#b8e186"
            ],
            [
             0.8,
             "#7fbc41"
            ],
            [
             0.9,
             "#4d9221"
            ],
            [
             1,
             "#276419"
            ]
           ],
           "sequential": [
            [
             0,
             "#0d0887"
            ],
            [
             0.1111111111111111,
             "#46039f"
            ],
            [
             0.2222222222222222,
             "#7201a8"
            ],
            [
             0.3333333333333333,
             "#9c179e"
            ],
            [
             0.4444444444444444,
             "#bd3786"
            ],
            [
             0.5555555555555556,
             "#d8576b"
            ],
            [
             0.6666666666666666,
             "#ed7953"
            ],
            [
             0.7777777777777778,
             "#fb9f3a"
            ],
            [
             0.8888888888888888,
             "#fdca26"
            ],
            [
             1,
             "#f0f921"
            ]
           ],
           "sequentialminus": [
            [
             0,
             "#0d0887"
            ],
            [
             0.1111111111111111,
             "#46039f"
            ],
            [
             0.2222222222222222,
             "#7201a8"
            ],
            [
             0.3333333333333333,
             "#9c179e"
            ],
            [
             0.4444444444444444,
             "#bd3786"
            ],
            [
             0.5555555555555556,
             "#d8576b"
            ],
            [
             0.6666666666666666,
             "#ed7953"
            ],
            [
             0.7777777777777778,
             "#fb9f3a"
            ],
            [
             0.8888888888888888,
             "#fdca26"
            ],
            [
             1,
             "#f0f921"
            ]
           ]
          },
          "colorway": [
           "#636efa",
           "#EF553B",
           "#00cc96",
           "#ab63fa",
           "#FFA15A",
           "#19d3f3",
           "#FF6692",
           "#B6E880",
           "#FF97FF",
           "#FECB52"
          ],
          "font": {
           "color": "#2a3f5f"
          },
          "geo": {
           "bgcolor": "white",
           "lakecolor": "white",
           "landcolor": "#E5ECF6",
           "showlakes": true,
           "showland": true,
           "subunitcolor": "white"
          },
          "hoverlabel": {
           "align": "left"
          },
          "hovermode": "closest",
          "mapbox": {
           "style": "light"
          },
          "paper_bgcolor": "white",
          "plot_bgcolor": "#E5ECF6",
          "polar": {
           "angularaxis": {
            "gridcolor": "white",
            "linecolor": "white",
            "ticks": ""
           },
           "bgcolor": "#E5ECF6",
           "radialaxis": {
            "gridcolor": "white",
            "linecolor": "white",
            "ticks": ""
           }
          },
          "scene": {
           "xaxis": {
            "backgroundcolor": "#E5ECF6",
            "gridcolor": "white",
            "gridwidth": 2,
            "linecolor": "white",
            "showbackground": true,
            "ticks": "",
            "zerolinecolor": "white"
           },
           "yaxis": {
            "backgroundcolor": "#E5ECF6",
            "gridcolor": "white",
            "gridwidth": 2,
            "linecolor": "white",
            "showbackground": true,
            "ticks": "",
            "zerolinecolor": "white"
           },
           "zaxis": {
            "backgroundcolor": "#E5ECF6",
            "gridcolor": "white",
            "gridwidth": 2,
            "linecolor": "white",
            "showbackground": true,
            "ticks": "",
            "zerolinecolor": "white"
           }
          },
          "shapedefaults": {
           "line": {
            "color": "#2a3f5f"
           }
          },
          "ternary": {
           "aaxis": {
            "gridcolor": "white",
            "linecolor": "white",
            "ticks": ""
           },
           "baxis": {
            "gridcolor": "white",
            "linecolor": "white",
            "ticks": ""
           },
           "bgcolor": "#E5ECF6",
           "caxis": {
            "gridcolor": "white",
            "linecolor": "white",
            "ticks": ""
           }
          },
          "title": {
           "x": 0.05
          },
          "xaxis": {
           "automargin": true,
           "gridcolor": "white",
           "linecolor": "white",
           "ticks": "",
           "title": {
            "standoff": 15
           },
           "zerolinecolor": "white",
           "zerolinewidth": 2
          },
          "yaxis": {
           "automargin": true,
           "gridcolor": "white",
           "linecolor": "white",
           "ticks": "",
           "title": {
            "standoff": 15
           },
           "zerolinecolor": "white",
           "zerolinewidth": 2
          }
         }
        },
        "title": {
         "subtitle": {
          "text": "Maligno (0) e Benigno (1)"
         },
         "text": "Distribuição de Mean Texture por Diagnóstico"
        },
        "xaxis": {
         "anchor": "y",
         "domain": [
          0,
          1
         ],
         "title": {
          "text": "mean_texture"
         }
        },
        "yaxis": {
         "anchor": "x",
         "domain": [
          0,
          1
         ],
         "title": {
          "text": "count"
         }
        }
       }
      }
     },
     "metadata": {},
     "output_type": "display_data"
    },
    {
     "data": {
      "application/vnd.plotly.v1+json": {
       "config": {
        "plotlyServerURL": "https://plot.ly"
       },
       "data": [
        {
         "bingroup": "x",
         "hovertemplate": "diagnosis=0<br>mean_perimeter=%{x}<br>count=%{y}<extra></extra>",
         "legendgroup": "0",
         "marker": {
          "color": "#A865C9",
          "pattern": {
           "shape": ""
          }
         },
         "name": "0",
         "orientation": "v",
         "showlegend": true,
         "type": "histogram",
         "x": {
          "bdata": "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",
          "dtype": "f8"
         },
         "xaxis": "x",
         "yaxis": "y"
        },
        {
         "bingroup": "x",
         "hovertemplate": "diagnosis=1<br>mean_perimeter=%{x}<br>count=%{y}<extra></extra>",
         "legendgroup": "1",
         "marker": {
          "color": "#f6abb6",
          "pattern": {
           "shape": ""
          }
         },
         "name": "1",
         "orientation": "v",
         "showlegend": true,
         "type": "histogram",
         "x": {
          "bdata": "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",
          "dtype": "f8"
         },
         "xaxis": "x",
         "yaxis": "y"
        }
       ],
       "layout": {
        "barmode": "relative",
        "legend": {
         "title": {
          "text": "diagnosis"
         },
         "tracegroupgap": 0
        },
        "template": {
         "data": {
          "bar": [
           {
            "error_x": {
             "color": "#2a3f5f"
            },
            "error_y": {
             "color": "#2a3f5f"
            },
            "marker": {
             "line": {
              "color": "#E5ECF6",
              "width": 0.5
             },
             "pattern": {
              "fillmode": "overlay",
              "size": 10,
              "solidity": 0.2
             }
            },
            "type": "bar"
           }
          ],
          "barpolar": [
           {
            "marker": {
             "line": {
              "color": "#E5ECF6",
              "width": 0.5
             },
             "pattern": {
              "fillmode": "overlay",
              "size": 10,
              "solidity": 0.2
             }
            },
            "type": "barpolar"
           }
          ],
          "carpet": [
           {
            "aaxis": {
             "endlinecolor": "#2a3f5f",
             "gridcolor": "white",
             "linecolor": "white",
             "minorgridcolor": "white",
             "startlinecolor": "#2a3f5f"
            },
            "baxis": {
             "endlinecolor": "#2a3f5f",
             "gridcolor": "white",
             "linecolor": "white",
             "minorgridcolor": "white",
             "startlinecolor": "#2a3f5f"
            },
            "type": "carpet"
           }
          ],
          "choropleth": [
           {
            "colorbar": {
             "outlinewidth": 0,
             "ticks": ""
            },
            "type": "choropleth"
           }
          ],
          "contour": [
           {
            "colorbar": {
             "outlinewidth": 0,
             "ticks": ""
            },
            "colorscale": [
             [
              0,
              "#0d0887"
             ],
             [
              0.1111111111111111,
              "#46039f"
             ],
             [
              0.2222222222222222,
              "#7201a8"
             ],
             [
              0.3333333333333333,
              "#9c179e"
             ],
             [
              0.4444444444444444,
              "#bd3786"
             ],
             [
              0.5555555555555556,
              "#d8576b"
             ],
             [
              0.6666666666666666,
              "#ed7953"
             ],
             [
              0.7777777777777778,
              "#fb9f3a"
             ],
             [
              0.8888888888888888,
              "#fdca26"
             ],
             [
              1,
              "#f0f921"
             ]
            ],
            "type": "contour"
           }
          ],
          "contourcarpet": [
           {
            "colorbar": {
             "outlinewidth": 0,
             "ticks": ""
            },
            "type": "contourcarpet"
           }
          ],
          "heatmap": [
           {
            "colorbar": {
             "outlinewidth": 0,
             "ticks": ""
            },
            "colorscale": [
             [
              0,
              "#0d0887"
             ],
             [
              0.1111111111111111,
              "#46039f"
             ],
             [
              0.2222222222222222,
              "#7201a8"
             ],
             [
              0.3333333333333333,
              "#9c179e"
             ],
             [
              0.4444444444444444,
              "#bd3786"
             ],
             [
              0.5555555555555556,
              "#d8576b"
             ],
             [
              0.6666666666666666,
              "#ed7953"
             ],
             [
              0.7777777777777778,
              "#fb9f3a"
             ],
             [
              0.8888888888888888,
              "#fdca26"
             ],
             [
              1,
              "#f0f921"
             ]
            ],
            "type": "heatmap"
           }
          ],
          "histogram": [
           {
            "marker": {
             "pattern": {
              "fillmode": "overlay",
              "size": 10,
              "solidity": 0.2
             }
            },
            "type": "histogram"
           }
          ],
          "histogram2d": [
           {
            "colorbar": {
             "outlinewidth": 0,
             "ticks": ""
            },
            "colorscale": [
             [
              0,
              "#0d0887"
             ],
             [
              0.1111111111111111,
              "#46039f"
             ],
             [
              0.2222222222222222,
              "#7201a8"
             ],
             [
              0.3333333333333333,
              "#9c179e"
             ],
             [
              0.4444444444444444,
              "#bd3786"
             ],
             [
              0.5555555555555556,
              "#d8576b"
             ],
             [
              0.6666666666666666,
              "#ed7953"
             ],
             [
              0.7777777777777778,
              "#fb9f3a"
             ],
             [
              0.8888888888888888,
              "#fdca26"
             ],
             [
              1,
              "#f0f921"
             ]
            ],
            "type": "histogram2d"
           }
          ],
          "histogram2dcontour": [
           {
            "colorbar": {
             "outlinewidth": 0,
             "ticks": ""
            },
            "colorscale": [
             [
              0,
              "#0d0887"
             ],
             [
              0.1111111111111111,
              "#46039f"
             ],
             [
              0.2222222222222222,
              "#7201a8"
             ],
             [
              0.3333333333333333,
              "#9c179e"
             ],
             [
              0.4444444444444444,
              "#bd3786"
             ],
             [
              0.5555555555555556,
              "#d8576b"
             ],
             [
              0.6666666666666666,
              "#ed7953"
             ],
             [
              0.7777777777777778,
              "#fb9f3a"
             ],
             [
              0.8888888888888888,
              "#fdca26"
             ],
             [
              1,
              "#f0f921"
             ]
            ],
            "type": "histogram2dcontour"
           }
          ],
          "mesh3d": [
           {
            "colorbar": {
             "outlinewidth": 0,
             "ticks": ""
            },
            "type": "mesh3d"
           }
          ],
          "parcoords": [
           {
            "line": {
             "colorbar": {
              "outlinewidth": 0,
              "ticks": ""
             }
            },
            "type": "parcoords"
           }
          ],
          "pie": [
           {
            "automargin": true,
            "type": "pie"
           }
          ],
          "scatter": [
           {
            "fillpattern": {
             "fillmode": "overlay",
             "size": 10,
             "solidity": 0.2
            },
            "type": "scatter"
           }
          ],
          "scatter3d": [
           {
            "line": {
             "colorbar": {
              "outlinewidth": 0,
              "ticks": ""
             }
            },
            "marker": {
             "colorbar": {
              "outlinewidth": 0,
              "ticks": ""
             }
            },
            "type": "scatter3d"
           }
          ],
          "scattercarpet": [
           {
            "marker": {
             "colorbar": {
              "outlinewidth": 0,
              "ticks": ""
             }
            },
            "type": "scattercarpet"
           }
          ],
          "scattergeo": [
           {
            "marker": {
             "colorbar": {
              "outlinewidth": 0,
              "ticks": ""
             }
            },
            "type": "scattergeo"
           }
          ],
          "scattergl": [
           {
            "marker": {
             "colorbar": {
              "outlinewidth": 0,
              "ticks": ""
             }
            },
            "type": "scattergl"
           }
          ],
          "scattermap": [
           {
            "marker": {
             "colorbar": {
              "outlinewidth": 0,
              "ticks": ""
             }
            },
            "type": "scattermap"
           }
          ],
          "scattermapbox": [
           {
            "marker": {
             "colorbar": {
              "outlinewidth": 0,
              "ticks": ""
             }
            },
            "type": "scattermapbox"
           }
          ],
          "scatterpolar": [
           {
            "marker": {
             "colorbar": {
              "outlinewidth": 0,
              "ticks": ""
             }
            },
            "type": "scatterpolar"
           }
          ],
          "scatterpolargl": [
           {
            "marker": {
             "colorbar": {
              "outlinewidth": 0,
              "ticks": ""
             }
            },
            "type": "scatterpolargl"
           }
          ],
          "scatterternary": [
           {
            "marker": {
             "colorbar": {
              "outlinewidth": 0,
              "ticks": ""
             }
            },
            "type": "scatterternary"
           }
          ],
          "surface": [
           {
            "colorbar": {
             "outlinewidth": 0,
             "ticks": ""
            },
            "colorscale": [
             [
              0,
              "#0d0887"
             ],
             [
              0.1111111111111111,
              "#46039f"
             ],
             [
              0.2222222222222222,
              "#7201a8"
             ],
             [
              0.3333333333333333,
              "#9c179e"
             ],
             [
              0.4444444444444444,
              "#bd3786"
             ],
             [
              0.5555555555555556,
              "#d8576b"
             ],
             [
              0.6666666666666666,
              "#ed7953"
             ],
             [
              0.7777777777777778,
              "#fb9f3a"
             ],
             [
              0.8888888888888888,
              "#fdca26"
             ],
             [
              1,
              "#f0f921"
             ]
            ],
            "type": "surface"
           }
          ],
          "table": [
           {
            "cells": {
             "fill": {
              "color": "#EBF0F8"
             },
             "line": {
              "color": "white"
             }
            },
            "header": {
             "fill": {
              "color": "#C8D4E3"
             },
             "line": {
              "color": "white"
             }
            },
            "type": "table"
           }
          ]
         },
         "layout": {
          "annotationdefaults": {
           "arrowcolor": "#2a3f5f",
           "arrowhead": 0,
           "arrowwidth": 1
          },
          "autotypenumbers": "strict",
          "coloraxis": {
           "colorbar": {
            "outlinewidth": 0,
            "ticks": ""
           }
          },
          "colorscale": {
           "diverging": [
            [
             0,
             "#8e0152"
            ],
            [
             0.1,
             "#c51b7d"
            ],
            [
             0.2,
             "#de77ae"
            ],
            [
             0.3,
             "#f1b6da"
            ],
            [
             0.4,
             "#fde0ef"
            ],
            [
             0.5,
             "#f7f7f7"
            ],
            [
             0.6,
             "#e6f5d0"
            ],
            [
             0.7,
             "#b8e186"
            ],
            [
             0.8,
             "#7fbc41"
            ],
            [
             0.9,
             "#4d9221"
            ],
            [
             1,
             "#276419"
            ]
           ],
           "sequential": [
            [
             0,
             "#0d0887"
            ],
            [
             0.1111111111111111,
             "#46039f"
            ],
            [
             0.2222222222222222,
             "#7201a8"
            ],
            [
             0.3333333333333333,
             "#9c179e"
            ],
            [
             0.4444444444444444,
             "#bd3786"
            ],
            [
             0.5555555555555556,
             "#d8576b"
            ],
            [
             0.6666666666666666,
             "#ed7953"
            ],
            [
             0.7777777777777778,
             "#fb9f3a"
            ],
            [
             0.8888888888888888,
             "#fdca26"
            ],
            [
             1,
             "#f0f921"
            ]
           ],
           "sequentialminus": [
            [
             0,
             "#0d0887"
            ],
            [
             0.1111111111111111,
             "#46039f"
            ],
            [
             0.2222222222222222,
             "#7201a8"
            ],
            [
             0.3333333333333333,
             "#9c179e"
            ],
            [
             0.4444444444444444,
             "#bd3786"
            ],
            [
             0.5555555555555556,
             "#d8576b"
            ],
            [
             0.6666666666666666,
             "#ed7953"
            ],
            [
             0.7777777777777778,
             "#fb9f3a"
            ],
            [
             0.8888888888888888,
             "#fdca26"
            ],
            [
             1,
             "#f0f921"
            ]
           ]
          },
          "colorway": [
           "#636efa",
           "#EF553B",
           "#00cc96",
           "#ab63fa",
           "#FFA15A",
           "#19d3f3",
           "#FF6692",
           "#B6E880",
           "#FF97FF",
           "#FECB52"
          ],
          "font": {
           "color": "#2a3f5f"
          },
          "geo": {
           "bgcolor": "white",
           "lakecolor": "white",
           "landcolor": "#E5ECF6",
           "showlakes": true,
           "showland": true,
           "subunitcolor": "white"
          },
          "hoverlabel": {
           "align": "left"
          },
          "hovermode": "closest",
          "mapbox": {
           "style": "light"
          },
          "paper_bgcolor": "white",
          "plot_bgcolor": "#E5ECF6",
          "polar": {
           "angularaxis": {
            "gridcolor": "white",
            "linecolor": "white",
            "ticks": ""
           },
           "bgcolor": "#E5ECF6",
           "radialaxis": {
            "gridcolor": "white",
            "linecolor": "white",
            "ticks": ""
           }
          },
          "scene": {
           "xaxis": {
            "backgroundcolor": "#E5ECF6",
            "gridcolor": "white",
            "gridwidth": 2,
            "linecolor": "white",
            "showbackground": true,
            "ticks": "",
            "zerolinecolor": "white"
           },
           "yaxis": {
            "backgroundcolor": "#E5ECF6",
            "gridcolor": "white",
            "gridwidth": 2,
            "linecolor": "white",
            "showbackground": true,
            "ticks": "",
            "zerolinecolor": "white"
           },
           "zaxis": {
            "backgroundcolor": "#E5ECF6",
            "gridcolor": "white",
            "gridwidth": 2,
            "linecolor": "white",
            "showbackground": true,
            "ticks": "",
            "zerolinecolor": "white"
           }
          },
          "shapedefaults": {
           "line": {
            "color": "#2a3f5f"
           }
          },
          "ternary": {
           "aaxis": {
            "gridcolor": "white",
            "linecolor": "white",
            "ticks": ""
           },
           "baxis": {
            "gridcolor": "white",
            "linecolor": "white",
            "ticks": ""
           },
           "bgcolor": "#E5ECF6",
           "caxis": {
            "gridcolor": "white",
            "linecolor": "white",
            "ticks": ""
           }
          },
          "title": {
           "x": 0.05
          },
          "xaxis": {
           "automargin": true,
           "gridcolor": "white",
           "linecolor": "white",
           "ticks": "",
           "title": {
            "standoff": 15
           },
           "zerolinecolor": "white",
           "zerolinewidth": 2
          },
          "yaxis": {
           "automargin": true,
           "gridcolor": "white",
           "linecolor": "white",
           "ticks": "",
           "title": {
            "standoff": 15
           },
           "zerolinecolor": "white",
           "zerolinewidth": 2
          }
         }
        },
        "title": {
         "subtitle": {
          "text": "Maligno (0) e Benigno (1)"
         },
         "text": "Distribuição de Mean Perimeter por Diagnóstico"
        },
        "xaxis": {
         "anchor": "y",
         "domain": [
          0,
          1
         ],
         "title": {
          "text": "mean_perimeter"
         }
        },
        "yaxis": {
         "anchor": "x",
         "domain": [
          0,
          1
         ],
         "title": {
          "text": "count"
         }
        }
       }
      }
     },
     "metadata": {},
     "output_type": "display_data"
    },
    {
     "data": {
      "application/vnd.plotly.v1+json": {
       "config": {
        "plotlyServerURL": "https://plot.ly"
       },
       "data": [
        {
         "bingroup": "x",
         "hovertemplate": "diagnosis=0<br>mean_area=%{x}<br>count=%{y}<extra></extra>",
         "legendgroup": "0",
         "marker": {
          "color": "#A865C9",
          "pattern": {
           "shape": ""
          }
         },
         "name": "0",
         "orientation": "v",
         "showlegend": true,
         "type": "histogram",
         "x": {
          "bdata": "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",
          "dtype": "f8"
         },
         "xaxis": "x",
         "yaxis": "y"
        },
        {
         "bingroup": "x",
         "hovertemplate": "diagnosis=1<br>mean_area=%{x}<br>count=%{y}<extra></extra>",
         "legendgroup": "1",
         "marker": {
          "color": "#f6abb6",
          "pattern": {
           "shape": ""
          }
         },
         "name": "1",
         "orientation": "v",
         "showlegend": true,
         "type": "histogram",
         "x": {
          "bdata": "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",
          "dtype": "f8"
         },
         "xaxis": "x",
         "yaxis": "y"
        }
       ],
       "layout": {
        "barmode": "relative",
        "legend": {
         "title": {
          "text": "diagnosis"
         },
         "tracegroupgap": 0
        },
        "template": {
         "data": {
          "bar": [
           {
            "error_x": {
             "color": "#2a3f5f"
            },
            "error_y": {
             "color": "#2a3f5f"
            },
            "marker": {
             "line": {
              "color": "#E5ECF6",
              "width": 0.5
             },
             "pattern": {
              "fillmode": "overlay",
              "size": 10,
              "solidity": 0.2
             }
            },
            "type": "bar"
           }
          ],
          "barpolar": [
           {
            "marker": {
             "line": {
              "color": "#E5ECF6",
              "width": 0.5
             },
             "pattern": {
              "fillmode": "overlay",
              "size": 10,
              "solidity": 0.2
             }
            },
            "type": "barpolar"
           }
          ],
          "carpet": [
           {
            "aaxis": {
             "endlinecolor": "#2a3f5f",
             "gridcolor": "white",
             "linecolor": "white",
             "minorgridcolor": "white",
             "startlinecolor": "#2a3f5f"
            },
            "baxis": {
             "endlinecolor": "#2a3f5f",
             "gridcolor": "white",
             "linecolor": "white",
             "minorgridcolor": "white",
             "startlinecolor": "#2a3f5f"
            },
            "type": "carpet"
           }
          ],
          "choropleth": [
           {
            "colorbar": {
             "outlinewidth": 0,
             "ticks": ""
            },
            "type": "choropleth"
           }
          ],
          "contour": [
           {
            "colorbar": {
             "outlinewidth": 0,
             "ticks": ""
            },
            "colorscale": [
             [
              0,
              "#0d0887"
             ],
             [
              0.1111111111111111,
              "#46039f"
             ],
             [
              0.2222222222222222,
              "#7201a8"
             ],
             [
              0.3333333333333333,
              "#9c179e"
             ],
             [
              0.4444444444444444,
              "#bd3786"
             ],
             [
              0.5555555555555556,
              "#d8576b"
             ],
             [
              0.6666666666666666,
              "#ed7953"
             ],
             [
              0.7777777777777778,
              "#fb9f3a"
             ],
             [
              0.8888888888888888,
              "#fdca26"
             ],
             [
              1,
              "#f0f921"
             ]
            ],
            "type": "contour"
           }
          ],
          "contourcarpet": [
           {
            "colorbar": {
             "outlinewidth": 0,
             "ticks": ""
            },
            "type": "contourcarpet"
           }
          ],
          "heatmap": [
           {
            "colorbar": {
             "outlinewidth": 0,
             "ticks": ""
            },
            "colorscale": [
             [
              0,
              "#0d0887"
             ],
             [
              0.1111111111111111,
              "#46039f"
             ],
             [
              0.2222222222222222,
              "#7201a8"
             ],
             [
              0.3333333333333333,
              "#9c179e"
             ],
             [
              0.4444444444444444,
              "#bd3786"
             ],
             [
              0.5555555555555556,
              "#d8576b"
             ],
             [
              0.6666666666666666,
              "#ed7953"
             ],
             [
              0.7777777777777778,
              "#fb9f3a"
             ],
             [
              0.8888888888888888,
              "#fdca26"
             ],
             [
              1,
              "#f0f921"
             ]
            ],
            "type": "heatmap"
           }
          ],
          "histogram": [
           {
            "marker": {
             "pattern": {
              "fillmode": "overlay",
              "size": 10,
              "solidity": 0.2
             }
            },
            "type": "histogram"
           }
          ],
          "histogram2d": [
           {
            "colorbar": {
             "outlinewidth": 0,
             "ticks": ""
            },
            "colorscale": [
             [
              0,
              "#0d0887"
             ],
             [
              0.1111111111111111,
              "#46039f"
             ],
             [
              0.2222222222222222,
              "#7201a8"
             ],
             [
              0.3333333333333333,
              "#9c179e"
             ],
             [
              0.4444444444444444,
              "#bd3786"
             ],
             [
              0.5555555555555556,
              "#d8576b"
             ],
             [
              0.6666666666666666,
              "#ed7953"
             ],
             [
              0.7777777777777778,
              "#fb9f3a"
             ],
             [
              0.8888888888888888,
              "#fdca26"
             ],
             [
              1,
              "#f0f921"
             ]
            ],
            "type": "histogram2d"
           }
          ],
          "histogram2dcontour": [
           {
            "colorbar": {
             "outlinewidth": 0,
             "ticks": ""
            },
            "colorscale": [
             [
              0,
              "#0d0887"
             ],
             [
              0.1111111111111111,
              "#46039f"
             ],
             [
              0.2222222222222222,
              "#7201a8"
             ],
             [
              0.3333333333333333,
              "#9c179e"
             ],
             [
              0.4444444444444444,
              "#bd3786"
             ],
             [
              0.5555555555555556,
              "#d8576b"
             ],
             [
              0.6666666666666666,
              "#ed7953"
             ],
             [
              0.7777777777777778,
              "#fb9f3a"
             ],
             [
              0.8888888888888888,
              "#fdca26"
             ],
             [
              1,
              "#f0f921"
             ]
            ],
            "type": "histogram2dcontour"
           }
          ],
          "mesh3d": [
           {
            "colorbar": {
             "outlinewidth": 0,
             "ticks": ""
            },
            "type": "mesh3d"
           }
          ],
          "parcoords": [
           {
            "line": {
             "colorbar": {
              "outlinewidth": 0,
              "ticks": ""
             }
            },
            "type": "parcoords"
           }
          ],
          "pie": [
           {
            "automargin": true,
            "type": "pie"
           }
          ],
          "scatter": [
           {
            "fillpattern": {
             "fillmode": "overlay",
             "size": 10,
             "solidity": 0.2
            },
            "type": "scatter"
           }
          ],
          "scatter3d": [
           {
            "line": {
             "colorbar": {
              "outlinewidth": 0,
              "ticks": ""
             }
            },
            "marker": {
             "colorbar": {
              "outlinewidth": 0,
              "ticks": ""
             }
            },
            "type": "scatter3d"
           }
          ],
          "scattercarpet": [
           {
            "marker": {
             "colorbar": {
              "outlinewidth": 0,
              "ticks": ""
             }
            },
            "type": "scattercarpet"
           }
          ],
          "scattergeo": [
           {
            "marker": {
             "colorbar": {
              "outlinewidth": 0,
              "ticks": ""
             }
            },
            "type": "scattergeo"
           }
          ],
          "scattergl": [
           {
            "marker": {
             "colorbar": {
              "outlinewidth": 0,
              "ticks": ""
             }
            },
            "type": "scattergl"
           }
          ],
          "scattermap": [
           {
            "marker": {
             "colorbar": {
              "outlinewidth": 0,
              "ticks": ""
             }
            },
            "type": "scattermap"
           }
          ],
          "scattermapbox": [
           {
            "marker": {
             "colorbar": {
              "outlinewidth": 0,
              "ticks": ""
             }
            },
            "type": "scattermapbox"
           }
          ],
          "scatterpolar": [
           {
            "marker": {
             "colorbar": {
              "outlinewidth": 0,
              "ticks": ""
             }
            },
            "type": "scatterpolar"
           }
          ],
          "scatterpolargl": [
           {
            "marker": {
             "colorbar": {
              "outlinewidth": 0,
              "ticks": ""
             }
            },
            "type": "scatterpolargl"
           }
          ],
          "scatterternary": [
           {
            "marker": {
             "colorbar": {
              "outlinewidth": 0,
              "ticks": ""
             }
            },
            "type": "scatterternary"
           }
          ],
          "surface": [
           {
            "colorbar": {
             "outlinewidth": 0,
             "ticks": ""
            },
            "colorscale": [
             [
              0,
              "#0d0887"
             ],
             [
              0.1111111111111111,
              "#46039f"
             ],
             [
              0.2222222222222222,
              "#7201a8"
             ],
             [
              0.3333333333333333,
              "#9c179e"
             ],
             [
              0.4444444444444444,
              "#bd3786"
             ],
             [
              0.5555555555555556,
              "#d8576b"
             ],
             [
              0.6666666666666666,
              "#ed7953"
             ],
             [
              0.7777777777777778,
              "#fb9f3a"
             ],
             [
              0.8888888888888888,
              "#fdca26"
             ],
             [
              1,
              "#f0f921"
             ]
            ],
            "type": "surface"
           }
          ],
          "table": [
           {
            "cells": {
             "fill": {
              "color": "#EBF0F8"
             },
             "line": {
              "color": "white"
             }
            },
            "header": {
             "fill": {
              "color": "#C8D4E3"
             },
             "line": {
              "color": "white"
             }
            },
            "type": "table"
           }
          ]
         },
         "layout": {
          "annotationdefaults": {
           "arrowcolor": "#2a3f5f",
           "arrowhead": 0,
           "arrowwidth": 1
          },
          "autotypenumbers": "strict",
          "coloraxis": {
           "colorbar": {
            "outlinewidth": 0,
            "ticks": ""
           }
          },
          "colorscale": {
           "diverging": [
            [
             0,
             "#8e0152"
            ],
            [
             0.1,
             "#c51b7d"
            ],
            [
             0.2,
             "#de77ae"
            ],
            [
             0.3,
             "#f1b6da"
            ],
            [
             0.4,
             "#fde0ef"
            ],
            [
             0.5,
             "#f7f7f7"
            ],
            [
             0.6,
             "#e6f5d0"
            ],
            [
             0.7,
             "#b8e186"
            ],
            [
             0.8,
             "#7fbc41"
            ],
            [
             0.9,
             "#4d9221"
            ],
            [
             1,
             "#276419"
            ]
           ],
           "sequential": [
            [
             0,
             "#0d0887"
            ],
            [
             0.1111111111111111,
             "#46039f"
            ],
            [
             0.2222222222222222,
             "#7201a8"
            ],
            [
             0.3333333333333333,
             "#9c179e"
            ],
            [
             0.4444444444444444,
             "#bd3786"
            ],
            [
             0.5555555555555556,
             "#d8576b"
            ],
            [
             0.6666666666666666,
             "#ed7953"
            ],
            [
             0.7777777777777778,
             "#fb9f3a"
            ],
            [
             0.8888888888888888,
             "#fdca26"
            ],
            [
             1,
             "#f0f921"
            ]
           ],
           "sequentialminus": [
            [
             0,
             "#0d0887"
            ],
            [
             0.1111111111111111,
             "#46039f"
            ],
            [
             0.2222222222222222,
             "#7201a8"
            ],
            [
             0.3333333333333333,
             "#9c179e"
            ],
            [
             0.4444444444444444,
             "#bd3786"
            ],
            [
             0.5555555555555556,
             "#d8576b"
            ],
            [
             0.6666666666666666,
             "#ed7953"
            ],
            [
             0.7777777777777778,
             "#fb9f3a"
            ],
            [
             0.8888888888888888,
             "#fdca26"
            ],
            [
             1,
             "#f0f921"
            ]
           ]
          },
          "colorway": [
           "#636efa",
           "#EF553B",
           "#00cc96",
           "#ab63fa",
           "#FFA15A",
           "#19d3f3",
           "#FF6692",
           "#B6E880",
           "#FF97FF",
           "#FECB52"
          ],
          "font": {
           "color": "#2a3f5f"
          },
          "geo": {
           "bgcolor": "white",
           "lakecolor": "white",
           "landcolor": "#E5ECF6",
           "showlakes": true,
           "showland": true,
           "subunitcolor": "white"
          },
          "hoverlabel": {
           "align": "left"
          },
          "hovermode": "closest",
          "mapbox": {
           "style": "light"
          },
          "paper_bgcolor": "white",
          "plot_bgcolor": "#E5ECF6",
          "polar": {
           "angularaxis": {
            "gridcolor": "white",
            "linecolor": "white",
            "ticks": ""
           },
           "bgcolor": "#E5ECF6",
           "radialaxis": {
            "gridcolor": "white",
            "linecolor": "white",
            "ticks": ""
           }
          },
          "scene": {
           "xaxis": {
            "backgroundcolor": "#E5ECF6",
            "gridcolor": "white",
            "gridwidth": 2,
            "linecolor": "white",
            "showbackground": true,
            "ticks": "",
            "zerolinecolor": "white"
           },
           "yaxis": {
            "backgroundcolor": "#E5ECF6",
            "gridcolor": "white",
            "gridwidth": 2,
            "linecolor": "white",
            "showbackground": true,
            "ticks": "",
            "zerolinecolor": "white"
           },
           "zaxis": {
            "backgroundcolor": "#E5ECF6",
            "gridcolor": "white",
            "gridwidth": 2,
            "linecolor": "white",
            "showbackground": true,
            "ticks": "",
            "zerolinecolor": "white"
           }
          },
          "shapedefaults": {
           "line": {
            "color": "#2a3f5f"
           }
          },
          "ternary": {
           "aaxis": {
            "gridcolor": "white",
            "linecolor": "white",
            "ticks": ""
           },
           "baxis": {
            "gridcolor": "white",
            "linecolor": "white",
            "ticks": ""
           },
           "bgcolor": "#E5ECF6",
           "caxis": {
            "gridcolor": "white",
            "linecolor": "white",
            "ticks": ""
           }
          },
          "title": {
           "x": 0.05
          },
          "xaxis": {
           "automargin": true,
           "gridcolor": "white",
           "linecolor": "white",
           "ticks": "",
           "title": {
            "standoff": 15
           },
           "zerolinecolor": "white",
           "zerolinewidth": 2
          },
          "yaxis": {
           "automargin": true,
           "gridcolor": "white",
           "linecolor": "white",
           "ticks": "",
           "title": {
            "standoff": 15
           },
           "zerolinecolor": "white",
           "zerolinewidth": 2
          }
         }
        },
        "title": {
         "subtitle": {
          "text": "Maligno (0) e Benigno (1)"
         },
         "text": "Distribuição de Mean Area por Diagnóstico"
        },
        "xaxis": {
         "anchor": "y",
         "domain": [
          0,
          1
         ],
         "title": {
          "text": "mean_area"
         }
        },
        "yaxis": {
         "anchor": "x",
         "domain": [
          0,
          1
         ],
         "title": {
          "text": "count"
         }
        }
       }
      }
     },
     "metadata": {},
     "output_type": "display_data"
    },
    {
     "data": {
      "application/vnd.plotly.v1+json": {
       "config": {
        "plotlyServerURL": "https://plot.ly"
       },
       "data": [
        {
         "bingroup": "x",
         "hovertemplate": "diagnosis=0<br>mean_smoothness=%{x}<br>count=%{y}<extra></extra>",
         "legendgroup": "0",
         "marker": {
          "color": "#A865C9",
          "pattern": {
           "shape": ""
          }
         },
         "name": "0",
         "orientation": "v",
         "showlegend": true,
         "type": "histogram",
         "x": {
          "bdata": "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",
          "dtype": "f8"
         },
         "xaxis": "x",
         "yaxis": "y"
        },
        {
         "bingroup": "x",
         "hovertemplate": "diagnosis=1<br>mean_smoothness=%{x}<br>count=%{y}<extra></extra>",
         "legendgroup": "1",
         "marker": {
          "color": "#f6abb6",
          "pattern": {
           "shape": ""
          }
         },
         "name": "1",
         "orientation": "v",
         "showlegend": true,
         "type": "histogram",
         "x": {
          "bdata": "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",
          "dtype": "f8"
         },
         "xaxis": "x",
         "yaxis": "y"
        }
       ],
       "layout": {
        "barmode": "relative",
        "legend": {
         "title": {
          "text": "diagnosis"
         },
         "tracegroupgap": 0
        },
        "template": {
         "data": {
          "bar": [
           {
            "error_x": {
             "color": "#2a3f5f"
            },
            "error_y": {
             "color": "#2a3f5f"
            },
            "marker": {
             "line": {
              "color": "#E5ECF6",
              "width": 0.5
             },
             "pattern": {
              "fillmode": "overlay",
              "size": 10,
              "solidity": 0.2
             }
            },
            "type": "bar"
           }
          ],
          "barpolar": [
           {
            "marker": {
             "line": {
              "color": "#E5ECF6",
              "width": 0.5
             },
             "pattern": {
              "fillmode": "overlay",
              "size": 10,
              "solidity": 0.2
             }
            },
            "type": "barpolar"
           }
          ],
          "carpet": [
           {
            "aaxis": {
             "endlinecolor": "#2a3f5f",
             "gridcolor": "white",
             "linecolor": "white",
             "minorgridcolor": "white",
             "startlinecolor": "#2a3f5f"
            },
            "baxis": {
             "endlinecolor": "#2a3f5f",
             "gridcolor": "white",
             "linecolor": "white",
             "minorgridcolor": "white",
             "startlinecolor": "#2a3f5f"
            },
            "type": "carpet"
           }
          ],
          "choropleth": [
           {
            "colorbar": {
             "outlinewidth": 0,
             "ticks": ""
            },
            "type": "choropleth"
           }
          ],
          "contour": [
           {
            "colorbar": {
             "outlinewidth": 0,
             "ticks": ""
            },
            "colorscale": [
             [
              0,
              "#0d0887"
             ],
             [
              0.1111111111111111,
              "#46039f"
             ],
             [
              0.2222222222222222,
              "#7201a8"
             ],
             [
              0.3333333333333333,
              "#9c179e"
             ],
             [
              0.4444444444444444,
              "#bd3786"
             ],
             [
              0.5555555555555556,
              "#d8576b"
             ],
             [
              0.6666666666666666,
              "#ed7953"
             ],
             [
              0.7777777777777778,
              "#fb9f3a"
             ],
             [
              0.8888888888888888,
              "#fdca26"
             ],
             [
              1,
              "#f0f921"
             ]
            ],
            "type": "contour"
           }
          ],
          "contourcarpet": [
           {
            "colorbar": {
             "outlinewidth": 0,
             "ticks": ""
            },
            "type": "contourcarpet"
           }
          ],
          "heatmap": [
           {
            "colorbar": {
             "outlinewidth": 0,
             "ticks": ""
            },
            "colorscale": [
             [
              0,
              "#0d0887"
             ],
             [
              0.1111111111111111,
              "#46039f"
             ],
             [
              0.2222222222222222,
              "#7201a8"
             ],
             [
              0.3333333333333333,
              "#9c179e"
             ],
             [
              0.4444444444444444,
              "#bd3786"
             ],
             [
              0.5555555555555556,
              "#d8576b"
             ],
             [
              0.6666666666666666,
              "#ed7953"
             ],
             [
              0.7777777777777778,
              "#fb9f3a"
             ],
             [
              0.8888888888888888,
              "#fdca26"
             ],
             [
              1,
              "#f0f921"
             ]
            ],
            "type": "heatmap"
           }
          ],
          "histogram": [
           {
            "marker": {
             "pattern": {
              "fillmode": "overlay",
              "size": 10,
              "solidity": 0.2
             }
            },
            "type": "histogram"
           }
          ],
          "histogram2d": [
           {
            "colorbar": {
             "outlinewidth": 0,
             "ticks": ""
            },
            "colorscale": [
             [
              0,
              "#0d0887"
             ],
             [
              0.1111111111111111,
              "#46039f"
             ],
             [
              0.2222222222222222,
              "#7201a8"
             ],
             [
              0.3333333333333333,
              "#9c179e"
             ],
             [
              0.4444444444444444,
              "#bd3786"
             ],
             [
              0.5555555555555556,
              "#d8576b"
             ],
             [
              0.6666666666666666,
              "#ed7953"
             ],
             [
              0.7777777777777778,
              "#fb9f3a"
             ],
             [
              0.8888888888888888,
              "#fdca26"
             ],
             [
              1,
              "#f0f921"
             ]
            ],
            "type": "histogram2d"
           }
          ],
          "histogram2dcontour": [
           {
            "colorbar": {
             "outlinewidth": 0,
             "ticks": ""
            },
            "colorscale": [
             [
              0,
              "#0d0887"
             ],
             [
              0.1111111111111111,
              "#46039f"
             ],
             [
              0.2222222222222222,
              "#7201a8"
             ],
             [
              0.3333333333333333,
              "#9c179e"
             ],
             [
              0.4444444444444444,
              "#bd3786"
             ],
             [
              0.5555555555555556,
              "#d8576b"
             ],
             [
              0.6666666666666666,
              "#ed7953"
             ],
             [
              0.7777777777777778,
              "#fb9f3a"
             ],
             [
              0.8888888888888888,
              "#fdca26"
             ],
             [
              1,
              "#f0f921"
             ]
            ],
            "type": "histogram2dcontour"
           }
          ],
          "mesh3d": [
           {
            "colorbar": {
             "outlinewidth": 0,
             "ticks": ""
            },
            "type": "mesh3d"
           }
          ],
          "parcoords": [
           {
            "line": {
             "colorbar": {
              "outlinewidth": 0,
              "ticks": ""
             }
            },
            "type": "parcoords"
           }
          ],
          "pie": [
           {
            "automargin": true,
            "type": "pie"
           }
          ],
          "scatter": [
           {
            "fillpattern": {
             "fillmode": "overlay",
             "size": 10,
             "solidity": 0.2
            },
            "type": "scatter"
           }
          ],
          "scatter3d": [
           {
            "line": {
             "colorbar": {
              "outlinewidth": 0,
              "ticks": ""
             }
            },
            "marker": {
             "colorbar": {
              "outlinewidth": 0,
              "ticks": ""
             }
            },
            "type": "scatter3d"
           }
          ],
          "scattercarpet": [
           {
            "marker": {
             "colorbar": {
              "outlinewidth": 0,
              "ticks": ""
             }
            },
            "type": "scattercarpet"
           }
          ],
          "scattergeo": [
           {
            "marker": {
             "colorbar": {
              "outlinewidth": 0,
              "ticks": ""
             }
            },
            "type": "scattergeo"
           }
          ],
          "scattergl": [
           {
            "marker": {
             "colorbar": {
              "outlinewidth": 0,
              "ticks": ""
             }
            },
            "type": "scattergl"
           }
          ],
          "scattermap": [
           {
            "marker": {
             "colorbar": {
              "outlinewidth": 0,
              "ticks": ""
             }
            },
            "type": "scattermap"
           }
          ],
          "scattermapbox": [
           {
            "marker": {
             "colorbar": {
              "outlinewidth": 0,
              "ticks": ""
             }
            },
            "type": "scattermapbox"
           }
          ],
          "scatterpolar": [
           {
            "marker": {
             "colorbar": {
              "outlinewidth": 0,
              "ticks": ""
             }
            },
            "type": "scatterpolar"
           }
          ],
          "scatterpolargl": [
           {
            "marker": {
             "colorbar": {
              "outlinewidth": 0,
              "ticks": ""
             }
            },
            "type": "scatterpolargl"
           }
          ],
          "scatterternary": [
           {
            "marker": {
             "colorbar": {
              "outlinewidth": 0,
              "ticks": ""
             }
            },
            "type": "scatterternary"
           }
          ],
          "surface": [
           {
            "colorbar": {
             "outlinewidth": 0,
             "ticks": ""
            },
            "colorscale": [
             [
              0,
              "#0d0887"
             ],
             [
              0.1111111111111111,
              "#46039f"
             ],
             [
              0.2222222222222222,
              "#7201a8"
             ],
             [
              0.3333333333333333,
              "#9c179e"
             ],
             [
              0.4444444444444444,
              "#bd3786"
             ],
             [
              0.5555555555555556,
              "#d8576b"
             ],
             [
              0.6666666666666666,
              "#ed7953"
             ],
             [
              0.7777777777777778,
              "#fb9f3a"
             ],
             [
              0.8888888888888888,
              "#fdca26"
             ],
             [
              1,
              "#f0f921"
             ]
            ],
            "type": "surface"
           }
          ],
          "table": [
           {
            "cells": {
             "fill": {
              "color": "#EBF0F8"
             },
             "line": {
              "color": "white"
             }
            },
            "header": {
             "fill": {
              "color": "#C8D4E3"
             },
             "line": {
              "color": "white"
             }
            },
            "type": "table"
           }
          ]
         },
         "layout": {
          "annotationdefaults": {
           "arrowcolor": "#2a3f5f",
           "arrowhead": 0,
           "arrowwidth": 1
          },
          "autotypenumbers": "strict",
          "coloraxis": {
           "colorbar": {
            "outlinewidth": 0,
            "ticks": ""
           }
          },
          "colorscale": {
           "diverging": [
            [
             0,
             "#8e0152"
            ],
            [
             0.1,
             "#c51b7d"
            ],
            [
             0.2,
             "#de77ae"
            ],
            [
             0.3,
             "#f1b6da"
            ],
            [
             0.4,
             "#fde0ef"
            ],
            [
             0.5,
             "#f7f7f7"
            ],
            [
             0.6,
             "#e6f5d0"
            ],
            [
             0.7,
             "#b8e186"
            ],
            [
             0.8,
             "#7fbc41"
            ],
            [
             0.9,
             "#4d9221"
            ],
            [
             1,
             "#276419"
            ]
           ],
           "sequential": [
            [
             0,
             "#0d0887"
            ],
            [
             0.1111111111111111,
             "#46039f"
            ],
            [
             0.2222222222222222,
             "#7201a8"
            ],
            [
             0.3333333333333333,
             "#9c179e"
            ],
            [
             0.4444444444444444,
             "#bd3786"
            ],
            [
             0.5555555555555556,
             "#d8576b"
            ],
            [
             0.6666666666666666,
             "#ed7953"
            ],
            [
             0.7777777777777778,
             "#fb9f3a"
            ],
            [
             0.8888888888888888,
             "#fdca26"
            ],
            [
             1,
             "#f0f921"
            ]
           ],
           "sequentialminus": [
            [
             0,
             "#0d0887"
            ],
            [
             0.1111111111111111,
             "#46039f"
            ],
            [
             0.2222222222222222,
             "#7201a8"
            ],
            [
             0.3333333333333333,
             "#9c179e"
            ],
            [
             0.4444444444444444,
             "#bd3786"
            ],
            [
             0.5555555555555556,
             "#d8576b"
            ],
            [
             0.6666666666666666,
             "#ed7953"
            ],
            [
             0.7777777777777778,
             "#fb9f3a"
            ],
            [
             0.8888888888888888,
             "#fdca26"
            ],
            [
             1,
             "#f0f921"
            ]
           ]
          },
          "colorway": [
           "#636efa",
           "#EF553B",
           "#00cc96",
           "#ab63fa",
           "#FFA15A",
           "#19d3f3",
           "#FF6692",
           "#B6E880",
           "#FF97FF",
           "#FECB52"
          ],
          "font": {
           "color": "#2a3f5f"
          },
          "geo": {
           "bgcolor": "white",
           "lakecolor": "white",
           "landcolor": "#E5ECF6",
           "showlakes": true,
           "showland": true,
           "subunitcolor": "white"
          },
          "hoverlabel": {
           "align": "left"
          },
          "hovermode": "closest",
          "mapbox": {
           "style": "light"
          },
          "paper_bgcolor": "white",
          "plot_bgcolor": "#E5ECF6",
          "polar": {
           "angularaxis": {
            "gridcolor": "white",
            "linecolor": "white",
            "ticks": ""
           },
           "bgcolor": "#E5ECF6",
           "radialaxis": {
            "gridcolor": "white",
            "linecolor": "white",
            "ticks": ""
           }
          },
          "scene": {
           "xaxis": {
            "backgroundcolor": "#E5ECF6",
            "gridcolor": "white",
            "gridwidth": 2,
            "linecolor": "white",
            "showbackground": true,
            "ticks": "",
            "zerolinecolor": "white"
           },
           "yaxis": {
            "backgroundcolor": "#E5ECF6",
            "gridcolor": "white",
            "gridwidth": 2,
            "linecolor": "white",
            "showbackground": true,
            "ticks": "",
            "zerolinecolor": "white"
           },
           "zaxis": {
            "backgroundcolor": "#E5ECF6",
            "gridcolor": "white",
            "gridwidth": 2,
            "linecolor": "white",
            "showbackground": true,
            "ticks": "",
            "zerolinecolor": "white"
           }
          },
          "shapedefaults": {
           "line": {
            "color": "#2a3f5f"
           }
          },
          "ternary": {
           "aaxis": {
            "gridcolor": "white",
            "linecolor": "white",
            "ticks": ""
           },
           "baxis": {
            "gridcolor": "white",
            "linecolor": "white",
            "ticks": ""
           },
           "bgcolor": "#E5ECF6",
           "caxis": {
            "gridcolor": "white",
            "linecolor": "white",
            "ticks": ""
           }
          },
          "title": {
           "x": 0.05
          },
          "xaxis": {
           "automargin": true,
           "gridcolor": "white",
           "linecolor": "white",
           "ticks": "",
           "title": {
            "standoff": 15
           },
           "zerolinecolor": "white",
           "zerolinewidth": 2
          },
          "yaxis": {
           "automargin": true,
           "gridcolor": "white",
           "linecolor": "white",
           "ticks": "",
           "title": {
            "standoff": 15
           },
           "zerolinecolor": "white",
           "zerolinewidth": 2
          }
         }
        },
        "title": {
         "subtitle": {
          "text": "Maligno (0) e Benigno (1)"
         },
         "text": "Distribuição de Mean Smoothness por Diagnóstico"
        },
        "xaxis": {
         "anchor": "y",
         "domain": [
          0,
          1
         ],
         "title": {
          "text": "mean_smoothness"
         }
        },
        "yaxis": {
         "anchor": "x",
         "domain": [
          0,
          1
         ],
         "title": {
          "text": "count"
         }
        }
       }
      }
     },
     "metadata": {},
     "output_type": "display_data"
    }
   ],
   "source": [
    "variaveis_histograma = ['mean_radius', 'mean_texture', 'mean_perimeter', 'mean_area', 'mean_smoothness']\n",
    "\n",
    "for var in variaveis_histograma:\n",
    "    fig = px.histogram(\n",
    "        df,\n",
    "        x=var,\n",
    "        color='diagnosis',\n",
    "        color_discrete_sequence=[cor_benigno, cor_maligno],\n",
    "        title=f'Distribuição de {var.replace(\"_\", \" \").title()} por Diagnóstico',\n",
    "        subtitle=f'Maligno (0) e Benigno (1)',\n",
    "    )\n",
    "    fig.show()"
   ]
  },
  {
   "cell_type": "markdown",
   "id": "bd354ad8",
   "metadata": {},
   "source": [
    "#### 🎯 Scatter Plots para Variáveis Individuais"
   ]
  },
  {
   "cell_type": "code",
   "execution_count": 9,
   "id": "b35c8dfe",
   "metadata": {},
   "outputs": [
    {
     "data": {
      "application/vnd.plotly.v1+json": {
       "config": {
        "plotlyServerURL": "https://plot.ly"
       },
       "data": [
        {
         "hovertemplate": "mean_radius=%{x}<br>index=%{y}<br>diagnosis=%{marker.color}<extra></extra>",
         "legendgroup": "",
         "marker": {
          "color": {
           "bdata": "AAAAAAAAAAAAAAAAAAAAAAAAAAEBAQAAAAAAAAAAAAAAAAAAAAEAAAAAAAAAAAEAAQEBAQEAAAEAAAEBAQEAAQAAAQEBAQABAAABAAEAAAEBAQAAAQAAAAEBAQABAQAAAQEBAAABAQEBAAEBAAEBAQEBAQEBAAAAAQAAAQEBAAABAAEAAAEAAAEBAAEBAAEBAQEAAQEBAQEBAQEBAAEBAQEAAAEAAQEAAAEBAAABAQEBAAEBAAAAAQABAAEBAQABAQAAAQAAAAABAAAAAQABAAEBAAEAAAAAAQEAAAEBAQABAQEBAQAAAQEAAQEAAAEAAQEBAQABAQEBAQABAAAAAAAAAAAAAAAAAAABAQEBAQEAAQABAQABAQABAAABAQEBAQEBAQEBAQEBAAEBAAEAAQEBAQEBAQEBAQEBAQEAAQEBAAEAAQEBAQAAAAEBAQEAAQABAAEBAQABAQEBAQEBAAAAAQEBAQEBAQEBAQEAAAEAAAABAAABAQEBAQABAQEBAQABAQEAAQEAAAEBAQEBAQABAQEBAQEBAAEBAQEBAAEBAAEBAQEBAQEBAQEBAQABAAABAAEBAQEBAAEBAAEAAQEAAQABAQEBAQEBAQAAAQEBAQEBAAEBAQEBAQEBAQEAAQEBAQEBAQABAAEBAAEBAQEBAAABAAEAAQEBAQEAAQEAAQABAAABAQEAAQEBAQEBAQEBAQEAAQAAAQEBAQEBAQEBAQEBAQEBAQEBAQEBAQEBAQAAAAAAAAE=",
           "dtype": "i1"
          },
          "coloraxis": "coloraxis",
          "symbol": "circle"
         },
         "mode": "markers",
         "name": "",
         "orientation": "h",
         "showlegend": false,
         "type": "scatter",
         "x": {
          "bdata": "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",
          "dtype": "f8"
         },
         "xaxis": "x",
         "y": {
          "bdata": "AAABAAIAAwAEAAUABgAHAAgACQAKAAsADAANAA4ADwAQABEAEgATABQAFQAWABcAGAAZABoAGwAcAB0AHgAfACAAIQAiACMAJAAlACYAJwAoACkAKgArACwALQAuAC8AMAAxADIAMwA0ADUANgA3ADgAOQA6ADsAPAA9AD4APwBAAEEAQgBDAEQARQBGAEcASABJAEoASwBMAE0ATgBPAFAAUQBSAFMAVABVAFYAVwBYAFkAWgBbAFwAXQBeAF8AYABhAGIAYwBkAGUAZgBnAGgAaQBqAGsAbABtAG4AbwBwAHEAcgBzAHQAdQB2AHcAeAB5AHoAewB8AH0AfgB/AIAAgQCCAIMAhACFAIYAhwCIAIkAigCLAIwAjQCOAI8AkACRAJIAkwCUAJUAlgCXAJgAmQCaAJsAnACdAJ4AnwCgAKEAogCjAKQApQCmAKcAqACpAKoAqwCsAK0ArgCvALAAsQCyALMAtAC1ALYAtwC4ALkAugC7ALwAvQC+AL8AwADBAMIAwwDEAMUAxgDHAMgAyQDKAMsAzADNAM4AzwDQANEA0gDTANQA1QDWANcA2ADZANoA2wDcAN0A3gDfAOAA4QDiAOMA5ADlAOYA5wDoAOkA6gDrAOwA7QDuAO8A8ADxAPIA8wD0APUA9gD3APgA+QD6APsA/AD9AP4A/wAAAQEBAgEDAQQBBQEGAQcBCAEJAQoBCwEMAQ0BDgEPARABEQESARMBFAEVARYBFwEYARkBGgEbARwBHQEeAR8BIAEhASIBIwEkASUBJgEnASgBKQEqASsBLAEtAS4BLwEwATEBMgEzATQBNQE2ATcBOAE5AToBOwE8AT0BPgE/AUABQQFCAUMBRAFFAUYBRwFIAUkBSgFLAUwBTQFOAU8BUAFRAVIBUwFUAVUBVgFXAVgBWQFaAVsBXAFdAV4BXwFgAWEBYgFjAWQBZQFmAWcBaAFpAWoBawFsAW0BbgFvAXABcQFyAXMBdAF1AXYBdwF4AXkBegF7AXwBfQF+AX8BgAGBAYIBgwGEAYUBhgGHAYgBiQGKAYsBjAGNAY4BjwGQAZEBkgGTAZQBlQGWAZcBmAGZAZoBmwGcAZ0BngGfAaABoQGiAaMBpAGlAaYBpwGoAakBqgGrAawBrQGuAa8BsAGxAbIBswG0AbUBtgG3AbgBuQG6AbsBvAG9Ab4BvwHAAcEBwgHDAcQBxQHGAccByAHJAcoBywHMAc0BzgHPAdAB0QHSAdMB1AHVAdYB1wHYAdkB2gHbAdwB3QHeAd8B4AHhAeIB4wHkAeUB5gHnAegB6QHqAesB7AHtAe4B7wHwAfEB8gHzAfQB9QH2AfcB+AH5AfoB+wH8Af0B/gH/AQACAQICAgMCBAIFAgYCBwIIAgkCCgILAgwCDQIOAg8CEAIRAhICEwIUAhUCFgIXAhgCGQIaAhsCHAIdAh4CHwIgAiECIgIjAiQCJQImAicCKAIpAioCKwIsAi0CLgIvAjACMQIyAjMCNAI1AjYCNwI4Ag==",
          "dtype": "i2"
         },
         "yaxis": "y"
        }
       ],
       "layout": {
        "coloraxis": {
         "colorbar": {
          "title": {
           "text": "diagnosis"
          }
         },
         "colorscale": [
          [
           0,
           "#f6abb6"
          ],
          [
           1,
           "#A865C9"
          ]
         ]
        },
        "legend": {
         "tracegroupgap": 0
        },
        "template": {
         "data": {
          "bar": [
           {
            "error_x": {
             "color": "#2a3f5f"
            },
            "error_y": {
             "color": "#2a3f5f"
            },
            "marker": {
             "line": {
              "color": "#E5ECF6",
              "width": 0.5
             },
             "pattern": {
              "fillmode": "overlay",
              "size": 10,
              "solidity": 0.2
             }
            },
            "type": "bar"
           }
          ],
          "barpolar": [
           {
            "marker": {
             "line": {
              "color": "#E5ECF6",
              "width": 0.5
             },
             "pattern": {
              "fillmode": "overlay",
              "size": 10,
              "solidity": 0.2
             }
            },
            "type": "barpolar"
           }
          ],
          "carpet": [
           {
            "aaxis": {
             "endlinecolor": "#2a3f5f",
             "gridcolor": "white",
             "linecolor": "white",
             "minorgridcolor": "white",
             "startlinecolor": "#2a3f5f"
            },
            "baxis": {
             "endlinecolor": "#2a3f5f",
             "gridcolor": "white",
             "linecolor": "white",
             "minorgridcolor": "white",
             "startlinecolor": "#2a3f5f"
            },
            "type": "carpet"
           }
          ],
          "choropleth": [
           {
            "colorbar": {
             "outlinewidth": 0,
             "ticks": ""
            },
            "type": "choropleth"
           }
          ],
          "contour": [
           {
            "colorbar": {
             "outlinewidth": 0,
             "ticks": ""
            },
            "colorscale": [
             [
              0,
              "#0d0887"
             ],
             [
              0.1111111111111111,
              "#46039f"
             ],
             [
              0.2222222222222222,
              "#7201a8"
             ],
             [
              0.3333333333333333,
              "#9c179e"
             ],
             [
              0.4444444444444444,
              "#bd3786"
             ],
             [
              0.5555555555555556,
              "#d8576b"
             ],
             [
              0.6666666666666666,
              "#ed7953"
             ],
             [
              0.7777777777777778,
              "#fb9f3a"
             ],
             [
              0.8888888888888888,
              "#fdca26"
             ],
             [
              1,
              "#f0f921"
             ]
            ],
            "type": "contour"
           }
          ],
          "contourcarpet": [
           {
            "colorbar": {
             "outlinewidth": 0,
             "ticks": ""
            },
            "type": "contourcarpet"
           }
          ],
          "heatmap": [
           {
            "colorbar": {
             "outlinewidth": 0,
             "ticks": ""
            },
            "colorscale": [
             [
              0,
              "#0d0887"
             ],
             [
              0.1111111111111111,
              "#46039f"
             ],
             [
              0.2222222222222222,
              "#7201a8"
             ],
             [
              0.3333333333333333,
              "#9c179e"
             ],
             [
              0.4444444444444444,
              "#bd3786"
             ],
             [
              0.5555555555555556,
              "#d8576b"
             ],
             [
              0.6666666666666666,
              "#ed7953"
             ],
             [
              0.7777777777777778,
              "#fb9f3a"
             ],
             [
              0.8888888888888888,
              "#fdca26"
             ],
             [
              1,
              "#f0f921"
             ]
            ],
            "type": "heatmap"
           }
          ],
          "histogram": [
           {
            "marker": {
             "pattern": {
              "fillmode": "overlay",
              "size": 10,
              "solidity": 0.2
             }
            },
            "type": "histogram"
           }
          ],
          "histogram2d": [
           {
            "colorbar": {
             "outlinewidth": 0,
             "ticks": ""
            },
            "colorscale": [
             [
              0,
              "#0d0887"
             ],
             [
              0.1111111111111111,
              "#46039f"
             ],
             [
              0.2222222222222222,
              "#7201a8"
             ],
             [
              0.3333333333333333,
              "#9c179e"
             ],
             [
              0.4444444444444444,
              "#bd3786"
             ],
             [
              0.5555555555555556,
              "#d8576b"
             ],
             [
              0.6666666666666666,
              "#ed7953"
             ],
             [
              0.7777777777777778,
              "#fb9f3a"
             ],
             [
              0.8888888888888888,
              "#fdca26"
             ],
             [
              1,
              "#f0f921"
             ]
            ],
            "type": "histogram2d"
           }
          ],
          "histogram2dcontour": [
           {
            "colorbar": {
             "outlinewidth": 0,
             "ticks": ""
            },
            "colorscale": [
             [
              0,
              "#0d0887"
             ],
             [
              0.1111111111111111,
              "#46039f"
             ],
             [
              0.2222222222222222,
              "#7201a8"
             ],
             [
              0.3333333333333333,
              "#9c179e"
             ],
             [
              0.4444444444444444,
              "#bd3786"
             ],
             [
              0.5555555555555556,
              "#d8576b"
             ],
             [
              0.6666666666666666,
              "#ed7953"
             ],
             [
              0.7777777777777778,
              "#fb9f3a"
             ],
             [
              0.8888888888888888,
              "#fdca26"
             ],
             [
              1,
              "#f0f921"
             ]
            ],
            "type": "histogram2dcontour"
           }
          ],
          "mesh3d": [
           {
            "colorbar": {
             "outlinewidth": 0,
             "ticks": ""
            },
            "type": "mesh3d"
           }
          ],
          "parcoords": [
           {
            "line": {
             "colorbar": {
              "outlinewidth": 0,
              "ticks": ""
             }
            },
            "type": "parcoords"
           }
          ],
          "pie": [
           {
            "automargin": true,
            "type": "pie"
           }
          ],
          "scatter": [
           {
            "fillpattern": {
             "fillmode": "overlay",
             "size": 10,
             "solidity": 0.2
            },
            "type": "scatter"
           }
          ],
          "scatter3d": [
           {
            "line": {
             "colorbar": {
              "outlinewidth": 0,
              "ticks": ""
             }
            },
            "marker": {
             "colorbar": {
              "outlinewidth": 0,
              "ticks": ""
             }
            },
            "type": "scatter3d"
           }
          ],
          "scattercarpet": [
           {
            "marker": {
             "colorbar": {
              "outlinewidth": 0,
              "ticks": ""
             }
            },
            "type": "scattercarpet"
           }
          ],
          "scattergeo": [
           {
            "marker": {
             "colorbar": {
              "outlinewidth": 0,
              "ticks": ""
             }
            },
            "type": "scattergeo"
           }
          ],
          "scattergl": [
           {
            "marker": {
             "colorbar": {
              "outlinewidth": 0,
              "ticks": ""
             }
            },
            "type": "scattergl"
           }
          ],
          "scattermap": [
           {
            "marker": {
             "colorbar": {
              "outlinewidth": 0,
              "ticks": ""
             }
            },
            "type": "scattermap"
           }
          ],
          "scattermapbox": [
           {
            "marker": {
             "colorbar": {
              "outlinewidth": 0,
              "ticks": ""
             }
            },
            "type": "scattermapbox"
           }
          ],
          "scatterpolar": [
           {
            "marker": {
             "colorbar": {
              "outlinewidth": 0,
              "ticks": ""
             }
            },
            "type": "scatterpolar"
           }
          ],
          "scatterpolargl": [
           {
            "marker": {
             "colorbar": {
              "outlinewidth": 0,
              "ticks": ""
             }
            },
            "type": "scatterpolargl"
           }
          ],
          "scatterternary": [
           {
            "marker": {
             "colorbar": {
              "outlinewidth": 0,
              "ticks": ""
             }
            },
            "type": "scatterternary"
           }
          ],
          "surface": [
           {
            "colorbar": {
             "outlinewidth": 0,
             "ticks": ""
            },
            "colorscale": [
             [
              0,
              "#0d0887"
             ],
             [
              0.1111111111111111,
              "#46039f"
             ],
             [
              0.2222222222222222,
              "#7201a8"
             ],
             [
              0.3333333333333333,
              "#9c179e"
             ],
             [
              0.4444444444444444,
              "#bd3786"
             ],
             [
              0.5555555555555556,
              "#d8576b"
             ],
             [
              0.6666666666666666,
              "#ed7953"
             ],
             [
              0.7777777777777778,
              "#fb9f3a"
             ],
             [
              0.8888888888888888,
              "#fdca26"
             ],
             [
              1,
              "#f0f921"
             ]
            ],
            "type": "surface"
           }
          ],
          "table": [
           {
            "cells": {
             "fill": {
              "color": "#EBF0F8"
             },
             "line": {
              "color": "white"
             }
            },
            "header": {
             "fill": {
              "color": "#C8D4E3"
             },
             "line": {
              "color": "white"
             }
            },
            "type": "table"
           }
          ]
         },
         "layout": {
          "annotationdefaults": {
           "arrowcolor": "#2a3f5f",
           "arrowhead": 0,
           "arrowwidth": 1
          },
          "autotypenumbers": "strict",
          "coloraxis": {
           "colorbar": {
            "outlinewidth": 0,
            "ticks": ""
           }
          },
          "colorscale": {
           "diverging": [
            [
             0,
             "#8e0152"
            ],
            [
             0.1,
             "#c51b7d"
            ],
            [
             0.2,
             "#de77ae"
            ],
            [
             0.3,
             "#f1b6da"
            ],
            [
             0.4,
             "#fde0ef"
            ],
            [
             0.5,
             "#f7f7f7"
            ],
            [
             0.6,
             "#e6f5d0"
            ],
            [
             0.7,
             "#b8e186"
            ],
            [
             0.8,
             "#7fbc41"
            ],
            [
             0.9,
             "#4d9221"
            ],
            [
             1,
             "#276419"
            ]
           ],
           "sequential": [
            [
             0,
             "#0d0887"
            ],
            [
             0.1111111111111111,
             "#46039f"
            ],
            [
             0.2222222222222222,
             "#7201a8"
            ],
            [
             0.3333333333333333,
             "#9c179e"
            ],
            [
             0.4444444444444444,
             "#bd3786"
            ],
            [
             0.5555555555555556,
             "#d8576b"
            ],
            [
             0.6666666666666666,
             "#ed7953"
            ],
            [
             0.7777777777777778,
             "#fb9f3a"
            ],
            [
             0.8888888888888888,
             "#fdca26"
            ],
            [
             1,
             "#f0f921"
            ]
           ],
           "sequentialminus": [
            [
             0,
             "#0d0887"
            ],
            [
             0.1111111111111111,
             "#46039f"
            ],
            [
             0.2222222222222222,
             "#7201a8"
            ],
            [
             0.3333333333333333,
             "#9c179e"
            ],
            [
             0.4444444444444444,
             "#bd3786"
            ],
            [
             0.5555555555555556,
             "#d8576b"
            ],
            [
             0.6666666666666666,
             "#ed7953"
            ],
            [
             0.7777777777777778,
             "#fb9f3a"
            ],
            [
             0.8888888888888888,
             "#fdca26"
            ],
            [
             1,
             "#f0f921"
            ]
           ]
          },
          "colorway": [
           "#636efa",
           "#EF553B",
           "#00cc96",
           "#ab63fa",
           "#FFA15A",
           "#19d3f3",
           "#FF6692",
           "#B6E880",
           "#FF97FF",
           "#FECB52"
          ],
          "font": {
           "color": "#2a3f5f"
          },
          "geo": {
           "bgcolor": "white",
           "lakecolor": "white",
           "landcolor": "#E5ECF6",
           "showlakes": true,
           "showland": true,
           "subunitcolor": "white"
          },
          "hoverlabel": {
           "align": "left"
          },
          "hovermode": "closest",
          "mapbox": {
           "style": "light"
          },
          "paper_bgcolor": "white",
          "plot_bgcolor": "#E5ECF6",
          "polar": {
           "angularaxis": {
            "gridcolor": "white",
            "linecolor": "white",
            "ticks": ""
           },
           "bgcolor": "#E5ECF6",
           "radialaxis": {
            "gridcolor": "white",
            "linecolor": "white",
            "ticks": ""
           }
          },
          "scene": {
           "xaxis": {
            "backgroundcolor": "#E5ECF6",
            "gridcolor": "white",
            "gridwidth": 2,
            "linecolor": "white",
            "showbackground": true,
            "ticks": "",
            "zerolinecolor": "white"
           },
           "yaxis": {
            "backgroundcolor": "#E5ECF6",
            "gridcolor": "white",
            "gridwidth": 2,
            "linecolor": "white",
            "showbackground": true,
            "ticks": "",
            "zerolinecolor": "white"
           },
           "zaxis": {
            "backgroundcolor": "#E5ECF6",
            "gridcolor": "white",
            "gridwidth": 2,
            "linecolor": "white",
            "showbackground": true,
            "ticks": "",
            "zerolinecolor": "white"
           }
          },
          "shapedefaults": {
           "line": {
            "color": "#2a3f5f"
           }
          },
          "ternary": {
           "aaxis": {
            "gridcolor": "white",
            "linecolor": "white",
            "ticks": ""
           },
           "baxis": {
            "gridcolor": "white",
            "linecolor": "white",
            "ticks": ""
           },
           "bgcolor": "#E5ECF6",
           "caxis": {
            "gridcolor": "white",
            "linecolor": "white",
            "ticks": ""
           }
          },
          "title": {
           "x": 0.05
          },
          "xaxis": {
           "automargin": true,
           "gridcolor": "white",
           "linecolor": "white",
           "ticks": "",
           "title": {
            "standoff": 15
           },
           "zerolinecolor": "white",
           "zerolinewidth": 2
          },
          "yaxis": {
           "automargin": true,
           "gridcolor": "white",
           "linecolor": "white",
           "ticks": "",
           "title": {
            "standoff": 15
           },
           "zerolinecolor": "white",
           "zerolinewidth": 2
          }
         }
        },
        "title": {
         "subtitle": {
          "text": "Maligno (0) e Benigno (1)"
         },
         "text": "Relação entre Mean Radius e Diagnóstico"
        },
        "xaxis": {
         "anchor": "y",
         "domain": [
          0,
          1
         ],
         "title": {
          "text": "mean_radius"
         }
        },
        "yaxis": {
         "anchor": "x",
         "domain": [
          0,
          1
         ],
         "title": {
          "text": "index"
         }
        }
       }
      }
     },
     "metadata": {},
     "output_type": "display_data"
    },
    {
     "data": {
      "application/vnd.plotly.v1+json": {
       "config": {
        "plotlyServerURL": "https://plot.ly"
       },
       "data": [
        {
         "hovertemplate": "mean_texture=%{x}<br>index=%{y}<br>diagnosis=%{marker.color}<extra></extra>",
         "legendgroup": "",
         "marker": {
          "color": {
           "bdata": "AAAAAAAAAAAAAAAAAAAAAAAAAAEBAQAAAAAAAAAAAAAAAAAAAAEAAAAAAAAAAAEAAQEBAQEAAAEAAAEBAQEAAQAAAQEBAQABAAABAAEAAAEBAQAAAQAAAAEBAQABAQAAAQEBAAABAQEBAAEBAAEBAQEBAQEBAAAAAQAAAQEBAAABAAEAAAEAAAEBAAEBAAEBAQEAAQEBAQEBAQEBAAEBAQEAAAEAAQEAAAEBAAABAQEBAAEBAAAAAQABAAEBAQABAQAAAQAAAAABAAAAAQABAAEBAAEAAAAAAQEAAAEBAQABAQEBAQAAAQEAAQEAAAEAAQEBAQABAQEBAQABAAAAAAAAAAAAAAAAAAABAQEBAQEAAQABAQABAQABAAABAQEBAQEBAQEBAQEBAAEBAAEAAQEBAQEBAQEBAQEBAQEAAQEBAAEAAQEBAQAAAAEBAQEAAQABAAEBAQABAQEBAQEBAAAAAQEBAQEBAQEBAQEAAAEAAAABAAABAQEBAQABAQEBAQABAQEAAQEAAAEBAQEBAQABAQEBAQEBAAEBAQEBAAEBAAEBAQEBAQEBAQEBAQABAAABAAEBAQEBAAEBAAEAAQEAAQABAQEBAQEBAQAAAQEBAQEBAAEBAQEBAQEBAQEAAQEBAQEBAQABAAEBAAEBAQEBAAABAAEAAQEBAQEAAQEAAQABAAABAQEAAQEBAQEBAQEBAQEAAQAAAQEBAQEBAQEBAQEBAQEBAQEBAQEBAQEBAQAAAAAAAAE=",
           "dtype": "i1"
          },
          "coloraxis": "coloraxis",
          "symbol": "circle"
         },
         "mode": "markers",
         "name": "",
         "orientation": "h",
         "showlegend": false,
         "type": "scatter",
         "x": {
          "bdata": "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",
          "dtype": "f8"
         },
         "xaxis": "x",
         "y": {
          "bdata": "AAABAAIAAwAEAAUABgAHAAgACQAKAAsADAANAA4ADwAQABEAEgATABQAFQAWABcAGAAZABoAGwAcAB0AHgAfACAAIQAiACMAJAAlACYAJwAoACkAKgArACwALQAuAC8AMAAxADIAMwA0ADUANgA3ADgAOQA6ADsAPAA9AD4APwBAAEEAQgBDAEQARQBGAEcASABJAEoASwBMAE0ATgBPAFAAUQBSAFMAVABVAFYAVwBYAFkAWgBbAFwAXQBeAF8AYABhAGIAYwBkAGUAZgBnAGgAaQBqAGsAbABtAG4AbwBwAHEAcgBzAHQAdQB2AHcAeAB5AHoAewB8AH0AfgB/AIAAgQCCAIMAhACFAIYAhwCIAIkAigCLAIwAjQCOAI8AkACRAJIAkwCUAJUAlgCXAJgAmQCaAJsAnACdAJ4AnwCgAKEAogCjAKQApQCmAKcAqACpAKoAqwCsAK0ArgCvALAAsQCyALMAtAC1ALYAtwC4ALkAugC7ALwAvQC+AL8AwADBAMIAwwDEAMUAxgDHAMgAyQDKAMsAzADNAM4AzwDQANEA0gDTANQA1QDWANcA2ADZANoA2wDcAN0A3gDfAOAA4QDiAOMA5ADlAOYA5wDoAOkA6gDrAOwA7QDuAO8A8ADxAPIA8wD0APUA9gD3APgA+QD6APsA/AD9AP4A/wAAAQEBAgEDAQQBBQEGAQcBCAEJAQoBCwEMAQ0BDgEPARABEQESARMBFAEVARYBFwEYARkBGgEbARwBHQEeAR8BIAEhASIBIwEkASUBJgEnASgBKQEqASsBLAEtAS4BLwEwATEBMgEzATQBNQE2ATcBOAE5AToBOwE8AT0BPgE/AUABQQFCAUMBRAFFAUYBRwFIAUkBSgFLAUwBTQFOAU8BUAFRAVIBUwFUAVUBVgFXAVgBWQFaAVsBXAFdAV4BXwFgAWEBYgFjAWQBZQFmAWcBaAFpAWoBawFsAW0BbgFvAXABcQFyAXMBdAF1AXYBdwF4AXkBegF7AXwBfQF+AX8BgAGBAYIBgwGEAYUBhgGHAYgBiQGKAYsBjAGNAY4BjwGQAZEBkgGTAZQBlQGWAZcBmAGZAZoBmwGcAZ0BngGfAaABoQGiAaMBpAGlAaYBpwGoAakBqgGrAawBrQGuAa8BsAGxAbIBswG0AbUBtgG3AbgBuQG6AbsBvAG9Ab4BvwHAAcEBwgHDAcQBxQHGAccByAHJAcoBywHMAc0BzgHPAdAB0QHSAdMB1AHVAdYB1wHYAdkB2gHbAdwB3QHeAd8B4AHhAeIB4wHkAeUB5gHnAegB6QHqAesB7AHtAe4B7wHwAfEB8gHzAfQB9QH2AfcB+AH5AfoB+wH8Af0B/gH/AQACAQICAgMCBAIFAgYCBwIIAgkCCgILAgwCDQIOAg8CEAIRAhICEwIUAhUCFgIXAhgCGQIaAhsCHAIdAh4CHwIgAiECIgIjAiQCJQImAicCKAIpAioCKwIsAi0CLgIvAjACMQIyAjMCNAI1AjYCNwI4Ag==",
          "dtype": "i2"
         },
         "yaxis": "y"
        }
       ],
       "layout": {
        "coloraxis": {
         "colorbar": {
          "title": {
           "text": "diagnosis"
          }
         },
         "colorscale": [
          [
           0,
           "#f6abb6"
          ],
          [
           1,
           "#A865C9"
          ]
         ]
        },
        "legend": {
         "tracegroupgap": 0
        },
        "template": {
         "data": {
          "bar": [
           {
            "error_x": {
             "color": "#2a3f5f"
            },
            "error_y": {
             "color": "#2a3f5f"
            },
            "marker": {
             "line": {
              "color": "#E5ECF6",
              "width": 0.5
             },
             "pattern": {
              "fillmode": "overlay",
              "size": 10,
              "solidity": 0.2
             }
            },
            "type": "bar"
           }
          ],
          "barpolar": [
           {
            "marker": {
             "line": {
              "color": "#E5ECF6",
              "width": 0.5
             },
             "pattern": {
              "fillmode": "overlay",
              "size": 10,
              "solidity": 0.2
             }
            },
            "type": "barpolar"
           }
          ],
          "carpet": [
           {
            "aaxis": {
             "endlinecolor": "#2a3f5f",
             "gridcolor": "white",
             "linecolor": "white",
             "minorgridcolor": "white",
             "startlinecolor": "#2a3f5f"
            },
            "baxis": {
             "endlinecolor": "#2a3f5f",
             "gridcolor": "white",
             "linecolor": "white",
             "minorgridcolor": "white",
             "startlinecolor": "#2a3f5f"
            },
            "type": "carpet"
           }
          ],
          "choropleth": [
           {
            "colorbar": {
             "outlinewidth": 0,
             "ticks": ""
            },
            "type": "choropleth"
           }
          ],
          "contour": [
           {
            "colorbar": {
             "outlinewidth": 0,
             "ticks": ""
            },
            "colorscale": [
             [
              0,
              "#0d0887"
             ],
             [
              0.1111111111111111,
              "#46039f"
             ],
             [
              0.2222222222222222,
              "#7201a8"
             ],
             [
              0.3333333333333333,
              "#9c179e"
             ],
             [
              0.4444444444444444,
              "#bd3786"
             ],
             [
              0.5555555555555556,
              "#d8576b"
             ],
             [
              0.6666666666666666,
              "#ed7953"
             ],
             [
              0.7777777777777778,
              "#fb9f3a"
             ],
             [
              0.8888888888888888,
              "#fdca26"
             ],
             [
              1,
              "#f0f921"
             ]
            ],
            "type": "contour"
           }
          ],
          "contourcarpet": [
           {
            "colorbar": {
             "outlinewidth": 0,
             "ticks": ""
            },
            "type": "contourcarpet"
           }
          ],
          "heatmap": [
           {
            "colorbar": {
             "outlinewidth": 0,
             "ticks": ""
            },
            "colorscale": [
             [
              0,
              "#0d0887"
             ],
             [
              0.1111111111111111,
              "#46039f"
             ],
             [
              0.2222222222222222,
              "#7201a8"
             ],
             [
              0.3333333333333333,
              "#9c179e"
             ],
             [
              0.4444444444444444,
              "#bd3786"
             ],
             [
              0.5555555555555556,
              "#d8576b"
             ],
             [
              0.6666666666666666,
              "#ed7953"
             ],
             [
              0.7777777777777778,
              "#fb9f3a"
             ],
             [
              0.8888888888888888,
              "#fdca26"
             ],
             [
              1,
              "#f0f921"
             ]
            ],
            "type": "heatmap"
           }
          ],
          "histogram": [
           {
            "marker": {
             "pattern": {
              "fillmode": "overlay",
              "size": 10,
              "solidity": 0.2
             }
            },
            "type": "histogram"
           }
          ],
          "histogram2d": [
           {
            "colorbar": {
             "outlinewidth": 0,
             "ticks": ""
            },
            "colorscale": [
             [
              0,
              "#0d0887"
             ],
             [
              0.1111111111111111,
              "#46039f"
             ],
             [
              0.2222222222222222,
              "#7201a8"
             ],
             [
              0.3333333333333333,
              "#9c179e"
             ],
             [
              0.4444444444444444,
              "#bd3786"
             ],
             [
              0.5555555555555556,
              "#d8576b"
             ],
             [
              0.6666666666666666,
              "#ed7953"
             ],
             [
              0.7777777777777778,
              "#fb9f3a"
             ],
             [
              0.8888888888888888,
              "#fdca26"
             ],
             [
              1,
              "#f0f921"
             ]
            ],
            "type": "histogram2d"
           }
          ],
          "histogram2dcontour": [
           {
            "colorbar": {
             "outlinewidth": 0,
             "ticks": ""
            },
            "colorscale": [
             [
              0,
              "#0d0887"
             ],
             [
              0.1111111111111111,
              "#46039f"
             ],
             [
              0.2222222222222222,
              "#7201a8"
             ],
             [
              0.3333333333333333,
              "#9c179e"
             ],
             [
              0.4444444444444444,
              "#bd3786"
             ],
             [
              0.5555555555555556,
              "#d8576b"
             ],
             [
              0.6666666666666666,
              "#ed7953"
             ],
             [
              0.7777777777777778,
              "#fb9f3a"
             ],
             [
              0.8888888888888888,
              "#fdca26"
             ],
             [
              1,
              "#f0f921"
             ]
            ],
            "type": "histogram2dcontour"
           }
          ],
          "mesh3d": [
           {
            "colorbar": {
             "outlinewidth": 0,
             "ticks": ""
            },
            "type": "mesh3d"
           }
          ],
          "parcoords": [
           {
            "line": {
             "colorbar": {
              "outlinewidth": 0,
              "ticks": ""
             }
            },
            "type": "parcoords"
           }
          ],
          "pie": [
           {
            "automargin": true,
            "type": "pie"
           }
          ],
          "scatter": [
           {
            "fillpattern": {
             "fillmode": "overlay",
             "size": 10,
             "solidity": 0.2
            },
            "type": "scatter"
           }
          ],
          "scatter3d": [
           {
            "line": {
             "colorbar": {
              "outlinewidth": 0,
              "ticks": ""
             }
            },
            "marker": {
             "colorbar": {
              "outlinewidth": 0,
              "ticks": ""
             }
            },
            "type": "scatter3d"
           }
          ],
          "scattercarpet": [
           {
            "marker": {
             "colorbar": {
              "outlinewidth": 0,
              "ticks": ""
             }
            },
            "type": "scattercarpet"
           }
          ],
          "scattergeo": [
           {
            "marker": {
             "colorbar": {
              "outlinewidth": 0,
              "ticks": ""
             }
            },
            "type": "scattergeo"
           }
          ],
          "scattergl": [
           {
            "marker": {
             "colorbar": {
              "outlinewidth": 0,
              "ticks": ""
             }
            },
            "type": "scattergl"
           }
          ],
          "scattermap": [
           {
            "marker": {
             "colorbar": {
              "outlinewidth": 0,
              "ticks": ""
             }
            },
            "type": "scattermap"
           }
          ],
          "scattermapbox": [
           {
            "marker": {
             "colorbar": {
              "outlinewidth": 0,
              "ticks": ""
             }
            },
            "type": "scattermapbox"
           }
          ],
          "scatterpolar": [
           {
            "marker": {
             "colorbar": {
              "outlinewidth": 0,
              "ticks": ""
             }
            },
            "type": "scatterpolar"
           }
          ],
          "scatterpolargl": [
           {
            "marker": {
             "colorbar": {
              "outlinewidth": 0,
              "ticks": ""
             }
            },
            "type": "scatterpolargl"
           }
          ],
          "scatterternary": [
           {
            "marker": {
             "colorbar": {
              "outlinewidth": 0,
              "ticks": ""
             }
            },
            "type": "scatterternary"
           }
          ],
          "surface": [
           {
            "colorbar": {
             "outlinewidth": 0,
             "ticks": ""
            },
            "colorscale": [
             [
              0,
              "#0d0887"
             ],
             [
              0.1111111111111111,
              "#46039f"
             ],
             [
              0.2222222222222222,
              "#7201a8"
             ],
             [
              0.3333333333333333,
              "#9c179e"
             ],
             [
              0.4444444444444444,
              "#bd3786"
             ],
             [
              0.5555555555555556,
              "#d8576b"
             ],
             [
              0.6666666666666666,
              "#ed7953"
             ],
             [
              0.7777777777777778,
              "#fb9f3a"
             ],
             [
              0.8888888888888888,
              "#fdca26"
             ],
             [
              1,
              "#f0f921"
             ]
            ],
            "type": "surface"
           }
          ],
          "table": [
           {
            "cells": {
             "fill": {
              "color": "#EBF0F8"
             },
             "line": {
              "color": "white"
             }
            },
            "header": {
             "fill": {
              "color": "#C8D4E3"
             },
             "line": {
              "color": "white"
             }
            },
            "type": "table"
           }
          ]
         },
         "layout": {
          "annotationdefaults": {
           "arrowcolor": "#2a3f5f",
           "arrowhead": 0,
           "arrowwidth": 1
          },
          "autotypenumbers": "strict",
          "coloraxis": {
           "colorbar": {
            "outlinewidth": 0,
            "ticks": ""
           }
          },
          "colorscale": {
           "diverging": [
            [
             0,
             "#8e0152"
            ],
            [
             0.1,
             "#c51b7d"
            ],
            [
             0.2,
             "#de77ae"
            ],
            [
             0.3,
             "#f1b6da"
            ],
            [
             0.4,
             "#fde0ef"
            ],
            [
             0.5,
             "#f7f7f7"
            ],
            [
             0.6,
             "#e6f5d0"
            ],
            [
             0.7,
             "#b8e186"
            ],
            [
             0.8,
             "#7fbc41"
            ],
            [
             0.9,
             "#4d9221"
            ],
            [
             1,
             "#276419"
            ]
           ],
           "sequential": [
            [
             0,
             "#0d0887"
            ],
            [
             0.1111111111111111,
             "#46039f"
            ],
            [
             0.2222222222222222,
             "#7201a8"
            ],
            [
             0.3333333333333333,
             "#9c179e"
            ],
            [
             0.4444444444444444,
             "#bd3786"
            ],
            [
             0.5555555555555556,
             "#d8576b"
            ],
            [
             0.6666666666666666,
             "#ed7953"
            ],
            [
             0.7777777777777778,
             "#fb9f3a"
            ],
            [
             0.8888888888888888,
             "#fdca26"
            ],
            [
             1,
             "#f0f921"
            ]
           ],
           "sequentialminus": [
            [
             0,
             "#0d0887"
            ],
            [
             0.1111111111111111,
             "#46039f"
            ],
            [
             0.2222222222222222,
             "#7201a8"
            ],
            [
             0.3333333333333333,
             "#9c179e"
            ],
            [
             0.4444444444444444,
             "#bd3786"
            ],
            [
             0.5555555555555556,
             "#d8576b"
            ],
            [
             0.6666666666666666,
             "#ed7953"
            ],
            [
             0.7777777777777778,
             "#fb9f3a"
            ],
            [
             0.8888888888888888,
             "#fdca26"
            ],
            [
             1,
             "#f0f921"
            ]
           ]
          },
          "colorway": [
           "#636efa",
           "#EF553B",
           "#00cc96",
           "#ab63fa",
           "#FFA15A",
           "#19d3f3",
           "#FF6692",
           "#B6E880",
           "#FF97FF",
           "#FECB52"
          ],
          "font": {
           "color": "#2a3f5f"
          },
          "geo": {
           "bgcolor": "white",
           "lakecolor": "white",
           "landcolor": "#E5ECF6",
           "showlakes": true,
           "showland": true,
           "subunitcolor": "white"
          },
          "hoverlabel": {
           "align": "left"
          },
          "hovermode": "closest",
          "mapbox": {
           "style": "light"
          },
          "paper_bgcolor": "white",
          "plot_bgcolor": "#E5ECF6",
          "polar": {
           "angularaxis": {
            "gridcolor": "white",
            "linecolor": "white",
            "ticks": ""
           },
           "bgcolor": "#E5ECF6",
           "radialaxis": {
            "gridcolor": "white",
            "linecolor": "white",
            "ticks": ""
           }
          },
          "scene": {
           "xaxis": {
            "backgroundcolor": "#E5ECF6",
            "gridcolor": "white",
            "gridwidth": 2,
            "linecolor": "white",
            "showbackground": true,
            "ticks": "",
            "zerolinecolor": "white"
           },
           "yaxis": {
            "backgroundcolor": "#E5ECF6",
            "gridcolor": "white",
            "gridwidth": 2,
            "linecolor": "white",
            "showbackground": true,
            "ticks": "",
            "zerolinecolor": "white"
           },
           "zaxis": {
            "backgroundcolor": "#E5ECF6",
            "gridcolor": "white",
            "gridwidth": 2,
            "linecolor": "white",
            "showbackground": true,
            "ticks": "",
            "zerolinecolor": "white"
           }
          },
          "shapedefaults": {
           "line": {
            "color": "#2a3f5f"
           }
          },
          "ternary": {
           "aaxis": {
            "gridcolor": "white",
            "linecolor": "white",
            "ticks": ""
           },
           "baxis": {
            "gridcolor": "white",
            "linecolor": "white",
            "ticks": ""
           },
           "bgcolor": "#E5ECF6",
           "caxis": {
            "gridcolor": "white",
            "linecolor": "white",
            "ticks": ""
           }
          },
          "title": {
           "x": 0.05
          },
          "xaxis": {
           "automargin": true,
           "gridcolor": "white",
           "linecolor": "white",
           "ticks": "",
           "title": {
            "standoff": 15
           },
           "zerolinecolor": "white",
           "zerolinewidth": 2
          },
          "yaxis": {
           "automargin": true,
           "gridcolor": "white",
           "linecolor": "white",
           "ticks": "",
           "title": {
            "standoff": 15
           },
           "zerolinecolor": "white",
           "zerolinewidth": 2
          }
         }
        },
        "title": {
         "subtitle": {
          "text": "Maligno (0) e Benigno (1)"
         },
         "text": "Relação entre Mean Texture e Diagnóstico"
        },
        "xaxis": {
         "anchor": "y",
         "domain": [
          0,
          1
         ],
         "title": {
          "text": "mean_texture"
         }
        },
        "yaxis": {
         "anchor": "x",
         "domain": [
          0,
          1
         ],
         "title": {
          "text": "index"
         }
        }
       }
      }
     },
     "metadata": {},
     "output_type": "display_data"
    },
    {
     "data": {
      "application/vnd.plotly.v1+json": {
       "config": {
        "plotlyServerURL": "https://plot.ly"
       },
       "data": [
        {
         "hovertemplate": "mean_perimeter=%{x}<br>index=%{y}<br>diagnosis=%{marker.color}<extra></extra>",
         "legendgroup": "",
         "marker": {
          "color": {
           "bdata": "AAAAAAAAAAAAAAAAAAAAAAAAAAEBAQAAAAAAAAAAAAAAAAAAAAEAAAAAAAAAAAEAAQEBAQEAAAEAAAEBAQEAAQAAAQEBAQABAAABAAEAAAEBAQAAAQAAAAEBAQABAQAAAQEBAAABAQEBAAEBAAEBAQEBAQEBAAAAAQAAAQEBAAABAAEAAAEAAAEBAAEBAAEBAQEAAQEBAQEBAQEBAAEBAQEAAAEAAQEAAAEBAAABAQEBAAEBAAAAAQABAAEBAQABAQAAAQAAAAABAAAAAQABAAEBAAEAAAAAAQEAAAEBAQABAQEBAQAAAQEAAQEAAAEAAQEBAQABAQEBAQABAAAAAAAAAAAAAAAAAAABAQEBAQEAAQABAQABAQABAAABAQEBAQEBAQEBAQEBAAEBAAEAAQEBAQEBAQEBAQEBAQEAAQEBAAEAAQEBAQAAAAEBAQEAAQABAAEBAQABAQEBAQEBAAAAAQEBAQEBAQEBAQEAAAEAAAABAAABAQEBAQABAQEBAQABAQEAAQEAAAEBAQEBAQABAQEBAQEBAAEBAQEBAAEBAAEBAQEBAQEBAQEBAQABAAABAAEBAQEBAAEBAAEAAQEAAQABAQEBAQEBAQAAAQEBAQEBAAEBAQEBAQEBAQEAAQEBAQEBAQABAAEBAAEBAQEBAAABAAEAAQEBAQEAAQEAAQABAAABAQEAAQEBAQEBAQEBAQEAAQAAAQEBAQEBAQEBAQEBAQEBAQEBAQEBAQEBAQAAAAAAAAE=",
           "dtype": "i1"
          },
          "coloraxis": "coloraxis",
          "symbol": "circle"
         },
         "mode": "markers",
         "name": "",
         "orientation": "h",
         "showlegend": false,
         "type": "scatter",
         "x": {
          "bdata": "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",
          "dtype": "f8"
         },
         "xaxis": "x",
         "y": {
          "bdata": "AAABAAIAAwAEAAUABgAHAAgACQAKAAsADAANAA4ADwAQABEAEgATABQAFQAWABcAGAAZABoAGwAcAB0AHgAfACAAIQAiACMAJAAlACYAJwAoACkAKgArACwALQAuAC8AMAAxADIAMwA0ADUANgA3ADgAOQA6ADsAPAA9AD4APwBAAEEAQgBDAEQARQBGAEcASABJAEoASwBMAE0ATgBPAFAAUQBSAFMAVABVAFYAVwBYAFkAWgBbAFwAXQBeAF8AYABhAGIAYwBkAGUAZgBnAGgAaQBqAGsAbABtAG4AbwBwAHEAcgBzAHQAdQB2AHcAeAB5AHoAewB8AH0AfgB/AIAAgQCCAIMAhACFAIYAhwCIAIkAigCLAIwAjQCOAI8AkACRAJIAkwCUAJUAlgCXAJgAmQCaAJsAnACdAJ4AnwCgAKEAogCjAKQApQCmAKcAqACpAKoAqwCsAK0ArgCvALAAsQCyALMAtAC1ALYAtwC4ALkAugC7ALwAvQC+AL8AwADBAMIAwwDEAMUAxgDHAMgAyQDKAMsAzADNAM4AzwDQANEA0gDTANQA1QDWANcA2ADZANoA2wDcAN0A3gDfAOAA4QDiAOMA5ADlAOYA5wDoAOkA6gDrAOwA7QDuAO8A8ADxAPIA8wD0APUA9gD3APgA+QD6APsA/AD9AP4A/wAAAQEBAgEDAQQBBQEGAQcBCAEJAQoBCwEMAQ0BDgEPARABEQESARMBFAEVARYBFwEYARkBGgEbARwBHQEeAR8BIAEhASIBIwEkASUBJgEnASgBKQEqASsBLAEtAS4BLwEwATEBMgEzATQBNQE2ATcBOAE5AToBOwE8AT0BPgE/AUABQQFCAUMBRAFFAUYBRwFIAUkBSgFLAUwBTQFOAU8BUAFRAVIBUwFUAVUBVgFXAVgBWQFaAVsBXAFdAV4BXwFgAWEBYgFjAWQBZQFmAWcBaAFpAWoBawFsAW0BbgFvAXABcQFyAXMBdAF1AXYBdwF4AXkBegF7AXwBfQF+AX8BgAGBAYIBgwGEAYUBhgGHAYgBiQGKAYsBjAGNAY4BjwGQAZEBkgGTAZQBlQGWAZcBmAGZAZoBmwGcAZ0BngGfAaABoQGiAaMBpAGlAaYBpwGoAakBqgGrAawBrQGuAa8BsAGxAbIBswG0AbUBtgG3AbgBuQG6AbsBvAG9Ab4BvwHAAcEBwgHDAcQBxQHGAccByAHJAcoBywHMAc0BzgHPAdAB0QHSAdMB1AHVAdYB1wHYAdkB2gHbAdwB3QHeAd8B4AHhAeIB4wHkAeUB5gHnAegB6QHqAesB7AHtAe4B7wHwAfEB8gHzAfQB9QH2AfcB+AH5AfoB+wH8Af0B/gH/AQACAQICAgMCBAIFAgYCBwIIAgkCCgILAgwCDQIOAg8CEAIRAhICEwIUAhUCFgIXAhgCGQIaAhsCHAIdAh4CHwIgAiECIgIjAiQCJQImAicCKAIpAioCKwIsAi0CLgIvAjACMQIyAjMCNAI1AjYCNwI4Ag==",
          "dtype": "i2"
         },
         "yaxis": "y"
        }
       ],
       "layout": {
        "coloraxis": {
         "colorbar": {
          "title": {
           "text": "diagnosis"
          }
         },
         "colorscale": [
          [
           0,
           "#f6abb6"
          ],
          [
           1,
           "#A865C9"
          ]
         ]
        },
        "legend": {
         "tracegroupgap": 0
        },
        "template": {
         "data": {
          "bar": [
           {
            "error_x": {
             "color": "#2a3f5f"
            },
            "error_y": {
             "color": "#2a3f5f"
            },
            "marker": {
             "line": {
              "color": "#E5ECF6",
              "width": 0.5
             },
             "pattern": {
              "fillmode": "overlay",
              "size": 10,
              "solidity": 0.2
             }
            },
            "type": "bar"
           }
          ],
          "barpolar": [
           {
            "marker": {
             "line": {
              "color": "#E5ECF6",
              "width": 0.5
             },
             "pattern": {
              "fillmode": "overlay",
              "size": 10,
              "solidity": 0.2
             }
            },
            "type": "barpolar"
           }
          ],
          "carpet": [
           {
            "aaxis": {
             "endlinecolor": "#2a3f5f",
             "gridcolor": "white",
             "linecolor": "white",
             "minorgridcolor": "white",
             "startlinecolor": "#2a3f5f"
            },
            "baxis": {
             "endlinecolor": "#2a3f5f",
             "gridcolor": "white",
             "linecolor": "white",
             "minorgridcolor": "white",
             "startlinecolor": "#2a3f5f"
            },
            "type": "carpet"
           }
          ],
          "choropleth": [
           {
            "colorbar": {
             "outlinewidth": 0,
             "ticks": ""
            },
            "type": "choropleth"
           }
          ],
          "contour": [
           {
            "colorbar": {
             "outlinewidth": 0,
             "ticks": ""
            },
            "colorscale": [
             [
              0,
              "#0d0887"
             ],
             [
              0.1111111111111111,
              "#46039f"
             ],
             [
              0.2222222222222222,
              "#7201a8"
             ],
             [
              0.3333333333333333,
              "#9c179e"
             ],
             [
              0.4444444444444444,
              "#bd3786"
             ],
             [
              0.5555555555555556,
              "#d8576b"
             ],
             [
              0.6666666666666666,
              "#ed7953"
             ],
             [
              0.7777777777777778,
              "#fb9f3a"
             ],
             [
              0.8888888888888888,
              "#fdca26"
             ],
             [
              1,
              "#f0f921"
             ]
            ],
            "type": "contour"
           }
          ],
          "contourcarpet": [
           {
            "colorbar": {
             "outlinewidth": 0,
             "ticks": ""
            },
            "type": "contourcarpet"
           }
          ],
          "heatmap": [
           {
            "colorbar": {
             "outlinewidth": 0,
             "ticks": ""
            },
            "colorscale": [
             [
              0,
              "#0d0887"
             ],
             [
              0.1111111111111111,
              "#46039f"
             ],
             [
              0.2222222222222222,
              "#7201a8"
             ],
             [
              0.3333333333333333,
              "#9c179e"
             ],
             [
              0.4444444444444444,
              "#bd3786"
             ],
             [
              0.5555555555555556,
              "#d8576b"
             ],
             [
              0.6666666666666666,
              "#ed7953"
             ],
             [
              0.7777777777777778,
              "#fb9f3a"
             ],
             [
              0.8888888888888888,
              "#fdca26"
             ],
             [
              1,
              "#f0f921"
             ]
            ],
            "type": "heatmap"
           }
          ],
          "histogram": [
           {
            "marker": {
             "pattern": {
              "fillmode": "overlay",
              "size": 10,
              "solidity": 0.2
             }
            },
            "type": "histogram"
           }
          ],
          "histogram2d": [
           {
            "colorbar": {
             "outlinewidth": 0,
             "ticks": ""
            },
            "colorscale": [
             [
              0,
              "#0d0887"
             ],
             [
              0.1111111111111111,
              "#46039f"
             ],
             [
              0.2222222222222222,
              "#7201a8"
             ],
             [
              0.3333333333333333,
              "#9c179e"
             ],
             [
              0.4444444444444444,
              "#bd3786"
             ],
             [
              0.5555555555555556,
              "#d8576b"
             ],
             [
              0.6666666666666666,
              "#ed7953"
             ],
             [
              0.7777777777777778,
              "#fb9f3a"
             ],
             [
              0.8888888888888888,
              "#fdca26"
             ],
             [
              1,
              "#f0f921"
             ]
            ],
            "type": "histogram2d"
           }
          ],
          "histogram2dcontour": [
           {
            "colorbar": {
             "outlinewidth": 0,
             "ticks": ""
            },
            "colorscale": [
             [
              0,
              "#0d0887"
             ],
             [
              0.1111111111111111,
              "#46039f"
             ],
             [
              0.2222222222222222,
              "#7201a8"
             ],
             [
              0.3333333333333333,
              "#9c179e"
             ],
             [
              0.4444444444444444,
              "#bd3786"
             ],
             [
              0.5555555555555556,
              "#d8576b"
             ],
             [
              0.6666666666666666,
              "#ed7953"
             ],
             [
              0.7777777777777778,
              "#fb9f3a"
             ],
             [
              0.8888888888888888,
              "#fdca26"
             ],
             [
              1,
              "#f0f921"
             ]
            ],
            "type": "histogram2dcontour"
           }
          ],
          "mesh3d": [
           {
            "colorbar": {
             "outlinewidth": 0,
             "ticks": ""
            },
            "type": "mesh3d"
           }
          ],
          "parcoords": [
           {
            "line": {
             "colorbar": {
              "outlinewidth": 0,
              "ticks": ""
             }
            },
            "type": "parcoords"
           }
          ],
          "pie": [
           {
            "automargin": true,
            "type": "pie"
           }
          ],
          "scatter": [
           {
            "fillpattern": {
             "fillmode": "overlay",
             "size": 10,
             "solidity": 0.2
            },
            "type": "scatter"
           }
          ],
          "scatter3d": [
           {
            "line": {
             "colorbar": {
              "outlinewidth": 0,
              "ticks": ""
             }
            },
            "marker": {
             "colorbar": {
              "outlinewidth": 0,
              "ticks": ""
             }
            },
            "type": "scatter3d"
           }
          ],
          "scattercarpet": [
           {
            "marker": {
             "colorbar": {
              "outlinewidth": 0,
              "ticks": ""
             }
            },
            "type": "scattercarpet"
           }
          ],
          "scattergeo": [
           {
            "marker": {
             "colorbar": {
              "outlinewidth": 0,
              "ticks": ""
             }
            },
            "type": "scattergeo"
           }
          ],
          "scattergl": [
           {
            "marker": {
             "colorbar": {
              "outlinewidth": 0,
              "ticks": ""
             }
            },
            "type": "scattergl"
           }
          ],
          "scattermap": [
           {
            "marker": {
             "colorbar": {
              "outlinewidth": 0,
              "ticks": ""
             }
            },
            "type": "scattermap"
           }
          ],
          "scattermapbox": [
           {
            "marker": {
             "colorbar": {
              "outlinewidth": 0,
              "ticks": ""
             }
            },
            "type": "scattermapbox"
           }
          ],
          "scatterpolar": [
           {
            "marker": {
             "colorbar": {
              "outlinewidth": 0,
              "ticks": ""
             }
            },
            "type": "scatterpolar"
           }
          ],
          "scatterpolargl": [
           {
            "marker": {
             "colorbar": {
              "outlinewidth": 0,
              "ticks": ""
             }
            },
            "type": "scatterpolargl"
           }
          ],
          "scatterternary": [
           {
            "marker": {
             "colorbar": {
              "outlinewidth": 0,
              "ticks": ""
             }
            },
            "type": "scatterternary"
           }
          ],
          "surface": [
           {
            "colorbar": {
             "outlinewidth": 0,
             "ticks": ""
            },
            "colorscale": [
             [
              0,
              "#0d0887"
             ],
             [
              0.1111111111111111,
              "#46039f"
             ],
             [
              0.2222222222222222,
              "#7201a8"
             ],
             [
              0.3333333333333333,
              "#9c179e"
             ],
             [
              0.4444444444444444,
              "#bd3786"
             ],
             [
              0.5555555555555556,
              "#d8576b"
             ],
             [
              0.6666666666666666,
              "#ed7953"
             ],
             [
              0.7777777777777778,
              "#fb9f3a"
             ],
             [
              0.8888888888888888,
              "#fdca26"
             ],
             [
              1,
              "#f0f921"
             ]
            ],
            "type": "surface"
           }
          ],
          "table": [
           {
            "cells": {
             "fill": {
              "color": "#EBF0F8"
             },
             "line": {
              "color": "white"
             }
            },
            "header": {
             "fill": {
              "color": "#C8D4E3"
             },
             "line": {
              "color": "white"
             }
            },
            "type": "table"
           }
          ]
         },
         "layout": {
          "annotationdefaults": {
           "arrowcolor": "#2a3f5f",
           "arrowhead": 0,
           "arrowwidth": 1
          },
          "autotypenumbers": "strict",
          "coloraxis": {
           "colorbar": {
            "outlinewidth": 0,
            "ticks": ""
           }
          },
          "colorscale": {
           "diverging": [
            [
             0,
             "#8e0152"
            ],
            [
             0.1,
             "#c51b7d"
            ],
            [
             0.2,
             "#de77ae"
            ],
            [
             0.3,
             "#f1b6da"
            ],
            [
             0.4,
             "#fde0ef"
            ],
            [
             0.5,
             "#f7f7f7"
            ],
            [
             0.6,
             "#e6f5d0"
            ],
            [
             0.7,
             "#b8e186"
            ],
            [
             0.8,
             "#7fbc41"
            ],
            [
             0.9,
             "#4d9221"
            ],
            [
             1,
             "#276419"
            ]
           ],
           "sequential": [
            [
             0,
             "#0d0887"
            ],
            [
             0.1111111111111111,
             "#46039f"
            ],
            [
             0.2222222222222222,
             "#7201a8"
            ],
            [
             0.3333333333333333,
             "#9c179e"
            ],
            [
             0.4444444444444444,
             "#bd3786"
            ],
            [
             0.5555555555555556,
             "#d8576b"
            ],
            [
             0.6666666666666666,
             "#ed7953"
            ],
            [
             0.7777777777777778,
             "#fb9f3a"
            ],
            [
             0.8888888888888888,
             "#fdca26"
            ],
            [
             1,
             "#f0f921"
            ]
           ],
           "sequentialminus": [
            [
             0,
             "#0d0887"
            ],
            [
             0.1111111111111111,
             "#46039f"
            ],
            [
             0.2222222222222222,
             "#7201a8"
            ],
            [
             0.3333333333333333,
             "#9c179e"
            ],
            [
             0.4444444444444444,
             "#bd3786"
            ],
            [
             0.5555555555555556,
             "#d8576b"
            ],
            [
             0.6666666666666666,
             "#ed7953"
            ],
            [
             0.7777777777777778,
             "#fb9f3a"
            ],
            [
             0.8888888888888888,
             "#fdca26"
            ],
            [
             1,
             "#f0f921"
            ]
           ]
          },
          "colorway": [
           "#636efa",
           "#EF553B",
           "#00cc96",
           "#ab63fa",
           "#FFA15A",
           "#19d3f3",
           "#FF6692",
           "#B6E880",
           "#FF97FF",
           "#FECB52"
          ],
          "font": {
           "color": "#2a3f5f"
          },
          "geo": {
           "bgcolor": "white",
           "lakecolor": "white",
           "landcolor": "#E5ECF6",
           "showlakes": true,
           "showland": true,
           "subunitcolor": "white"
          },
          "hoverlabel": {
           "align": "left"
          },
          "hovermode": "closest",
          "mapbox": {
           "style": "light"
          },
          "paper_bgcolor": "white",
          "plot_bgcolor": "#E5ECF6",
          "polar": {
           "angularaxis": {
            "gridcolor": "white",
            "linecolor": "white",
            "ticks": ""
           },
           "bgcolor": "#E5ECF6",
           "radialaxis": {
            "gridcolor": "white",
            "linecolor": "white",
            "ticks": ""
           }
          },
          "scene": {
           "xaxis": {
            "backgroundcolor": "#E5ECF6",
            "gridcolor": "white",
            "gridwidth": 2,
            "linecolor": "white",
            "showbackground": true,
            "ticks": "",
            "zerolinecolor": "white"
           },
           "yaxis": {
            "backgroundcolor": "#E5ECF6",
            "gridcolor": "white",
            "gridwidth": 2,
            "linecolor": "white",
            "showbackground": true,
            "ticks": "",
            "zerolinecolor": "white"
           },
           "zaxis": {
            "backgroundcolor": "#E5ECF6",
            "gridcolor": "white",
            "gridwidth": 2,
            "linecolor": "white",
            "showbackground": true,
            "ticks": "",
            "zerolinecolor": "white"
           }
          },
          "shapedefaults": {
           "line": {
            "color": "#2a3f5f"
           }
          },
          "ternary": {
           "aaxis": {
            "gridcolor": "white",
            "linecolor": "white",
            "ticks": ""
           },
           "baxis": {
            "gridcolor": "white",
            "linecolor": "white",
            "ticks": ""
           },
           "bgcolor": "#E5ECF6",
           "caxis": {
            "gridcolor": "white",
            "linecolor": "white",
            "ticks": ""
           }
          },
          "title": {
           "x": 0.05
          },
          "xaxis": {
           "automargin": true,
           "gridcolor": "white",
           "linecolor": "white",
           "ticks": "",
           "title": {
            "standoff": 15
           },
           "zerolinecolor": "white",
           "zerolinewidth": 2
          },
          "yaxis": {
           "automargin": true,
           "gridcolor": "white",
           "linecolor": "white",
           "ticks": "",
           "title": {
            "standoff": 15
           },
           "zerolinecolor": "white",
           "zerolinewidth": 2
          }
         }
        },
        "title": {
         "subtitle": {
          "text": "Maligno (0) e Benigno (1)"
         },
         "text": "Relação entre Mean Perimeter e Diagnóstico"
        },
        "xaxis": {
         "anchor": "y",
         "domain": [
          0,
          1
         ],
         "title": {
          "text": "mean_perimeter"
         }
        },
        "yaxis": {
         "anchor": "x",
         "domain": [
          0,
          1
         ],
         "title": {
          "text": "index"
         }
        }
       }
      }
     },
     "metadata": {},
     "output_type": "display_data"
    },
    {
     "data": {
      "application/vnd.plotly.v1+json": {
       "config": {
        "plotlyServerURL": "https://plot.ly"
       },
       "data": [
        {
         "hovertemplate": "mean_area=%{x}<br>index=%{y}<br>diagnosis=%{marker.color}<extra></extra>",
         "legendgroup": "",
         "marker": {
          "color": {
           "bdata": "AAAAAAAAAAAAAAAAAAAAAAAAAAEBAQAAAAAAAAAAAAAAAAAAAAEAAAAAAAAAAAEAAQEBAQEAAAEAAAEBAQEAAQAAAQEBAQABAAABAAEAAAEBAQAAAQAAAAEBAQABAQAAAQEBAAABAQEBAAEBAAEBAQEBAQEBAAAAAQAAAQEBAAABAAEAAAEAAAEBAAEBAAEBAQEAAQEBAQEBAQEBAAEBAQEAAAEAAQEAAAEBAAABAQEBAAEBAAAAAQABAAEBAQABAQAAAQAAAAABAAAAAQABAAEBAAEAAAAAAQEAAAEBAQABAQEBAQAAAQEAAQEAAAEAAQEBAQABAQEBAQABAAAAAAAAAAAAAAAAAAABAQEBAQEAAQABAQABAQABAAABAQEBAQEBAQEBAQEBAAEBAAEAAQEBAQEBAQEBAQEBAQEAAQEBAAEAAQEBAQAAAAEBAQEAAQABAAEBAQABAQEBAQEBAAAAAQEBAQEBAQEBAQEAAAEAAAABAAABAQEBAQABAQEBAQABAQEAAQEAAAEBAQEBAQABAQEBAQEBAAEBAQEBAAEBAAEBAQEBAQEBAQEBAQABAAABAAEBAQEBAAEBAAEAAQEAAQABAQEBAQEBAQAAAQEBAQEBAAEBAQEBAQEBAQEAAQEBAQEBAQABAAEBAAEBAQEBAAABAAEAAQEBAQEAAQEAAQABAAABAQEAAQEBAQEBAQEBAQEAAQAAAQEBAQEBAQEBAQEBAQEBAQEBAQEBAQEBAQAAAAAAAAE=",
           "dtype": "i1"
          },
          "coloraxis": "coloraxis",
          "symbol": "circle"
         },
         "mode": "markers",
         "name": "",
         "orientation": "h",
         "showlegend": false,
         "type": "scatter",
         "x": {
          "bdata": "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",
          "dtype": "f8"
         },
         "xaxis": "x",
         "y": {
          "bdata": "AAABAAIAAwAEAAUABgAHAAgACQAKAAsADAANAA4ADwAQABEAEgATABQAFQAWABcAGAAZABoAGwAcAB0AHgAfACAAIQAiACMAJAAlACYAJwAoACkAKgArACwALQAuAC8AMAAxADIAMwA0ADUANgA3ADgAOQA6ADsAPAA9AD4APwBAAEEAQgBDAEQARQBGAEcASABJAEoASwBMAE0ATgBPAFAAUQBSAFMAVABVAFYAVwBYAFkAWgBbAFwAXQBeAF8AYABhAGIAYwBkAGUAZgBnAGgAaQBqAGsAbABtAG4AbwBwAHEAcgBzAHQAdQB2AHcAeAB5AHoAewB8AH0AfgB/AIAAgQCCAIMAhACFAIYAhwCIAIkAigCLAIwAjQCOAI8AkACRAJIAkwCUAJUAlgCXAJgAmQCaAJsAnACdAJ4AnwCgAKEAogCjAKQApQCmAKcAqACpAKoAqwCsAK0ArgCvALAAsQCyALMAtAC1ALYAtwC4ALkAugC7ALwAvQC+AL8AwADBAMIAwwDEAMUAxgDHAMgAyQDKAMsAzADNAM4AzwDQANEA0gDTANQA1QDWANcA2ADZANoA2wDcAN0A3gDfAOAA4QDiAOMA5ADlAOYA5wDoAOkA6gDrAOwA7QDuAO8A8ADxAPIA8wD0APUA9gD3APgA+QD6APsA/AD9AP4A/wAAAQEBAgEDAQQBBQEGAQcBCAEJAQoBCwEMAQ0BDgEPARABEQESARMBFAEVARYBFwEYARkBGgEbARwBHQEeAR8BIAEhASIBIwEkASUBJgEnASgBKQEqASsBLAEtAS4BLwEwATEBMgEzATQBNQE2ATcBOAE5AToBOwE8AT0BPgE/AUABQQFCAUMBRAFFAUYBRwFIAUkBSgFLAUwBTQFOAU8BUAFRAVIBUwFUAVUBVgFXAVgBWQFaAVsBXAFdAV4BXwFgAWEBYgFjAWQBZQFmAWcBaAFpAWoBawFsAW0BbgFvAXABcQFyAXMBdAF1AXYBdwF4AXkBegF7AXwBfQF+AX8BgAGBAYIBgwGEAYUBhgGHAYgBiQGKAYsBjAGNAY4BjwGQAZEBkgGTAZQBlQGWAZcBmAGZAZoBmwGcAZ0BngGfAaABoQGiAaMBpAGlAaYBpwGoAakBqgGrAawBrQGuAa8BsAGxAbIBswG0AbUBtgG3AbgBuQG6AbsBvAG9Ab4BvwHAAcEBwgHDAcQBxQHGAccByAHJAcoBywHMAc0BzgHPAdAB0QHSAdMB1AHVAdYB1wHYAdkB2gHbAdwB3QHeAd8B4AHhAeIB4wHkAeUB5gHnAegB6QHqAesB7AHtAe4B7wHwAfEB8gHzAfQB9QH2AfcB+AH5AfoB+wH8Af0B/gH/AQACAQICAgMCBAIFAgYCBwIIAgkCCgILAgwCDQIOAg8CEAIRAhICEwIUAhUCFgIXAhgCGQIaAhsCHAIdAh4CHwIgAiECIgIjAiQCJQImAicCKAIpAioCKwIsAi0CLgIvAjACMQIyAjMCNAI1AjYCNwI4Ag==",
          "dtype": "i2"
         },
         "yaxis": "y"
        }
       ],
       "layout": {
        "coloraxis": {
         "colorbar": {
          "title": {
           "text": "diagnosis"
          }
         },
         "colorscale": [
          [
           0,
           "#f6abb6"
          ],
          [
           1,
           "#A865C9"
          ]
         ]
        },
        "legend": {
         "tracegroupgap": 0
        },
        "template": {
         "data": {
          "bar": [
           {
            "error_x": {
             "color": "#2a3f5f"
            },
            "error_y": {
             "color": "#2a3f5f"
            },
            "marker": {
             "line": {
              "color": "#E5ECF6",
              "width": 0.5
             },
             "pattern": {
              "fillmode": "overlay",
              "size": 10,
              "solidity": 0.2
             }
            },
            "type": "bar"
           }
          ],
          "barpolar": [
           {
            "marker": {
             "line": {
              "color": "#E5ECF6",
              "width": 0.5
             },
             "pattern": {
              "fillmode": "overlay",
              "size": 10,
              "solidity": 0.2
             }
            },
            "type": "barpolar"
           }
          ],
          "carpet": [
           {
            "aaxis": {
             "endlinecolor": "#2a3f5f",
             "gridcolor": "white",
             "linecolor": "white",
             "minorgridcolor": "white",
             "startlinecolor": "#2a3f5f"
            },
            "baxis": {
             "endlinecolor": "#2a3f5f",
             "gridcolor": "white",
             "linecolor": "white",
             "minorgridcolor": "white",
             "startlinecolor": "#2a3f5f"
            },
            "type": "carpet"
           }
          ],
          "choropleth": [
           {
            "colorbar": {
             "outlinewidth": 0,
             "ticks": ""
            },
            "type": "choropleth"
           }
          ],
          "contour": [
           {
            "colorbar": {
             "outlinewidth": 0,
             "ticks": ""
            },
            "colorscale": [
             [
              0,
              "#0d0887"
             ],
             [
              0.1111111111111111,
              "#46039f"
             ],
             [
              0.2222222222222222,
              "#7201a8"
             ],
             [
              0.3333333333333333,
              "#9c179e"
             ],
             [
              0.4444444444444444,
              "#bd3786"
             ],
             [
              0.5555555555555556,
              "#d8576b"
             ],
             [
              0.6666666666666666,
              "#ed7953"
             ],
             [
              0.7777777777777778,
              "#fb9f3a"
             ],
             [
              0.8888888888888888,
              "#fdca26"
             ],
             [
              1,
              "#f0f921"
             ]
            ],
            "type": "contour"
           }
          ],
          "contourcarpet": [
           {
            "colorbar": {
             "outlinewidth": 0,
             "ticks": ""
            },
            "type": "contourcarpet"
           }
          ],
          "heatmap": [
           {
            "colorbar": {
             "outlinewidth": 0,
             "ticks": ""
            },
            "colorscale": [
             [
              0,
              "#0d0887"
             ],
             [
              0.1111111111111111,
              "#46039f"
             ],
             [
              0.2222222222222222,
              "#7201a8"
             ],
             [
              0.3333333333333333,
              "#9c179e"
             ],
             [
              0.4444444444444444,
              "#bd3786"
             ],
             [
              0.5555555555555556,
              "#d8576b"
             ],
             [
              0.6666666666666666,
              "#ed7953"
             ],
             [
              0.7777777777777778,
              "#fb9f3a"
             ],
             [
              0.8888888888888888,
              "#fdca26"
             ],
             [
              1,
              "#f0f921"
             ]
            ],
            "type": "heatmap"
           }
          ],
          "histogram": [
           {
            "marker": {
             "pattern": {
              "fillmode": "overlay",
              "size": 10,
              "solidity": 0.2
             }
            },
            "type": "histogram"
           }
          ],
          "histogram2d": [
           {
            "colorbar": {
             "outlinewidth": 0,
             "ticks": ""
            },
            "colorscale": [
             [
              0,
              "#0d0887"
             ],
             [
              0.1111111111111111,
              "#46039f"
             ],
             [
              0.2222222222222222,
              "#7201a8"
             ],
             [
              0.3333333333333333,
              "#9c179e"
             ],
             [
              0.4444444444444444,
              "#bd3786"
             ],
             [
              0.5555555555555556,
              "#d8576b"
             ],
             [
              0.6666666666666666,
              "#ed7953"
             ],
             [
              0.7777777777777778,
              "#fb9f3a"
             ],
             [
              0.8888888888888888,
              "#fdca26"
             ],
             [
              1,
              "#f0f921"
             ]
            ],
            "type": "histogram2d"
           }
          ],
          "histogram2dcontour": [
           {
            "colorbar": {
             "outlinewidth": 0,
             "ticks": ""
            },
            "colorscale": [
             [
              0,
              "#0d0887"
             ],
             [
              0.1111111111111111,
              "#46039f"
             ],
             [
              0.2222222222222222,
              "#7201a8"
             ],
             [
              0.3333333333333333,
              "#9c179e"
             ],
             [
              0.4444444444444444,
              "#bd3786"
             ],
             [
              0.5555555555555556,
              "#d8576b"
             ],
             [
              0.6666666666666666,
              "#ed7953"
             ],
             [
              0.7777777777777778,
              "#fb9f3a"
             ],
             [
              0.8888888888888888,
              "#fdca26"
             ],
             [
              1,
              "#f0f921"
             ]
            ],
            "type": "histogram2dcontour"
           }
          ],
          "mesh3d": [
           {
            "colorbar": {
             "outlinewidth": 0,
             "ticks": ""
            },
            "type": "mesh3d"
           }
          ],
          "parcoords": [
           {
            "line": {
             "colorbar": {
              "outlinewidth": 0,
              "ticks": ""
             }
            },
            "type": "parcoords"
           }
          ],
          "pie": [
           {
            "automargin": true,
            "type": "pie"
           }
          ],
          "scatter": [
           {
            "fillpattern": {
             "fillmode": "overlay",
             "size": 10,
             "solidity": 0.2
            },
            "type": "scatter"
           }
          ],
          "scatter3d": [
           {
            "line": {
             "colorbar": {
              "outlinewidth": 0,
              "ticks": ""
             }
            },
            "marker": {
             "colorbar": {
              "outlinewidth": 0,
              "ticks": ""
             }
            },
            "type": "scatter3d"
           }
          ],
          "scattercarpet": [
           {
            "marker": {
             "colorbar": {
              "outlinewidth": 0,
              "ticks": ""
             }
            },
            "type": "scattercarpet"
           }
          ],
          "scattergeo": [
           {
            "marker": {
             "colorbar": {
              "outlinewidth": 0,
              "ticks": ""
             }
            },
            "type": "scattergeo"
           }
          ],
          "scattergl": [
           {
            "marker": {
             "colorbar": {
              "outlinewidth": 0,
              "ticks": ""
             }
            },
            "type": "scattergl"
           }
          ],
          "scattermap": [
           {
            "marker": {
             "colorbar": {
              "outlinewidth": 0,
              "ticks": ""
             }
            },
            "type": "scattermap"
           }
          ],
          "scattermapbox": [
           {
            "marker": {
             "colorbar": {
              "outlinewidth": 0,
              "ticks": ""
             }
            },
            "type": "scattermapbox"
           }
          ],
          "scatterpolar": [
           {
            "marker": {
             "colorbar": {
              "outlinewidth": 0,
              "ticks": ""
             }
            },
            "type": "scatterpolar"
           }
          ],
          "scatterpolargl": [
           {
            "marker": {
             "colorbar": {
              "outlinewidth": 0,
              "ticks": ""
             }
            },
            "type": "scatterpolargl"
           }
          ],
          "scatterternary": [
           {
            "marker": {
             "colorbar": {
              "outlinewidth": 0,
              "ticks": ""
             }
            },
            "type": "scatterternary"
           }
          ],
          "surface": [
           {
            "colorbar": {
             "outlinewidth": 0,
             "ticks": ""
            },
            "colorscale": [
             [
              0,
              "#0d0887"
             ],
             [
              0.1111111111111111,
              "#46039f"
             ],
             [
              0.2222222222222222,
              "#7201a8"
             ],
             [
              0.3333333333333333,
              "#9c179e"
             ],
             [
              0.4444444444444444,
              "#bd3786"
             ],
             [
              0.5555555555555556,
              "#d8576b"
             ],
             [
              0.6666666666666666,
              "#ed7953"
             ],
             [
              0.7777777777777778,
              "#fb9f3a"
             ],
             [
              0.8888888888888888,
              "#fdca26"
             ],
             [
              1,
              "#f0f921"
             ]
            ],
            "type": "surface"
           }
          ],
          "table": [
           {
            "cells": {
             "fill": {
              "color": "#EBF0F8"
             },
             "line": {
              "color": "white"
             }
            },
            "header": {
             "fill": {
              "color": "#C8D4E3"
             },
             "line": {
              "color": "white"
             }
            },
            "type": "table"
           }
          ]
         },
         "layout": {
          "annotationdefaults": {
           "arrowcolor": "#2a3f5f",
           "arrowhead": 0,
           "arrowwidth": 1
          },
          "autotypenumbers": "strict",
          "coloraxis": {
           "colorbar": {
            "outlinewidth": 0,
            "ticks": ""
           }
          },
          "colorscale": {
           "diverging": [
            [
             0,
             "#8e0152"
            ],
            [
             0.1,
             "#c51b7d"
            ],
            [
             0.2,
             "#de77ae"
            ],
            [
             0.3,
             "#f1b6da"
            ],
            [
             0.4,
             "#fde0ef"
            ],
            [
             0.5,
             "#f7f7f7"
            ],
            [
             0.6,
             "#e6f5d0"
            ],
            [
             0.7,
             "#b8e186"
            ],
            [
             0.8,
             "#7fbc41"
            ],
            [
             0.9,
             "#4d9221"
            ],
            [
             1,
             "#276419"
            ]
           ],
           "sequential": [
            [
             0,
             "#0d0887"
            ],
            [
             0.1111111111111111,
             "#46039f"
            ],
            [
             0.2222222222222222,
             "#7201a8"
            ],
            [
             0.3333333333333333,
             "#9c179e"
            ],
            [
             0.4444444444444444,
             "#bd3786"
            ],
            [
             0.5555555555555556,
             "#d8576b"
            ],
            [
             0.6666666666666666,
             "#ed7953"
            ],
            [
             0.7777777777777778,
             "#fb9f3a"
            ],
            [
             0.8888888888888888,
             "#fdca26"
            ],
            [
             1,
             "#f0f921"
            ]
           ],
           "sequentialminus": [
            [
             0,
             "#0d0887"
            ],
            [
             0.1111111111111111,
             "#46039f"
            ],
            [
             0.2222222222222222,
             "#7201a8"
            ],
            [
             0.3333333333333333,
             "#9c179e"
            ],
            [
             0.4444444444444444,
             "#bd3786"
            ],
            [
             0.5555555555555556,
             "#d8576b"
            ],
            [
             0.6666666666666666,
             "#ed7953"
            ],
            [
             0.7777777777777778,
             "#fb9f3a"
            ],
            [
             0.8888888888888888,
             "#fdca26"
            ],
            [
             1,
             "#f0f921"
            ]
           ]
          },
          "colorway": [
           "#636efa",
           "#EF553B",
           "#00cc96",
           "#ab63fa",
           "#FFA15A",
           "#19d3f3",
           "#FF6692",
           "#B6E880",
           "#FF97FF",
           "#FECB52"
          ],
          "font": {
           "color": "#2a3f5f"
          },
          "geo": {
           "bgcolor": "white",
           "lakecolor": "white",
           "landcolor": "#E5ECF6",
           "showlakes": true,
           "showland": true,
           "subunitcolor": "white"
          },
          "hoverlabel": {
           "align": "left"
          },
          "hovermode": "closest",
          "mapbox": {
           "style": "light"
          },
          "paper_bgcolor": "white",
          "plot_bgcolor": "#E5ECF6",
          "polar": {
           "angularaxis": {
            "gridcolor": "white",
            "linecolor": "white",
            "ticks": ""
           },
           "bgcolor": "#E5ECF6",
           "radialaxis": {
            "gridcolor": "white",
            "linecolor": "white",
            "ticks": ""
           }
          },
          "scene": {
           "xaxis": {
            "backgroundcolor": "#E5ECF6",
            "gridcolor": "white",
            "gridwidth": 2,
            "linecolor": "white",
            "showbackground": true,
            "ticks": "",
            "zerolinecolor": "white"
           },
           "yaxis": {
            "backgroundcolor": "#E5ECF6",
            "gridcolor": "white",
            "gridwidth": 2,
            "linecolor": "white",
            "showbackground": true,
            "ticks": "",
            "zerolinecolor": "white"
           },
           "zaxis": {
            "backgroundcolor": "#E5ECF6",
            "gridcolor": "white",
            "gridwidth": 2,
            "linecolor": "white",
            "showbackground": true,
            "ticks": "",
            "zerolinecolor": "white"
           }
          },
          "shapedefaults": {
           "line": {
            "color": "#2a3f5f"
           }
          },
          "ternary": {
           "aaxis": {
            "gridcolor": "white",
            "linecolor": "white",
            "ticks": ""
           },
           "baxis": {
            "gridcolor": "white",
            "linecolor": "white",
            "ticks": ""
           },
           "bgcolor": "#E5ECF6",
           "caxis": {
            "gridcolor": "white",
            "linecolor": "white",
            "ticks": ""
           }
          },
          "title": {
           "x": 0.05
          },
          "xaxis": {
           "automargin": true,
           "gridcolor": "white",
           "linecolor": "white",
           "ticks": "",
           "title": {
            "standoff": 15
           },
           "zerolinecolor": "white",
           "zerolinewidth": 2
          },
          "yaxis": {
           "automargin": true,
           "gridcolor": "white",
           "linecolor": "white",
           "ticks": "",
           "title": {
            "standoff": 15
           },
           "zerolinecolor": "white",
           "zerolinewidth": 2
          }
         }
        },
        "title": {
         "subtitle": {
          "text": "Maligno (0) e Benigno (1)"
         },
         "text": "Relação entre Mean Area e Diagnóstico"
        },
        "xaxis": {
         "anchor": "y",
         "domain": [
          0,
          1
         ],
         "title": {
          "text": "mean_area"
         }
        },
        "yaxis": {
         "anchor": "x",
         "domain": [
          0,
          1
         ],
         "title": {
          "text": "index"
         }
        }
       }
      }
     },
     "metadata": {},
     "output_type": "display_data"
    },
    {
     "data": {
      "application/vnd.plotly.v1+json": {
       "config": {
        "plotlyServerURL": "https://plot.ly"
       },
       "data": [
        {
         "hovertemplate": "mean_smoothness=%{x}<br>index=%{y}<br>diagnosis=%{marker.color}<extra></extra>",
         "legendgroup": "",
         "marker": {
          "color": {
           "bdata": "AAAAAAAAAAAAAAAAAAAAAAAAAAEBAQAAAAAAAAAAAAAAAAAAAAEAAAAAAAAAAAEAAQEBAQEAAAEAAAEBAQEAAQAAAQEBAQABAAABAAEAAAEBAQAAAQAAAAEBAQABAQAAAQEBAAABAQEBAAEBAAEBAQEBAQEBAAAAAQAAAQEBAAABAAEAAAEAAAEBAAEBAAEBAQEAAQEBAQEBAQEBAAEBAQEAAAEAAQEAAAEBAAABAQEBAAEBAAAAAQABAAEBAQABAQAAAQAAAAABAAAAAQABAAEBAAEAAAAAAQEAAAEBAQABAQEBAQAAAQEAAQEAAAEAAQEBAQABAQEBAQABAAAAAAAAAAAAAAAAAAABAQEBAQEAAQABAQABAQABAAABAQEBAQEBAQEBAQEBAAEBAAEAAQEBAQEBAQEBAQEBAQEAAQEBAAEAAQEBAQAAAAEBAQEAAQABAAEBAQABAQEBAQEBAAAAAQEBAQEBAQEBAQEAAAEAAAABAAABAQEBAQABAQEBAQABAQEAAQEAAAEBAQEBAQABAQEBAQEBAAEBAQEBAAEBAAEBAQEBAQEBAQEBAQABAAABAAEBAQEBAAEBAAEAAQEAAQABAQEBAQEBAQAAAQEBAQEBAAEBAQEBAQEBAQEAAQEBAQEBAQABAAEBAAEBAQEBAAABAAEAAQEBAQEAAQEAAQABAAABAQEAAQEBAQEBAQEBAQEAAQAAAQEBAQEBAQEBAQEBAQEBAQEBAQEBAQEBAQAAAAAAAAE=",
           "dtype": "i1"
          },
          "coloraxis": "coloraxis",
          "symbol": "circle"
         },
         "mode": "markers",
         "name": "",
         "orientation": "h",
         "showlegend": false,
         "type": "scatter",
         "x": {
          "bdata": "rK3YX3ZPvj/9vKlIhbG1P+Y/pN++Drw/PQrXo3A9wj/M7snDQq25P+viNhrAW8A/YXE486s5uD8AkX77OnC+P0HxY8xdS8A/zTtO0ZFcvj9uTE9Y4gG1P7MMcayL27g/5WGh1jTvuD82donqrYG1PzJ3LSEf9Lw/uK8D54wovT9tqBjnb0K5P8HKoUW2870/l6jeGtgquT8NN+Dzwwi5P4XrUbgehbs/LUMc6+I2uj9kXdxGA3i7P6a4quy7Irg/irDh6ZWyvD/NO07RkVy+PySX/5B++7o/7Q2+MJkquD/7XG3F/rK7P0wao3VUNbk/zF1LyAc9uz/AWyBB8WO8P4bJVMGopL4/xTh/EwoRuD85tMh2vp+6PwtGJXUCmrg/vW987ZkluT86HjNQGf+2P0dVE0TdB7g/pgpGJXUCuj++E7NeDOW0P34dOGdEab8/rFYm/FI/tz9Ke4MvTKa6PyApIsMq3rg/GJXUCWgivD9qvHSTGAS2P/d14JwRpb0/orQ3+MJkuj+d9L7xtWe2P1wDWyVYHLY/6pWyDHGssz9Lk1LQ7SW1P0+vlGWIY70/AmVTrvAutz/hYkUNpmG4PxTQRNjw9Lo/liGOdXEbvT/gvg6cM6K0Pyy3tBoS97g/ZMxdS8gHvT+KjuTyH9K/P9CzWfW52ro/wJXs2AjEsz+ad5yiI7m8P+JYF7fRAL4/fdCzWfW5uj9LsDic+dW0P+7rwDkjSrs/l6jeGtgquT8AV7JjIxC3P3pTkQpjC7k/Qs9m1edquz8PC7Wmece5P16dY0D2erc/8YCyKVd4tz/Y8PRKWYbAP90kBoGVQ7s/Lv8h/fZ1wD+RRC+jWG65P0vqBDQRNrw/uECC4seYuz+8lpAPeja7P7TIdr6fGr8/FakwthDkuD8sms5OBke5P1oqb0c4Lbg/IeUn1T4dtz+/gjRj0XS2P0I+6Nms+rw/RZ4kXTP5tj9aZDvfT423P8Dsnjws1LI/C7Wmeccpuj8p7Q2+MJm6P1qBIatbPbc/jZduEoPAuj8tQxzr4ja6PzoeM1AZ/7Y/LLe0GhL3uD8LYwtBDkq4P8HKoUW2870/3rBtUWaDtD/ufD81Xrq5P26LMhtkkrk/24r9ZffkwT/qBDQRNjy9P0+Srpl8s7U/foy5awn5wD9c5nRZTGy2PwdfmEwVjLo/dv2C3bBtuT8czvxqDhC0P5p3nKIjubw/cT0K16NwvT/hKHl1jgG5P0UqjC0EObg/OpLLf0i/vT/FILByaJG9P1G9NbBVgrU/yXGndLD+tz8kl/+Qfvu6P/aX3ZOHhcI/OiNKe4MvvD8tQxzr4jayPyEf9GxWfbY/iIBDqFKztz+bWrbWFwm1P3E9CtejcL0/lkOLbOf7uT/u68A5I0q7P6MjufyH9Ls/INJvXwfOuT9FKowtBDm4P9xGA3gLJLg/5x2n6Egutz/yQc9m1ee6PyJUqdkDrbg/jnVxGw3gvT9cIEHxY8y9P65H4XoUrrc/3xrYKsHiuD+jI7n8h/S7P58fRgiPNrY/bJVgcTjzsz+Sy39Iv329P5Jc/kP67bs/L2mM1lHVtD9nRGlv8IW5P4OG/gkuVrQ/dZMYBFYOvT8yVTAqqRO4P1OWIY51cbs/Y0UNpmH4uD/2fw7z5QW4Pyy8y0V8J7Y/JQaBlUOLvD9X7C+7Jw+zPy457pQO1rc/zF1LyAc9sz9wzojS3uC7P2/YtiizQbY/eekmMQisvD9j7lpCPui5P0MEHEKVmrU/VwT/W8mOtT9W1GAaho+4P6hXyjLEsbY/0LNZ9bnauj8mUwWjkjq5P3BfB84ZUbo/KCzxgLIptz+7uI0G8BbAP/5D+u3rwLk/4BCq1OyBtj+/K4L/rWS3P4f+CS5W1Lg/l6jeGtgquT8bR6zFpwCwPzpY/+cwX7Y/xLEubqMBvD/ZPXlYqDW9P6ipZWt9kbg/VDpY/+cwtz8drP9zmC+3P34AUps4ubc/I2dhTzv8tT+E04IXfQW5Pw8LtaZ5x7k/AU2EDU+vtD+F61G4HoW7P0sfuqC+ZbY/mG4Sg8DKsT/VCWgibHi6P33Qs1n1ubo/MbH5uDZUtD+4HoXrUbi+P3ReY5eo3rI/NlmjHqLRtT/2C3bDtkW5P3yb/uxHirg/ofMau0T1tj/ZPXlYqDW9P+VhodY078A/3+ALk6mCuT/UZTGx+bi2P3DOiNLe4Ls/v4I0Y9F0tj+7Jw8Ltaa5P+ChKNAn8rQ/odY07zhFtz9LAtTUsrW2P+oENBE2PL0//kP67evAuT9hcTjzqzm4P07RkVz+Q7o/uarsuyL4tz88FAX6RJ60P9o4Yi0+Bbg/PL1SliGOtT/hRV9BmrG4P/JBz2bV57o/mggbnl4puz89CtejcD26P+auJeSDnrU/lX1XBP9buT8U0ETY8PS6PwQhWcAEbrU/JSNnYU87tD9fB84ZUdq7P9k9eVioNb0/dNL7xteesT8J+aBns+qzP/wApDZxcrc/7fXuj/eqtT+ASL99HTi3P0c4LXjRV7g/T6+UZYhjtT8+BcB4Bg21P5FhFW9kHrk/HVVNEHUfuD+YhuEjYkq0PyBGCI82jrg/EAaeew+XtD9fmEwVjEq6PzEIrBxaZLs/1QloImx4sj93LSEf9Gy2Pw1Uxr/PuLg/dLUV+8vuuT8PC7Wmece5P86qz9VW7Lc/q8/VVuwvuz8g0m9fB865P+XQItv5fro/5j+k374OvD+/DpwzorS3P0oMAiuHFsE/wFsgQfFjvD+8lpAPeja7P5qZmZmZmbk/BvUtc7ostj/vj/eqlQm3P26jAbwFErQ/Z341BwjmuD8EHEKVmj24P1rwoq8gzbg/y9sRTgtetD9U46WbxCC4P/tcbcX+srs/E7h1N091sD/pfeNrzyy5P8U4fxMKEbg//B2KAn0itz+XkA96Nqu2P1yPwvUoXL8/bRyxFp8CuD/Wc9L7xte2P/CiryDNWLQ/Birj32dcuD/pJjEIrBy6P44j1uJTALQ/B1+YTBWMuj/u68A5I0q7PxaHM7+aA7Q/XD0nvW98tT/zH9JvXwe2PyDSb18HzrE/nKIjufyHtD91H4DUJk62PyVYHM78arY/MJ5BQ/8Etz/ufD81Xrq5Px9oBYasbrU/HhuBeF2/uD8k1uJTAIy3P671RUJbzrU/MbYQ5KCEuT+9jGK5pdWwP5ZDi2zn+7k/cT0K16NwvT+KWS+GcqK1P9nO91Pjpbs/EHo2qz5Xuz9gArfu5qm2P276sx8pIrM/7wOQ2sTJtT90tRX7y+6xP/3BwHPv4bI//dmPFJFhtT84LXjRV5C2P8b5m1CIgLM/F58CYDyDtj8Z529CIQK2P3Qkl/+Qfrs/7wOQ2sTJtT8jMqzijcyzP4kMq3gj87g/MbYQ5KCEuT9GCI82jlizP5oIG55eKbs/nKIjufyHtD9kzF1LyAe9P8HKoUW2870/MgOV8e8ztj9wXwfOGVG6P/iqlQm/1Lc/swdagSGrsz+wA+eMKO29P23n+6nx0r0/XDgQkgVMuD+9qUiFsYW4PySX/5B++7o/FhObj2tDtT/VBFH3AUi1P2gibHh6pbw/RSqMLQQ5uD9nD7QCQ1a3Pw8LtaZ5x7k/IEHxY8xduz8RcAhVava4P7yuX7AbtrU/xEKtad5xuj/4Nv3ZjxS5P3E9CtejcL0/B9MwfERMuT+dS3FV2Xe1P7gehetRuLY/I/PIHww8tz/3deCcEaW9P7MkQE0tW7M/io7k8h/Svz9gdk8eFmq9Py1DHOviNro/Hm0csRafsj93LSEf9Gy2P/tcbcX+srs/p3Sw/s9htj+0dtuF5jq1PzGZKhiV1Lk/YWwhyEEJsz9/vFetTPi1PxObj2tDxbg/JGJKJNHLuD/ElEiil1G0PwaBlUOLbLc/ejarPldbuT+oABjPoKG3P/Z/DvPlBbg/vJaQD3o2uz8c8PlhhPC4P4rNx7WhYrQ/qmBUUieguT+RuMfShy64P6n26XjMQLU/0ETY8PRKuT/SHcTOFDq3PwPso1NXPrM/CoUIOIQqtT/FjzF3LSG/Pybkg57Nqr8/GHjuPVxytD/+Q/rt68CxP1tCPujZrLo/Kej2ksZotT8ng6Pk1Tm2P/0TXKyowbQ/sYo3Mo/8sT9gdk8eFmq1P0Jg5dAi27k/LH3ogvqWuT8p7Q2+MJm6PxkEVg4tsr0/jnVxGw3gvT+BJsKGp1e6P0aU9gZfmLQ/eHqlLEMcuz8rTUpBt5e0P+IjYkok0bM/UAEwnkFDtz+wcmiR7Xy/P2ZJgJpatrY/U9DtJY3Rsj+1/SsrTUq5PyeDo+TVObY/3bWEfNCzuT/KVMGopE64P6JdhZSfVLM/9pfdk4eFuj95WKg1zTu2P+llFMstrbY/p3nHKTqSuz8teNFXkGa0P1wgQfFjzLU/lPYGX5hMtT9pjNZR1QS5P33Qs1n1ubo/eekmMQisvD8hH/RsVn22P8iYu5aQD7o/qbwd4bTgtT+itDf4wmS6P18HzhlR2rs/Haz/c5gvtz+F61G4HoW7P/OTap+Ox7Q//n3GhQMhuT/WkLjH0oe2P5IFTODW3bQ/ZjGx+bg2tD/04O6s3Xa5PySX/5B++7o/UwWjkjoBvT/ImLuWkA+6P/G6fsFu2LY/iUFg5dAiuz+InSl0XmO3P0lL5e0Ip7U/XhH8byU7tj/boswGmWS0P/s6cM6I0rY/wARu3c1TtT+KAn0iT5K2P52FPe3w17Q/ZB75g4Hntj+R7Xw/NV66P0jElEiil7k/HY8ZqIx/tz/T2cngKHm1P+3T8ZiByrg/rtNIS+XtsD+ze/KwUGu6Pwx2w7ZFmbU/GJXUCWgivD+bAwRz9Pi1Pybkg57Nqrc/FQDjGTT0tz/Fyf0ORYG2P82SADW1bLU/xqLp7GRwtD+7RPXWwFa5Pxzr4jYawLs/Y+5aQj7osT+dLouJzce1P5TBUfLqHLM/vvbMkgA1tT9oke18PzW2P592+GuyRrU/1hwgmKPHtz8UrkfhehS+P0nXTL7Z5rY/nfS+8bVntj/sTKHzGru0P2h5HtydtbM/Dwu1pnnHuT9N845TdCS3P7CsNCkF3bY/l4v4Tsx6sT+eXinLEMe6P07RkVz+Q7o/UAEwnkFDtz+FlJ9U+3S0P0LPZtXnars/Rrbz/dR4uT9sCfmgZ7O6P9CbilQYW7g/yR8MPPcetj9wzojS3uC7P/8h/fZ14Lw/4V0u4jsxsz/xaOOItfi0PzgVqTC2ELQ/qmBUUieguT+PpQ9dUN+yP55eKcsQx7I/l+Kqsu+KuD+WsgxxrIu7P17XL9gN27Y/Y+5aQj7ouT8tsp3vp8a7PyIa3UHsTLk/OpLLf0i/vT/3deCcEaW9P3zVyoRf6rc/mEwVjErqxD+q8dJNYhDAP+Y/pN++Drw/VHQkl/+Qvj+Lcf4mFCK4P5vmHafoSL4/CJRNucK7tD/HLlG9NbC1P44G8BZIULw/s++K4H8ruT/zjlN0JJe3P9CzWfW52ro/EHo2qz5Xuz8HX5hMFYy6P+cdp+hILr8/zczMzMzMvD94CyQofozBP5HtfD81Xro/7wOQ2sTJtT+mRBK9jGK5P3h/vFetTLg/9pfdk4eFuj+F61G4HoW7P1ysqME0DLc/3nGKjuTyvz8pXI/C9Si8P2Rd3EYDeLs/pgpGJXUCuj+PxwxUxr+3P6orn+V5cLc/P6n26XjMuD+eXinLEMe6PxgmUwWjkro/FR3J5T+kvz/sTKHzGru0P6mfNxWpMLY/5SfVPh2PuT+skPKTap+2P8l2vp8aL7U/+3Q8ZqAytj+iYpy/CYW4P0ErMGR1q7c/SWO0jqomuD/vrN12obm2P811GmmpvLU/8WjjiLX4tD/ZCMTr+gWzP1oNiXssfbg/5L1qZcIvtT+dgCbChqe3P5Y+dEF9y7Q/PSzUmuYdtz/M7snDQq25P5Y+dEF9y7Q/4nX9gt2wtT/aVUj5SbW3Pwnh0cYRa7k/xAjh0cYRsz/A7J48LNS6PxiV1AloIrw/0SLb+X5qvD8ofoy5awm5P/d14JwRpbU/RwN4CyQovj+ns5PBUfKqPw==",
          "dtype": "f8"
         },
         "xaxis": "x",
         "y": {
          "bdata": "AAABAAIAAwAEAAUABgAHAAgACQAKAAsADAANAA4ADwAQABEAEgATABQAFQAWABcAGAAZABoAGwAcAB0AHgAfACAAIQAiACMAJAAlACYAJwAoACkAKgArACwALQAuAC8AMAAxADIAMwA0ADUANgA3ADgAOQA6ADsAPAA9AD4APwBAAEEAQgBDAEQARQBGAEcASABJAEoASwBMAE0ATgBPAFAAUQBSAFMAVABVAFYAVwBYAFkAWgBbAFwAXQBeAF8AYABhAGIAYwBkAGUAZgBnAGgAaQBqAGsAbABtAG4AbwBwAHEAcgBzAHQAdQB2AHcAeAB5AHoAewB8AH0AfgB/AIAAgQCCAIMAhACFAIYAhwCIAIkAigCLAIwAjQCOAI8AkACRAJIAkwCUAJUAlgCXAJgAmQCaAJsAnACdAJ4AnwCgAKEAogCjAKQApQCmAKcAqACpAKoAqwCsAK0ArgCvALAAsQCyALMAtAC1ALYAtwC4ALkAugC7ALwAvQC+AL8AwADBAMIAwwDEAMUAxgDHAMgAyQDKAMsAzADNAM4AzwDQANEA0gDTANQA1QDWANcA2ADZANoA2wDcAN0A3gDfAOAA4QDiAOMA5ADlAOYA5wDoAOkA6gDrAOwA7QDuAO8A8ADxAPIA8wD0APUA9gD3APgA+QD6APsA/AD9AP4A/wAAAQEBAgEDAQQBBQEGAQcBCAEJAQoBCwEMAQ0BDgEPARABEQESARMBFAEVARYBFwEYARkBGgEbARwBHQEeAR8BIAEhASIBIwEkASUBJgEnASgBKQEqASsBLAEtAS4BLwEwATEBMgEzATQBNQE2ATcBOAE5AToBOwE8AT0BPgE/AUABQQFCAUMBRAFFAUYBRwFIAUkBSgFLAUwBTQFOAU8BUAFRAVIBUwFUAVUBVgFXAVgBWQFaAVsBXAFdAV4BXwFgAWEBYgFjAWQBZQFmAWcBaAFpAWoBawFsAW0BbgFvAXABcQFyAXMBdAF1AXYBdwF4AXkBegF7AXwBfQF+AX8BgAGBAYIBgwGEAYUBhgGHAYgBiQGKAYsBjAGNAY4BjwGQAZEBkgGTAZQBlQGWAZcBmAGZAZoBmwGcAZ0BngGfAaABoQGiAaMBpAGlAaYBpwGoAakBqgGrAawBrQGuAa8BsAGxAbIBswG0AbUBtgG3AbgBuQG6AbsBvAG9Ab4BvwHAAcEBwgHDAcQBxQHGAccByAHJAcoBywHMAc0BzgHPAdAB0QHSAdMB1AHVAdYB1wHYAdkB2gHbAdwB3QHeAd8B4AHhAeIB4wHkAeUB5gHnAegB6QHqAesB7AHtAe4B7wHwAfEB8gHzAfQB9QH2AfcB+AH5AfoB+wH8Af0B/gH/AQACAQICAgMCBAIFAgYCBwIIAgkCCgILAgwCDQIOAg8CEAIRAhICEwIUAhUCFgIXAhgCGQIaAhsCHAIdAh4CHwIgAiECIgIjAiQCJQImAicCKAIpAioCKwIsAi0CLgIvAjACMQIyAjMCNAI1AjYCNwI4Ag==",
          "dtype": "i2"
         },
         "yaxis": "y"
        }
       ],
       "layout": {
        "coloraxis": {
         "colorbar": {
          "title": {
           "text": "diagnosis"
          }
         },
         "colorscale": [
          [
           0,
           "#f6abb6"
          ],
          [
           1,
           "#A865C9"
          ]
         ]
        },
        "legend": {
         "tracegroupgap": 0
        },
        "template": {
         "data": {
          "bar": [
           {
            "error_x": {
             "color": "#2a3f5f"
            },
            "error_y": {
             "color": "#2a3f5f"
            },
            "marker": {
             "line": {
              "color": "#E5ECF6",
              "width": 0.5
             },
             "pattern": {
              "fillmode": "overlay",
              "size": 10,
              "solidity": 0.2
             }
            },
            "type": "bar"
           }
          ],
          "barpolar": [
           {
            "marker": {
             "line": {
              "color": "#E5ECF6",
              "width": 0.5
             },
             "pattern": {
              "fillmode": "overlay",
              "size": 10,
              "solidity": 0.2
             }
            },
            "type": "barpolar"
           }
          ],
          "carpet": [
           {
            "aaxis": {
             "endlinecolor": "#2a3f5f",
             "gridcolor": "white",
             "linecolor": "white",
             "minorgridcolor": "white",
             "startlinecolor": "#2a3f5f"
            },
            "baxis": {
             "endlinecolor": "#2a3f5f",
             "gridcolor": "white",
             "linecolor": "white",
             "minorgridcolor": "white",
             "startlinecolor": "#2a3f5f"
            },
            "type": "carpet"
           }
          ],
          "choropleth": [
           {
            "colorbar": {
             "outlinewidth": 0,
             "ticks": ""
            },
            "type": "choropleth"
           }
          ],
          "contour": [
           {
            "colorbar": {
             "outlinewidth": 0,
             "ticks": ""
            },
            "colorscale": [
             [
              0,
              "#0d0887"
             ],
             [
              0.1111111111111111,
              "#46039f"
             ],
             [
              0.2222222222222222,
              "#7201a8"
             ],
             [
              0.3333333333333333,
              "#9c179e"
             ],
             [
              0.4444444444444444,
              "#bd3786"
             ],
             [
              0.5555555555555556,
              "#d8576b"
             ],
             [
              0.6666666666666666,
              "#ed7953"
             ],
             [
              0.7777777777777778,
              "#fb9f3a"
             ],
             [
              0.8888888888888888,
              "#fdca26"
             ],
             [
              1,
              "#f0f921"
             ]
            ],
            "type": "contour"
           }
          ],
          "contourcarpet": [
           {
            "colorbar": {
             "outlinewidth": 0,
             "ticks": ""
            },
            "type": "contourcarpet"
           }
          ],
          "heatmap": [
           {
            "colorbar": {
             "outlinewidth": 0,
             "ticks": ""
            },
            "colorscale": [
             [
              0,
              "#0d0887"
             ],
             [
              0.1111111111111111,
              "#46039f"
             ],
             [
              0.2222222222222222,
              "#7201a8"
             ],
             [
              0.3333333333333333,
              "#9c179e"
             ],
             [
              0.4444444444444444,
              "#bd3786"
             ],
             [
              0.5555555555555556,
              "#d8576b"
             ],
             [
              0.6666666666666666,
              "#ed7953"
             ],
             [
              0.7777777777777778,
              "#fb9f3a"
             ],
             [
              0.8888888888888888,
              "#fdca26"
             ],
             [
              1,
              "#f0f921"
             ]
            ],
            "type": "heatmap"
           }
          ],
          "histogram": [
           {
            "marker": {
             "pattern": {
              "fillmode": "overlay",
              "size": 10,
              "solidity": 0.2
             }
            },
            "type": "histogram"
           }
          ],
          "histogram2d": [
           {
            "colorbar": {
             "outlinewidth": 0,
             "ticks": ""
            },
            "colorscale": [
             [
              0,
              "#0d0887"
             ],
             [
              0.1111111111111111,
              "#46039f"
             ],
             [
              0.2222222222222222,
              "#7201a8"
             ],
             [
              0.3333333333333333,
              "#9c179e"
             ],
             [
              0.4444444444444444,
              "#bd3786"
             ],
             [
              0.5555555555555556,
              "#d8576b"
             ],
             [
              0.6666666666666666,
              "#ed7953"
             ],
             [
              0.7777777777777778,
              "#fb9f3a"
             ],
             [
              0.8888888888888888,
              "#fdca26"
             ],
             [
              1,
              "#f0f921"
             ]
            ],
            "type": "histogram2d"
           }
          ],
          "histogram2dcontour": [
           {
            "colorbar": {
             "outlinewidth": 0,
             "ticks": ""
            },
            "colorscale": [
             [
              0,
              "#0d0887"
             ],
             [
              0.1111111111111111,
              "#46039f"
             ],
             [
              0.2222222222222222,
              "#7201a8"
             ],
             [
              0.3333333333333333,
              "#9c179e"
             ],
             [
              0.4444444444444444,
              "#bd3786"
             ],
             [
              0.5555555555555556,
              "#d8576b"
             ],
             [
              0.6666666666666666,
              "#ed7953"
             ],
             [
              0.7777777777777778,
              "#fb9f3a"
             ],
             [
              0.8888888888888888,
              "#fdca26"
             ],
             [
              1,
              "#f0f921"
             ]
            ],
            "type": "histogram2dcontour"
           }
          ],
          "mesh3d": [
           {
            "colorbar": {
             "outlinewidth": 0,
             "ticks": ""
            },
            "type": "mesh3d"
           }
          ],
          "parcoords": [
           {
            "line": {
             "colorbar": {
              "outlinewidth": 0,
              "ticks": ""
             }
            },
            "type": "parcoords"
           }
          ],
          "pie": [
           {
            "automargin": true,
            "type": "pie"
           }
          ],
          "scatter": [
           {
            "fillpattern": {
             "fillmode": "overlay",
             "size": 10,
             "solidity": 0.2
            },
            "type": "scatter"
           }
          ],
          "scatter3d": [
           {
            "line": {
             "colorbar": {
              "outlinewidth": 0,
              "ticks": ""
             }
            },
            "marker": {
             "colorbar": {
              "outlinewidth": 0,
              "ticks": ""
             }
            },
            "type": "scatter3d"
           }
          ],
          "scattercarpet": [
           {
            "marker": {
             "colorbar": {
              "outlinewidth": 0,
              "ticks": ""
             }
            },
            "type": "scattercarpet"
           }
          ],
          "scattergeo": [
           {
            "marker": {
             "colorbar": {
              "outlinewidth": 0,
              "ticks": ""
             }
            },
            "type": "scattergeo"
           }
          ],
          "scattergl": [
           {
            "marker": {
             "colorbar": {
              "outlinewidth": 0,
              "ticks": ""
             }
            },
            "type": "scattergl"
           }
          ],
          "scattermap": [
           {
            "marker": {
             "colorbar": {
              "outlinewidth": 0,
              "ticks": ""
             }
            },
            "type": "scattermap"
           }
          ],
          "scattermapbox": [
           {
            "marker": {
             "colorbar": {
              "outlinewidth": 0,
              "ticks": ""
             }
            },
            "type": "scattermapbox"
           }
          ],
          "scatterpolar": [
           {
            "marker": {
             "colorbar": {
              "outlinewidth": 0,
              "ticks": ""
             }
            },
            "type": "scatterpolar"
           }
          ],
          "scatterpolargl": [
           {
            "marker": {
             "colorbar": {
              "outlinewidth": 0,
              "ticks": ""
             }
            },
            "type": "scatterpolargl"
           }
          ],
          "scatterternary": [
           {
            "marker": {
             "colorbar": {
              "outlinewidth": 0,
              "ticks": ""
             }
            },
            "type": "scatterternary"
           }
          ],
          "surface": [
           {
            "colorbar": {
             "outlinewidth": 0,
             "ticks": ""
            },
            "colorscale": [
             [
              0,
              "#0d0887"
             ],
             [
              0.1111111111111111,
              "#46039f"
             ],
             [
              0.2222222222222222,
              "#7201a8"
             ],
             [
              0.3333333333333333,
              "#9c179e"
             ],
             [
              0.4444444444444444,
              "#bd3786"
             ],
             [
              0.5555555555555556,
              "#d8576b"
             ],
             [
              0.6666666666666666,
              "#ed7953"
             ],
             [
              0.7777777777777778,
              "#fb9f3a"
             ],
             [
              0.8888888888888888,
              "#fdca26"
             ],
             [
              1,
              "#f0f921"
             ]
            ],
            "type": "surface"
           }
          ],
          "table": [
           {
            "cells": {
             "fill": {
              "color": "#EBF0F8"
             },
             "line": {
              "color": "white"
             }
            },
            "header": {
             "fill": {
              "color": "#C8D4E3"
             },
             "line": {
              "color": "white"
             }
            },
            "type": "table"
           }
          ]
         },
         "layout": {
          "annotationdefaults": {
           "arrowcolor": "#2a3f5f",
           "arrowhead": 0,
           "arrowwidth": 1
          },
          "autotypenumbers": "strict",
          "coloraxis": {
           "colorbar": {
            "outlinewidth": 0,
            "ticks": ""
           }
          },
          "colorscale": {
           "diverging": [
            [
             0,
             "#8e0152"
            ],
            [
             0.1,
             "#c51b7d"
            ],
            [
             0.2,
             "#de77ae"
            ],
            [
             0.3,
             "#f1b6da"
            ],
            [
             0.4,
             "#fde0ef"
            ],
            [
             0.5,
             "#f7f7f7"
            ],
            [
             0.6,
             "#e6f5d0"
            ],
            [
             0.7,
             "#b8e186"
            ],
            [
             0.8,
             "#7fbc41"
            ],
            [
             0.9,
             "#4d9221"
            ],
            [
             1,
             "#276419"
            ]
           ],
           "sequential": [
            [
             0,
             "#0d0887"
            ],
            [
             0.1111111111111111,
             "#46039f"
            ],
            [
             0.2222222222222222,
             "#7201a8"
            ],
            [
             0.3333333333333333,
             "#9c179e"
            ],
            [
             0.4444444444444444,
             "#bd3786"
            ],
            [
             0.5555555555555556,
             "#d8576b"
            ],
            [
             0.6666666666666666,
             "#ed7953"
            ],
            [
             0.7777777777777778,
             "#fb9f3a"
            ],
            [
             0.8888888888888888,
             "#fdca26"
            ],
            [
             1,
             "#f0f921"
            ]
           ],
           "sequentialminus": [
            [
             0,
             "#0d0887"
            ],
            [
             0.1111111111111111,
             "#46039f"
            ],
            [
             0.2222222222222222,
             "#7201a8"
            ],
            [
             0.3333333333333333,
             "#9c179e"
            ],
            [
             0.4444444444444444,
             "#bd3786"
            ],
            [
             0.5555555555555556,
             "#d8576b"
            ],
            [
             0.6666666666666666,
             "#ed7953"
            ],
            [
             0.7777777777777778,
             "#fb9f3a"
            ],
            [
             0.8888888888888888,
             "#fdca26"
            ],
            [
             1,
             "#f0f921"
            ]
           ]
          },
          "colorway": [
           "#636efa",
           "#EF553B",
           "#00cc96",
           "#ab63fa",
           "#FFA15A",
           "#19d3f3",
           "#FF6692",
           "#B6E880",
           "#FF97FF",
           "#FECB52"
          ],
          "font": {
           "color": "#2a3f5f"
          },
          "geo": {
           "bgcolor": "white",
           "lakecolor": "white",
           "landcolor": "#E5ECF6",
           "showlakes": true,
           "showland": true,
           "subunitcolor": "white"
          },
          "hoverlabel": {
           "align": "left"
          },
          "hovermode": "closest",
          "mapbox": {
           "style": "light"
          },
          "paper_bgcolor": "white",
          "plot_bgcolor": "#E5ECF6",
          "polar": {
           "angularaxis": {
            "gridcolor": "white",
            "linecolor": "white",
            "ticks": ""
           },
           "bgcolor": "#E5ECF6",
           "radialaxis": {
            "gridcolor": "white",
            "linecolor": "white",
            "ticks": ""
           }
          },
          "scene": {
           "xaxis": {
            "backgroundcolor": "#E5ECF6",
            "gridcolor": "white",
            "gridwidth": 2,
            "linecolor": "white",
            "showbackground": true,
            "ticks": "",
            "zerolinecolor": "white"
           },
           "yaxis": {
            "backgroundcolor": "#E5ECF6",
            "gridcolor": "white",
            "gridwidth": 2,
            "linecolor": "white",
            "showbackground": true,
            "ticks": "",
            "zerolinecolor": "white"
           },
           "zaxis": {
            "backgroundcolor": "#E5ECF6",
            "gridcolor": "white",
            "gridwidth": 2,
            "linecolor": "white",
            "showbackground": true,
            "ticks": "",
            "zerolinecolor": "white"
           }
          },
          "shapedefaults": {
           "line": {
            "color": "#2a3f5f"
           }
          },
          "ternary": {
           "aaxis": {
            "gridcolor": "white",
            "linecolor": "white",
            "ticks": ""
           },
           "baxis": {
            "gridcolor": "white",
            "linecolor": "white",
            "ticks": ""
           },
           "bgcolor": "#E5ECF6",
           "caxis": {
            "gridcolor": "white",
            "linecolor": "white",
            "ticks": ""
           }
          },
          "title": {
           "x": 0.05
          },
          "xaxis": {
           "automargin": true,
           "gridcolor": "white",
           "linecolor": "white",
           "ticks": "",
           "title": {
            "standoff": 15
           },
           "zerolinecolor": "white",
           "zerolinewidth": 2
          },
          "yaxis": {
           "automargin": true,
           "gridcolor": "white",
           "linecolor": "white",
           "ticks": "",
           "title": {
            "standoff": 15
           },
           "zerolinecolor": "white",
           "zerolinewidth": 2
          }
         }
        },
        "title": {
         "subtitle": {
          "text": "Maligno (0) e Benigno (1)"
         },
         "text": "Relação entre Mean Smoothness e Diagnóstico"
        },
        "xaxis": {
         "anchor": "y",
         "domain": [
          0,
          1
         ],
         "title": {
          "text": "mean_smoothness"
         }
        },
        "yaxis": {
         "anchor": "x",
         "domain": [
          0,
          1
         ],
         "title": {
          "text": "index"
         }
        }
       }
      }
     },
     "metadata": {},
     "output_type": "display_data"
    }
   ],
   "source": [
    "variaveis_scatter = ['mean_radius', 'mean_texture', 'mean_perimeter', 'mean_area', 'mean_smoothness']\n",
    "\n",
    "for var in variaveis_scatter:\n",
    "    fig = px.scatter(\n",
    "        data_frame=df,\n",
    "        x=var,\n",
    "        color='diagnosis',\n",
    "        color_continuous_scale=[cor_maligno, cor_benigno],\n",
    "        title=f'Relação entre {var.replace(\"_\", \" \").title()} e Diagnóstico',\n",
    "        subtitle=f'Maligno (0) e Benigno (1)',\n",
    "    )\n",
    "    fig.show()"
   ]
  },
  {
   "cell_type": "markdown",
   "id": "c1379be5",
   "metadata": {},
   "source": [
    "#### 🔥 Mapa de Calor das Correlações"
   ]
  },
  {
   "cell_type": "code",
   "execution_count": 10,
   "id": "7a58c908",
   "metadata": {},
   "outputs": [
    {
     "data": {
      "image/png": "[encoded data removed]",
      "text/plain": [
       "<Figure size 2000x2000 with 2 Axes>"
      ]
     },
     "metadata": {},
     "output_type": "display_data"
    }
   ],
   "source": [
    "corr = df.corr()\n",
    "\n",
    "plt.figure(figsize=(20,20))\n",
    "sns.heatmap(corr, cmap=sns.color_palette(\"ch:s=-.2,r=.6\", as_cmap=True),annot=True)\n",
    "plt.show()\n",
    "\n",
    "cor_target = abs(corr[\"diagnosis\"]) # Get the absolute value of the correlation\n",
    "relevant_features = cor_target[cor_target>0.2] # Select highly correlated features (thresold = 0.2)\n",
    "names = relevant_features.index.tolist() # Collect the names of the features\n",
    "names.remove('diagnosis') # Drop the target variable from the results"
   ]
  },
  {
   "cell_type": "markdown",
   "id": "b6885371",
   "metadata": {},
   "source": [
    "#### 🎯 Boxplots Comparativos por Diagnóstico"
   ]
  },
  {
   "cell_type": "code",
   "execution_count": 11,
   "id": "7389a2cd",
   "metadata": {},
   "outputs": [
    {
     "data": {
      "application/vnd.plotly.v1+json": {
       "config": {
        "plotlyServerURL": "https://plot.ly"
       },
       "data": [
        {
         "alignmentgroup": "True",
         "hovertemplate": "diagnosis=%{x}<br>mean_radius=%{y}<extra></extra>",
         "legendgroup": "0",
         "marker": {
          "color": "#f6abb6"
         },
         "name": "0",
         "notched": false,
         "offsetgroup": "0",
         "orientation": "v",
         "showlegend": true,
         "type": "box",
         "x": {
          "bdata": "AAAAAAAAAAAAAAAAAAAAAAAAAAAAAAAAAAAAAAAAAAAAAAAAAAAAAAAAAAAAAAAAAAAAAAAAAAAAAAAAAAAAAAAAAAAAAAAAAAAAAAAAAAAAAAAAAAAAAAAAAAAAAAAAAAAAAAAAAAAAAAAAAAAAAAAAAAAAAAAAAAAAAAAAAAAAAAAAAAAAAAAAAAAAAAAAAAAAAAAAAAAAAAAAAAAAAAAAAAAAAAAAAAAAAAAAAAAAAAAAAAAAAAAAAAAAAAAAAAAAAAAAAAAAAAAAAAAAAAAAAAA=",
          "dtype": "i1"
         },
         "x0": " ",
         "xaxis": "x",
         "y": {
          "bdata": "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",
          "dtype": "f8"
         },
         "y0": " ",
         "yaxis": "y"
        },
        {
         "alignmentgroup": "True",
         "hovertemplate": "diagnosis=%{x}<br>mean_radius=%{y}<extra></extra>",
         "legendgroup": "1",
         "marker": {
          "color": "#A865C9"
         },
         "name": "1",
         "notched": false,
         "offsetgroup": "1",
         "orientation": "v",
         "showlegend": true,
         "type": "box",
         "x": {
          "bdata": "AQEBAQEBAQEBAQEBAQEBAQEBAQEBAQEBAQEBAQEBAQEBAQEBAQEBAQEBAQEBAQEBAQEBAQEBAQEBAQEBAQEBAQEBAQEBAQEBAQEBAQEBAQEBAQEBAQEBAQEBAQEBAQEBAQEBAQEBAQEBAQEBAQEBAQEBAQEBAQEBAQEBAQEBAQEBAQEBAQEBAQEBAQEBAQEBAQEBAQEBAQEBAQEBAQEBAQEBAQEBAQEBAQEBAQEBAQEBAQEBAQEBAQEBAQEBAQEBAQEBAQEBAQEBAQEBAQEBAQEBAQEBAQEBAQEBAQEBAQEBAQEBAQEBAQEBAQEBAQEBAQEBAQEBAQEBAQEBAQEBAQEBAQEBAQEBAQEBAQEBAQEBAQEBAQEBAQEBAQEBAQEBAQEBAQEBAQEBAQEBAQEBAQEBAQEBAQEBAQEBAQEBAQEBAQEBAQEBAQEBAQEBAQEBAQEBAQEBAQEBAQEBAQEBAQEBAQEB",
          "dtype": "i1"
         },
         "x0": " ",
         "xaxis": "x",
         "y": {
          "bdata": "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",
          "dtype": "f8"
         },
         "y0": " ",
         "yaxis": "y"
        }
       ],
       "layout": {
        "boxmode": "overlay",
        "legend": {
         "title": {
          "text": "diagnosis"
         },
         "tracegroupgap": 0
        },
        "template": {
         "data": {
          "bar": [
           {
            "error_x": {
             "color": "#2a3f5f"
            },
            "error_y": {
             "color": "#2a3f5f"
            },
            "marker": {
             "line": {
              "color": "#E5ECF6",
              "width": 0.5
             },
             "pattern": {
              "fillmode": "overlay",
              "size": 10,
              "solidity": 0.2
             }
            },
            "type": "bar"
           }
          ],
          "barpolar": [
           {
            "marker": {
             "line": {
              "color": "#E5ECF6",
              "width": 0.5
             },
             "pattern": {
              "fillmode": "overlay",
              "size": 10,
              "solidity": 0.2
             }
            },
            "type": "barpolar"
           }
          ],
          "carpet": [
           {
            "aaxis": {
             "endlinecolor": "#2a3f5f",
             "gridcolor": "white",
             "linecolor": "white",
             "minorgridcolor": "white",
             "startlinecolor": "#2a3f5f"
            },
            "baxis": {
             "endlinecolor": "#2a3f5f",
             "gridcolor": "white",
             "linecolor": "white",
             "minorgridcolor": "white",
             "startlinecolor": "#2a3f5f"
            },
            "type": "carpet"
           }
          ],
          "choropleth": [
           {
            "colorbar": {
             "outlinewidth": 0,
             "ticks": ""
            },
            "type": "choropleth"
           }
          ],
          "contour": [
           {
            "colorbar": {
             "outlinewidth": 0,
             "ticks": ""
            },
            "colorscale": [
             [
              0,
              "#0d0887"
             ],
             [
              0.1111111111111111,
              "#46039f"
             ],
             [
              0.2222222222222222,
              "#7201a8"
             ],
             [
              0.3333333333333333,
              "#9c179e"
             ],
             [
              0.4444444444444444,
              "#bd3786"
             ],
             [
              0.5555555555555556,
              "#d8576b"
             ],
             [
              0.6666666666666666,
              "#ed7953"
             ],
             [
              0.7777777777777778,
              "#fb9f3a"
             ],
             [
              0.8888888888888888,
              "#fdca26"
             ],
             [
              1,
              "#f0f921"
             ]
            ],
            "type": "contour"
           }
          ],
          "contourcarpet": [
           {
            "colorbar": {
             "outlinewidth": 0,
             "ticks": ""
            },
            "type": "contourcarpet"
           }
          ],
          "heatmap": [
           {
            "colorbar": {
             "outlinewidth": 0,
             "ticks": ""
            },
            "colorscale": [
             [
              0,
              "#0d0887"
             ],
             [
              0.1111111111111111,
              "#46039f"
             ],
             [
              0.2222222222222222,
              "#7201a8"
             ],
             [
              0.3333333333333333,
              "#9c179e"
             ],
             [
              0.4444444444444444,
              "#bd3786"
             ],
             [
              0.5555555555555556,
              "#d8576b"
             ],
             [
              0.6666666666666666,
              "#ed7953"
             ],
             [
              0.7777777777777778,
              "#fb9f3a"
             ],
             [
              0.8888888888888888,
              "#fdca26"
             ],
             [
              1,
              "#f0f921"
             ]
            ],
            "type": "heatmap"
           }
          ],
          "histogram": [
           {
            "marker": {
             "pattern": {
              "fillmode": "overlay",
              "size": 10,
              "solidity": 0.2
             }
            },
            "type": "histogram"
           }
          ],
          "histogram2d": [
           {
            "colorbar": {
             "outlinewidth": 0,
             "ticks": ""
            },
            "colorscale": [
             [
              0,
              "#0d0887"
             ],
             [
              0.1111111111111111,
              "#46039f"
             ],
             [
              0.2222222222222222,
              "#7201a8"
             ],
             [
              0.3333333333333333,
              "#9c179e"
             ],
             [
              0.4444444444444444,
              "#bd3786"
             ],
             [
              0.5555555555555556,
              "#d8576b"
             ],
             [
              0.6666666666666666,
              "#ed7953"
             ],
             [
              0.7777777777777778,
              "#fb9f3a"
             ],
             [
              0.8888888888888888,
              "#fdca26"
             ],
             [
              1,
              "#f0f921"
             ]
            ],
            "type": "histogram2d"
           }
          ],
          "histogram2dcontour": [
           {
            "colorbar": {
             "outlinewidth": 0,
             "ticks": ""
            },
            "colorscale": [
             [
              0,
              "#0d0887"
             ],
             [
              0.1111111111111111,
              "#46039f"
             ],
             [
              0.2222222222222222,
              "#7201a8"
             ],
             [
              0.3333333333333333,
              "#9c179e"
             ],
             [
              0.4444444444444444,
              "#bd3786"
             ],
             [
              0.5555555555555556,
              "#d8576b"
             ],
             [
              0.6666666666666666,
              "#ed7953"
             ],
             [
              0.7777777777777778,
              "#fb9f3a"
             ],
             [
              0.8888888888888888,
              "#fdca26"
             ],
             [
              1,
              "#f0f921"
             ]
            ],
            "type": "histogram2dcontour"
           }
          ],
          "mesh3d": [
           {
            "colorbar": {
             "outlinewidth": 0,
             "ticks": ""
            },
            "type": "mesh3d"
           }
          ],
          "parcoords": [
           {
            "line": {
             "colorbar": {
              "outlinewidth": 0,
              "ticks": ""
             }
            },
            "type": "parcoords"
           }
          ],
          "pie": [
           {
            "automargin": true,
            "type": "pie"
           }
          ],
          "scatter": [
           {
            "fillpattern": {
             "fillmode": "overlay",
             "size": 10,
             "solidity": 0.2
            },
            "type": "scatter"
           }
          ],
          "scatter3d": [
           {
            "line": {
             "colorbar": {
              "outlinewidth": 0,
              "ticks": ""
             }
            },
            "marker": {
             "colorbar": {
              "outlinewidth": 0,
              "ticks": ""
             }
            },
            "type": "scatter3d"
           }
          ],
          "scattercarpet": [
           {
            "marker": {
             "colorbar": {
              "outlinewidth": 0,
              "ticks": ""
             }
            },
            "type": "scattercarpet"
           }
          ],
          "scattergeo": [
           {
            "marker": {
             "colorbar": {
              "outlinewidth": 0,
              "ticks": ""
             }
            },
            "type": "scattergeo"
           }
          ],
          "scattergl": [
           {
            "marker": {
             "colorbar": {
              "outlinewidth": 0,
              "ticks": ""
             }
            },
            "type": "scattergl"
           }
          ],
          "scattermap": [
           {
            "marker": {
             "colorbar": {
              "outlinewidth": 0,
              "ticks": ""
             }
            },
            "type": "scattermap"
           }
          ],
          "scattermapbox": [
           {
            "marker": {
             "colorbar": {
              "outlinewidth": 0,
              "ticks": ""
             }
            },
            "type": "scattermapbox"
           }
          ],
          "scatterpolar": [
           {
            "marker": {
             "colorbar": {
              "outlinewidth": 0,
              "ticks": ""
             }
            },
            "type": "scatterpolar"
           }
          ],
          "scatterpolargl": [
           {
            "marker": {
             "colorbar": {
              "outlinewidth": 0,
              "ticks": ""
             }
            },
            "type": "scatterpolargl"
           }
          ],
          "scatterternary": [
           {
            "marker": {
             "colorbar": {
              "outlinewidth": 0,
              "ticks": ""
             }
            },
            "type": "scatterternary"
           }
          ],
          "surface": [
           {
            "colorbar": {
             "outlinewidth": 0,
             "ticks": ""
            },
            "colorscale": [
             [
              0,
              "#0d0887"
             ],
             [
              0.1111111111111111,
              "#46039f"
             ],
             [
              0.2222222222222222,
              "#7201a8"
             ],
             [
              0.3333333333333333,
              "#9c179e"
             ],
             [
              0.4444444444444444,
              "#bd3786"
             ],
             [
              0.5555555555555556,
              "#d8576b"
             ],
             [
              0.6666666666666666,
              "#ed7953"
             ],
             [
              0.7777777777777778,
              "#fb9f3a"
             ],
             [
              0.8888888888888888,
              "#fdca26"
             ],
             [
              1,
              "#f0f921"
             ]
            ],
            "type": "surface"
           }
          ],
          "table": [
           {
            "cells": {
             "fill": {
              "color": "#EBF0F8"
             },
             "line": {
              "color": "white"
             }
            },
            "header": {
             "fill": {
              "color": "#C8D4E3"
             },
             "line": {
              "color": "white"
             }
            },
            "type": "table"
           }
          ]
         },
         "layout": {
          "annotationdefaults": {
           "arrowcolor": "#2a3f5f",
           "arrowhead": 0,
           "arrowwidth": 1
          },
          "autotypenumbers": "strict",
          "coloraxis": {
           "colorbar": {
            "outlinewidth": 0,
            "ticks": ""
           }
          },
          "colorscale": {
           "diverging": [
            [
             0,
             "#8e0152"
            ],
            [
             0.1,
             "#c51b7d"
            ],
            [
             0.2,
             "#de77ae"
            ],
            [
             0.3,
             "#f1b6da"
            ],
            [
             0.4,
             "#fde0ef"
            ],
            [
             0.5,
             "#f7f7f7"
            ],
            [
             0.6,
             "#e6f5d0"
            ],
            [
             0.7,
             "#b8e186"
            ],
            [
             0.8,
             "#7fbc41"
            ],
            [
             0.9,
             "#4d9221"
            ],
            [
             1,
             "#276419"
            ]
           ],
           "sequential": [
            [
             0,
             "#0d0887"
            ],
            [
             0.1111111111111111,
             "#46039f"
            ],
            [
             0.2222222222222222,
             "#7201a8"
            ],
            [
             0.3333333333333333,
             "#9c179e"
            ],
            [
             0.4444444444444444,
             "#bd3786"
            ],
            [
             0.5555555555555556,
             "#d8576b"
            ],
            [
             0.6666666666666666,
             "#ed7953"
            ],
            [
             0.7777777777777778,
             "#fb9f3a"
            ],
            [
             0.8888888888888888,
             "#fdca26"
            ],
            [
             1,
             "#f0f921"
            ]
           ],
           "sequentialminus": [
            [
             0,
             "#0d0887"
            ],
            [
             0.1111111111111111,
             "#46039f"
            ],
            [
             0.2222222222222222,
             "#7201a8"
            ],
            [
             0.3333333333333333,
             "#9c179e"
            ],
            [
             0.4444444444444444,
             "#bd3786"
            ],
            [
             0.5555555555555556,
             "#d8576b"
            ],
            [
             0.6666666666666666,
             "#ed7953"
            ],
            [
             0.7777777777777778,
             "#fb9f3a"
            ],
            [
             0.8888888888888888,
             "#fdca26"
            ],
            [
             1,
             "#f0f921"
            ]
           ]
          },
          "colorway": [
           "#636efa",
           "#EF553B",
           "#00cc96",
           "#ab63fa",
           "#FFA15A",
           "#19d3f3",
           "#FF6692",
           "#B6E880",
           "#FF97FF",
           "#FECB52"
          ],
          "font": {
           "color": "#2a3f5f"
          },
          "geo": {
           "bgcolor": "white",
           "lakecolor": "white",
           "landcolor": "#E5ECF6",
           "showlakes": true,
           "showland": true,
           "subunitcolor": "white"
          },
          "hoverlabel": {
           "align": "left"
          },
          "hovermode": "closest",
          "mapbox": {
           "style": "light"
          },
          "paper_bgcolor": "white",
          "plot_bgcolor": "#E5ECF6",
          "polar": {
           "angularaxis": {
            "gridcolor": "white",
            "linecolor": "white",
            "ticks": ""
           },
           "bgcolor": "#E5ECF6",
           "radialaxis": {
            "gridcolor": "white",
            "linecolor": "white",
            "ticks": ""
           }
          },
          "scene": {
           "xaxis": {
            "backgroundcolor": "#E5ECF6",
            "gridcolor": "white",
            "gridwidth": 2,
            "linecolor": "white",
            "showbackground": true,
            "ticks": "",
            "zerolinecolor": "white"
           },
           "yaxis": {
            "backgroundcolor": "#E5ECF6",
            "gridcolor": "white",
            "gridwidth": 2,
            "linecolor": "white",
            "showbackground": true,
            "ticks": "",
            "zerolinecolor": "white"
           },
           "zaxis": {
            "backgroundcolor": "#E5ECF6",
            "gridcolor": "white",
            "gridwidth": 2,
            "linecolor": "white",
            "showbackground": true,
            "ticks": "",
            "zerolinecolor": "white"
           }
          },
          "shapedefaults": {
           "line": {
            "color": "#2a3f5f"
           }
          },
          "ternary": {
           "aaxis": {
            "gridcolor": "white",
            "linecolor": "white",
            "ticks": ""
           },
           "baxis": {
            "gridcolor": "white",
            "linecolor": "white",
            "ticks": ""
           },
           "bgcolor": "#E5ECF6",
           "caxis": {
            "gridcolor": "white",
            "linecolor": "white",
            "ticks": ""
           }
          },
          "title": {
           "x": 0.05
          },
          "xaxis": {
           "automargin": true,
           "gridcolor": "white",
           "linecolor": "white",
           "ticks": "",
           "title": {
            "standoff": 15
           },
           "zerolinecolor": "white",
           "zerolinewidth": 2
          },
          "yaxis": {
           "automargin": true,
           "gridcolor": "white",
           "linecolor": "white",
           "ticks": "",
           "title": {
            "standoff": 15
           },
           "zerolinecolor": "white",
           "zerolinewidth": 2
          }
         }
        },
        "title": {
         "subtitle": {
          "text": "Maligno (0) e Benigno (1)"
         },
         "text": "Distribuição de Mean Radius por Diagnóstico"
        },
        "xaxis": {
         "anchor": "y",
         "categoryarray": [
          0,
          1
         ],
         "categoryorder": "array",
         "domain": [
          0,
          1
         ],
         "title": {
          "text": "diagnosis"
         }
        },
        "yaxis": {
         "anchor": "x",
         "domain": [
          0,
          1
         ],
         "title": {
          "text": "mean_radius"
         }
        }
       }
      }
     },
     "metadata": {},
     "output_type": "display_data"
    },
    {
     "data": {
      "application/vnd.plotly.v1+json": {
       "config": {
        "plotlyServerURL": "https://plot.ly"
       },
       "data": [
        {
         "alignmentgroup": "True",
         "hovertemplate": "diagnosis=%{x}<br>mean_texture=%{y}<extra></extra>",
         "legendgroup": "0",
         "marker": {
          "color": "#f6abb6"
         },
         "name": "0",
         "notched": false,
         "offsetgroup": "0",
         "orientation": "v",
         "showlegend": true,
         "type": "box",
         "x": {
          "bdata": "AAAAAAAAAAAAAAAAAAAAAAAAAAAAAAAAAAAAAAAAAAAAAAAAAAAAAAAAAAAAAAAAAAAAAAAAAAAAAAAAAAAAAAAAAAAAAAAAAAAAAAAAAAAAAAAAAAAAAAAAAAAAAAAAAAAAAAAAAAAAAAAAAAAAAAAAAAAAAAAAAAAAAAAAAAAAAAAAAAAAAAAAAAAAAAAAAAAAAAAAAAAAAAAAAAAAAAAAAAAAAAAAAAAAAAAAAAAAAAAAAAAAAAAAAAAAAAAAAAAAAAAAAAAAAAAAAAAAAAAAAAA=",
          "dtype": "i1"
         },
         "x0": " ",
         "xaxis": "x",
         "y": {
          "bdata": "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",
          "dtype": "f8"
         },
         "y0": " ",
         "yaxis": "y"
        },
        {
         "alignmentgroup": "True",
         "hovertemplate": "diagnosis=%{x}<br>mean_texture=%{y}<extra></extra>",
         "legendgroup": "1",
         "marker": {
          "color": "#A865C9"
         },
         "name": "1",
         "notched": false,
         "offsetgroup": "1",
         "orientation": "v",
         "showlegend": true,
         "type": "box",
         "x": {
          "bdata": "AQEBAQEBAQEBAQEBAQEBAQEBAQEBAQEBAQEBAQEBAQEBAQEBAQEBAQEBAQEBAQEBAQEBAQEBAQEBAQEBAQEBAQEBAQEBAQEBAQEBAQEBAQEBAQEBAQEBAQEBAQEBAQEBAQEBAQEBAQEBAQEBAQEBAQEBAQEBAQEBAQEBAQEBAQEBAQEBAQEBAQEBAQEBAQEBAQEBAQEBAQEBAQEBAQEBAQEBAQEBAQEBAQEBAQEBAQEBAQEBAQEBAQEBAQEBAQEBAQEBAQEBAQEBAQEBAQEBAQEBAQEBAQEBAQEBAQEBAQEBAQEBAQEBAQEBAQEBAQEBAQEBAQEBAQEBAQEBAQEBAQEBAQEBAQEBAQEBAQEBAQEBAQEBAQEBAQEBAQEBAQEBAQEBAQEBAQEBAQEBAQEBAQEBAQEBAQEBAQEBAQEBAQEBAQEBAQEBAQEBAQEBAQEBAQEBAQEBAQEBAQEBAQEBAQEBAQEB",
          "dtype": "i1"
         },
         "x0": " ",
         "xaxis": "x",
         "y": {
          "bdata": "uB6F61G4LEDsUbgehWsvQOF6FK5H4ShA7FG4HoVrMkDXo3A9CtcwQMP1KFyPQi1AzczMzMxMNkCamZmZmZk1QNejcD0KVzBAPQrXo3A9MkAAAAAAAMAyQI/C9ShcTzNAFK5H4XqUJ0DD9Shcj8ItQHsUrkfh+jRAuB6F61G4K0DD9ShcjwI1QArXo3A9CjNAFK5H4XpUMUA9CtejcH0wQEjhehSuRy1AhetRuB6FMEDhehSuR+ElQAAAAAAAADJAuB6F61H4NEC4HoXrUbgvQM3MzMzMTC9AzczMzMzMNUB7FK5H4XouQIXrUbgeBThAhetRuB6FLUDNzMzMzEwyQNejcD0K1zFAcT0K16PwM0CuR+F6FK4pQFyPwvUo3CpAhetRuB6FNEBmZmZmZmYzQArXo3A9SjNAFK5H4XpUMkAK16NwPYoyQMP1KFyPQjVAPQrXo3D9MEDD9Shcj8I0QGZmZmZmpjNAcT0K16MwNEApXI/C9agvQEjhehSuhzVAhetRuB6FL0CkcD0K16MlQEjhehSuxyVApHA9CtdjMED2KFyPwjUxQKRwPQrXYzBAFK5H4XqUKkBcj8L1KNwrQOxRuB6FqzBASOF6FK7HLkBI4XoUrscqQHE9Ctej8CdAj8L1KFxPMUDXo3A9CtcvQHE9Ctej8C1AzczMzMxMLUCF61G4HsUyQFyPwvUoXC5AKVyPwvXoMUBI4XoUrsc0QDMzMzMzszRArkfhehSuLkApXI/C9SgqQK5H4XoUri5AcT0K16PwMUD2KFyPwnUzQHsUrkfheilA7FG4HoXrKUCuR+F6FC40QLgehetRODZAw/UoXI/CM0DsUbgehWsjQDMzMzMz8zBASOF6FK7HKEDsUbgehWstQM3MzMzMTC5AZmZmZmbmLECPwvUoXA8yQLgehetRODZAH4XrUbgeKkDXo3A9CtctQLgehetROC5AcT0K16MwMUCkcD0K12MxQM3MzMzMzC9AKVyPwvVoNUC4HoXrUTgyQBSuR+F6VDBAj8L1KFyPM0CamZmZmZkyQIXrUbgeRTFACtejcD2KNkBSuB6F69EpQHE9Ctej8DJAmpmZmZlZMkB7FK5H4XoxQFK4HoXrUSpAzczMzMzMK0BI4XoUrocxQIXrUbgeBTFAcT0K16PwKkDsUbgehesuQIXrUbgeBS9AuB6F61H4N0AUrkfhehQ7QEjhehSu50BAUrgehevRL0AAAAAAAEA1QJqZmZmZ2TtAMzMzMzMzL0AUrkfhehQuQHE9CtejMDJAhetRuB7FN0Bcj8L1KNwzQK5H4XoUbjFAuB6F61E4LEC4HoXrUTg5QFyPwvUo3C1AMzMzMzNzMkAzMzMzM/MyQNejcD0K1zVA9ihcj8I1MECkcD0K12M0QFK4HoXr0TBAFK5H4XoUKkDXo3A9ClcvQFyPwvUoXDFAUrgehetRLEDXo3A9CtcxQFyPwvUoXC5ACtejcD0KLEBmZmZmZmYvQGZmZmZmZjJAw/UoXI/CNEA9CtejcD0qQPYoXI/C9TNApHA9CtfjMkB7FK5H4bozQJqZmZmZGTNAhetRuB4FMED2KFyPwnUxQI/C9ShcjytACtejcD2KKkAzMzMzM7MoQOxRuB6FKzJA16NwPQoXN0CkcD0K1+MzQFyPwvUonDJAKVyPwvUoMkA9CtejcH04QKRwPQrXoy9AzczMzMzMLEDsUbgehWspQK5H4XoUritAXI/C9SgcM0DhehSuR2EvQD0K16NwvSpAcT0K16NwJUCamZmZmZkyQJqZmZmZ2TBAKVyPwvUoLEBmZmZmZuYyQAAAAAAAADFArkfhehQuMECkcD0K16MqQOxRuB6Fay5AzczMzMxMMUDD9Shcj8IpQK5H4XoU7jFAmpmZmZlZM0Bcj8L1KNwzQI/C9Shcjy1AhetRuB4FM0D2KFyPwnUsQEjhehSuhzFACtejcD2KMEDXo3A9CtcwQOxRuB6F6y1AZmZmZmbmLkDsUbgehWstQGZmZmZm5jJAexSuR+F6LUBI4XoUrgcwQOxRuB6F6y1AUrgehesRMUCkcD0K1yMsQFK4HoXrETNA16NwPQqXMkD2KFyPwjUwQHsUrkfh+i5AUrgehetRMkBSuB6F6xEyQFK4HoXrkTVA16NwPQrXMkAK16NwPUoyQDMzMzMz8zBAhetRuB4FMkDsUbgehWsqQFK4HoXrETBAUrgehesRMEC4HoXrUTg0QPYoXI/CNTxAzczMzMxMLkDsUbgehespQFyPwvUo3C1AuB6F61G4NkB7FK5H4XoxQHE9CtejcCtArkfhehQuLEApXI/C9SgwQAAAAAAAAC9AcT0K16NwKEDXo3A9CtcwQLgehetRuDFArkfhehQuMUCkcD0K1+MyQPYoXI/CdTFAKVyPwvWoLUDD9Shcj0IxQFK4HoXr0SVACtejcD1KMkDsUbgehSswQGZmZmZm5i1A16NwPQqXMkC4HoXrUbgtQB+F61G4XjVA7FG4HoXrMUBSuB6F65ExQBSuR+F61DBArkfhehSuNUBcj8L1KBw2QOxRuB6FKzVAMzMzMzOzNUDXo3A9ClcoQClcj8L1aDVACtejcD0KM0D2KFyPwvUrQIXrUbgeBTBA4XoUrkchM0AfhetRuB4zQEjhehSuRzVA9ihcj8L1LUB7FK5H4fo1QB+F61G4njBA7FG4HoWrMUCuR+F6FK4xQHE9Ctej8DBACtejcD2KM0D2KFyPwvUvQJqZmZmZmTNAUrgehetRL0AzMzMzMzMxQBSuR+F6lC9AUrgehetRMkCkcD0K1+M4QClcj8L1qDFA16NwPQpXM0AK16NwPYo1QHsUrkfhOjxA9ihcj8L1K0BmZmZmZiYxQLgehetRuD5ACtejcD1KPUAAAAAAAEA5QOF6FK5HITlAMzMzMzMzPEA9CtejcP06QFyPwvUoXDJAuB6F61E4MkDhehSuRyE0QD0K16NwvTRAmpmZmZkZMkCuR+F6FC4yQD0K16NwfTJApHA9CtcjPEBcj8L1KNwtQLgehetR+D1APQrXo3A9L0D2KFyPwnUvQEjhehSuhzRAH4XrUbieMECuR+F6FC4tQEjhehSuBzJAPQrXo3A9M0AfhetRuB4sQKRwPQrXozFAj8L1KFyPJkApXI/C9WgwQJqZmZmZ2TBA7FG4HoUrMEBxPQrXo3A2QPYoXI/CdSpAKVyPwvWoKUAK16NwPYo0QPYoXI/CNTRA7FG4HoUrMkCPwvUoXE8xQD0K16NwvTBAUrgehetRMEA9CtejcL0pQEjhehSuRypACtejcD0KNEAfhetRuB4xQGZmZmZmZi9A4XoUrkdhLUBmZmZmZmYtQFK4HoXrUStAXI/C9SicMkC4HoXrUTgyQDMzMzMzszBAzczMzMzMK0AUrkfhetQzQK5H4XoUrjJAXI/C9ShcL0AzMzMzMzMqQAAAAAAAwDJACtejcD2KKEDXo3A9ClcqQOF6FK5H4SpAj8L1KFyPMUCF61G4HgU0QBSuR+F6VDBAH4XrUbieMUBxPQrXo3A4QD0K16NwfTlAcT0K16NwOUDhehSuR+EsQD0K16Nw/ThA7FG4HoVrOUCPwvUoXA88QDMzMzMzszRAexSuR+E6N0CamZmZmVkwQBSuR+F6lDBA16NwPQpXM0D2KFyPwjU4QHsUrkfhejVAcT0K16NwNkCuR+F6FG49QHE9Ctej8DVA7FG4HoXrPEBcj8L1KJw7QNejcD0KlzNA4XoUrkfhO0CuR+F6FK42QK5H4XoU7jdAZmZmZmYmO0AfhetRuF49QArXo3A9ijhA",
          "dtype": "f8"
         },
         "y0": " ",
         "yaxis": "y"
        }
       ],
       "layout": {
        "boxmode": "overlay",
        "legend": {
         "title": {
          "text": "diagnosis"
         },
         "tracegroupgap": 0
        },
        "template": {
         "data": {
          "bar": [
           {
            "error_x": {
             "color": "#2a3f5f"
            },
            "error_y": {
             "color": "#2a3f5f"
            },
            "marker": {
             "line": {
              "color": "#E5ECF6",
              "width": 0.5
             },
             "pattern": {
              "fillmode": "overlay",
              "size": 10,
              "solidity": 0.2
             }
            },
            "type": "bar"
           }
          ],
          "barpolar": [
           {
            "marker": {
             "line": {
              "color": "#E5ECF6",
              "width": 0.5
             },
             "pattern": {
              "fillmode": "overlay",
              "size": 10,
              "solidity": 0.2
             }
            },
            "type": "barpolar"
           }
          ],
          "carpet": [
           {
            "aaxis": {
             "endlinecolor": "#2a3f5f",
             "gridcolor": "white",
             "linecolor": "white",
             "minorgridcolor": "white",
             "startlinecolor": "#2a3f5f"
            },
            "baxis": {
             "endlinecolor": "#2a3f5f",
             "gridcolor": "white",
             "linecolor": "white",
             "minorgridcolor": "white",
             "startlinecolor": "#2a3f5f"
            },
            "type": "carpet"
           }
          ],
          "choropleth": [
           {
            "colorbar": {
             "outlinewidth": 0,
             "ticks": ""
            },
            "type": "choropleth"
           }
          ],
          "contour": [
           {
            "colorbar": {
             "outlinewidth": 0,
             "ticks": ""
            },
            "colorscale": [
             [
              0,
              "#0d0887"
             ],
             [
              0.1111111111111111,
              "#46039f"
             ],
             [
              0.2222222222222222,
              "#7201a8"
             ],
             [
              0.3333333333333333,
              "#9c179e"
             ],
             [
              0.4444444444444444,
              "#bd3786"
             ],
             [
              0.5555555555555556,
              "#d8576b"
             ],
             [
              0.6666666666666666,
              "#ed7953"
             ],
             [
              0.7777777777777778,
              "#fb9f3a"
             ],
             [
              0.8888888888888888,
              "#fdca26"
             ],
             [
              1,
              "#f0f921"
             ]
            ],
            "type": "contour"
           }
          ],
          "contourcarpet": [
           {
            "colorbar": {
             "outlinewidth": 0,
             "ticks": ""
            },
            "type": "contourcarpet"
           }
          ],
          "heatmap": [
           {
            "colorbar": {
             "outlinewidth": 0,
             "ticks": ""
            },
            "colorscale": [
             [
              0,
              "#0d0887"
             ],
             [
              0.1111111111111111,
              "#46039f"
             ],
             [
              0.2222222222222222,
              "#7201a8"
             ],
             [
              0.3333333333333333,
              "#9c179e"
             ],
             [
              0.4444444444444444,
              "#bd3786"
             ],
             [
              0.5555555555555556,
              "#d8576b"
             ],
             [
              0.6666666666666666,
              "#ed7953"
             ],
             [
              0.7777777777777778,
              "#fb9f3a"
             ],
             [
              0.8888888888888888,
              "#fdca26"
             ],
             [
              1,
              "#f0f921"
             ]
            ],
            "type": "heatmap"
           }
          ],
          "histogram": [
           {
            "marker": {
             "pattern": {
              "fillmode": "overlay",
              "size": 10,
              "solidity": 0.2
             }
            },
            "type": "histogram"
           }
          ],
          "histogram2d": [
           {
            "colorbar": {
             "outlinewidth": 0,
             "ticks": ""
            },
            "colorscale": [
             [
              0,
              "#0d0887"
             ],
             [
              0.1111111111111111,
              "#46039f"
             ],
             [
              0.2222222222222222,
              "#7201a8"
             ],
             [
              0.3333333333333333,
              "#9c179e"
             ],
             [
              0.4444444444444444,
              "#bd3786"
             ],
             [
              0.5555555555555556,
              "#d8576b"
             ],
             [
              0.6666666666666666,
              "#ed7953"
             ],
             [
              0.7777777777777778,
              "#fb9f3a"
             ],
             [
              0.8888888888888888,
              "#fdca26"
             ],
             [
              1,
              "#f0f921"
             ]
            ],
            "type": "histogram2d"
           }
          ],
          "histogram2dcontour": [
           {
            "colorbar": {
             "outlinewidth": 0,
             "ticks": ""
            },
            "colorscale": [
             [
              0,
              "#0d0887"
             ],
             [
              0.1111111111111111,
              "#46039f"
             ],
             [
              0.2222222222222222,
              "#7201a8"
             ],
             [
              0.3333333333333333,
              "#9c179e"
             ],
             [
              0.4444444444444444,
              "#bd3786"
             ],
             [
              0.5555555555555556,
              "#d8576b"
             ],
             [
              0.6666666666666666,
              "#ed7953"
             ],
             [
              0.7777777777777778,
              "#fb9f3a"
             ],
             [
              0.8888888888888888,
              "#fdca26"
             ],
             [
              1,
              "#f0f921"
             ]
            ],
            "type": "histogram2dcontour"
           }
          ],
          "mesh3d": [
           {
            "colorbar": {
             "outlinewidth": 0,
             "ticks": ""
            },
            "type": "mesh3d"
           }
          ],
          "parcoords": [
           {
            "line": {
             "colorbar": {
              "outlinewidth": 0,
              "ticks": ""
             }
            },
            "type": "parcoords"
           }
          ],
          "pie": [
           {
            "automargin": true,
            "type": "pie"
           }
          ],
          "scatter": [
           {
            "fillpattern": {
             "fillmode": "overlay",
             "size": 10,
             "solidity": 0.2
            },
            "type": "scatter"
           }
          ],
          "scatter3d": [
           {
            "line": {
             "colorbar": {
              "outlinewidth": 0,
              "ticks": ""
             }
            },
            "marker": {
             "colorbar": {
              "outlinewidth": 0,
              "ticks": ""
             }
            },
            "type": "scatter3d"
           }
          ],
          "scattercarpet": [
           {
            "marker": {
             "colorbar": {
              "outlinewidth": 0,
              "ticks": ""
             }
            },
            "type": "scattercarpet"
           }
          ],
          "scattergeo": [
           {
            "marker": {
             "colorbar": {
              "outlinewidth": 0,
              "ticks": ""
             }
            },
            "type": "scattergeo"
           }
          ],
          "scattergl": [
           {
            "marker": {
             "colorbar": {
              "outlinewidth": 0,
              "ticks": ""
             }
            },
            "type": "scattergl"
           }
          ],
          "scattermap": [
           {
            "marker": {
             "colorbar": {
              "outlinewidth": 0,
              "ticks": ""
             }
            },
            "type": "scattermap"
           }
          ],
          "scattermapbox": [
           {
            "marker": {
             "colorbar": {
              "outlinewidth": 0,
              "ticks": ""
             }
            },
            "type": "scattermapbox"
           }
          ],
          "scatterpolar": [
           {
            "marker": {
             "colorbar": {
              "outlinewidth": 0,
              "ticks": ""
             }
            },
            "type": "scatterpolar"
           }
          ],
          "scatterpolargl": [
           {
            "marker": {
             "colorbar": {
              "outlinewidth": 0,
              "ticks": ""
             }
            },
            "type": "scatterpolargl"
           }
          ],
          "scatterternary": [
           {
            "marker": {
             "colorbar": {
              "outlinewidth": 0,
              "ticks": ""
             }
            },
            "type": "scatterternary"
           }
          ],
          "surface": [
           {
            "colorbar": {
             "outlinewidth": 0,
             "ticks": ""
            },
            "colorscale": [
             [
              0,
              "#0d0887"
             ],
             [
              0.1111111111111111,
              "#46039f"
             ],
             [
              0.2222222222222222,
              "#7201a8"
             ],
             [
              0.3333333333333333,
              "#9c179e"
             ],
             [
              0.4444444444444444,
              "#bd3786"
             ],
             [
              0.5555555555555556,
              "#d8576b"
             ],
             [
              0.6666666666666666,
              "#ed7953"
             ],
             [
              0.7777777777777778,
              "#fb9f3a"
             ],
             [
              0.8888888888888888,
              "#fdca26"
             ],
             [
              1,
              "#f0f921"
             ]
            ],
            "type": "surface"
           }
          ],
          "table": [
           {
            "cells": {
             "fill": {
              "color": "#EBF0F8"
             },
             "line": {
              "color": "white"
             }
            },
            "header": {
             "fill": {
              "color": "#C8D4E3"
             },
             "line": {
              "color": "white"
             }
            },
            "type": "table"
           }
          ]
         },
         "layout": {
          "annotationdefaults": {
           "arrowcolor": "#2a3f5f",
           "arrowhead": 0,
           "arrowwidth": 1
          },
          "autotypenumbers": "strict",
          "coloraxis": {
           "colorbar": {
            "outlinewidth": 0,
            "ticks": ""
           }
          },
          "colorscale": {
           "diverging": [
            [
             0,
             "#8e0152"
            ],
            [
             0.1,
             "#c51b7d"
            ],
            [
             0.2,
             "#de77ae"
            ],
            [
             0.3,
             "#f1b6da"
            ],
            [
             0.4,
             "#fde0ef"
            ],
            [
             0.5,
             "#f7f7f7"
            ],
            [
             0.6,
             "#e6f5d0"
            ],
            [
             0.7,
             "#b8e186"
            ],
            [
             0.8,
             "#7fbc41"
            ],
            [
             0.9,
             "#4d9221"
            ],
            [
             1,
             "#276419"
            ]
           ],
           "sequential": [
            [
             0,
             "#0d0887"
            ],
            [
             0.1111111111111111,
             "#46039f"
            ],
            [
             0.2222222222222222,
             "#7201a8"
            ],
            [
             0.3333333333333333,
             "#9c179e"
            ],
            [
             0.4444444444444444,
             "#bd3786"
            ],
            [
             0.5555555555555556,
             "#d8576b"
            ],
            [
             0.6666666666666666,
             "#ed7953"
            ],
            [
             0.7777777777777778,
             "#fb9f3a"
            ],
            [
             0.8888888888888888,
             "#fdca26"
            ],
            [
             1,
             "#f0f921"
            ]
           ],
           "sequentialminus": [
            [
             0,
             "#0d0887"
            ],
            [
             0.1111111111111111,
             "#46039f"
            ],
            [
             0.2222222222222222,
             "#7201a8"
            ],
            [
             0.3333333333333333,
             "#9c179e"
            ],
            [
             0.4444444444444444,
             "#bd3786"
            ],
            [
             0.5555555555555556,
             "#d8576b"
            ],
            [
             0.6666666666666666,
             "#ed7953"
            ],
            [
             0.7777777777777778,
             "#fb9f3a"
            ],
            [
             0.8888888888888888,
             "#fdca26"
            ],
            [
             1,
             "#f0f921"
            ]
           ]
          },
          "colorway": [
           "#636efa",
           "#EF553B",
           "#00cc96",
           "#ab63fa",
           "#FFA15A",
           "#19d3f3",
           "#FF6692",
           "#B6E880",
           "#FF97FF",
           "#FECB52"
          ],
          "font": {
           "color": "#2a3f5f"
          },
          "geo": {
           "bgcolor": "white",
           "lakecolor": "white",
           "landcolor": "#E5ECF6",
           "showlakes": true,
           "showland": true,
           "subunitcolor": "white"
          },
          "hoverlabel": {
           "align": "left"
          },
          "hovermode": "closest",
          "mapbox": {
           "style": "light"
          },
          "paper_bgcolor": "white",
          "plot_bgcolor": "#E5ECF6",
          "polar": {
           "angularaxis": {
            "gridcolor": "white",
            "linecolor": "white",
            "ticks": ""
           },
           "bgcolor": "#E5ECF6",
           "radialaxis": {
            "gridcolor": "white",
            "linecolor": "white",
            "ticks": ""
           }
          },
          "scene": {
           "xaxis": {
            "backgroundcolor": "#E5ECF6",
            "gridcolor": "white",
            "gridwidth": 2,
            "linecolor": "white",
            "showbackground": true,
            "ticks": "",
            "zerolinecolor": "white"
           },
           "yaxis": {
            "backgroundcolor": "#E5ECF6",
            "gridcolor": "white",
            "gridwidth": 2,
            "linecolor": "white",
            "showbackground": true,
            "ticks": "",
            "zerolinecolor": "white"
           },
           "zaxis": {
            "backgroundcolor": "#E5ECF6",
            "gridcolor": "white",
            "gridwidth": 2,
            "linecolor": "white",
            "showbackground": true,
            "ticks": "",
            "zerolinecolor": "white"
           }
          },
          "shapedefaults": {
           "line": {
            "color": "#2a3f5f"
           }
          },
          "ternary": {
           "aaxis": {
            "gridcolor": "white",
            "linecolor": "white",
            "ticks": ""
           },
           "baxis": {
            "gridcolor": "white",
            "linecolor": "white",
            "ticks": ""
           },
           "bgcolor": "#E5ECF6",
           "caxis": {
            "gridcolor": "white",
            "linecolor": "white",
            "ticks": ""
           }
          },
          "title": {
           "x": 0.05
          },
          "xaxis": {
           "automargin": true,
           "gridcolor": "white",
           "linecolor": "white",
           "ticks": "",
           "title": {
            "standoff": 15
           },
           "zerolinecolor": "white",
           "zerolinewidth": 2
          },
          "yaxis": {
           "automargin": true,
           "gridcolor": "white",
           "linecolor": "white",
           "ticks": "",
           "title": {
            "standoff": 15
           },
           "zerolinecolor": "white",
           "zerolinewidth": 2
          }
         }
        },
        "title": {
         "subtitle": {
          "text": "Maligno (0) e Benigno (1)"
         },
         "text": "Distribuição de Mean Texture por Diagnóstico"
        },
        "xaxis": {
         "anchor": "y",
         "categoryarray": [
          0,
          1
         ],
         "categoryorder": "array",
         "domain": [
          0,
          1
         ],
         "title": {
          "text": "diagnosis"
         }
        },
        "yaxis": {
         "anchor": "x",
         "domain": [
          0,
          1
         ],
         "title": {
          "text": "mean_texture"
         }
        }
       }
      }
     },
     "metadata": {},
     "output_type": "display_data"
    },
    {
     "data": {
      "application/vnd.plotly.v1+json": {
       "config": {
        "plotlyServerURL": "https://plot.ly"
       },
       "data": [
        {
         "alignmentgroup": "True",
         "hovertemplate": "diagnosis=%{x}<br>mean_perimeter=%{y}<extra></extra>",
         "legendgroup": "0",
         "marker": {
          "color": "#f6abb6"
         },
         "name": "0",
         "notched": false,
         "offsetgroup": "0",
         "orientation": "v",
         "showlegend": true,
         "type": "box",
         "x": {
          "bdata": "AAAAAAAAAAAAAAAAAAAAAAAAAAAAAAAAAAAAAAAAAAAAAAAAAAAAAAAAAAAAAAAAAAAAAAAAAAAAAAAAAAAAAAAAAAAAAAAAAAAAAAAAAAAAAAAAAAAAAAAAAAAAAAAAAAAAAAAAAAAAAAAAAAAAAAAAAAAAAAAAAAAAAAAAAAAAAAAAAAAAAAAAAAAAAAAAAAAAAAAAAAAAAAAAAAAAAAAAAAAAAAAAAAAAAAAAAAAAAAAAAAAAAAAAAAAAAAAAAAAAAAAAAAAAAAAAAAAAAAAAAAA=",
          "dtype": "i1"
         },
         "x0": " ",
         "xaxis": "x",
         "y": {
          "bdata": "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",
          "dtype": "f8"
         },
         "y0": " ",
         "yaxis": "y"
        },
        {
         "alignmentgroup": "True",
         "hovertemplate": "diagnosis=%{x}<br>mean_perimeter=%{y}<extra></extra>",
         "legendgroup": "1",
         "marker": {
          "color": "#A865C9"
         },
         "name": "1",
         "notched": false,
         "offsetgroup": "1",
         "orientation": "v",
         "showlegend": true,
         "type": "box",
         "x": {
          "bdata": "AQEBAQEBAQEBAQEBAQEBAQEBAQEBAQEBAQEBAQEBAQEBAQEBAQEBAQEBAQEBAQEBAQEBAQEBAQEBAQEBAQEBAQEBAQEBAQEBAQEBAQEBAQEBAQEBAQEBAQEBAQEBAQEBAQEBAQEBAQEBAQEBAQEBAQEBAQEBAQEBAQEBAQEBAQEBAQEBAQEBAQEBAQEBAQEBAQEBAQEBAQEBAQEBAQEBAQEBAQEBAQEBAQEBAQEBAQEBAQEBAQEBAQEBAQEBAQEBAQEBAQEBAQEBAQEBAQEBAQEBAQEBAQEBAQEBAQEBAQEBAQEBAQEBAQEBAQEBAQEBAQEBAQEBAQEBAQEBAQEBAQEBAQEBAQEBAQEBAQEBAQEBAQEBAQEBAQEBAQEBAQEBAQEBAQEBAQEBAQEBAQEBAQEBAQEBAQEBAQEBAQEBAQEBAQEBAQEBAQEBAQEBAQEBAQEBAQEBAQEBAQEBAQEBAQEBAQEB",
          "dtype": "i1"
         },
         "x0": " ",
         "xaxis": "x",
         "y": {
          "bdata": "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",
          "dtype": "f8"
         },
         "y0": " ",
         "yaxis": "y"
        }
       ],
       "layout": {
        "boxmode": "overlay",
        "legend": {
         "title": {
          "text": "diagnosis"
         },
         "tracegroupgap": 0
        },
        "template": {
         "data": {
          "bar": [
           {
            "error_x": {
             "color": "#2a3f5f"
            },
            "error_y": {
             "color": "#2a3f5f"
            },
            "marker": {
             "line": {
              "color": "#E5ECF6",
              "width": 0.5
             },
             "pattern": {
              "fillmode": "overlay",
              "size": 10,
              "solidity": 0.2
             }
            },
            "type": "bar"
           }
          ],
          "barpolar": [
           {
            "marker": {
             "line": {
              "color": "#E5ECF6",
              "width": 0.5
             },
             "pattern": {
              "fillmode": "overlay",
              "size": 10,
              "solidity": 0.2
             }
            },
            "type": "barpolar"
           }
          ],
          "carpet": [
           {
            "aaxis": {
             "endlinecolor": "#2a3f5f",
             "gridcolor": "white",
             "linecolor": "white",
             "minorgridcolor": "white",
             "startlinecolor": "#2a3f5f"
            },
            "baxis": {
             "endlinecolor": "#2a3f5f",
             "gridcolor": "white",
             "linecolor": "white",
             "minorgridcolor": "white",
             "startlinecolor": "#2a3f5f"
            },
            "type": "carpet"
           }
          ],
          "choropleth": [
           {
            "colorbar": {
             "outlinewidth": 0,
             "ticks": ""
            },
            "type": "choropleth"
           }
          ],
          "contour": [
           {
            "colorbar": {
             "outlinewidth": 0,
             "ticks": ""
            },
            "colorscale": [
             [
              0,
              "#0d0887"
             ],
             [
              0.1111111111111111,
              "#46039f"
             ],
             [
              0.2222222222222222,
              "#7201a8"
             ],
             [
              0.3333333333333333,
              "#9c179e"
             ],
             [
              0.4444444444444444,
              "#bd3786"
             ],
             [
              0.5555555555555556,
              "#d8576b"
             ],
             [
              0.6666666666666666,
              "#ed7953"
             ],
             [
              0.7777777777777778,
              "#fb9f3a"
             ],
             [
              0.8888888888888888,
              "#fdca26"
             ],
             [
              1,
              "#f0f921"
             ]
            ],
            "type": "contour"
           }
          ],
          "contourcarpet": [
           {
            "colorbar": {
             "outlinewidth": 0,
             "ticks": ""
            },
            "type": "contourcarpet"
           }
          ],
          "heatmap": [
           {
            "colorbar": {
             "outlinewidth": 0,
             "ticks": ""
            },
            "colorscale": [
             [
              0,
              "#0d0887"
             ],
             [
              0.1111111111111111,
              "#46039f"
             ],
             [
              0.2222222222222222,
              "#7201a8"
             ],
             [
              0.3333333333333333,
              "#9c179e"
             ],
             [
              0.4444444444444444,
              "#bd3786"
             ],
             [
              0.5555555555555556,
              "#d8576b"
             ],
             [
              0.6666666666666666,
              "#ed7953"
             ],
             [
              0.7777777777777778,
              "#fb9f3a"
             ],
             [
              0.8888888888888888,
              "#fdca26"
             ],
             [
              1,
              "#f0f921"
             ]
            ],
            "type": "heatmap"
           }
          ],
          "histogram": [
           {
            "marker": {
             "pattern": {
              "fillmode": "overlay",
              "size": 10,
              "solidity": 0.2
             }
            },
            "type": "histogram"
           }
          ],
          "histogram2d": [
           {
            "colorbar": {
             "outlinewidth": 0,
             "ticks": ""
            },
            "colorscale": [
             [
              0,
              "#0d0887"
             ],
             [
              0.1111111111111111,
              "#46039f"
             ],
             [
              0.2222222222222222,
              "#7201a8"
             ],
             [
              0.3333333333333333,
              "#9c179e"
             ],
             [
              0.4444444444444444,
              "#bd3786"
             ],
             [
              0.5555555555555556,
              "#d8576b"
             ],
             [
              0.6666666666666666,
              "#ed7953"
             ],
             [
              0.7777777777777778,
              "#fb9f3a"
             ],
             [
              0.8888888888888888,
              "#fdca26"
             ],
             [
              1,
              "#f0f921"
             ]
            ],
            "type": "histogram2d"
           }
          ],
          "histogram2dcontour": [
           {
            "colorbar": {
             "outlinewidth": 0,
             "ticks": ""
            },
            "colorscale": [
             [
              0,
              "#0d0887"
             ],
             [
              0.1111111111111111,
              "#46039f"
             ],
             [
              0.2222222222222222,
              "#7201a8"
             ],
             [
              0.3333333333333333,
              "#9c179e"
             ],
             [
              0.4444444444444444,
              "#bd3786"
             ],
             [
              0.5555555555555556,
              "#d8576b"
             ],
             [
              0.6666666666666666,
              "#ed7953"
             ],
             [
              0.7777777777777778,
              "#fb9f3a"
             ],
             [
              0.8888888888888888,
              "#fdca26"
             ],
             [
              1,
              "#f0f921"
             ]
            ],
            "type": "histogram2dcontour"
           }
          ],
          "mesh3d": [
           {
            "colorbar": {
             "outlinewidth": 0,
             "ticks": ""
            },
            "type": "mesh3d"
           }
          ],
          "parcoords": [
           {
            "line": {
             "colorbar": {
              "outlinewidth": 0,
              "ticks": ""
             }
            },
            "type": "parcoords"
           }
          ],
          "pie": [
           {
            "automargin": true,
            "type": "pie"
           }
          ],
          "scatter": [
           {
            "fillpattern": {
             "fillmode": "overlay",
             "size": 10,
             "solidity": 0.2
            },
            "type": "scatter"
           }
          ],
          "scatter3d": [
           {
            "line": {
             "colorbar": {
              "outlinewidth": 0,
              "ticks": ""
             }
            },
            "marker": {
             "colorbar": {
              "outlinewidth": 0,
              "ticks": ""
             }
            },
            "type": "scatter3d"
           }
          ],
          "scattercarpet": [
           {
            "marker": {
             "colorbar": {
              "outlinewidth": 0,
              "ticks": ""
             }
            },
            "type": "scattercarpet"
           }
          ],
          "scattergeo": [
           {
            "marker": {
             "colorbar": {
              "outlinewidth": 0,
              "ticks": ""
             }
            },
            "type": "scattergeo"
           }
          ],
          "scattergl": [
           {
            "marker": {
             "colorbar": {
              "outlinewidth": 0,
              "ticks": ""
             }
            },
            "type": "scattergl"
           }
          ],
          "scattermap": [
           {
            "marker": {
             "colorbar": {
              "outlinewidth": 0,
              "ticks": ""
             }
            },
            "type": "scattermap"
           }
          ],
          "scattermapbox": [
           {
            "marker": {
             "colorbar": {
              "outlinewidth": 0,
              "ticks": ""
             }
            },
            "type": "scattermapbox"
           }
          ],
          "scatterpolar": [
           {
            "marker": {
             "colorbar": {
              "outlinewidth": 0,
              "ticks": ""
             }
            },
            "type": "scatterpolar"
           }
          ],
          "scatterpolargl": [
           {
            "marker": {
             "colorbar": {
              "outlinewidth": 0,
              "ticks": ""
             }
            },
            "type": "scatterpolargl"
           }
          ],
          "scatterternary": [
           {
            "marker": {
             "colorbar": {
              "outlinewidth": 0,
              "ticks": ""
             }
            },
            "type": "scatterternary"
           }
          ],
          "surface": [
           {
            "colorbar": {
             "outlinewidth": 0,
             "ticks": ""
            },
            "colorscale": [
             [
              0,
              "#0d0887"
             ],
             [
              0.1111111111111111,
              "#46039f"
             ],
             [
              0.2222222222222222,
              "#7201a8"
             ],
             [
              0.3333333333333333,
              "#9c179e"
             ],
             [
              0.4444444444444444,
              "#bd3786"
             ],
             [
              0.5555555555555556,
              "#d8576b"
             ],
             [
              0.6666666666666666,
              "#ed7953"
             ],
             [
              0.7777777777777778,
              "#fb9f3a"
             ],
             [
              0.8888888888888888,
              "#fdca26"
             ],
             [
              1,
              "#f0f921"
             ]
            ],
            "type": "surface"
           }
          ],
          "table": [
           {
            "cells": {
             "fill": {
              "color": "#EBF0F8"
             },
             "line": {
              "color": "white"
             }
            },
            "header": {
             "fill": {
              "color": "#C8D4E3"
             },
             "line": {
              "color": "white"
             }
            },
            "type": "table"
           }
          ]
         },
         "layout": {
          "annotationdefaults": {
           "arrowcolor": "#2a3f5f",
           "arrowhead": 0,
           "arrowwidth": 1
          },
          "autotypenumbers": "strict",
          "coloraxis": {
           "colorbar": {
            "outlinewidth": 0,
            "ticks": ""
           }
          },
          "colorscale": {
           "diverging": [
            [
             0,
             "#8e0152"
            ],
            [
             0.1,
             "#c51b7d"
            ],
            [
             0.2,
             "#de77ae"
            ],
            [
             0.3,
             "#f1b6da"
            ],
            [
             0.4,
             "#fde0ef"
            ],
            [
             0.5,
             "#f7f7f7"
            ],
            [
             0.6,
             "#e6f5d0"
            ],
            [
             0.7,
             "#b8e186"
            ],
            [
             0.8,
             "#7fbc41"
            ],
            [
             0.9,
             "#4d9221"
            ],
            [
             1,
             "#276419"
            ]
           ],
           "sequential": [
            [
             0,
             "#0d0887"
            ],
            [
             0.1111111111111111,
             "#46039f"
            ],
            [
             0.2222222222222222,
             "#7201a8"
            ],
            [
             0.3333333333333333,
             "#9c179e"
            ],
            [
             0.4444444444444444,
             "#bd3786"
            ],
            [
             0.5555555555555556,
             "#d8576b"
            ],
            [
             0.6666666666666666,
             "#ed7953"
            ],
            [
             0.7777777777777778,
             "#fb9f3a"
            ],
            [
             0.8888888888888888,
             "#fdca26"
            ],
            [
             1,
             "#f0f921"
            ]
           ],
           "sequentialminus": [
            [
             0,
             "#0d0887"
            ],
            [
             0.1111111111111111,
             "#46039f"
            ],
            [
             0.2222222222222222,
             "#7201a8"
            ],
            [
             0.3333333333333333,
             "#9c179e"
            ],
            [
             0.4444444444444444,
             "#bd3786"
            ],
            [
             0.5555555555555556,
             "#d8576b"
            ],
            [
             0.6666666666666666,
             "#ed7953"
            ],
            [
             0.7777777777777778,
             "#fb9f3a"
            ],
            [
             0.8888888888888888,
             "#fdca26"
            ],
            [
             1,
             "#f0f921"
            ]
           ]
          },
          "colorway": [
           "#636efa",
           "#EF553B",
           "#00cc96",
           "#ab63fa",
           "#FFA15A",
           "#19d3f3",
           "#FF6692",
           "#B6E880",
           "#FF97FF",
           "#FECB52"
          ],
          "font": {
           "color": "#2a3f5f"
          },
          "geo": {
           "bgcolor": "white",
           "lakecolor": "white",
           "landcolor": "#E5ECF6",
           "showlakes": true,
           "showland": true,
           "subunitcolor": "white"
          },
          "hoverlabel": {
           "align": "left"
          },
          "hovermode": "closest",
          "mapbox": {
           "style": "light"
          },
          "paper_bgcolor": "white",
          "plot_bgcolor": "#E5ECF6",
          "polar": {
           "angularaxis": {
            "gridcolor": "white",
            "linecolor": "white",
            "ticks": ""
           },
           "bgcolor": "#E5ECF6",
           "radialaxis": {
            "gridcolor": "white",
            "linecolor": "white",
            "ticks": ""
           }
          },
          "scene": {
           "xaxis": {
            "backgroundcolor": "#E5ECF6",
            "gridcolor": "white",
            "gridwidth": 2,
            "linecolor": "white",
            "showbackground": true,
            "ticks": "",
            "zerolinecolor": "white"
           },
           "yaxis": {
            "backgroundcolor": "#E5ECF6",
            "gridcolor": "white",
            "gridwidth": 2,
            "linecolor": "white",
            "showbackground": true,
            "ticks": "",
            "zerolinecolor": "white"
           },
           "zaxis": {
            "backgroundcolor": "#E5ECF6",
            "gridcolor": "white",
            "gridwidth": 2,
            "linecolor": "white",
            "showbackground": true,
            "ticks": "",
            "zerolinecolor": "white"
           }
          },
          "shapedefaults": {
           "line": {
            "color": "#2a3f5f"
           }
          },
          "ternary": {
           "aaxis": {
            "gridcolor": "white",
            "linecolor": "white",
            "ticks": ""
           },
           "baxis": {
            "gridcolor": "white",
            "linecolor": "white",
            "ticks": ""
           },
           "bgcolor": "#E5ECF6",
           "caxis": {
            "gridcolor": "white",
            "linecolor": "white",
            "ticks": ""
           }
          },
          "title": {
           "x": 0.05
          },
          "xaxis": {
           "automargin": true,
           "gridcolor": "white",
           "linecolor": "white",
           "ticks": "",
           "title": {
            "standoff": 15
           },
           "zerolinecolor": "white",
           "zerolinewidth": 2
          },
          "yaxis": {
           "automargin": true,
           "gridcolor": "white",
           "linecolor": "white",
           "ticks": "",
           "title": {
            "standoff": 15
           },
           "zerolinecolor": "white",
           "zerolinewidth": 2
          }
         }
        },
        "title": {
         "subtitle": {
          "text": "Maligno (0) e Benigno (1)"
         },
         "text": "Distribuição de Mean Perimeter por Diagnóstico"
        },
        "xaxis": {
         "anchor": "y",
         "categoryarray": [
          0,
          1
         ],
         "categoryorder": "array",
         "domain": [
          0,
          1
         ],
         "title": {
          "text": "diagnosis"
         }
        },
        "yaxis": {
         "anchor": "x",
         "domain": [
          0,
          1
         ],
         "title": {
          "text": "mean_perimeter"
         }
        }
       }
      }
     },
     "metadata": {},
     "output_type": "display_data"
    },
    {
     "data": {
      "application/vnd.plotly.v1+json": {
       "config": {
        "plotlyServerURL": "https://plot.ly"
       },
       "data": [
        {
         "alignmentgroup": "True",
         "hovertemplate": "diagnosis=%{x}<br>mean_area=%{y}<extra></extra>",
         "legendgroup": "0",
         "marker": {
          "color": "#f6abb6"
         },
         "name": "0",
         "notched": false,
         "offsetgroup": "0",
         "orientation": "v",
         "showlegend": true,
         "type": "box",
         "x": {
          "bdata": "AAAAAAAAAAAAAAAAAAAAAAAAAAAAAAAAAAAAAAAAAAAAAAAAAAAAAAAAAAAAAAAAAAAAAAAAAAAAAAAAAAAAAAAAAAAAAAAAAAAAAAAAAAAAAAAAAAAAAAAAAAAAAAAAAAAAAAAAAAAAAAAAAAAAAAAAAAAAAAAAAAAAAAAAAAAAAAAAAAAAAAAAAAAAAAAAAAAAAAAAAAAAAAAAAAAAAAAAAAAAAAAAAAAAAAAAAAAAAAAAAAAAAAAAAAAAAAAAAAAAAAAAAAAAAAAAAAAAAAAAAAA=",
          "dtype": "i1"
         },
         "x0": " ",
         "xaxis": "x",
         "y": {
          "bdata": "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",
          "dtype": "f8"
         },
         "y0": " ",
         "yaxis": "y"
        },
        {
         "alignmentgroup": "True",
         "hovertemplate": "diagnosis=%{x}<br>mean_area=%{y}<extra></extra>",
         "legendgroup": "1",
         "marker": {
          "color": "#A865C9"
         },
         "name": "1",
         "notched": false,
         "offsetgroup": "1",
         "orientation": "v",
         "showlegend": true,
         "type": "box",
         "x": {
          "bdata": "AQEBAQEBAQEBAQEBAQEBAQEBAQEBAQEBAQEBAQEBAQEBAQEBAQEBAQEBAQEBAQEBAQEBAQEBAQEBAQEBAQEBAQEBAQEBAQEBAQEBAQEBAQEBAQEBAQEBAQEBAQEBAQEBAQEBAQEBAQEBAQEBAQEBAQEBAQEBAQEBAQEBAQEBAQEBAQEBAQEBAQEBAQEBAQEBAQEBAQEBAQEBAQEBAQEBAQEBAQEBAQEBAQEBAQEBAQEBAQEBAQEBAQEBAQEBAQEBAQEBAQEBAQEBAQEBAQEBAQEBAQEBAQEBAQEBAQEBAQEBAQEBAQEBAQEBAQEBAQEBAQEBAQEBAQEBAQEBAQEBAQEBAQEBAQEBAQEBAQEBAQEBAQEBAQEBAQEBAQEBAQEBAQEBAQEBAQEBAQEBAQEBAQEBAQEBAQEBAQEBAQEBAQEBAQEBAQEBAQEBAQEBAQEBAQEBAQEBAQEBAQEBAQEBAQEBAQEB",
          "dtype": "i1"
         },
         "x0": " ",
         "xaxis": "x",
         "y": {
          "bdata": "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",
          "dtype": "f8"
         },
         "y0": " ",
         "yaxis": "y"
        }
       ],
       "layout": {
        "boxmode": "overlay",
        "legend": {
         "title": {
          "text": "diagnosis"
         },
         "tracegroupgap": 0
        },
        "template": {
         "data": {
          "bar": [
           {
            "error_x": {
             "color": "#2a3f5f"
            },
            "error_y": {
             "color": "#2a3f5f"
            },
            "marker": {
             "line": {
              "color": "#E5ECF6",
              "width": 0.5
             },
             "pattern": {
              "fillmode": "overlay",
              "size": 10,
              "solidity": 0.2
             }
            },
            "type": "bar"
           }
          ],
          "barpolar": [
           {
            "marker": {
             "line": {
              "color": "#E5ECF6",
              "width": 0.5
             },
             "pattern": {
              "fillmode": "overlay",
              "size": 10,
              "solidity": 0.2
             }
            },
            "type": "barpolar"
           }
          ],
          "carpet": [
           {
            "aaxis": {
             "endlinecolor": "#2a3f5f",
             "gridcolor": "white",
             "linecolor": "white",
             "minorgridcolor": "white",
             "startlinecolor": "#2a3f5f"
            },
            "baxis": {
             "endlinecolor": "#2a3f5f",
             "gridcolor": "white",
             "linecolor": "white",
             "minorgridcolor": "white",
             "startlinecolor": "#2a3f5f"
            },
            "type": "carpet"
           }
          ],
          "choropleth": [
           {
            "colorbar": {
             "outlinewidth": 0,
             "ticks": ""
            },
            "type": "choropleth"
           }
          ],
          "contour": [
           {
            "colorbar": {
             "outlinewidth": 0,
             "ticks": ""
            },
            "colorscale": [
             [
              0,
              "#0d0887"
             ],
             [
              0.1111111111111111,
              "#46039f"
             ],
             [
              0.2222222222222222,
              "#7201a8"
             ],
             [
              0.3333333333333333,
              "#9c179e"
             ],
             [
              0.4444444444444444,
              "#bd3786"
             ],
             [
              0.5555555555555556,
              "#d8576b"
             ],
             [
              0.6666666666666666,
              "#ed7953"
             ],
             [
              0.7777777777777778,
              "#fb9f3a"
             ],
             [
              0.8888888888888888,
              "#fdca26"
             ],
             [
              1,
              "#f0f921"
             ]
            ],
            "type": "contour"
           }
          ],
          "contourcarpet": [
           {
            "colorbar": {
             "outlinewidth": 0,
             "ticks": ""
            },
            "type": "contourcarpet"
           }
          ],
          "heatmap": [
           {
            "colorbar": {
             "outlinewidth": 0,
             "ticks": ""
            },
            "colorscale": [
             [
              0,
              "#0d0887"
             ],
             [
              0.1111111111111111,
              "#46039f"
             ],
             [
              0.2222222222222222,
              "#7201a8"
             ],
             [
              0.3333333333333333,
              "#9c179e"
             ],
             [
              0.4444444444444444,
              "#bd3786"
             ],
             [
              0.5555555555555556,
              "#d8576b"
             ],
             [
              0.6666666666666666,
              "#ed7953"
             ],
             [
              0.7777777777777778,
              "#fb9f3a"
             ],
             [
              0.8888888888888888,
              "#fdca26"
             ],
             [
              1,
              "#f0f921"
             ]
            ],
            "type": "heatmap"
           }
          ],
          "histogram": [
           {
            "marker": {
             "pattern": {
              "fillmode": "overlay",
              "size": 10,
              "solidity": 0.2
             }
            },
            "type": "histogram"
           }
          ],
          "histogram2d": [
           {
            "colorbar": {
             "outlinewidth": 0,
             "ticks": ""
            },
            "colorscale": [
             [
              0,
              "#0d0887"
             ],
             [
              0.1111111111111111,
              "#46039f"
             ],
             [
              0.2222222222222222,
              "#7201a8"
             ],
             [
              0.3333333333333333,
              "#9c179e"
             ],
             [
              0.4444444444444444,
              "#bd3786"
             ],
             [
              0.5555555555555556,
              "#d8576b"
             ],
             [
              0.6666666666666666,
              "#ed7953"
             ],
             [
              0.7777777777777778,
              "#fb9f3a"
             ],
             [
              0.8888888888888888,
              "#fdca26"
             ],
             [
              1,
              "#f0f921"
             ]
            ],
            "type": "histogram2d"
           }
          ],
          "histogram2dcontour": [
           {
            "colorbar": {
             "outlinewidth": 0,
             "ticks": ""
            },
            "colorscale": [
             [
              0,
              "#0d0887"
             ],
             [
              0.1111111111111111,
              "#46039f"
             ],
             [
              0.2222222222222222,
              "#7201a8"
             ],
             [
              0.3333333333333333,
              "#9c179e"
             ],
             [
              0.4444444444444444,
              "#bd3786"
             ],
             [
              0.5555555555555556,
              "#d8576b"
             ],
             [
              0.6666666666666666,
              "#ed7953"
             ],
             [
              0.7777777777777778,
              "#fb9f3a"
             ],
             [
              0.8888888888888888,
              "#fdca26"
             ],
             [
              1,
              "#f0f921"
             ]
            ],
            "type": "histogram2dcontour"
           }
          ],
          "mesh3d": [
           {
            "colorbar": {
             "outlinewidth": 0,
             "ticks": ""
            },
            "type": "mesh3d"
           }
          ],
          "parcoords": [
           {
            "line": {
             "colorbar": {
              "outlinewidth": 0,
              "ticks": ""
             }
            },
            "type": "parcoords"
           }
          ],
          "pie": [
           {
            "automargin": true,
            "type": "pie"
           }
          ],
          "scatter": [
           {
            "fillpattern": {
             "fillmode": "overlay",
             "size": 10,
             "solidity": 0.2
            },
            "type": "scatter"
           }
          ],
          "scatter3d": [
           {
            "line": {
             "colorbar": {
              "outlinewidth": 0,
              "ticks": ""
             }
            },
            "marker": {
             "colorbar": {
              "outlinewidth": 0,
              "ticks": ""
             }
            },
            "type": "scatter3d"
           }
          ],
          "scattercarpet": [
           {
            "marker": {
             "colorbar": {
              "outlinewidth": 0,
              "ticks": ""
             }
            },
            "type": "scattercarpet"
           }
          ],
          "scattergeo": [
           {
            "marker": {
             "colorbar": {
              "outlinewidth": 0,
              "ticks": ""
             }
            },
            "type": "scattergeo"
           }
          ],
          "scattergl": [
           {
            "marker": {
             "colorbar": {
              "outlinewidth": 0,
              "ticks": ""
             }
            },
            "type": "scattergl"
           }
          ],
          "scattermap": [
           {
            "marker": {
             "colorbar": {
              "outlinewidth": 0,
              "ticks": ""
             }
            },
            "type": "scattermap"
           }
          ],
          "scattermapbox": [
           {
            "marker": {
             "colorbar": {
              "outlinewidth": 0,
              "ticks": ""
             }
            },
            "type": "scattermapbox"
           }
          ],
          "scatterpolar": [
           {
            "marker": {
             "colorbar": {
              "outlinewidth": 0,
              "ticks": ""
             }
            },
            "type": "scatterpolar"
           }
          ],
          "scatterpolargl": [
           {
            "marker": {
             "colorbar": {
              "outlinewidth": 0,
              "ticks": ""
             }
            },
            "type": "scatterpolargl"
           }
          ],
          "scatterternary": [
           {
            "marker": {
             "colorbar": {
              "outlinewidth": 0,
              "ticks": ""
             }
            },
            "type": "scatterternary"
           }
          ],
          "surface": [
           {
            "colorbar": {
             "outlinewidth": 0,
             "ticks": ""
            },
            "colorscale": [
             [
              0,
              "#0d0887"
             ],
             [
              0.1111111111111111,
              "#46039f"
             ],
             [
              0.2222222222222222,
              "#7201a8"
             ],
             [
              0.3333333333333333,
              "#9c179e"
             ],
             [
              0.4444444444444444,
              "#bd3786"
             ],
             [
              0.5555555555555556,
              "#d8576b"
             ],
             [
              0.6666666666666666,
              "#ed7953"
             ],
             [
              0.7777777777777778,
              "#fb9f3a"
             ],
             [
              0.8888888888888888,
              "#fdca26"
             ],
             [
              1,
              "#f0f921"
             ]
            ],
            "type": "surface"
           }
          ],
          "table": [
           {
            "cells": {
             "fill": {
              "color": "#EBF0F8"
             },
             "line": {
              "color": "white"
             }
            },
            "header": {
             "fill": {
              "color": "#C8D4E3"
             },
             "line": {
              "color": "white"
             }
            },
            "type": "table"
           }
          ]
         },
         "layout": {
          "annotationdefaults": {
           "arrowcolor": "#2a3f5f",
           "arrowhead": 0,
           "arrowwidth": 1
          },
          "autotypenumbers": "strict",
          "coloraxis": {
           "colorbar": {
            "outlinewidth": 0,
            "ticks": ""
           }
          },
          "colorscale": {
           "diverging": [
            [
             0,
             "#8e0152"
            ],
            [
             0.1,
             "#c51b7d"
            ],
            [
             0.2,
             "#de77ae"
            ],
            [
             0.3,
             "#f1b6da"
            ],
            [
             0.4,
             "#fde0ef"
            ],
            [
             0.5,
             "#f7f7f7"
            ],
            [
             0.6,
             "#e6f5d0"
            ],
            [
             0.7,
             "#b8e186"
            ],
            [
             0.8,
             "#7fbc41"
            ],
            [
             0.9,
             "#4d9221"
            ],
            [
             1,
             "#276419"
            ]
           ],
           "sequential": [
            [
             0,
             "#0d0887"
            ],
            [
             0.1111111111111111,
             "#46039f"
            ],
            [
             0.2222222222222222,
             "#7201a8"
            ],
            [
             0.3333333333333333,
             "#9c179e"
            ],
            [
             0.4444444444444444,
             "#bd3786"
            ],
            [
             0.5555555555555556,
             "#d8576b"
            ],
            [
             0.6666666666666666,
             "#ed7953"
            ],
            [
             0.7777777777777778,
             "#fb9f3a"
            ],
            [
             0.8888888888888888,
             "#fdca26"
            ],
            [
             1,
             "#f0f921"
            ]
           ],
           "sequentialminus": [
            [
             0,
             "#0d0887"
            ],
            [
             0.1111111111111111,
             "#46039f"
            ],
            [
             0.2222222222222222,
             "#7201a8"
            ],
            [
             0.3333333333333333,
             "#9c179e"
            ],
            [
             0.4444444444444444,
             "#bd3786"
            ],
            [
             0.5555555555555556,
             "#d8576b"
            ],
            [
             0.6666666666666666,
             "#ed7953"
            ],
            [
             0.7777777777777778,
             "#fb9f3a"
            ],
            [
             0.8888888888888888,
             "#fdca26"
            ],
            [
             1,
             "#f0f921"
            ]
           ]
          },
          "colorway": [
           "#636efa",
           "#EF553B",
           "#00cc96",
           "#ab63fa",
           "#FFA15A",
           "#19d3f3",
           "#FF6692",
           "#B6E880",
           "#FF97FF",
           "#FECB52"
          ],
          "font": {
           "color": "#2a3f5f"
          },
          "geo": {
           "bgcolor": "white",
           "lakecolor": "white",
           "landcolor": "#E5ECF6",
           "showlakes": true,
           "showland": true,
           "subunitcolor": "white"
          },
          "hoverlabel": {
           "align": "left"
          },
          "hovermode": "closest",
          "mapbox": {
           "style": "light"
          },
          "paper_bgcolor": "white",
          "plot_bgcolor": "#E5ECF6",
          "polar": {
           "angularaxis": {
            "gridcolor": "white",
            "linecolor": "white",
            "ticks": ""
           },
           "bgcolor": "#E5ECF6",
           "radialaxis": {
            "gridcolor": "white",
            "linecolor": "white",
            "ticks": ""
           }
          },
          "scene": {
           "xaxis": {
            "backgroundcolor": "#E5ECF6",
            "gridcolor": "white",
            "gridwidth": 2,
            "linecolor": "white",
            "showbackground": true,
            "ticks": "",
            "zerolinecolor": "white"
           },
           "yaxis": {
            "backgroundcolor": "#E5ECF6",
            "gridcolor": "white",
            "gridwidth": 2,
            "linecolor": "white",
            "showbackground": true,
            "ticks": "",
            "zerolinecolor": "white"
           },
           "zaxis": {
            "backgroundcolor": "#E5ECF6",
            "gridcolor": "white",
            "gridwidth": 2,
            "linecolor": "white",
            "showbackground": true,
            "ticks": "",
            "zerolinecolor": "white"
           }
          },
          "shapedefaults": {
           "line": {
            "color": "#2a3f5f"
           }
          },
          "ternary": {
           "aaxis": {
            "gridcolor": "white",
            "linecolor": "white",
            "ticks": ""
           },
           "baxis": {
            "gridcolor": "white",
            "linecolor": "white",
            "ticks": ""
           },
           "bgcolor": "#E5ECF6",
           "caxis": {
            "gridcolor": "white",
            "linecolor": "white",
            "ticks": ""
           }
          },
          "title": {
           "x": 0.05
          },
          "xaxis": {
           "automargin": true,
           "gridcolor": "white",
           "linecolor": "white",
           "ticks": "",
           "title": {
            "standoff": 15
           },
           "zerolinecolor": "white",
           "zerolinewidth": 2
          },
          "yaxis": {
           "automargin": true,
           "gridcolor": "white",
           "linecolor": "white",
           "ticks": "",
           "title": {
            "standoff": 15
           },
           "zerolinecolor": "white",
           "zerolinewidth": 2
          }
         }
        },
        "title": {
         "subtitle": {
          "text": "Maligno (0) e Benigno (1)"
         },
         "text": "Distribuição de Mean Area por Diagnóstico"
        },
        "xaxis": {
         "anchor": "y",
         "categoryarray": [
          0,
          1
         ],
         "categoryorder": "array",
         "domain": [
          0,
          1
         ],
         "title": {
          "text": "diagnosis"
         }
        },
        "yaxis": {
         "anchor": "x",
         "domain": [
          0,
          1
         ],
         "title": {
          "text": "mean_area"
         }
        }
       }
      }
     },
     "metadata": {},
     "output_type": "display_data"
    },
    {
     "data": {
      "application/vnd.plotly.v1+json": {
       "config": {
        "plotlyServerURL": "https://plot.ly"
       },
       "data": [
        {
         "alignmentgroup": "True",
         "hovertemplate": "diagnosis=%{x}<br>mean_smoothness=%{y}<extra></extra>",
         "legendgroup": "0",
         "marker": {
          "color": "#f6abb6"
         },
         "name": "0",
         "notched": false,
         "offsetgroup": "0",
         "orientation": "v",
         "showlegend": true,
         "type": "box",
         "x": {
          "bdata": "AAAAAAAAAAAAAAAAAAAAAAAAAAAAAAAAAAAAAAAAAAAAAAAAAAAAAAAAAAAAAAAAAAAAAAAAAAAAAAAAAAAAAAAAAAAAAAAAAAAAAAAAAAAAAAAAAAAAAAAAAAAAAAAAAAAAAAAAAAAAAAAAAAAAAAAAAAAAAAAAAAAAAAAAAAAAAAAAAAAAAAAAAAAAAAAAAAAAAAAAAAAAAAAAAAAAAAAAAAAAAAAAAAAAAAAAAAAAAAAAAAAAAAAAAAAAAAAAAAAAAAAAAAAAAAAAAAAAAAAAAAA=",
          "dtype": "i1"
         },
         "x0": " ",
         "xaxis": "x",
         "y": {
          "bdata": "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",
          "dtype": "f8"
         },
         "y0": " ",
         "yaxis": "y"
        },
        {
         "alignmentgroup": "True",
         "hovertemplate": "diagnosis=%{x}<br>mean_smoothness=%{y}<extra></extra>",
         "legendgroup": "1",
         "marker": {
          "color": "#A865C9"
         },
         "name": "1",
         "notched": false,
         "offsetgroup": "1",
         "orientation": "v",
         "showlegend": true,
         "type": "box",
         "x": {
          "bdata": "AQEBAQEBAQEBAQEBAQEBAQEBAQEBAQEBAQEBAQEBAQEBAQEBAQEBAQEBAQEBAQEBAQEBAQEBAQEBAQEBAQEBAQEBAQEBAQEBAQEBAQEBAQEBAQEBAQEBAQEBAQEBAQEBAQEBAQEBAQEBAQEBAQEBAQEBAQEBAQEBAQEBAQEBAQEBAQEBAQEBAQEBAQEBAQEBAQEBAQEBAQEBAQEBAQEBAQEBAQEBAQEBAQEBAQEBAQEBAQEBAQEBAQEBAQEBAQEBAQEBAQEBAQEBAQEBAQEBAQEBAQEBAQEBAQEBAQEBAQEBAQEBAQEBAQEBAQEBAQEBAQEBAQEBAQEBAQEBAQEBAQEBAQEBAQEBAQEBAQEBAQEBAQEBAQEBAQEBAQEBAQEBAQEBAQEBAQEBAQEBAQEBAQEBAQEBAQEBAQEBAQEBAQEBAQEBAQEBAQEBAQEBAQEBAQEBAQEBAQEBAQEBAQEBAQEBAQEB",
          "dtype": "i1"
         },
         "x0": " ",
         "xaxis": "x",
         "y": {
          "bdata": "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",
          "dtype": "f8"
         },
         "y0": " ",
         "yaxis": "y"
        }
       ],
       "layout": {
        "boxmode": "overlay",
        "legend": {
         "title": {
          "text": "diagnosis"
         },
         "tracegroupgap": 0
        },
        "template": {
         "data": {
          "bar": [
           {
            "error_x": {
             "color": "#2a3f5f"
            },
            "error_y": {
             "color": "#2a3f5f"
            },
            "marker": {
             "line": {
              "color": "#E5ECF6",
              "width": 0.5
             },
             "pattern": {
              "fillmode": "overlay",
              "size": 10,
              "solidity": 0.2
             }
            },
            "type": "bar"
           }
          ],
          "barpolar": [
           {
            "marker": {
             "line": {
              "color": "#E5ECF6",
              "width": 0.5
             },
             "pattern": {
              "fillmode": "overlay",
              "size": 10,
              "solidity": 0.2
             }
            },
            "type": "barpolar"
           }
          ],
          "carpet": [
           {
            "aaxis": {
             "endlinecolor": "#2a3f5f",
             "gridcolor": "white",
             "linecolor": "white",
             "minorgridcolor": "white",
             "startlinecolor": "#2a3f5f"
            },
            "baxis": {
             "endlinecolor": "#2a3f5f",
             "gridcolor": "white",
             "linecolor": "white",
             "minorgridcolor": "white",
             "startlinecolor": "#2a3f5f"
            },
            "type": "carpet"
           }
          ],
          "choropleth": [
           {
            "colorbar": {
             "outlinewidth": 0,
             "ticks": ""
            },
            "type": "choropleth"
           }
          ],
          "contour": [
           {
            "colorbar": {
             "outlinewidth": 0,
             "ticks": ""
            },
            "colorscale": [
             [
              0,
              "#0d0887"
             ],
             [
              0.1111111111111111,
              "#46039f"
             ],
             [
              0.2222222222222222,
              "#7201a8"
             ],
             [
              0.3333333333333333,
              "#9c179e"
             ],
             [
              0.4444444444444444,
              "#bd3786"
             ],
             [
              0.5555555555555556,
              "#d8576b"
             ],
             [
              0.6666666666666666,
              "#ed7953"
             ],
             [
              0.7777777777777778,
              "#fb9f3a"
             ],
             [
              0.8888888888888888,
              "#fdca26"
             ],
             [
              1,
              "#f0f921"
             ]
            ],
            "type": "contour"
           }
          ],
          "contourcarpet": [
           {
            "colorbar": {
             "outlinewidth": 0,
             "ticks": ""
            },
            "type": "contourcarpet"
           }
          ],
          "heatmap": [
           {
            "colorbar": {
             "outlinewidth": 0,
             "ticks": ""
            },
            "colorscale": [
             [
              0,
              "#0d0887"
             ],
             [
              0.1111111111111111,
              "#46039f"
             ],
             [
              0.2222222222222222,
              "#7201a8"
             ],
             [
              0.3333333333333333,
              "#9c179e"
             ],
             [
              0.4444444444444444,
              "#bd3786"
             ],
             [
              0.5555555555555556,
              "#d8576b"
             ],
             [
              0.6666666666666666,
              "#ed7953"
             ],
             [
              0.7777777777777778,
              "#fb9f3a"
             ],
             [
              0.8888888888888888,
              "#fdca26"
             ],
             [
              1,
              "#f0f921"
             ]
            ],
            "type": "heatmap"
           }
          ],
          "histogram": [
           {
            "marker": {
             "pattern": {
              "fillmode": "overlay",
              "size": 10,
              "solidity": 0.2
             }
            },
            "type": "histogram"
           }
          ],
          "histogram2d": [
           {
            "colorbar": {
             "outlinewidth": 0,
             "ticks": ""
            },
            "colorscale": [
             [
              0,
              "#0d0887"
             ],
             [
              0.1111111111111111,
              "#46039f"
             ],
             [
              0.2222222222222222,
              "#7201a8"
             ],
             [
              0.3333333333333333,
              "#9c179e"
             ],
             [
              0.4444444444444444,
              "#bd3786"
             ],
             [
              0.5555555555555556,
              "#d8576b"
             ],
             [
              0.6666666666666666,
              "#ed7953"
             ],
             [
              0.7777777777777778,
              "#fb9f3a"
             ],
             [
              0.8888888888888888,
              "#fdca26"
             ],
             [
              1,
              "#f0f921"
             ]
            ],
            "type": "histogram2d"
           }
          ],
          "histogram2dcontour": [
           {
            "colorbar": {
             "outlinewidth": 0,
             "ticks": ""
            },
            "colorscale": [
             [
              0,
              "#0d0887"
             ],
             [
              0.1111111111111111,
              "#46039f"
             ],
             [
              0.2222222222222222,
              "#7201a8"
             ],
             [
              0.3333333333333333,
              "#9c179e"
             ],
             [
              0.4444444444444444,
              "#bd3786"
             ],
             [
              0.5555555555555556,
              "#d8576b"
             ],
             [
              0.6666666666666666,
              "#ed7953"
             ],
             [
              0.7777777777777778,
              "#fb9f3a"
             ],
             [
              0.8888888888888888,
              "#fdca26"
             ],
             [
              1,
              "#f0f921"
             ]
            ],
            "type": "histogram2dcontour"
           }
          ],
          "mesh3d": [
           {
            "colorbar": {
             "outlinewidth": 0,
             "ticks": ""
            },
            "type": "mesh3d"
           }
          ],
          "parcoords": [
           {
            "line": {
             "colorbar": {
              "outlinewidth": 0,
              "ticks": ""
             }
            },
            "type": "parcoords"
           }
          ],
          "pie": [
           {
            "automargin": true,
            "type": "pie"
           }
          ],
          "scatter": [
           {
            "fillpattern": {
             "fillmode": "overlay",
             "size": 10,
             "solidity": 0.2
            },
            "type": "scatter"
           }
          ],
          "scatter3d": [
           {
            "line": {
             "colorbar": {
              "outlinewidth": 0,
              "ticks": ""
             }
            },
            "marker": {
             "colorbar": {
              "outlinewidth": 0,
              "ticks": ""
             }
            },
            "type": "scatter3d"
           }
          ],
          "scattercarpet": [
           {
            "marker": {
             "colorbar": {
              "outlinewidth": 0,
              "ticks": ""
             }
            },
            "type": "scattercarpet"
           }
          ],
          "scattergeo": [
           {
            "marker": {
             "colorbar": {
              "outlinewidth": 0,
              "ticks": ""
             }
            },
            "type": "scattergeo"
           }
          ],
          "scattergl": [
           {
            "marker": {
             "colorbar": {
              "outlinewidth": 0,
              "ticks": ""
             }
            },
            "type": "scattergl"
           }
          ],
          "scattermap": [
           {
            "marker": {
             "colorbar": {
              "outlinewidth": 0,
              "ticks": ""
             }
            },
            "type": "scattermap"
           }
          ],
          "scattermapbox": [
           {
            "marker": {
             "colorbar": {
              "outlinewidth": 0,
              "ticks": ""
             }
            },
            "type": "scattermapbox"
           }
          ],
          "scatterpolar": [
           {
            "marker": {
             "colorbar": {
              "outlinewidth": 0,
              "ticks": ""
             }
            },
            "type": "scatterpolar"
           }
          ],
          "scatterpolargl": [
           {
            "marker": {
             "colorbar": {
              "outlinewidth": 0,
              "ticks": ""
             }
            },
            "type": "scatterpolargl"
           }
          ],
          "scatterternary": [
           {
            "marker": {
             "colorbar": {
              "outlinewidth": 0,
              "ticks": ""
             }
            },
            "type": "scatterternary"
           }
          ],
          "surface": [
           {
            "colorbar": {
             "outlinewidth": 0,
             "ticks": ""
            },
            "colorscale": [
             [
              0,
              "#0d0887"
             ],
             [
              0.1111111111111111,
              "#46039f"
             ],
             [
              0.2222222222222222,
              "#7201a8"
             ],
             [
              0.3333333333333333,
              "#9c179e"
             ],
             [
              0.4444444444444444,
              "#bd3786"
             ],
             [
              0.5555555555555556,
              "#d8576b"
             ],
             [
              0.6666666666666666,
              "#ed7953"
             ],
             [
              0.7777777777777778,
              "#fb9f3a"
             ],
             [
              0.8888888888888888,
              "#fdca26"
             ],
             [
              1,
              "#f0f921"
             ]
            ],
            "type": "surface"
           }
          ],
          "table": [
           {
            "cells": {
             "fill": {
              "color": "#EBF0F8"
             },
             "line": {
              "color": "white"
             }
            },
            "header": {
             "fill": {
              "color": "#C8D4E3"
             },
             "line": {
              "color": "white"
             }
            },
            "type": "table"
           }
          ]
         },
         "layout": {
          "annotationdefaults": {
           "arrowcolor": "#2a3f5f",
           "arrowhead": 0,
           "arrowwidth": 1
          },
          "autotypenumbers": "strict",
          "coloraxis": {
           "colorbar": {
            "outlinewidth": 0,
            "ticks": ""
           }
          },
          "colorscale": {
           "diverging": [
            [
             0,
             "#8e0152"
            ],
            [
             0.1,
             "#c51b7d"
            ],
            [
             0.2,
             "#de77ae"
            ],
            [
             0.3,
             "#f1b6da"
            ],
            [
             0.4,
             "#fde0ef"
            ],
            [
             0.5,
             "#f7f7f7"
            ],
            [
             0.6,
             "#e6f5d0"
            ],
            [
             0.7,
             "#b8e186"
            ],
            [
             0.8,
             "#7fbc41"
            ],
            [
             0.9,
             "#4d9221"
            ],
            [
             1,
             "#276419"
            ]
           ],
           "sequential": [
            [
             0,
             "#0d0887"
            ],
            [
             0.1111111111111111,
             "#46039f"
            ],
            [
             0.2222222222222222,
             "#7201a8"
            ],
            [
             0.3333333333333333,
             "#9c179e"
            ],
            [
             0.4444444444444444,
             "#bd3786"
            ],
            [
             0.5555555555555556,
             "#d8576b"
            ],
            [
             0.6666666666666666,
             "#ed7953"
            ],
            [
             0.7777777777777778,
             "#fb9f3a"
            ],
            [
             0.8888888888888888,
             "#fdca26"
            ],
            [
             1,
             "#f0f921"
            ]
           ],
           "sequentialminus": [
            [
             0,
             "#0d0887"
            ],
            [
             0.1111111111111111,
             "#46039f"
            ],
            [
             0.2222222222222222,
             "#7201a8"
            ],
            [
             0.3333333333333333,
             "#9c179e"
            ],
            [
             0.4444444444444444,
             "#bd3786"
            ],
            [
             0.5555555555555556,
             "#d8576b"
            ],
            [
             0.6666666666666666,
             "#ed7953"
            ],
            [
             0.7777777777777778,
             "#fb9f3a"
            ],
            [
             0.8888888888888888,
             "#fdca26"
            ],
            [
             1,
             "#f0f921"
            ]
           ]
          },
          "colorway": [
           "#636efa",
           "#EF553B",
           "#00cc96",
           "#ab63fa",
           "#FFA15A",
           "#19d3f3",
           "#FF6692",
           "#B6E880",
           "#FF97FF",
           "#FECB52"
          ],
          "font": {
           "color": "#2a3f5f"
          },
          "geo": {
           "bgcolor": "white",
           "lakecolor": "white",
           "landcolor": "#E5ECF6",
           "showlakes": true,
           "showland": true,
           "subunitcolor": "white"
          },
          "hoverlabel": {
           "align": "left"
          },
          "hovermode": "closest",
          "mapbox": {
           "style": "light"
          },
          "paper_bgcolor": "white",
          "plot_bgcolor": "#E5ECF6",
          "polar": {
           "angularaxis": {
            "gridcolor": "white",
            "linecolor": "white",
            "ticks": ""
           },
           "bgcolor": "#E5ECF6",
           "radialaxis": {
            "gridcolor": "white",
            "linecolor": "white",
            "ticks": ""
           }
          },
          "scene": {
           "xaxis": {
            "backgroundcolor": "#E5ECF6",
            "gridcolor": "white",
            "gridwidth": 2,
            "linecolor": "white",
            "showbackground": true,
            "ticks": "",
            "zerolinecolor": "white"
           },
           "yaxis": {
            "backgroundcolor": "#E5ECF6",
            "gridcolor": "white",
            "gridwidth": 2,
            "linecolor": "white",
            "showbackground": true,
            "ticks": "",
            "zerolinecolor": "white"
           },
           "zaxis": {
            "backgroundcolor": "#E5ECF6",
            "gridcolor": "white",
            "gridwidth": 2,
            "linecolor": "white",
            "showbackground": true,
            "ticks": "",
            "zerolinecolor": "white"
           }
          },
          "shapedefaults": {
           "line": {
            "color": "#2a3f5f"
           }
          },
          "ternary": {
           "aaxis": {
            "gridcolor": "white",
            "linecolor": "white",
            "ticks": ""
           },
           "baxis": {
            "gridcolor": "white",
            "linecolor": "white",
            "ticks": ""
           },
           "bgcolor": "#E5ECF6",
           "caxis": {
            "gridcolor": "white",
            "linecolor": "white",
            "ticks": ""
           }
          },
          "title": {
           "x": 0.05
          },
          "xaxis": {
           "automargin": true,
           "gridcolor": "white",
           "linecolor": "white",
           "ticks": "",
           "title": {
            "standoff": 15
           },
           "zerolinecolor": "white",
           "zerolinewidth": 2
          },
          "yaxis": {
           "automargin": true,
           "gridcolor": "white",
           "linecolor": "white",
           "ticks": "",
           "title": {
            "standoff": 15
           },
           "zerolinecolor": "white",
           "zerolinewidth": 2
          }
         }
        },
        "title": {
         "subtitle": {
          "text": "Maligno (0) e Benigno (1)"
         },
         "text": "Distribuição de Mean Smoothness por Diagnóstico"
        },
        "xaxis": {
         "anchor": "y",
         "categoryarray": [
          0,
          1
         ],
         "categoryorder": "array",
         "domain": [
          0,
          1
         ],
         "title": {
          "text": "diagnosis"
         }
        },
        "yaxis": {
         "anchor": "x",
         "domain": [
          0,
          1
         ],
         "title": {
          "text": "mean_smoothness"
         }
        }
       }
      }
     },
     "metadata": {},
     "output_type": "display_data"
    }
   ],
   "source": [
    "variaveis_boxplot = ['mean_radius', 'mean_texture', 'mean_perimeter', 'mean_area', 'mean_smoothness']\n",
    "\n",
    "for var in variaveis_boxplot:\n",
    "    fig = px.box(\n",
    "        df,\n",
    "        x='diagnosis',\n",
    "        y=var,\n",
    "        color='diagnosis',\n",
    "        color_discrete_sequence=[cor_maligno, cor_benigno],\n",
    "        title=f'Distribuição de {var.replace(\"_\", \" \").title()} por Diagnóstico',\n",
    "        subtitle=f'Maligno (0) e Benigno (1)',\n",
    "    )\n",
    "    fig.show()"
   ]
  },
  {
   "cell_type": "markdown",
   "id": "95408f1d",
   "metadata": {},
   "source": [
    "#### 📖 Conclusão da Análise Exploratória\n",
    "\n",
    "- A distribuição dos diagnósticos mostra que há uma quantidade considerável de casos malignos e benignos, mas com uma predominância dos casos benignos.\n",
    "- Variáveis como `radius_mean`, `perimeter_mean` e `area_mean` apresentam distribuições bem distintas entre tumores benignos e malignos, sugerindo que podem ser bons preditores.\n",
    "- A análise de correlação indicou forte relação entre variáveis `radius_mean`, `perimeter_mean` e `area_mean`, o que pode impactar na escolha de atributos para o modelo.\n",
    "- Não foram encontrados valores ausentes ou inconsistentes, e os dados estão prontos para o pré-processamento final e modelagem."
   ]
  },
  {
   "cell_type": "markdown",
   "id": "3ff048eb",
   "metadata": {},
   "source": [
    "---\n",
    "## 🧠 Treinamento dos modelos"
   ]
  },
  {
   "cell_type": "markdown",
   "id": "bf7aa6ba",
   "metadata": {},
   "source": [
    "### 🔎 Separação de Variáveis e Divisão dos Dados"
   ]
  },
  {
   "cell_type": "code",
   "execution_count": 12,
   "id": "7d9a2572",
   "metadata": {},
   "outputs": [
    {
     "name": "stdout",
     "output_type": "stream",
     "text": [
      "✅ Separação concluída!\n",
      "X shape: (569, 5)\n",
      "y shape: (569,)\n"
     ]
    }
   ],
   "source": [
    "# Variáveis preditoras (X) e alvo (y)\n",
    "X = df.drop(columns=[\"diagnosis\"])\n",
    "y = df[\"diagnosis\"]\n",
    "\n",
    "print(\"✅ Separação concluída!\")\n",
    "print(f\"X shape: {X.shape}\")\n",
    "print(f\"y shape: {y.shape}\")"
   ]
  },
  {
   "cell_type": "markdown",
   "id": "d3cc4a19",
   "metadata": {},
   "source": [
    "### 🧪 Dividir os Dados em Treino e Teste"
   ]
  },
  {
   "cell_type": "code",
   "execution_count": 13,
   "id": "a2d2a4cc",
   "metadata": {},
   "outputs": [
    {
     "name": "stdout",
     "output_type": "stream",
     "text": [
      "✅ Divisão concluída!\n",
      "X_train shape: (455, 5)\n",
      "X_test shape: (114, 5)\n"
     ]
    }
   ],
   "source": [
    "# Dividir 80% treino / 20% teste, mantendo a proporção das classes (stratify)\n",
    "X_train, X_test, y_train, y_test = train_test_split(\n",
    "    X, y, test_size=0.2, stratify=y, random_state=42\n",
    ")\n",
    "\n",
    "print(\"✅ Divisão concluída!\")\n",
    "print(f\"X_train shape: {X_train.shape}\")\n",
    "print(f\"X_test shape: {X_test.shape}\")"
   ]
  },
  {
   "cell_type": "markdown",
   "id": "a35fec5f",
   "metadata": {},
   "source": [
    "### 🔄 Padronizar os Dados"
   ]
  },
  {
   "cell_type": "code",
   "execution_count": 14,
   "id": "e72bef00",
   "metadata": {},
   "outputs": [
    {
     "name": "stdout",
     "output_type": "stream",
     "text": [
      "✅ Padronização concluída!\n",
      "X_train_scaled shape: (455, 5)\n",
      "X_test_scaled shape: (114, 5)\n"
     ]
    }
   ],
   "source": [
    "# Padronizar apenas após a divisão (evitar vazamento de dados)\n",
    "scaler = StandardScaler()\n",
    "X_train_scaled = scaler.fit_transform(X_train)\n",
    "X_test_scaled = scaler.transform(X_test)\n",
    "\n",
    "print(\"✅ Padronização concluída!\")\n",
    "print(f\"X_train_scaled shape: {X_train_scaled.shape}\")\n",
    "print(f\"X_test_scaled shape: {X_test_scaled.shape}\")"
   ]
  },
  {
   "cell_type": "markdown",
   "id": "3875f022",
   "metadata": {},
   "source": [
    "### 🚀 Treinar Vários Modelos e Comparar"
   ]
  },
  {
   "cell_type": "code",
   "execution_count": 15,
   "id": "82e0fa7c",
   "metadata": {},
   "outputs": [
    {
     "name": "stdout",
     "output_type": "stream",
     "text": [
      "✅ Decision Tree treinado com acurácia: 0.8860\n"
     ]
    },
    {
     "data": {
      "application/vnd.plotly.v1+json": {
       "config": {
        "plotlyServerURL": "https://plot.ly"
       },
       "data": [
        {
         "coloraxis": "coloraxis",
         "hovertemplate": "Predito: %{x}<br>Real: %{y}<br>Contagem: %{z}<extra></extra>",
         "name": "0",
         "texttemplate": "%{z}",
         "type": "heatmap",
         "x": [
          "Maligno (0)",
          "Benigno (1)"
         ],
         "xaxis": "x",
         "y": [
          "Maligno (0)",
          "Benigno (1)"
         ],
         "yaxis": "y",
         "z": {
          "bdata": "JwMKPg==",
          "dtype": "i1",
          "shape": "2, 2"
         }
        }
       ],
       "layout": {
        "coloraxis": {
         "colorbar": {
          "title": {
           "text": "Contagem"
          }
         },
         "colorscale": [
          [
           0,
           "rgb(247,251,255)"
          ],
          [
           0.125,
           "rgb(222,235,247)"
          ],
          [
           0.25,
           "rgb(198,219,239)"
          ],
          [
           0.375,
           "rgb(158,202,225)"
          ],
          [
           0.5,
           "rgb(107,174,214)"
          ],
          [
           0.625,
           "rgb(66,146,198)"
          ],
          [
           0.75,
           "rgb(33,113,181)"
          ],
          [
           0.875,
           "rgb(8,81,156)"
          ],
          [
           1,
           "rgb(8,48,107)"
          ]
         ]
        },
        "height": 400,
        "template": {
         "data": {
          "bar": [
           {
            "error_x": {
             "color": "#2a3f5f"
            },
            "error_y": {
             "color": "#2a3f5f"
            },
            "marker": {
             "line": {
              "color": "#E5ECF6",
              "width": 0.5
             },
             "pattern": {
              "fillmode": "overlay",
              "size": 10,
              "solidity": 0.2
             }
            },
            "type": "bar"
           }
          ],
          "barpolar": [
           {
            "marker": {
             "line": {
              "color": "#E5ECF6",
              "width": 0.5
             },
             "pattern": {
              "fillmode": "overlay",
              "size": 10,
              "solidity": 0.2
             }
            },
            "type": "barpolar"
           }
          ],
          "carpet": [
           {
            "aaxis": {
             "endlinecolor": "#2a3f5f",
             "gridcolor": "white",
             "linecolor": "white",
             "minorgridcolor": "white",
             "startlinecolor": "#2a3f5f"
            },
            "baxis": {
             "endlinecolor": "#2a3f5f",
             "gridcolor": "white",
             "linecolor": "white",
             "minorgridcolor": "white",
             "startlinecolor": "#2a3f5f"
            },
            "type": "carpet"
           }
          ],
          "choropleth": [
           {
            "colorbar": {
             "outlinewidth": 0,
             "ticks": ""
            },
            "type": "choropleth"
           }
          ],
          "contour": [
           {
            "colorbar": {
             "outlinewidth": 0,
             "ticks": ""
            },
            "colorscale": [
             [
              0,
              "#0d0887"
             ],
             [
              0.1111111111111111,
              "#46039f"
             ],
             [
              0.2222222222222222,
              "#7201a8"
             ],
             [
              0.3333333333333333,
              "#9c179e"
             ],
             [
              0.4444444444444444,
              "#bd3786"
             ],
             [
              0.5555555555555556,
              "#d8576b"
             ],
             [
              0.6666666666666666,
              "#ed7953"
             ],
             [
              0.7777777777777778,
              "#fb9f3a"
             ],
             [
              0.8888888888888888,
              "#fdca26"
             ],
             [
              1,
              "#f0f921"
             ]
            ],
            "type": "contour"
           }
          ],
          "contourcarpet": [
           {
            "colorbar": {
             "outlinewidth": 0,
             "ticks": ""
            },
            "type": "contourcarpet"
           }
          ],
          "heatmap": [
           {
            "colorbar": {
             "outlinewidth": 0,
             "ticks": ""
            },
            "colorscale": [
             [
              0,
              "#0d0887"
             ],
             [
              0.1111111111111111,
              "#46039f"
             ],
             [
              0.2222222222222222,
              "#7201a8"
             ],
             [
              0.3333333333333333,
              "#9c179e"
             ],
             [
              0.4444444444444444,
              "#bd3786"
             ],
             [
              0.5555555555555556,
              "#d8576b"
             ],
             [
              0.6666666666666666,
              "#ed7953"
             ],
             [
              0.7777777777777778,
              "#fb9f3a"
             ],
             [
              0.8888888888888888,
              "#fdca26"
             ],
             [
              1,
              "#f0f921"
             ]
            ],
            "type": "heatmap"
           }
          ],
          "histogram": [
           {
            "marker": {
             "pattern": {
              "fillmode": "overlay",
              "size": 10,
              "solidity": 0.2
             }
            },
            "type": "histogram"
           }
          ],
          "histogram2d": [
           {
            "colorbar": {
             "outlinewidth": 0,
             "ticks": ""
            },
            "colorscale": [
             [
              0,
              "#0d0887"
             ],
             [
              0.1111111111111111,
              "#46039f"
             ],
             [
              0.2222222222222222,
              "#7201a8"
             ],
             [
              0.3333333333333333,
              "#9c179e"
             ],
             [
              0.4444444444444444,
              "#bd3786"
             ],
             [
              0.5555555555555556,
              "#d8576b"
             ],
             [
              0.6666666666666666,
              "#ed7953"
             ],
             [
              0.7777777777777778,
              "#fb9f3a"
             ],
             [
              0.8888888888888888,
              "#fdca26"
             ],
             [
              1,
              "#f0f921"
             ]
            ],
            "type": "histogram2d"
           }
          ],
          "histogram2dcontour": [
           {
            "colorbar": {
             "outlinewidth": 0,
             "ticks": ""
            },
            "colorscale": [
             [
              0,
              "#0d0887"
             ],
             [
              0.1111111111111111,
              "#46039f"
             ],
             [
              0.2222222222222222,
              "#7201a8"
             ],
             [
              0.3333333333333333,
              "#9c179e"
             ],
             [
              0.4444444444444444,
              "#bd3786"
             ],
             [
              0.5555555555555556,
              "#d8576b"
             ],
             [
              0.6666666666666666,
              "#ed7953"
             ],
             [
              0.7777777777777778,
              "#fb9f3a"
             ],
             [
              0.8888888888888888,
              "#fdca26"
             ],
             [
              1,
              "#f0f921"
             ]
            ],
            "type": "histogram2dcontour"
           }
          ],
          "mesh3d": [
           {
            "colorbar": {
             "outlinewidth": 0,
             "ticks": ""
            },
            "type": "mesh3d"
           }
          ],
          "parcoords": [
           {
            "line": {
             "colorbar": {
              "outlinewidth": 0,
              "ticks": ""
             }
            },
            "type": "parcoords"
           }
          ],
          "pie": [
           {
            "automargin": true,
            "type": "pie"
           }
          ],
          "scatter": [
           {
            "fillpattern": {
             "fillmode": "overlay",
             "size": 10,
             "solidity": 0.2
            },
            "type": "scatter"
           }
          ],
          "scatter3d": [
           {
            "line": {
             "colorbar": {
              "outlinewidth": 0,
              "ticks": ""
             }
            },
            "marker": {
             "colorbar": {
              "outlinewidth": 0,
              "ticks": ""
             }
            },
            "type": "scatter3d"
           }
          ],
          "scattercarpet": [
           {
            "marker": {
             "colorbar": {
              "outlinewidth": 0,
              "ticks": ""
             }
            },
            "type": "scattercarpet"
           }
          ],
          "scattergeo": [
           {
            "marker": {
             "colorbar": {
              "outlinewidth": 0,
              "ticks": ""
             }
            },
            "type": "scattergeo"
           }
          ],
          "scattergl": [
           {
            "marker": {
             "colorbar": {
              "outlinewidth": 0,
              "ticks": ""
             }
            },
            "type": "scattergl"
           }
          ],
          "scattermap": [
           {
            "marker": {
             "colorbar": {
              "outlinewidth": 0,
              "ticks": ""
             }
            },
            "type": "scattermap"
           }
          ],
          "scattermapbox": [
           {
            "marker": {
             "colorbar": {
              "outlinewidth": 0,
              "ticks": ""
             }
            },
            "type": "scattermapbox"
           }
          ],
          "scatterpolar": [
           {
            "marker": {
             "colorbar": {
              "outlinewidth": 0,
              "ticks": ""
             }
            },
            "type": "scatterpolar"
           }
          ],
          "scatterpolargl": [
           {
            "marker": {
             "colorbar": {
              "outlinewidth": 0,
              "ticks": ""
             }
            },
            "type": "scatterpolargl"
           }
          ],
          "scatterternary": [
           {
            "marker": {
             "colorbar": {
              "outlinewidth": 0,
              "ticks": ""
             }
            },
            "type": "scatterternary"
           }
          ],
          "surface": [
           {
            "colorbar": {
             "outlinewidth": 0,
             "ticks": ""
            },
            "colorscale": [
             [
              0,
              "#0d0887"
             ],
             [
              0.1111111111111111,
              "#46039f"
             ],
             [
              0.2222222222222222,
              "#7201a8"
             ],
             [
              0.3333333333333333,
              "#9c179e"
             ],
             [
              0.4444444444444444,
              "#bd3786"
             ],
             [
              0.5555555555555556,
              "#d8576b"
             ],
             [
              0.6666666666666666,
              "#ed7953"
             ],
             [
              0.7777777777777778,
              "#fb9f3a"
             ],
             [
              0.8888888888888888,
              "#fdca26"
             ],
             [
              1,
              "#f0f921"
             ]
            ],
            "type": "surface"
           }
          ],
          "table": [
           {
            "cells": {
             "fill": {
              "color": "#EBF0F8"
             },
             "line": {
              "color": "white"
             }
            },
            "header": {
             "fill": {
              "color": "#C8D4E3"
             },
             "line": {
              "color": "white"
             }
            },
            "type": "table"
           }
          ]
         },
         "layout": {
          "annotationdefaults": {
           "arrowcolor": "#2a3f5f",
           "arrowhead": 0,
           "arrowwidth": 1
          },
          "autotypenumbers": "strict",
          "coloraxis": {
           "colorbar": {
            "outlinewidth": 0,
            "ticks": ""
           }
          },
          "colorscale": {
           "diverging": [
            [
             0,
             "#8e0152"
            ],
            [
             0.1,
             "#c51b7d"
            ],
            [
             0.2,
             "#de77ae"
            ],
            [
             0.3,
             "#f1b6da"
            ],
            [
             0.4,
             "#fde0ef"
            ],
            [
             0.5,
             "#f7f7f7"
            ],
            [
             0.6,
             "#e6f5d0"
            ],
            [
             0.7,
             "#b8e186"
            ],
            [
             0.8,
             "#7fbc41"
            ],
            [
             0.9,
             "#4d9221"
            ],
            [
             1,
             "#276419"
            ]
           ],
           "sequential": [
            [
             0,
             "#0d0887"
            ],
            [
             0.1111111111111111,
             "#46039f"
            ],
            [
             0.2222222222222222,
             "#7201a8"
            ],
            [
             0.3333333333333333,
             "#9c179e"
            ],
            [
             0.4444444444444444,
             "#bd3786"
            ],
            [
             0.5555555555555556,
             "#d8576b"
            ],
            [
             0.6666666666666666,
             "#ed7953"
            ],
            [
             0.7777777777777778,
             "#fb9f3a"
            ],
            [
             0.8888888888888888,
             "#fdca26"
            ],
            [
             1,
             "#f0f921"
            ]
           ],
           "sequentialminus": [
            [
             0,
             "#0d0887"
            ],
            [
             0.1111111111111111,
             "#46039f"
            ],
            [
             0.2222222222222222,
             "#7201a8"
            ],
            [
             0.3333333333333333,
             "#9c179e"
            ],
            [
             0.4444444444444444,
             "#bd3786"
            ],
            [
             0.5555555555555556,
             "#d8576b"
            ],
            [
             0.6666666666666666,
             "#ed7953"
            ],
            [
             0.7777777777777778,
             "#fb9f3a"
            ],
            [
             0.8888888888888888,
             "#fdca26"
            ],
            [
             1,
             "#f0f921"
            ]
           ]
          },
          "colorway": [
           "#636efa",
           "#EF553B",
           "#00cc96",
           "#ab63fa",
           "#FFA15A",
           "#19d3f3",
           "#FF6692",
           "#B6E880",
           "#FF97FF",
           "#FECB52"
          ],
          "font": {
           "color": "#2a3f5f"
          },
          "geo": {
           "bgcolor": "white",
           "lakecolor": "white",
           "landcolor": "#E5ECF6",
           "showlakes": true,
           "showland": true,
           "subunitcolor": "white"
          },
          "hoverlabel": {
           "align": "left"
          },
          "hovermode": "closest",
          "mapbox": {
           "style": "light"
          },
          "paper_bgcolor": "white",
          "plot_bgcolor": "#E5ECF6",
          "polar": {
           "angularaxis": {
            "gridcolor": "white",
            "linecolor": "white",
            "ticks": ""
           },
           "bgcolor": "#E5ECF6",
           "radialaxis": {
            "gridcolor": "white",
            "linecolor": "white",
            "ticks": ""
           }
          },
          "scene": {
           "xaxis": {
            "backgroundcolor": "#E5ECF6",
            "gridcolor": "white",
            "gridwidth": 2,
            "linecolor": "white",
            "showbackground": true,
            "ticks": "",
            "zerolinecolor": "white"
           },
           "yaxis": {
            "backgroundcolor": "#E5ECF6",
            "gridcolor": "white",
            "gridwidth": 2,
            "linecolor": "white",
            "showbackground": true,
            "ticks": "",
            "zerolinecolor": "white"
           },
           "zaxis": {
            "backgroundcolor": "#E5ECF6",
            "gridcolor": "white",
            "gridwidth": 2,
            "linecolor": "white",
            "showbackground": true,
            "ticks": "",
            "zerolinecolor": "white"
           }
          },
          "shapedefaults": {
           "line": {
            "color": "#2a3f5f"
           }
          },
          "ternary": {
           "aaxis": {
            "gridcolor": "white",
            "linecolor": "white",
            "ticks": ""
           },
           "baxis": {
            "gridcolor": "white",
            "linecolor": "white",
            "ticks": ""
           },
           "bgcolor": "#E5ECF6",
           "caxis": {
            "gridcolor": "white",
            "linecolor": "white",
            "ticks": ""
           }
          },
          "title": {
           "x": 0.05
          },
          "xaxis": {
           "automargin": true,
           "gridcolor": "white",
           "linecolor": "white",
           "ticks": "",
           "title": {
            "standoff": 15
           },
           "zerolinecolor": "white",
           "zerolinewidth": 2
          },
          "yaxis": {
           "automargin": true,
           "gridcolor": "white",
           "linecolor": "white",
           "ticks": "",
           "title": {
            "standoff": 15
           },
           "zerolinecolor": "white",
           "zerolinewidth": 2
          }
         }
        },
        "title": {
         "text": "Matriz de Confusão - Decision Tree",
         "x": 0.5
        },
        "width": 600,
        "xaxis": {
         "anchor": "y",
         "constrain": "domain",
         "domain": [
          0,
          1
         ],
         "scaleanchor": "y",
         "title": {
          "text": "Predito"
         }
        },
        "yaxis": {
         "anchor": "x",
         "autorange": "reversed",
         "constrain": "domain",
         "domain": [
          0,
          1
         ],
         "title": {
          "text": "Real"
         }
        }
       }
      }
     },
     "metadata": {},
     "output_type": "display_data"
    },
    {
     "name": "stdout",
     "output_type": "stream",
     "text": [
      "✅ K-Nearest Neighbors treinado com acurácia: 0.8947\n"
     ]
    },
    {
     "data": {
      "application/vnd.plotly.v1+json": {
       "config": {
        "plotlyServerURL": "https://plot.ly"
       },
       "data": [
        {
         "coloraxis": "coloraxis",
         "hovertemplate": "Predito: %{x}<br>Real: %{y}<br>Contagem: %{z}<extra></extra>",
         "name": "0",
         "texttemplate": "%{z}",
         "type": "heatmap",
         "x": [
          "Maligno (0)",
          "Benigno (1)"
         ],
         "xaxis": "x",
         "y": [
          "Maligno (0)",
          "Benigno (1)"
         ],
         "yaxis": "y",
         "z": {
          "bdata": "JgQIQA==",
          "dtype": "i1",
          "shape": "2, 2"
         }
        }
       ],
       "layout": {
        "coloraxis": {
         "colorbar": {
          "title": {
           "text": "Contagem"
          }
         },
         "colorscale": [
          [
           0,
           "rgb(247,251,255)"
          ],
          [
           0.125,
           "rgb(222,235,247)"
          ],
          [
           0.25,
           "rgb(198,219,239)"
          ],
          [
           0.375,
           "rgb(158,202,225)"
          ],
          [
           0.5,
           "rgb(107,174,214)"
          ],
          [
           0.625,
           "rgb(66,146,198)"
          ],
          [
           0.75,
           "rgb(33,113,181)"
          ],
          [
           0.875,
           "rgb(8,81,156)"
          ],
          [
           1,
           "rgb(8,48,107)"
          ]
         ]
        },
        "height": 400,
        "template": {
         "data": {
          "bar": [
           {
            "error_x": {
             "color": "#2a3f5f"
            },
            "error_y": {
             "color": "#2a3f5f"
            },
            "marker": {
             "line": {
              "color": "#E5ECF6",
              "width": 0.5
             },
             "pattern": {
              "fillmode": "overlay",
              "size": 10,
              "solidity": 0.2
             }
            },
            "type": "bar"
           }
          ],
          "barpolar": [
           {
            "marker": {
             "line": {
              "color": "#E5ECF6",
              "width": 0.5
             },
             "pattern": {
              "fillmode": "overlay",
              "size": 10,
              "solidity": 0.2
             }
            },
            "type": "barpolar"
           }
          ],
          "carpet": [
           {
            "aaxis": {
             "endlinecolor": "#2a3f5f",
             "gridcolor": "white",
             "linecolor": "white",
             "minorgridcolor": "white",
             "startlinecolor": "#2a3f5f"
            },
            "baxis": {
             "endlinecolor": "#2a3f5f",
             "gridcolor": "white",
             "linecolor": "white",
             "minorgridcolor": "white",
             "startlinecolor": "#2a3f5f"
            },
            "type": "carpet"
           }
          ],
          "choropleth": [
           {
            "colorbar": {
             "outlinewidth": 0,
             "ticks": ""
            },
            "type": "choropleth"
           }
          ],
          "contour": [
           {
            "colorbar": {
             "outlinewidth": 0,
             "ticks": ""
            },
            "colorscale": [
             [
              0,
              "#0d0887"
             ],
             [
              0.1111111111111111,
              "#46039f"
             ],
             [
              0.2222222222222222,
              "#7201a8"
             ],
             [
              0.3333333333333333,
              "#9c179e"
             ],
             [
              0.4444444444444444,
              "#bd3786"
             ],
             [
              0.5555555555555556,
              "#d8576b"
             ],
             [
              0.6666666666666666,
              "#ed7953"
             ],
             [
              0.7777777777777778,
              "#fb9f3a"
             ],
             [
              0.8888888888888888,
              "#fdca26"
             ],
             [
              1,
              "#f0f921"
             ]
            ],
            "type": "contour"
           }
          ],
          "contourcarpet": [
           {
            "colorbar": {
             "outlinewidth": 0,
             "ticks": ""
            },
            "type": "contourcarpet"
           }
          ],
          "heatmap": [
           {
            "colorbar": {
             "outlinewidth": 0,
             "ticks": ""
            },
            "colorscale": [
             [
              0,
              "#0d0887"
             ],
             [
              0.1111111111111111,
              "#46039f"
             ],
             [
              0.2222222222222222,
              "#7201a8"
             ],
             [
              0.3333333333333333,
              "#9c179e"
             ],
             [
              0.4444444444444444,
              "#bd3786"
             ],
             [
              0.5555555555555556,
              "#d8576b"
             ],
             [
              0.6666666666666666,
              "#ed7953"
             ],
             [
              0.7777777777777778,
              "#fb9f3a"
             ],
             [
              0.8888888888888888,
              "#fdca26"
             ],
             [
              1,
              "#f0f921"
             ]
            ],
            "type": "heatmap"
           }
          ],
          "histogram": [
           {
            "marker": {
             "pattern": {
              "fillmode": "overlay",
              "size": 10,
              "solidity": 0.2
             }
            },
            "type": "histogram"
           }
          ],
          "histogram2d": [
           {
            "colorbar": {
             "outlinewidth": 0,
             "ticks": ""
            },
            "colorscale": [
             [
              0,
              "#0d0887"
             ],
             [
              0.1111111111111111,
              "#46039f"
             ],
             [
              0.2222222222222222,
              "#7201a8"
             ],
             [
              0.3333333333333333,
              "#9c179e"
             ],
             [
              0.4444444444444444,
              "#bd3786"
             ],
             [
              0.5555555555555556,
              "#d8576b"
             ],
             [
              0.6666666666666666,
              "#ed7953"
             ],
             [
              0.7777777777777778,
              "#fb9f3a"
             ],
             [
              0.8888888888888888,
              "#fdca26"
             ],
             [
              1,
              "#f0f921"
             ]
            ],
            "type": "histogram2d"
           }
          ],
          "histogram2dcontour": [
           {
            "colorbar": {
             "outlinewidth": 0,
             "ticks": ""
            },
            "colorscale": [
             [
              0,
              "#0d0887"
             ],
             [
              0.1111111111111111,
              "#46039f"
             ],
             [
              0.2222222222222222,
              "#7201a8"
             ],
             [
              0.3333333333333333,
              "#9c179e"
             ],
             [
              0.4444444444444444,
              "#bd3786"
             ],
             [
              0.5555555555555556,
              "#d8576b"
             ],
             [
              0.6666666666666666,
              "#ed7953"
             ],
             [
              0.7777777777777778,
              "#fb9f3a"
             ],
             [
              0.8888888888888888,
              "#fdca26"
             ],
             [
              1,
              "#f0f921"
             ]
            ],
            "type": "histogram2dcontour"
           }
          ],
          "mesh3d": [
           {
            "colorbar": {
             "outlinewidth": 0,
             "ticks": ""
            },
            "type": "mesh3d"
           }
          ],
          "parcoords": [
           {
            "line": {
             "colorbar": {
              "outlinewidth": 0,
              "ticks": ""
             }
            },
            "type": "parcoords"
           }
          ],
          "pie": [
           {
            "automargin": true,
            "type": "pie"
           }
          ],
          "scatter": [
           {
            "fillpattern": {
             "fillmode": "overlay",
             "size": 10,
             "solidity": 0.2
            },
            "type": "scatter"
           }
          ],
          "scatter3d": [
           {
            "line": {
             "colorbar": {
              "outlinewidth": 0,
              "ticks": ""
             }
            },
            "marker": {
             "colorbar": {
              "outlinewidth": 0,
              "ticks": ""
             }
            },
            "type": "scatter3d"
           }
          ],
          "scattercarpet": [
           {
            "marker": {
             "colorbar": {
              "outlinewidth": 0,
              "ticks": ""
             }
            },
            "type": "scattercarpet"
           }
          ],
          "scattergeo": [
           {
            "marker": {
             "colorbar": {
              "outlinewidth": 0,
              "ticks": ""
             }
            },
            "type": "scattergeo"
           }
          ],
          "scattergl": [
           {
            "marker": {
             "colorbar": {
              "outlinewidth": 0,
              "ticks": ""
             }
            },
            "type": "scattergl"
           }
          ],
          "scattermap": [
           {
            "marker": {
             "colorbar": {
              "outlinewidth": 0,
              "ticks": ""
             }
            },
            "type": "scattermap"
           }
          ],
          "scattermapbox": [
           {
            "marker": {
             "colorbar": {
              "outlinewidth": 0,
              "ticks": ""
             }
            },
            "type": "scattermapbox"
           }
          ],
          "scatterpolar": [
           {
            "marker": {
             "colorbar": {
              "outlinewidth": 0,
              "ticks": ""
             }
            },
            "type": "scatterpolar"
           }
          ],
          "scatterpolargl": [
           {
            "marker": {
             "colorbar": {
              "outlinewidth": 0,
              "ticks": ""
             }
            },
            "type": "scatterpolargl"
           }
          ],
          "scatterternary": [
           {
            "marker": {
             "colorbar": {
              "outlinewidth": 0,
              "ticks": ""
             }
            },
            "type": "scatterternary"
           }
          ],
          "surface": [
           {
            "colorbar": {
             "outlinewidth": 0,
             "ticks": ""
            },
            "colorscale": [
             [
              0,
              "#0d0887"
             ],
             [
              0.1111111111111111,
              "#46039f"
             ],
             [
              0.2222222222222222,
              "#7201a8"
             ],
             [
              0.3333333333333333,
              "#9c179e"
             ],
             [
              0.4444444444444444,
              "#bd3786"
             ],
             [
              0.5555555555555556,
              "#d8576b"
             ],
             [
              0.6666666666666666,
              "#ed7953"
             ],
             [
              0.7777777777777778,
              "#fb9f3a"
             ],
             [
              0.8888888888888888,
              "#fdca26"
             ],
             [
              1,
              "#f0f921"
             ]
            ],
            "type": "surface"
           }
          ],
          "table": [
           {
            "cells": {
             "fill": {
              "color": "#EBF0F8"
             },
             "line": {
              "color": "white"
             }
            },
            "header": {
             "fill": {
              "color": "#C8D4E3"
             },
             "line": {
              "color": "white"
             }
            },
            "type": "table"
           }
          ]
         },
         "layout": {
          "annotationdefaults": {
           "arrowcolor": "#2a3f5f",
           "arrowhead": 0,
           "arrowwidth": 1
          },
          "autotypenumbers": "strict",
          "coloraxis": {
           "colorbar": {
            "outlinewidth": 0,
            "ticks": ""
           }
          },
          "colorscale": {
           "diverging": [
            [
             0,
             "#8e0152"
            ],
            [
             0.1,
             "#c51b7d"
            ],
            [
             0.2,
             "#de77ae"
            ],
            [
             0.3,
             "#f1b6da"
            ],
            [
             0.4,
             "#fde0ef"
            ],
            [
             0.5,
             "#f7f7f7"
            ],
            [
             0.6,
             "#e6f5d0"
            ],
            [
             0.7,
             "#b8e186"
            ],
            [
             0.8,
             "#7fbc41"
            ],
            [
             0.9,
             "#4d9221"
            ],
            [
             1,
             "#276419"
            ]
           ],
           "sequential": [
            [
             0,
             "#0d0887"
            ],
            [
             0.1111111111111111,
             "#46039f"
            ],
            [
             0.2222222222222222,
             "#7201a8"
            ],
            [
             0.3333333333333333,
             "#9c179e"
            ],
            [
             0.4444444444444444,
             "#bd3786"
            ],
            [
             0.5555555555555556,
             "#d8576b"
            ],
            [
             0.6666666666666666,
             "#ed7953"
            ],
            [
             0.7777777777777778,
             "#fb9f3a"
            ],
            [
             0.8888888888888888,
             "#fdca26"
            ],
            [
             1,
             "#f0f921"
            ]
           ],
           "sequentialminus": [
            [
             0,
             "#0d0887"
            ],
            [
             0.1111111111111111,
             "#46039f"
            ],
            [
             0.2222222222222222,
             "#7201a8"
            ],
            [
             0.3333333333333333,
             "#9c179e"
            ],
            [
             0.4444444444444444,
             "#bd3786"
            ],
            [
             0.5555555555555556,
             "#d8576b"
            ],
            [
             0.6666666666666666,
             "#ed7953"
            ],
            [
             0.7777777777777778,
             "#fb9f3a"
            ],
            [
             0.8888888888888888,
             "#fdca26"
            ],
            [
             1,
             "#f0f921"
            ]
           ]
          },
          "colorway": [
           "#636efa",
           "#EF553B",
           "#00cc96",
           "#ab63fa",
           "#FFA15A",
           "#19d3f3",
           "#FF6692",
           "#B6E880",
           "#FF97FF",
           "#FECB52"
          ],
          "font": {
           "color": "#2a3f5f"
          },
          "geo": {
           "bgcolor": "white",
           "lakecolor": "white",
           "landcolor": "#E5ECF6",
           "showlakes": true,
           "showland": true,
           "subunitcolor": "white"
          },
          "hoverlabel": {
           "align": "left"
          },
          "hovermode": "closest",
          "mapbox": {
           "style": "light"
          },
          "paper_bgcolor": "white",
          "plot_bgcolor": "#E5ECF6",
          "polar": {
           "angularaxis": {
            "gridcolor": "white",
            "linecolor": "white",
            "ticks": ""
           },
           "bgcolor": "#E5ECF6",
           "radialaxis": {
            "gridcolor": "white",
            "linecolor": "white",
            "ticks": ""
           }
          },
          "scene": {
           "xaxis": {
            "backgroundcolor": "#E5ECF6",
            "gridcolor": "white",
            "gridwidth": 2,
            "linecolor": "white",
            "showbackground": true,
            "ticks": "",
            "zerolinecolor": "white"
           },
           "yaxis": {
            "backgroundcolor": "#E5ECF6",
            "gridcolor": "white",
            "gridwidth": 2,
            "linecolor": "white",
            "showbackground": true,
            "ticks": "",
            "zerolinecolor": "white"
           },
           "zaxis": {
            "backgroundcolor": "#E5ECF6",
            "gridcolor": "white",
            "gridwidth": 2,
            "linecolor": "white",
            "showbackground": true,
            "ticks": "",
            "zerolinecolor": "white"
           }
          },
          "shapedefaults": {
           "line": {
            "color": "#2a3f5f"
           }
          },
          "ternary": {
           "aaxis": {
            "gridcolor": "white",
            "linecolor": "white",
            "ticks": ""
           },
           "baxis": {
            "gridcolor": "white",
            "linecolor": "white",
            "ticks": ""
           },
           "bgcolor": "#E5ECF6",
           "caxis": {
            "gridcolor": "white",
            "linecolor": "white",
            "ticks": ""
           }
          },
          "title": {
           "x": 0.05
          },
          "xaxis": {
           "automargin": true,
           "gridcolor": "white",
           "linecolor": "white",
           "ticks": "",
           "title": {
            "standoff": 15
           },
           "zerolinecolor": "white",
           "zerolinewidth": 2
          },
          "yaxis": {
           "automargin": true,
           "gridcolor": "white",
           "linecolor": "white",
           "ticks": "",
           "title": {
            "standoff": 15
           },
           "zerolinecolor": "white",
           "zerolinewidth": 2
          }
         }
        },
        "title": {
         "text": "Matriz de Confusão - K-Nearest Neighbors",
         "x": 0.5
        },
        "width": 600,
        "xaxis": {
         "anchor": "y",
         "constrain": "domain",
         "domain": [
          0,
          1
         ],
         "scaleanchor": "y",
         "title": {
          "text": "Predito"
         }
        },
        "yaxis": {
         "anchor": "x",
         "autorange": "reversed",
         "constrain": "domain",
         "domain": [
          0,
          1
         ],
         "title": {
          "text": "Real"
         }
        }
       }
      }
     },
     "metadata": {},
     "output_type": "display_data"
    },
    {
     "name": "stdout",
     "output_type": "stream",
     "text": [
      "✅ Random Forest treinado com acurácia: 0.9211\n"
     ]
    },
    {
     "data": {
      "application/vnd.plotly.v1+json": {
       "config": {
        "plotlyServerURL": "https://plot.ly"
       },
       "data": [
        {
         "coloraxis": "coloraxis",
         "hovertemplate": "Predito: %{x}<br>Real: %{y}<br>Contagem: %{z}<extra></extra>",
         "name": "0",
         "texttemplate": "%{z}",
         "type": "heatmap",
         "x": [
          "Maligno (0)",
          "Benigno (1)"
         ],
         "xaxis": "x",
         "y": [
          "Maligno (0)",
          "Benigno (1)"
         ],
         "yaxis": "y",
         "z": {
          "bdata": "JwMGQg==",
          "dtype": "i1",
          "shape": "2, 2"
         }
        }
       ],
       "layout": {
        "coloraxis": {
         "colorbar": {
          "title": {
           "text": "Contagem"
          }
         },
         "colorscale": [
          [
           0,
           "rgb(247,251,255)"
          ],
          [
           0.125,
           "rgb(222,235,247)"
          ],
          [
           0.25,
           "rgb(198,219,239)"
          ],
          [
           0.375,
           "rgb(158,202,225)"
          ],
          [
           0.5,
           "rgb(107,174,214)"
          ],
          [
           0.625,
           "rgb(66,146,198)"
          ],
          [
           0.75,
           "rgb(33,113,181)"
          ],
          [
           0.875,
           "rgb(8,81,156)"
          ],
          [
           1,
           "rgb(8,48,107)"
          ]
         ]
        },
        "height": 400,
        "template": {
         "data": {
          "bar": [
           {
            "error_x": {
             "color": "#2a3f5f"
            },
            "error_y": {
             "color": "#2a3f5f"
            },
            "marker": {
             "line": {
              "color": "#E5ECF6",
              "width": 0.5
             },
             "pattern": {
              "fillmode": "overlay",
              "size": 10,
              "solidity": 0.2
             }
            },
            "type": "bar"
           }
          ],
          "barpolar": [
           {
            "marker": {
             "line": {
              "color": "#E5ECF6",
              "width": 0.5
             },
             "pattern": {
              "fillmode": "overlay",
              "size": 10,
              "solidity": 0.2
             }
            },
            "type": "barpolar"
           }
          ],
          "carpet": [
           {
            "aaxis": {
             "endlinecolor": "#2a3f5f",
             "gridcolor": "white",
             "linecolor": "white",
             "minorgridcolor": "white",
             "startlinecolor": "#2a3f5f"
            },
            "baxis": {
             "endlinecolor": "#2a3f5f",
             "gridcolor": "white",
             "linecolor": "white",
             "minorgridcolor": "white",
             "startlinecolor": "#2a3f5f"
            },
            "type": "carpet"
           }
          ],
          "choropleth": [
           {
            "colorbar": {
             "outlinewidth": 0,
             "ticks": ""
            },
            "type": "choropleth"
           }
          ],
          "contour": [
           {
            "colorbar": {
             "outlinewidth": 0,
             "ticks": ""
            },
            "colorscale": [
             [
              0,
              "#0d0887"
             ],
             [
              0.1111111111111111,
              "#46039f"
             ],
             [
              0.2222222222222222,
              "#7201a8"
             ],
             [
              0.3333333333333333,
              "#9c179e"
             ],
             [
              0.4444444444444444,
              "#bd3786"
             ],
             [
              0.5555555555555556,
              "#d8576b"
             ],
             [
              0.6666666666666666,
              "#ed7953"
             ],
             [
              0.7777777777777778,
              "#fb9f3a"
             ],
             [
              0.8888888888888888,
              "#fdca26"
             ],
             [
              1,
              "#f0f921"
             ]
            ],
            "type": "contour"
           }
          ],
          "contourcarpet": [
           {
            "colorbar": {
             "outlinewidth": 0,
             "ticks": ""
            },
            "type": "contourcarpet"
           }
          ],
          "heatmap": [
           {
            "colorbar": {
             "outlinewidth": 0,
             "ticks": ""
            },
            "colorscale": [
             [
              0,
              "#0d0887"
             ],
             [
              0.1111111111111111,
              "#46039f"
             ],
             [
              0.2222222222222222,
              "#7201a8"
             ],
             [
              0.3333333333333333,
              "#9c179e"
             ],
             [
              0.4444444444444444,
              "#bd3786"
             ],
             [
              0.5555555555555556,
              "#d8576b"
             ],
             [
              0.6666666666666666,
              "#ed7953"
             ],
             [
              0.7777777777777778,
              "#fb9f3a"
             ],
             [
              0.8888888888888888,
              "#fdca26"
             ],
             [
              1,
              "#f0f921"
             ]
            ],
            "type": "heatmap"
           }
          ],
          "histogram": [
           {
            "marker": {
             "pattern": {
              "fillmode": "overlay",
              "size": 10,
              "solidity": 0.2
             }
            },
            "type": "histogram"
           }
          ],
          "histogram2d": [
           {
            "colorbar": {
             "outlinewidth": 0,
             "ticks": ""
            },
            "colorscale": [
             [
              0,
              "#0d0887"
             ],
             [
              0.1111111111111111,
              "#46039f"
             ],
             [
              0.2222222222222222,
              "#7201a8"
             ],
             [
              0.3333333333333333,
              "#9c179e"
             ],
             [
              0.4444444444444444,
              "#bd3786"
             ],
             [
              0.5555555555555556,
              "#d8576b"
             ],
             [
              0.6666666666666666,
              "#ed7953"
             ],
             [
              0.7777777777777778,
              "#fb9f3a"
             ],
             [
              0.8888888888888888,
              "#fdca26"
             ],
             [
              1,
              "#f0f921"
             ]
            ],
            "type": "histogram2d"
           }
          ],
          "histogram2dcontour": [
           {
            "colorbar": {
             "outlinewidth": 0,
             "ticks": ""
            },
            "colorscale": [
             [
              0,
              "#0d0887"
             ],
             [
              0.1111111111111111,
              "#46039f"
             ],
             [
              0.2222222222222222,
              "#7201a8"
             ],
             [
              0.3333333333333333,
              "#9c179e"
             ],
             [
              0.4444444444444444,
              "#bd3786"
             ],
             [
              0.5555555555555556,
              "#d8576b"
             ],
             [
              0.6666666666666666,
              "#ed7953"
             ],
             [
              0.7777777777777778,
              "#fb9f3a"
             ],
             [
              0.8888888888888888,
              "#fdca26"
             ],
             [
              1,
              "#f0f921"
             ]
            ],
            "type": "histogram2dcontour"
           }
          ],
          "mesh3d": [
           {
            "colorbar": {
             "outlinewidth": 0,
             "ticks": ""
            },
            "type": "mesh3d"
           }
          ],
          "parcoords": [
           {
            "line": {
             "colorbar": {
              "outlinewidth": 0,
              "ticks": ""
             }
            },
            "type": "parcoords"
           }
          ],
          "pie": [
           {
            "automargin": true,
            "type": "pie"
           }
          ],
          "scatter": [
           {
            "fillpattern": {
             "fillmode": "overlay",
             "size": 10,
             "solidity": 0.2
            },
            "type": "scatter"
           }
          ],
          "scatter3d": [
           {
            "line": {
             "colorbar": {
              "outlinewidth": 0,
              "ticks": ""
             }
            },
            "marker": {
             "colorbar": {
              "outlinewidth": 0,
              "ticks": ""
             }
            },
            "type": "scatter3d"
           }
          ],
          "scattercarpet": [
           {
            "marker": {
             "colorbar": {
              "outlinewidth": 0,
              "ticks": ""
             }
            },
            "type": "scattercarpet"
           }
          ],
          "scattergeo": [
           {
            "marker": {
             "colorbar": {
              "outlinewidth": 0,
              "ticks": ""
             }
            },
            "type": "scattergeo"
           }
          ],
          "scattergl": [
           {
            "marker": {
             "colorbar": {
              "outlinewidth": 0,
              "ticks": ""
             }
            },
            "type": "scattergl"
           }
          ],
          "scattermap": [
           {
            "marker": {
             "colorbar": {
              "outlinewidth": 0,
              "ticks": ""
             }
            },
            "type": "scattermap"
           }
          ],
          "scattermapbox": [
           {
            "marker": {
             "colorbar": {
              "outlinewidth": 0,
              "ticks": ""
             }
            },
            "type": "scattermapbox"
           }
          ],
          "scatterpolar": [
           {
            "marker": {
             "colorbar": {
              "outlinewidth": 0,
              "ticks": ""
             }
            },
            "type": "scatterpolar"
           }
          ],
          "scatterpolargl": [
           {
            "marker": {
             "colorbar": {
              "outlinewidth": 0,
              "ticks": ""
             }
            },
            "type": "scatterpolargl"
           }
          ],
          "scatterternary": [
           {
            "marker": {
             "colorbar": {
              "outlinewidth": 0,
              "ticks": ""
             }
            },
            "type": "scatterternary"
           }
          ],
          "surface": [
           {
            "colorbar": {
             "outlinewidth": 0,
             "ticks": ""
            },
            "colorscale": [
             [
              0,
              "#0d0887"
             ],
             [
              0.1111111111111111,
              "#46039f"
             ],
             [
              0.2222222222222222,
              "#7201a8"
             ],
             [
              0.3333333333333333,
              "#9c179e"
             ],
             [
              0.4444444444444444,
              "#bd3786"
             ],
             [
              0.5555555555555556,
              "#d8576b"
             ],
             [
              0.6666666666666666,
              "#ed7953"
             ],
             [
              0.7777777777777778,
              "#fb9f3a"
             ],
             [
              0.8888888888888888,
              "#fdca26"
             ],
             [
              1,
              "#f0f921"
             ]
            ],
            "type": "surface"
           }
          ],
          "table": [
           {
            "cells": {
             "fill": {
              "color": "#EBF0F8"
             },
             "line": {
              "color": "white"
             }
            },
            "header": {
             "fill": {
              "color": "#C8D4E3"
             },
             "line": {
              "color": "white"
             }
            },
            "type": "table"
           }
          ]
         },
         "layout": {
          "annotationdefaults": {
           "arrowcolor": "#2a3f5f",
           "arrowhead": 0,
           "arrowwidth": 1
          },
          "autotypenumbers": "strict",
          "coloraxis": {
           "colorbar": {
            "outlinewidth": 0,
            "ticks": ""
           }
          },
          "colorscale": {
           "diverging": [
            [
             0,
             "#8e0152"
            ],
            [
             0.1,
             "#c51b7d"
            ],
            [
             0.2,
             "#de77ae"
            ],
            [
             0.3,
             "#f1b6da"
            ],
            [
             0.4,
             "#fde0ef"
            ],
            [
             0.5,
             "#f7f7f7"
            ],
            [
             0.6,
             "#e6f5d0"
            ],
            [
             0.7,
             "#b8e186"
            ],
            [
             0.8,
             "#7fbc41"
            ],
            [
             0.9,
             "#4d9221"
            ],
            [
             1,
             "#276419"
            ]
           ],
           "sequential": [
            [
             0,
             "#0d0887"
            ],
            [
             0.1111111111111111,
             "#46039f"
            ],
            [
             0.2222222222222222,
             "#7201a8"
            ],
            [
             0.3333333333333333,
             "#9c179e"
            ],
            [
             0.4444444444444444,
             "#bd3786"
            ],
            [
             0.5555555555555556,
             "#d8576b"
            ],
            [
             0.6666666666666666,
             "#ed7953"
            ],
            [
             0.7777777777777778,
             "#fb9f3a"
            ],
            [
             0.8888888888888888,
             "#fdca26"
            ],
            [
             1,
             "#f0f921"
            ]
           ],
           "sequentialminus": [
            [
             0,
             "#0d0887"
            ],
            [
             0.1111111111111111,
             "#46039f"
            ],
            [
             0.2222222222222222,
             "#7201a8"
            ],
            [
             0.3333333333333333,
             "#9c179e"
            ],
            [
             0.4444444444444444,
             "#bd3786"
            ],
            [
             0.5555555555555556,
             "#d8576b"
            ],
            [
             0.6666666666666666,
             "#ed7953"
            ],
            [
             0.7777777777777778,
             "#fb9f3a"
            ],
            [
             0.8888888888888888,
             "#fdca26"
            ],
            [
             1,
             "#f0f921"
            ]
           ]
          },
          "colorway": [
           "#636efa",
           "#EF553B",
           "#00cc96",
           "#ab63fa",
           "#FFA15A",
           "#19d3f3",
           "#FF6692",
           "#B6E880",
           "#FF97FF",
           "#FECB52"
          ],
          "font": {
           "color": "#2a3f5f"
          },
          "geo": {
           "bgcolor": "white",
           "lakecolor": "white",
           "landcolor": "#E5ECF6",
           "showlakes": true,
           "showland": true,
           "subunitcolor": "white"
          },
          "hoverlabel": {
           "align": "left"
          },
          "hovermode": "closest",
          "mapbox": {
           "style": "light"
          },
          "paper_bgcolor": "white",
          "plot_bgcolor": "#E5ECF6",
          "polar": {
           "angularaxis": {
            "gridcolor": "white",
            "linecolor": "white",
            "ticks": ""
           },
           "bgcolor": "#E5ECF6",
           "radialaxis": {
            "gridcolor": "white",
            "linecolor": "white",
            "ticks": ""
           }
          },
          "scene": {
           "xaxis": {
            "backgroundcolor": "#E5ECF6",
            "gridcolor": "white",
            "gridwidth": 2,
            "linecolor": "white",
            "showbackground": true,
            "ticks": "",
            "zerolinecolor": "white"
           },
           "yaxis": {
            "backgroundcolor": "#E5ECF6",
            "gridcolor": "white",
            "gridwidth": 2,
            "linecolor": "white",
            "showbackground": true,
            "ticks": "",
            "zerolinecolor": "white"
           },
           "zaxis": {
            "backgroundcolor": "#E5ECF6",
            "gridcolor": "white",
            "gridwidth": 2,
            "linecolor": "white",
            "showbackground": true,
            "ticks": "",
            "zerolinecolor": "white"
           }
          },
          "shapedefaults": {
           "line": {
            "color": "#2a3f5f"
           }
          },
          "ternary": {
           "aaxis": {
            "gridcolor": "white",
            "linecolor": "white",
            "ticks": ""
           },
           "baxis": {
            "gridcolor": "white",
            "linecolor": "white",
            "ticks": ""
           },
           "bgcolor": "#E5ECF6",
           "caxis": {
            "gridcolor": "white",
            "linecolor": "white",
            "ticks": ""
           }
          },
          "title": {
           "x": 0.05
          },
          "xaxis": {
           "automargin": true,
           "gridcolor": "white",
           "linecolor": "white",
           "ticks": "",
           "title": {
            "standoff": 15
           },
           "zerolinecolor": "white",
           "zerolinewidth": 2
          },
          "yaxis": {
           "automargin": true,
           "gridcolor": "white",
           "linecolor": "white",
           "ticks": "",
           "title": {
            "standoff": 15
           },
           "zerolinecolor": "white",
           "zerolinewidth": 2
          }
         }
        },
        "title": {
         "text": "Matriz de Confusão - Random Forest",
         "x": 0.5
        },
        "width": 600,
        "xaxis": {
         "anchor": "y",
         "constrain": "domain",
         "domain": [
          0,
          1
         ],
         "scaleanchor": "y",
         "title": {
          "text": "Predito"
         }
        },
        "yaxis": {
         "anchor": "x",
         "autorange": "reversed",
         "constrain": "domain",
         "domain": [
          0,
          1
         ],
         "title": {
          "text": "Real"
         }
        }
       }
      }
     },
     "metadata": {},
     "output_type": "display_data"
    },
    {
     "name": "stdout",
     "output_type": "stream",
     "text": [
      "✅ Logistic Regression treinado com acurácia: 0.8596\n"
     ]
    },
    {
     "data": {
      "application/vnd.plotly.v1+json": {
       "config": {
        "plotlyServerURL": "https://plot.ly"
       },
       "data": [
        {
         "coloraxis": "coloraxis",
         "hovertemplate": "Predito: %{x}<br>Real: %{y}<br>Contagem: %{z}<extra></extra>",
         "name": "0",
         "texttemplate": "%{z}",
         "type": "heatmap",
         "x": [
          "Maligno (0)",
          "Benigno (1)"
         ],
         "xaxis": "x",
         "y": [
          "Maligno (0)",
          "Benigno (1)"
         ],
         "yaxis": "y",
         "z": {
          "bdata": "JgQMPA==",
          "dtype": "i1",
          "shape": "2, 2"
         }
        }
       ],
       "layout": {
        "coloraxis": {
         "colorbar": {
          "title": {
           "text": "Contagem"
          }
         },
         "colorscale": [
          [
           0,
           "rgb(247,251,255)"
          ],
          [
           0.125,
           "rgb(222,235,247)"
          ],
          [
           0.25,
           "rgb(198,219,239)"
          ],
          [
           0.375,
           "rgb(158,202,225)"
          ],
          [
           0.5,
           "rgb(107,174,214)"
          ],
          [
           0.625,
           "rgb(66,146,198)"
          ],
          [
           0.75,
           "rgb(33,113,181)"
          ],
          [
           0.875,
           "rgb(8,81,156)"
          ],
          [
           1,
           "rgb(8,48,107)"
          ]
         ]
        },
        "height": 400,
        "template": {
         "data": {
          "bar": [
           {
            "error_x": {
             "color": "#2a3f5f"
            },
            "error_y": {
             "color": "#2a3f5f"
            },
            "marker": {
             "line": {
              "color": "#E5ECF6",
              "width": 0.5
             },
             "pattern": {
              "fillmode": "overlay",
              "size": 10,
              "solidity": 0.2
             }
            },
            "type": "bar"
           }
          ],
          "barpolar": [
           {
            "marker": {
             "line": {
              "color": "#E5ECF6",
              "width": 0.5
             },
             "pattern": {
              "fillmode": "overlay",
              "size": 10,
              "solidity": 0.2
             }
            },
            "type": "barpolar"
           }
          ],
          "carpet": [
           {
            "aaxis": {
             "endlinecolor": "#2a3f5f",
             "gridcolor": "white",
             "linecolor": "white",
             "minorgridcolor": "white",
             "startlinecolor": "#2a3f5f"
            },
            "baxis": {
             "endlinecolor": "#2a3f5f",
             "gridcolor": "white",
             "linecolor": "white",
             "minorgridcolor": "white",
             "startlinecolor": "#2a3f5f"
            },
            "type": "carpet"
           }
          ],
          "choropleth": [
           {
            "colorbar": {
             "outlinewidth": 0,
             "ticks": ""
            },
            "type": "choropleth"
           }
          ],
          "contour": [
           {
            "colorbar": {
             "outlinewidth": 0,
             "ticks": ""
            },
            "colorscale": [
             [
              0,
              "#0d0887"
             ],
             [
              0.1111111111111111,
              "#46039f"
             ],
             [
              0.2222222222222222,
              "#7201a8"
             ],
             [
              0.3333333333333333,
              "#9c179e"
             ],
             [
              0.4444444444444444,
              "#bd3786"
             ],
             [
              0.5555555555555556,
              "#d8576b"
             ],
             [
              0.6666666666666666,
              "#ed7953"
             ],
             [
              0.7777777777777778,
              "#fb9f3a"
             ],
             [
              0.8888888888888888,
              "#fdca26"
             ],
             [
              1,
              "#f0f921"
             ]
            ],
            "type": "contour"
           }
          ],
          "contourcarpet": [
           {
            "colorbar": {
             "outlinewidth": 0,
             "ticks": ""
            },
            "type": "contourcarpet"
           }
          ],
          "heatmap": [
           {
            "colorbar": {
             "outlinewidth": 0,
             "ticks": ""
            },
            "colorscale": [
             [
              0,
              "#0d0887"
             ],
             [
              0.1111111111111111,
              "#46039f"
             ],
             [
              0.2222222222222222,
              "#7201a8"
             ],
             [
              0.3333333333333333,
              "#9c179e"
             ],
             [
              0.4444444444444444,
              "#bd3786"
             ],
             [
              0.5555555555555556,
              "#d8576b"
             ],
             [
              0.6666666666666666,
              "#ed7953"
             ],
             [
              0.7777777777777778,
              "#fb9f3a"
             ],
             [
              0.8888888888888888,
              "#fdca26"
             ],
             [
              1,
              "#f0f921"
             ]
            ],
            "type": "heatmap"
           }
          ],
          "histogram": [
           {
            "marker": {
             "pattern": {
              "fillmode": "overlay",
              "size": 10,
              "solidity": 0.2
             }
            },
            "type": "histogram"
           }
          ],
          "histogram2d": [
           {
            "colorbar": {
             "outlinewidth": 0,
             "ticks": ""
            },
            "colorscale": [
             [
              0,
              "#0d0887"
             ],
             [
              0.1111111111111111,
              "#46039f"
             ],
             [
              0.2222222222222222,
              "#7201a8"
             ],
             [
              0.3333333333333333,
              "#9c179e"
             ],
             [
              0.4444444444444444,
              "#bd3786"
             ],
             [
              0.5555555555555556,
              "#d8576b"
             ],
             [
              0.6666666666666666,
              "#ed7953"
             ],
             [
              0.7777777777777778,
              "#fb9f3a"
             ],
             [
              0.8888888888888888,
              "#fdca26"
             ],
             [
              1,
              "#f0f921"
             ]
            ],
            "type": "histogram2d"
           }
          ],
          "histogram2dcontour": [
           {
            "colorbar": {
             "outlinewidth": 0,
             "ticks": ""
            },
            "colorscale": [
             [
              0,
              "#0d0887"
             ],
             [
              0.1111111111111111,
              "#46039f"
             ],
             [
              0.2222222222222222,
              "#7201a8"
             ],
             [
              0.3333333333333333,
              "#9c179e"
             ],
             [
              0.4444444444444444,
              "#bd3786"
             ],
             [
              0.5555555555555556,
              "#d8576b"
             ],
             [
              0.6666666666666666,
              "#ed7953"
             ],
             [
              0.7777777777777778,
              "#fb9f3a"
             ],
             [
              0.8888888888888888,
              "#fdca26"
             ],
             [
              1,
              "#f0f921"
             ]
            ],
            "type": "histogram2dcontour"
           }
          ],
          "mesh3d": [
           {
            "colorbar": {
             "outlinewidth": 0,
             "ticks": ""
            },
            "type": "mesh3d"
           }
          ],
          "parcoords": [
           {
            "line": {
             "colorbar": {
              "outlinewidth": 0,
              "ticks": ""
             }
            },
            "type": "parcoords"
           }
          ],
          "pie": [
           {
            "automargin": true,
            "type": "pie"
           }
          ],
          "scatter": [
           {
            "fillpattern": {
             "fillmode": "overlay",
             "size": 10,
             "solidity": 0.2
            },
            "type": "scatter"
           }
          ],
          "scatter3d": [
           {
            "line": {
             "colorbar": {
              "outlinewidth": 0,
              "ticks": ""
             }
            },
            "marker": {
             "colorbar": {
              "outlinewidth": 0,
              "ticks": ""
             }
            },
            "type": "scatter3d"
           }
          ],
          "scattercarpet": [
           {
            "marker": {
             "colorbar": {
              "outlinewidth": 0,
              "ticks": ""
             }
            },
            "type": "scattercarpet"
           }
          ],
          "scattergeo": [
           {
            "marker": {
             "colorbar": {
              "outlinewidth": 0,
              "ticks": ""
             }
            },
            "type": "scattergeo"
           }
          ],
          "scattergl": [
           {
            "marker": {
             "colorbar": {
              "outlinewidth": 0,
              "ticks": ""
             }
            },
            "type": "scattergl"
           }
          ],
          "scattermap": [
           {
            "marker": {
             "colorbar": {
              "outlinewidth": 0,
              "ticks": ""
             }
            },
            "type": "scattermap"
           }
          ],
          "scattermapbox": [
           {
            "marker": {
             "colorbar": {
              "outlinewidth": 0,
              "ticks": ""
             }
            },
            "type": "scattermapbox"
           }
          ],
          "scatterpolar": [
           {
            "marker": {
             "colorbar": {
              "outlinewidth": 0,
              "ticks": ""
             }
            },
            "type": "scatterpolar"
           }
          ],
          "scatterpolargl": [
           {
            "marker": {
             "colorbar": {
              "outlinewidth": 0,
              "ticks": ""
             }
            },
            "type": "scatterpolargl"
           }
          ],
          "scatterternary": [
           {
            "marker": {
             "colorbar": {
              "outlinewidth": 0,
              "ticks": ""
             }
            },
            "type": "scatterternary"
           }
          ],
          "surface": [
           {
            "colorbar": {
             "outlinewidth": 0,
             "ticks": ""
            },
            "colorscale": [
             [
              0,
              "#0d0887"
             ],
             [
              0.1111111111111111,
              "#46039f"
             ],
             [
              0.2222222222222222,
              "#7201a8"
             ],
             [
              0.3333333333333333,
              "#9c179e"
             ],
             [
              0.4444444444444444,
              "#bd3786"
             ],
             [
              0.5555555555555556,
              "#d8576b"
             ],
             [
              0.6666666666666666,
              "#ed7953"
             ],
             [
              0.7777777777777778,
              "#fb9f3a"
             ],
             [
              0.8888888888888888,
              "#fdca26"
             ],
             [
              1,
              "#f0f921"
             ]
            ],
            "type": "surface"
           }
          ],
          "table": [
           {
            "cells": {
             "fill": {
              "color": "#EBF0F8"
             },
             "line": {
              "color": "white"
             }
            },
            "header": {
             "fill": {
              "color": "#C8D4E3"
             },
             "line": {
              "color": "white"
             }
            },
            "type": "table"
           }
          ]
         },
         "layout": {
          "annotationdefaults": {
           "arrowcolor": "#2a3f5f",
           "arrowhead": 0,
           "arrowwidth": 1
          },
          "autotypenumbers": "strict",
          "coloraxis": {
           "colorbar": {
            "outlinewidth": 0,
            "ticks": ""
           }
          },
          "colorscale": {
           "diverging": [
            [
             0,
             "#8e0152"
            ],
            [
             0.1,
             "#c51b7d"
            ],
            [
             0.2,
             "#de77ae"
            ],
            [
             0.3,
             "#f1b6da"
            ],
            [
             0.4,
             "#fde0ef"
            ],
            [
             0.5,
             "#f7f7f7"
            ],
            [
             0.6,
             "#e6f5d0"
            ],
            [
             0.7,
             "#b8e186"
            ],
            [
             0.8,
             "#7fbc41"
            ],
            [
             0.9,
             "#4d9221"
            ],
            [
             1,
             "#276419"
            ]
           ],
           "sequential": [
            [
             0,
             "#0d0887"
            ],
            [
             0.1111111111111111,
             "#46039f"
            ],
            [
             0.2222222222222222,
             "#7201a8"
            ],
            [
             0.3333333333333333,
             "#9c179e"
            ],
            [
             0.4444444444444444,
             "#bd3786"
            ],
            [
             0.5555555555555556,
             "#d8576b"
            ],
            [
             0.6666666666666666,
             "#ed7953"
            ],
            [
             0.7777777777777778,
             "#fb9f3a"
            ],
            [
             0.8888888888888888,
             "#fdca26"
            ],
            [
             1,
             "#f0f921"
            ]
           ],
           "sequentialminus": [
            [
             0,
             "#0d0887"
            ],
            [
             0.1111111111111111,
             "#46039f"
            ],
            [
             0.2222222222222222,
             "#7201a8"
            ],
            [
             0.3333333333333333,
             "#9c179e"
            ],
            [
             0.4444444444444444,
             "#bd3786"
            ],
            [
             0.5555555555555556,
             "#d8576b"
            ],
            [
             0.6666666666666666,
             "#ed7953"
            ],
            [
             0.7777777777777778,
             "#fb9f3a"
            ],
            [
             0.8888888888888888,
             "#fdca26"
            ],
            [
             1,
             "#f0f921"
            ]
           ]
          },
          "colorway": [
           "#636efa",
           "#EF553B",
           "#00cc96",
           "#ab63fa",
           "#FFA15A",
           "#19d3f3",
           "#FF6692",
           "#B6E880",
           "#FF97FF",
           "#FECB52"
          ],
          "font": {
           "color": "#2a3f5f"
          },
          "geo": {
           "bgcolor": "white",
           "lakecolor": "white",
           "landcolor": "#E5ECF6",
           "showlakes": true,
           "showland": true,
           "subunitcolor": "white"
          },
          "hoverlabel": {
           "align": "left"
          },
          "hovermode": "closest",
          "mapbox": {
           "style": "light"
          },
          "paper_bgcolor": "white",
          "plot_bgcolor": "#E5ECF6",
          "polar": {
           "angularaxis": {
            "gridcolor": "white",
            "linecolor": "white",
            "ticks": ""
           },
           "bgcolor": "#E5ECF6",
           "radialaxis": {
            "gridcolor": "white",
            "linecolor": "white",
            "ticks": ""
           }
          },
          "scene": {
           "xaxis": {
            "backgroundcolor": "#E5ECF6",
            "gridcolor": "white",
            "gridwidth": 2,
            "linecolor": "white",
            "showbackground": true,
            "ticks": "",
            "zerolinecolor": "white"
           },
           "yaxis": {
            "backgroundcolor": "#E5ECF6",
            "gridcolor": "white",
            "gridwidth": 2,
            "linecolor": "white",
            "showbackground": true,
            "ticks": "",
            "zerolinecolor": "white"
           },
           "zaxis": {
            "backgroundcolor": "#E5ECF6",
            "gridcolor": "white",
            "gridwidth": 2,
            "linecolor": "white",
            "showbackground": true,
            "ticks": "",
            "zerolinecolor": "white"
           }
          },
          "shapedefaults": {
           "line": {
            "color": "#2a3f5f"
           }
          },
          "ternary": {
           "aaxis": {
            "gridcolor": "white",
            "linecolor": "white",
            "ticks": ""
           },
           "baxis": {
            "gridcolor": "white",
            "linecolor": "white",
            "ticks": ""
           },
           "bgcolor": "#E5ECF6",
           "caxis": {
            "gridcolor": "white",
            "linecolor": "white",
            "ticks": ""
           }
          },
          "title": {
           "x": 0.05
          },
          "xaxis": {
           "automargin": true,
           "gridcolor": "white",
           "linecolor": "white",
           "ticks": "",
           "title": {
            "standoff": 15
           },
           "zerolinecolor": "white",
           "zerolinewidth": 2
          },
          "yaxis": {
           "automargin": true,
           "gridcolor": "white",
           "linecolor": "white",
           "ticks": "",
           "title": {
            "standoff": 15
           },
           "zerolinecolor": "white",
           "zerolinewidth": 2
          }
         }
        },
        "title": {
         "text": "Matriz de Confusão - Logistic Regression",
         "x": 0.5
        },
        "width": 600,
        "xaxis": {
         "anchor": "y",
         "constrain": "domain",
         "domain": [
          0,
          1
         ],
         "scaleanchor": "y",
         "title": {
          "text": "Predito"
         }
        },
        "yaxis": {
         "anchor": "x",
         "autorange": "reversed",
         "constrain": "domain",
         "domain": [
          0,
          1
         ],
         "title": {
          "text": "Real"
         }
        }
       }
      }
     },
     "metadata": {},
     "output_type": "display_data"
    },
    {
     "name": "stdout",
     "output_type": "stream",
     "text": [
      "✅ Gradient Boosting treinado com acurácia: 0.9123\n"
     ]
    },
    {
     "data": {
      "application/vnd.plotly.v1+json": {
       "config": {
        "plotlyServerURL": "https://plot.ly"
       },
       "data": [
        {
         "coloraxis": "coloraxis",
         "hovertemplate": "Predito: %{x}<br>Real: %{y}<br>Contagem: %{z}<extra></extra>",
         "name": "0",
         "texttemplate": "%{z}",
         "type": "heatmap",
         "x": [
          "Maligno (0)",
          "Benigno (1)"
         ],
         "xaxis": "x",
         "y": [
          "Maligno (0)",
          "Benigno (1)"
         ],
         "yaxis": "y",
         "z": {
          "bdata": "JwMHQQ==",
          "dtype": "i1",
          "shape": "2, 2"
         }
        }
       ],
       "layout": {
        "coloraxis": {
         "colorbar": {
          "title": {
           "text": "Contagem"
          }
         },
         "colorscale": [
          [
           0,
           "rgb(247,251,255)"
          ],
          [
           0.125,
           "rgb(222,235,247)"
          ],
          [
           0.25,
           "rgb(198,219,239)"
          ],
          [
           0.375,
           "rgb(158,202,225)"
          ],
          [
           0.5,
           "rgb(107,174,214)"
          ],
          [
           0.625,
           "rgb(66,146,198)"
          ],
          [
           0.75,
           "rgb(33,113,181)"
          ],
          [
           0.875,
           "rgb(8,81,156)"
          ],
          [
           1,
           "rgb(8,48,107)"
          ]
         ]
        },
        "height": 400,
        "template": {
         "data": {
          "bar": [
           {
            "error_x": {
             "color": "#2a3f5f"
            },
            "error_y": {
             "color": "#2a3f5f"
            },
            "marker": {
             "line": {
              "color": "#E5ECF6",
              "width": 0.5
             },
             "pattern": {
              "fillmode": "overlay",
              "size": 10,
              "solidity": 0.2
             }
            },
            "type": "bar"
           }
          ],
          "barpolar": [
           {
            "marker": {
             "line": {
              "color": "#E5ECF6",
              "width": 0.5
             },
             "pattern": {
              "fillmode": "overlay",
              "size": 10,
              "solidity": 0.2
             }
            },
            "type": "barpolar"
           }
          ],
          "carpet": [
           {
            "aaxis": {
             "endlinecolor": "#2a3f5f",
             "gridcolor": "white",
             "linecolor": "white",
             "minorgridcolor": "white",
             "startlinecolor": "#2a3f5f"
            },
            "baxis": {
             "endlinecolor": "#2a3f5f",
             "gridcolor": "white",
             "linecolor": "white",
             "minorgridcolor": "white",
             "startlinecolor": "#2a3f5f"
            },
            "type": "carpet"
           }
          ],
          "choropleth": [
           {
            "colorbar": {
             "outlinewidth": 0,
             "ticks": ""
            },
            "type": "choropleth"
           }
          ],
          "contour": [
           {
            "colorbar": {
             "outlinewidth": 0,
             "ticks": ""
            },
            "colorscale": [
             [
              0,
              "#0d0887"
             ],
             [
              0.1111111111111111,
              "#46039f"
             ],
             [
              0.2222222222222222,
              "#7201a8"
             ],
             [
              0.3333333333333333,
              "#9c179e"
             ],
             [
              0.4444444444444444,
              "#bd3786"
             ],
             [
              0.5555555555555556,
              "#d8576b"
             ],
             [
              0.6666666666666666,
              "#ed7953"
             ],
             [
              0.7777777777777778,
              "#fb9f3a"
             ],
             [
              0.8888888888888888,
              "#fdca26"
             ],
             [
              1,
              "#f0f921"
             ]
            ],
            "type": "contour"
           }
          ],
          "contourcarpet": [
           {
            "colorbar": {
             "outlinewidth": 0,
             "ticks": ""
            },
            "type": "contourcarpet"
           }
          ],
          "heatmap": [
           {
            "colorbar": {
             "outlinewidth": 0,
             "ticks": ""
            },
            "colorscale": [
             [
              0,
              "#0d0887"
             ],
             [
              0.1111111111111111,
              "#46039f"
             ],
             [
              0.2222222222222222,
              "#7201a8"
             ],
             [
              0.3333333333333333,
              "#9c179e"
             ],
             [
              0.4444444444444444,
              "#bd3786"
             ],
             [
              0.5555555555555556,
              "#d8576b"
             ],
             [
              0.6666666666666666,
              "#ed7953"
             ],
             [
              0.7777777777777778,
              "#fb9f3a"
             ],
             [
              0.8888888888888888,
              "#fdca26"
             ],
             [
              1,
              "#f0f921"
             ]
            ],
            "type": "heatmap"
           }
          ],
          "histogram": [
           {
            "marker": {
             "pattern": {
              "fillmode": "overlay",
              "size": 10,
              "solidity": 0.2
             }
            },
            "type": "histogram"
           }
          ],
          "histogram2d": [
           {
            "colorbar": {
             "outlinewidth": 0,
             "ticks": ""
            },
            "colorscale": [
             [
              0,
              "#0d0887"
             ],
             [
              0.1111111111111111,
              "#46039f"
             ],
             [
              0.2222222222222222,
              "#7201a8"
             ],
             [
              0.3333333333333333,
              "#9c179e"
             ],
             [
              0.4444444444444444,
              "#bd3786"
             ],
             [
              0.5555555555555556,
              "#d8576b"
             ],
             [
              0.6666666666666666,
              "#ed7953"
             ],
             [
              0.7777777777777778,
              "#fb9f3a"
             ],
             [
              0.8888888888888888,
              "#fdca26"
             ],
             [
              1,
              "#f0f921"
             ]
            ],
            "type": "histogram2d"
           }
          ],
          "histogram2dcontour": [
           {
            "colorbar": {
             "outlinewidth": 0,
             "ticks": ""
            },
            "colorscale": [
             [
              0,
              "#0d0887"
             ],
             [
              0.1111111111111111,
              "#46039f"
             ],
             [
              0.2222222222222222,
              "#7201a8"
             ],
             [
              0.3333333333333333,
              "#9c179e"
             ],
             [
              0.4444444444444444,
              "#bd3786"
             ],
             [
              0.5555555555555556,
              "#d8576b"
             ],
             [
              0.6666666666666666,
              "#ed7953"
             ],
             [
              0.7777777777777778,
              "#fb9f3a"
             ],
             [
              0.8888888888888888,
              "#fdca26"
             ],
             [
              1,
              "#f0f921"
             ]
            ],
            "type": "histogram2dcontour"
           }
          ],
          "mesh3d": [
           {
            "colorbar": {
             "outlinewidth": 0,
             "ticks": ""
            },
            "type": "mesh3d"
           }
          ],
          "parcoords": [
           {
            "line": {
             "colorbar": {
              "outlinewidth": 0,
              "ticks": ""
             }
            },
            "type": "parcoords"
           }
          ],
          "pie": [
           {
            "automargin": true,
            "type": "pie"
           }
          ],
          "scatter": [
           {
            "fillpattern": {
             "fillmode": "overlay",
             "size": 10,
             "solidity": 0.2
            },
            "type": "scatter"
           }
          ],
          "scatter3d": [
           {
            "line": {
             "colorbar": {
              "outlinewidth": 0,
              "ticks": ""
             }
            },
            "marker": {
             "colorbar": {
              "outlinewidth": 0,
              "ticks": ""
             }
            },
            "type": "scatter3d"
           }
          ],
          "scattercarpet": [
           {
            "marker": {
             "colorbar": {
              "outlinewidth": 0,
              "ticks": ""
             }
            },
            "type": "scattercarpet"
           }
          ],
          "scattergeo": [
           {
            "marker": {
             "colorbar": {
              "outlinewidth": 0,
              "ticks": ""
             }
            },
            "type": "scattergeo"
           }
          ],
          "scattergl": [
           {
            "marker": {
             "colorbar": {
              "outlinewidth": 0,
              "ticks": ""
             }
            },
            "type": "scattergl"
           }
          ],
          "scattermap": [
           {
            "marker": {
             "colorbar": {
              "outlinewidth": 0,
              "ticks": ""
             }
            },
            "type": "scattermap"
           }
          ],
          "scattermapbox": [
           {
            "marker": {
             "colorbar": {
              "outlinewidth": 0,
              "ticks": ""
             }
            },
            "type": "scattermapbox"
           }
          ],
          "scatterpolar": [
           {
            "marker": {
             "colorbar": {
              "outlinewidth": 0,
              "ticks": ""
             }
            },
            "type": "scatterpolar"
           }
          ],
          "scatterpolargl": [
           {
            "marker": {
             "colorbar": {
              "outlinewidth": 0,
              "ticks": ""
             }
            },
            "type": "scatterpolargl"
           }
          ],
          "scatterternary": [
           {
            "marker": {
             "colorbar": {
              "outlinewidth": 0,
              "ticks": ""
             }
            },
            "type": "scatterternary"
           }
          ],
          "surface": [
           {
            "colorbar": {
             "outlinewidth": 0,
             "ticks": ""
            },
            "colorscale": [
             [
              0,
              "#0d0887"
             ],
             [
              0.1111111111111111,
              "#46039f"
             ],
             [
              0.2222222222222222,
              "#7201a8"
             ],
             [
              0.3333333333333333,
              "#9c179e"
             ],
             [
              0.4444444444444444,
              "#bd3786"
             ],
             [
              0.5555555555555556,
              "#d8576b"
             ],
             [
              0.6666666666666666,
              "#ed7953"
             ],
             [
              0.7777777777777778,
              "#fb9f3a"
             ],
             [
              0.8888888888888888,
              "#fdca26"
             ],
             [
              1,
              "#f0f921"
             ]
            ],
            "type": "surface"
           }
          ],
          "table": [
           {
            "cells": {
             "fill": {
              "color": "#EBF0F8"
             },
             "line": {
              "color": "white"
             }
            },
            "header": {
             "fill": {
              "color": "#C8D4E3"
             },
             "line": {
              "color": "white"
             }
            },
            "type": "table"
           }
          ]
         },
         "layout": {
          "annotationdefaults": {
           "arrowcolor": "#2a3f5f",
           "arrowhead": 0,
           "arrowwidth": 1
          },
          "autotypenumbers": "strict",
          "coloraxis": {
           "colorbar": {
            "outlinewidth": 0,
            "ticks": ""
           }
          },
          "colorscale": {
           "diverging": [
            [
             0,
             "#8e0152"
            ],
            [
             0.1,
             "#c51b7d"
            ],
            [
             0.2,
             "#de77ae"
            ],
            [
             0.3,
             "#f1b6da"
            ],
            [
             0.4,
             "#fde0ef"
            ],
            [
             0.5,
             "#f7f7f7"
            ],
            [
             0.6,
             "#e6f5d0"
            ],
            [
             0.7,
             "#b8e186"
            ],
            [
             0.8,
             "#7fbc41"
            ],
            [
             0.9,
             "#4d9221"
            ],
            [
             1,
             "#276419"
            ]
           ],
           "sequential": [
            [
             0,
             "#0d0887"
            ],
            [
             0.1111111111111111,
             "#46039f"
            ],
            [
             0.2222222222222222,
             "#7201a8"
            ],
            [
             0.3333333333333333,
             "#9c179e"
            ],
            [
             0.4444444444444444,
             "#bd3786"
            ],
            [
             0.5555555555555556,
             "#d8576b"
            ],
            [
             0.6666666666666666,
             "#ed7953"
            ],
            [
             0.7777777777777778,
             "#fb9f3a"
            ],
            [
             0.8888888888888888,
             "#fdca26"
            ],
            [
             1,
             "#f0f921"
            ]
           ],
           "sequentialminus": [
            [
             0,
             "#0d0887"
            ],
            [
             0.1111111111111111,
             "#46039f"
            ],
            [
             0.2222222222222222,
             "#7201a8"
            ],
            [
             0.3333333333333333,
             "#9c179e"
            ],
            [
             0.4444444444444444,
             "#bd3786"
            ],
            [
             0.5555555555555556,
             "#d8576b"
            ],
            [
             0.6666666666666666,
             "#ed7953"
            ],
            [
             0.7777777777777778,
             "#fb9f3a"
            ],
            [
             0.8888888888888888,
             "#fdca26"
            ],
            [
             1,
             "#f0f921"
            ]
           ]
          },
          "colorway": [
           "#636efa",
           "#EF553B",
           "#00cc96",
           "#ab63fa",
           "#FFA15A",
           "#19d3f3",
           "#FF6692",
           "#B6E880",
           "#FF97FF",
           "#FECB52"
          ],
          "font": {
           "color": "#2a3f5f"
          },
          "geo": {
           "bgcolor": "white",
           "lakecolor": "white",
           "landcolor": "#E5ECF6",
           "showlakes": true,
           "showland": true,
           "subunitcolor": "white"
          },
          "hoverlabel": {
           "align": "left"
          },
          "hovermode": "closest",
          "mapbox": {
           "style": "light"
          },
          "paper_bgcolor": "white",
          "plot_bgcolor": "#E5ECF6",
          "polar": {
           "angularaxis": {
            "gridcolor": "white",
            "linecolor": "white",
            "ticks": ""
           },
           "bgcolor": "#E5ECF6",
           "radialaxis": {
            "gridcolor": "white",
            "linecolor": "white",
            "ticks": ""
           }
          },
          "scene": {
           "xaxis": {
            "backgroundcolor": "#E5ECF6",
            "gridcolor": "white",
            "gridwidth": 2,
            "linecolor": "white",
            "showbackground": true,
            "ticks": "",
            "zerolinecolor": "white"
           },
           "yaxis": {
            "backgroundcolor": "#E5ECF6",
            "gridcolor": "white",
            "gridwidth": 2,
            "linecolor": "white",
            "showbackground": true,
            "ticks": "",
            "zerolinecolor": "white"
           },
           "zaxis": {
            "backgroundcolor": "#E5ECF6",
            "gridcolor": "white",
            "gridwidth": 2,
            "linecolor": "white",
            "showbackground": true,
            "ticks": "",
            "zerolinecolor": "white"
           }
          },
          "shapedefaults": {
           "line": {
            "color": "#2a3f5f"
           }
          },
          "ternary": {
           "aaxis": {
            "gridcolor": "white",
            "linecolor": "white",
            "ticks": ""
           },
           "baxis": {
            "gridcolor": "white",
            "linecolor": "white",
            "ticks": ""
           },
           "bgcolor": "#E5ECF6",
           "caxis": {
            "gridcolor": "white",
            "linecolor": "white",
            "ticks": ""
           }
          },
          "title": {
           "x": 0.05
          },
          "xaxis": {
           "automargin": true,
           "gridcolor": "white",
           "linecolor": "white",
           "ticks": "",
           "title": {
            "standoff": 15
           },
           "zerolinecolor": "white",
           "zerolinewidth": 2
          },
          "yaxis": {
           "automargin": true,
           "gridcolor": "white",
           "linecolor": "white",
           "ticks": "",
           "title": {
            "standoff": 15
           },
           "zerolinecolor": "white",
           "zerolinewidth": 2
          }
         }
        },
        "title": {
         "text": "Matriz de Confusão - Gradient Boosting",
         "x": 0.5
        },
        "width": 600,
        "xaxis": {
         "anchor": "y",
         "constrain": "domain",
         "domain": [
          0,
          1
         ],
         "scaleanchor": "y",
         "title": {
          "text": "Predito"
         }
        },
        "yaxis": {
         "anchor": "x",
         "autorange": "reversed",
         "constrain": "domain",
         "domain": [
          0,
          1
         ],
         "title": {
          "text": "Real"
         }
        }
       }
      }
     },
     "metadata": {},
     "output_type": "display_data"
    }
   ],
   "source": [
    "# Dicionário com os modelos\n",
    "modelos = {\n",
    "    \"Decision Tree\": DecisionTreeClassifier(random_state=42),\n",
    "    \"K-Nearest Neighbors\": KNeighborsClassifier(),\n",
    "    \"Random Forest\": RandomForestClassifier(random_state=42),\n",
    "    \"Logistic Regression\": LogisticRegression(max_iter=1000, random_state=42),\n",
    "    \"Gradient Boosting\": GradientBoostingClassifier(random_state=42),\n",
    "}\n",
    "\n",
    "# Dicionário para armazenar resultados\n",
    "resultados = {}\n",
    "\n",
    "# Função para plotar matriz de confusão bonita com Plotly\n",
    "def plot_matriz_confusao(y_true, y_pred, titulo):\n",
    "    cm = confusion_matrix(y_true, y_pred)\n",
    "    fig = px.imshow(\n",
    "        cm,\n",
    "        text_auto=True,\n",
    "        color_continuous_scale=\"Blues\",\n",
    "        labels=dict(x=\"Predito\", y=\"Real\", color=\"Contagem\"),\n",
    "        x=[\"Maligno (0)\", \"Benigno (1)\"],\n",
    "        y=[\"Maligno (0)\", \"Benigno (1)\"],\n",
    "        title=f\"Matriz de Confusão - {titulo}\",\n",
    "        width=600,\n",
    "        height=400,\n",
    "    )\n",
    "    fig.update_layout(title_x=0.5)\n",
    "    fig.show()\n",
    "\n",
    "# Treinar e avaliar cada modelo\n",
    "for nome, modelo in modelos.items():\n",
    "    modelo.fit(X_train_scaled, y_train)\n",
    "    y_pred = modelo.predict(X_test_scaled)\n",
    "    acc = accuracy_score(y_test, y_pred)\n",
    "    resultados[nome] = acc\n",
    "    print(f\"✅ {nome} treinado com acurácia: {acc:.4f}\")\n",
    "    \n",
    "    # Exibir matriz de confusão\n",
    "    plot_matriz_confusao(y_test, y_pred, nome)"
   ]
  },
  {
   "cell_type": "markdown",
   "id": "1c6b07ef",
   "metadata": {},
   "source": [
    "### 📋 Comparação de Resultados"
   ]
  },
  {
   "cell_type": "code",
   "execution_count": 16,
   "id": "01082420",
   "metadata": {},
   "outputs": [
    {
     "data": {
      "text/html": [
       "<style type=\"text/css\">\n",
       "#T_d6ac3_row0_col1 {\n",
       "  background-color: #08306b;\n",
       "  color: #f1f1f1;\n",
       "}\n",
       "#T_d6ac3_row1_col1 {\n",
       "  background-color: #0b559f;\n",
       "  color: #f1f1f1;\n",
       "}\n",
       "#T_d6ac3_row2_col1 {\n",
       "  background-color: #539ecd;\n",
       "  color: #f1f1f1;\n",
       "}\n",
       "#T_d6ac3_row3_col1 {\n",
       "  background-color: #89bedc;\n",
       "  color: #000000;\n",
       "}\n",
       "#T_d6ac3_row4_col1 {\n",
       "  background-color: #f7fbff;\n",
       "  color: #000000;\n",
       "}\n",
       "</style>\n",
       "<table id=\"T_d6ac3\">\n",
       "  <thead>\n",
       "    <tr>\n",
       "      <th class=\"blank level0\" >&nbsp;</th>\n",
       "      <th id=\"T_d6ac3_level0_col0\" class=\"col_heading level0 col0\" >Modelo</th>\n",
       "      <th id=\"T_d6ac3_level0_col1\" class=\"col_heading level0 col1\" >Acurácia</th>\n",
       "    </tr>\n",
       "  </thead>\n",
       "  <tbody>\n",
       "    <tr>\n",
       "      <th id=\"T_d6ac3_level0_row0\" class=\"row_heading level0 row0\" >2</th>\n",
       "      <td id=\"T_d6ac3_row0_col0\" class=\"data row0 col0\" >Random Forest</td>\n",
       "      <td id=\"T_d6ac3_row0_col1\" class=\"data row0 col1\" >0.921053</td>\n",
       "    </tr>\n",
       "    <tr>\n",
       "      <th id=\"T_d6ac3_level0_row1\" class=\"row_heading level0 row1\" >4</th>\n",
       "      <td id=\"T_d6ac3_row1_col0\" class=\"data row1 col0\" >Gradient Boosting</td>\n",
       "      <td id=\"T_d6ac3_row1_col1\" class=\"data row1 col1\" >0.912281</td>\n",
       "    </tr>\n",
       "    <tr>\n",
       "      <th id=\"T_d6ac3_level0_row2\" class=\"row_heading level0 row2\" >1</th>\n",
       "      <td id=\"T_d6ac3_row2_col0\" class=\"data row2 col0\" >K-Nearest Neighbors</td>\n",
       "      <td id=\"T_d6ac3_row2_col1\" class=\"data row2 col1\" >0.894737</td>\n",
       "    </tr>\n",
       "    <tr>\n",
       "      <th id=\"T_d6ac3_level0_row3\" class=\"row_heading level0 row3\" >0</th>\n",
       "      <td id=\"T_d6ac3_row3_col0\" class=\"data row3 col0\" >Decision Tree</td>\n",
       "      <td id=\"T_d6ac3_row3_col1\" class=\"data row3 col1\" >0.885965</td>\n",
       "    </tr>\n",
       "    <tr>\n",
       "      <th id=\"T_d6ac3_level0_row4\" class=\"row_heading level0 row4\" >3</th>\n",
       "      <td id=\"T_d6ac3_row4_col0\" class=\"data row4 col0\" >Logistic Regression</td>\n",
       "      <td id=\"T_d6ac3_row4_col1\" class=\"data row4 col1\" >0.859649</td>\n",
       "    </tr>\n",
       "  </tbody>\n",
       "</table>\n"
      ],
      "text/plain": [
       "<pandas.io.formats.style.Styler at 0x2d2434b91d0>"
      ]
     },
     "metadata": {},
     "output_type": "display_data"
    },
    {
     "data": {
      "application/vnd.plotly.v1+json": {
       "config": {
        "plotlyServerURL": "https://plot.ly"
       },
       "data": [
        {
         "hovertemplate": "Modelo=%{x}<br>Acurácia=%{marker.color}<extra></extra>",
         "legendgroup": "",
         "marker": {
          "color": {
           "bdata": "lNdQXkN57T8W01lMZzHtPxvKayivoew/ncV0FtNZ7D8kuI/gPoLrPw==",
           "dtype": "f8"
          },
          "coloraxis": "coloraxis",
          "pattern": {
           "shape": ""
          }
         },
         "name": "",
         "orientation": "v",
         "showlegend": false,
         "textposition": "auto",
         "texttemplate": "%{y:.2f}",
         "type": "bar",
         "x": [
          "Random Forest",
          "Gradient Boosting",
          "K-Nearest Neighbors",
          "Decision Tree",
          "Logistic Regression"
         ],
         "xaxis": "x",
         "y": {
          "bdata": "lNdQXkN57T8W01lMZzHtPxvKayivoew/ncV0FtNZ7D8kuI/gPoLrPw==",
          "dtype": "f8"
         },
         "yaxis": "y"
        }
       ],
       "layout": {
        "barmode": "relative",
        "coloraxis": {
         "colorbar": {
          "title": {
           "text": "Acurácia"
          }
         },
         "colorscale": [
          [
           0,
           "rgb(247,251,255)"
          ],
          [
           0.125,
           "rgb(222,235,247)"
          ],
          [
           0.25,
           "rgb(198,219,239)"
          ],
          [
           0.375,
           "rgb(158,202,225)"
          ],
          [
           0.5,
           "rgb(107,174,214)"
          ],
          [
           0.625,
           "rgb(66,146,198)"
          ],
          [
           0.75,
           "rgb(33,113,181)"
          ],
          [
           0.875,
           "rgb(8,81,156)"
          ],
          [
           1,
           "rgb(8,48,107)"
          ]
         ]
        },
        "legend": {
         "tracegroupgap": 0
        },
        "template": {
         "data": {
          "bar": [
           {
            "error_x": {
             "color": "#2a3f5f"
            },
            "error_y": {
             "color": "#2a3f5f"
            },
            "marker": {
             "line": {
              "color": "#E5ECF6",
              "width": 0.5
             },
             "pattern": {
              "fillmode": "overlay",
              "size": 10,
              "solidity": 0.2
             }
            },
            "type": "bar"
           }
          ],
          "barpolar": [
           {
            "marker": {
             "line": {
              "color": "#E5ECF6",
              "width": 0.5
             },
             "pattern": {
              "fillmode": "overlay",
              "size": 10,
              "solidity": 0.2
             }
            },
            "type": "barpolar"
           }
          ],
          "carpet": [
           {
            "aaxis": {
             "endlinecolor": "#2a3f5f",
             "gridcolor": "white",
             "linecolor": "white",
             "minorgridcolor": "white",
             "startlinecolor": "#2a3f5f"
            },
            "baxis": {
             "endlinecolor": "#2a3f5f",
             "gridcolor": "white",
             "linecolor": "white",
             "minorgridcolor": "white",
             "startlinecolor": "#2a3f5f"
            },
            "type": "carpet"
           }
          ],
          "choropleth": [
           {
            "colorbar": {
             "outlinewidth": 0,
             "ticks": ""
            },
            "type": "choropleth"
           }
          ],
          "contour": [
           {
            "colorbar": {
             "outlinewidth": 0,
             "ticks": ""
            },
            "colorscale": [
             [
              0,
              "#0d0887"
             ],
             [
              0.1111111111111111,
              "#46039f"
             ],
             [
              0.2222222222222222,
              "#7201a8"
             ],
             [
              0.3333333333333333,
              "#9c179e"
             ],
             [
              0.4444444444444444,
              "#bd3786"
             ],
             [
              0.5555555555555556,
              "#d8576b"
             ],
             [
              0.6666666666666666,
              "#ed7953"
             ],
             [
              0.7777777777777778,
              "#fb9f3a"
             ],
             [
              0.8888888888888888,
              "#fdca26"
             ],
             [
              1,
              "#f0f921"
             ]
            ],
            "type": "contour"
           }
          ],
          "contourcarpet": [
           {
            "colorbar": {
             "outlinewidth": 0,
             "ticks": ""
            },
            "type": "contourcarpet"
           }
          ],
          "heatmap": [
           {
            "colorbar": {
             "outlinewidth": 0,
             "ticks": ""
            },
            "colorscale": [
             [
              0,
              "#0d0887"
             ],
             [
              0.1111111111111111,
              "#46039f"
             ],
             [
              0.2222222222222222,
              "#7201a8"
             ],
             [
              0.3333333333333333,
              "#9c179e"
             ],
             [
              0.4444444444444444,
              "#bd3786"
             ],
             [
              0.5555555555555556,
              "#d8576b"
             ],
             [
              0.6666666666666666,
              "#ed7953"
             ],
             [
              0.7777777777777778,
              "#fb9f3a"
             ],
             [
              0.8888888888888888,
              "#fdca26"
             ],
             [
              1,
              "#f0f921"
             ]
            ],
            "type": "heatmap"
           }
          ],
          "histogram": [
           {
            "marker": {
             "pattern": {
              "fillmode": "overlay",
              "size": 10,
              "solidity": 0.2
             }
            },
            "type": "histogram"
           }
          ],
          "histogram2d": [
           {
            "colorbar": {
             "outlinewidth": 0,
             "ticks": ""
            },
            "colorscale": [
             [
              0,
              "#0d0887"
             ],
             [
              0.1111111111111111,
              "#46039f"
             ],
             [
              0.2222222222222222,
              "#7201a8"
             ],
             [
              0.3333333333333333,
              "#9c179e"
             ],
             [
              0.4444444444444444,
              "#bd3786"
             ],
             [
              0.5555555555555556,
              "#d8576b"
             ],
             [
              0.6666666666666666,
              "#ed7953"
             ],
             [
              0.7777777777777778,
              "#fb9f3a"
             ],
             [
              0.8888888888888888,
              "#fdca26"
             ],
             [
              1,
              "#f0f921"
             ]
            ],
            "type": "histogram2d"
           }
          ],
          "histogram2dcontour": [
           {
            "colorbar": {
             "outlinewidth": 0,
             "ticks": ""
            },
            "colorscale": [
             [
              0,
              "#0d0887"
             ],
             [
              0.1111111111111111,
              "#46039f"
             ],
             [
              0.2222222222222222,
              "#7201a8"
             ],
             [
              0.3333333333333333,
              "#9c179e"
             ],
             [
              0.4444444444444444,
              "#bd3786"
             ],
             [
              0.5555555555555556,
              "#d8576b"
             ],
             [
              0.6666666666666666,
              "#ed7953"
             ],
             [
              0.7777777777777778,
              "#fb9f3a"
             ],
             [
              0.8888888888888888,
              "#fdca26"
             ],
             [
              1,
              "#f0f921"
             ]
            ],
            "type": "histogram2dcontour"
           }
          ],
          "mesh3d": [
           {
            "colorbar": {
             "outlinewidth": 0,
             "ticks": ""
            },
            "type": "mesh3d"
           }
          ],
          "parcoords": [
           {
            "line": {
             "colorbar": {
              "outlinewidth": 0,
              "ticks": ""
             }
            },
            "type": "parcoords"
           }
          ],
          "pie": [
           {
            "automargin": true,
            "type": "pie"
           }
          ],
          "scatter": [
           {
            "fillpattern": {
             "fillmode": "overlay",
             "size": 10,
             "solidity": 0.2
            },
            "type": "scatter"
           }
          ],
          "scatter3d": [
           {
            "line": {
             "colorbar": {
              "outlinewidth": 0,
              "ticks": ""
             }
            },
            "marker": {
             "colorbar": {
              "outlinewidth": 0,
              "ticks": ""
             }
            },
            "type": "scatter3d"
           }
          ],
          "scattercarpet": [
           {
            "marker": {
             "colorbar": {
              "outlinewidth": 0,
              "ticks": ""
             }
            },
            "type": "scattercarpet"
           }
          ],
          "scattergeo": [
           {
            "marker": {
             "colorbar": {
              "outlinewidth": 0,
              "ticks": ""
             }
            },
            "type": "scattergeo"
           }
          ],
          "scattergl": [
           {
            "marker": {
             "colorbar": {
              "outlinewidth": 0,
              "ticks": ""
             }
            },
            "type": "scattergl"
           }
          ],
          "scattermap": [
           {
            "marker": {
             "colorbar": {
              "outlinewidth": 0,
              "ticks": ""
             }
            },
            "type": "scattermap"
           }
          ],
          "scattermapbox": [
           {
            "marker": {
             "colorbar": {
              "outlinewidth": 0,
              "ticks": ""
             }
            },
            "type": "scattermapbox"
           }
          ],
          "scatterpolar": [
           {
            "marker": {
             "colorbar": {
              "outlinewidth": 0,
              "ticks": ""
             }
            },
            "type": "scatterpolar"
           }
          ],
          "scatterpolargl": [
           {
            "marker": {
             "colorbar": {
              "outlinewidth": 0,
              "ticks": ""
             }
            },
            "type": "scatterpolargl"
           }
          ],
          "scatterternary": [
           {
            "marker": {
             "colorbar": {
              "outlinewidth": 0,
              "ticks": ""
             }
            },
            "type": "scatterternary"
           }
          ],
          "surface": [
           {
            "colorbar": {
             "outlinewidth": 0,
             "ticks": ""
            },
            "colorscale": [
             [
              0,
              "#0d0887"
             ],
             [
              0.1111111111111111,
              "#46039f"
             ],
             [
              0.2222222222222222,
              "#7201a8"
             ],
             [
              0.3333333333333333,
              "#9c179e"
             ],
             [
              0.4444444444444444,
              "#bd3786"
             ],
             [
              0.5555555555555556,
              "#d8576b"
             ],
             [
              0.6666666666666666,
              "#ed7953"
             ],
             [
              0.7777777777777778,
              "#fb9f3a"
             ],
             [
              0.8888888888888888,
              "#fdca26"
             ],
             [
              1,
              "#f0f921"
             ]
            ],
            "type": "surface"
           }
          ],
          "table": [
           {
            "cells": {
             "fill": {
              "color": "#EBF0F8"
             },
             "line": {
              "color": "white"
             }
            },
            "header": {
             "fill": {
              "color": "#C8D4E3"
             },
             "line": {
              "color": "white"
             }
            },
            "type": "table"
           }
          ]
         },
         "layout": {
          "annotationdefaults": {
           "arrowcolor": "#2a3f5f",
           "arrowhead": 0,
           "arrowwidth": 1
          },
          "autotypenumbers": "strict",
          "coloraxis": {
           "colorbar": {
            "outlinewidth": 0,
            "ticks": ""
           }
          },
          "colorscale": {
           "diverging": [
            [
             0,
             "#8e0152"
            ],
            [
             0.1,
             "#c51b7d"
            ],
            [
             0.2,
             "#de77ae"
            ],
            [
             0.3,
             "#f1b6da"
            ],
            [
             0.4,
             "#fde0ef"
            ],
            [
             0.5,
             "#f7f7f7"
            ],
            [
             0.6,
             "#e6f5d0"
            ],
            [
             0.7,
             "#b8e186"
            ],
            [
             0.8,
             "#7fbc41"
            ],
            [
             0.9,
             "#4d9221"
            ],
            [
             1,
             "#276419"
            ]
           ],
           "sequential": [
            [
             0,
             "#0d0887"
            ],
            [
             0.1111111111111111,
             "#46039f"
            ],
            [
             0.2222222222222222,
             "#7201a8"
            ],
            [
             0.3333333333333333,
             "#9c179e"
            ],
            [
             0.4444444444444444,
             "#bd3786"
            ],
            [
             0.5555555555555556,
             "#d8576b"
            ],
            [
             0.6666666666666666,
             "#ed7953"
            ],
            [
             0.7777777777777778,
             "#fb9f3a"
            ],
            [
             0.8888888888888888,
             "#fdca26"
            ],
            [
             1,
             "#f0f921"
            ]
           ],
           "sequentialminus": [
            [
             0,
             "#0d0887"
            ],
            [
             0.1111111111111111,
             "#46039f"
            ],
            [
             0.2222222222222222,
             "#7201a8"
            ],
            [
             0.3333333333333333,
             "#9c179e"
            ],
            [
             0.4444444444444444,
             "#bd3786"
            ],
            [
             0.5555555555555556,
             "#d8576b"
            ],
            [
             0.6666666666666666,
             "#ed7953"
            ],
            [
             0.7777777777777778,
             "#fb9f3a"
            ],
            [
             0.8888888888888888,
             "#fdca26"
            ],
            [
             1,
             "#f0f921"
            ]
           ]
          },
          "colorway": [
           "#636efa",
           "#EF553B",
           "#00cc96",
           "#ab63fa",
           "#FFA15A",
           "#19d3f3",
           "#FF6692",
           "#B6E880",
           "#FF97FF",
           "#FECB52"
          ],
          "font": {
           "color": "#2a3f5f"
          },
          "geo": {
           "bgcolor": "white",
           "lakecolor": "white",
           "landcolor": "#E5ECF6",
           "showlakes": true,
           "showland": true,
           "subunitcolor": "white"
          },
          "hoverlabel": {
           "align": "left"
          },
          "hovermode": "closest",
          "mapbox": {
           "style": "light"
          },
          "paper_bgcolor": "white",
          "plot_bgcolor": "#E5ECF6",
          "polar": {
           "angularaxis": {
            "gridcolor": "white",
            "linecolor": "white",
            "ticks": ""
           },
           "bgcolor": "#E5ECF6",
           "radialaxis": {
            "gridcolor": "white",
            "linecolor": "white",
            "ticks": ""
           }
          },
          "scene": {
           "xaxis": {
            "backgroundcolor": "#E5ECF6",
            "gridcolor": "white",
            "gridwidth": 2,
            "linecolor": "white",
            "showbackground": true,
            "ticks": "",
            "zerolinecolor": "white"
           },
           "yaxis": {
            "backgroundcolor": "#E5ECF6",
            "gridcolor": "white",
            "gridwidth": 2,
            "linecolor": "white",
            "showbackground": true,
            "ticks": "",
            "zerolinecolor": "white"
           },
           "zaxis": {
            "backgroundcolor": "#E5ECF6",
            "gridcolor": "white",
            "gridwidth": 2,
            "linecolor": "white",
            "showbackground": true,
            "ticks": "",
            "zerolinecolor": "white"
           }
          },
          "shapedefaults": {
           "line": {
            "color": "#2a3f5f"
           }
          },
          "ternary": {
           "aaxis": {
            "gridcolor": "white",
            "linecolor": "white",
            "ticks": ""
           },
           "baxis": {
            "gridcolor": "white",
            "linecolor": "white",
            "ticks": ""
           },
           "bgcolor": "#E5ECF6",
           "caxis": {
            "gridcolor": "white",
            "linecolor": "white",
            "ticks": ""
           }
          },
          "title": {
           "x": 0.05
          },
          "xaxis": {
           "automargin": true,
           "gridcolor": "white",
           "linecolor": "white",
           "ticks": "",
           "title": {
            "standoff": 15
           },
           "zerolinecolor": "white",
           "zerolinewidth": 2
          },
          "yaxis": {
           "automargin": true,
           "gridcolor": "white",
           "linecolor": "white",
           "ticks": "",
           "title": {
            "standoff": 15
           },
           "zerolinecolor": "white",
           "zerolinewidth": 2
          }
         }
        },
        "title": {
         "text": "Comparação de Modelos - Acurácia",
         "x": 0.5
        },
        "xaxis": {
         "anchor": "y",
         "domain": [
          0,
          1
         ],
         "title": {
          "text": "Modelos"
         }
        },
        "yaxis": {
         "anchor": "x",
         "domain": [
          0,
          1
         ],
         "title": {
          "text": "Acurácia"
         }
        }
       }
      }
     },
     "metadata": {},
     "output_type": "display_data"
    }
   ],
   "source": [
    "# Converter resultados em DataFrame para visualizar melhor\n",
    "resultados_df = pd.DataFrame(\n",
    "    resultados.items(),\n",
    "    columns=[\"Modelo\", \"Acurácia\"]\n",
    ").sort_values(by=\"Acurácia\", ascending=False)\n",
    "\n",
    "# Exibir a tabela\n",
    "display(resultados_df.style.background_gradient(cmap=\"Blues\"))\n",
    "\n",
    "fig = px.bar(\n",
    "    resultados_df,\n",
    "    x=\"Modelo\",\n",
    "    y=\"Acurácia\",\n",
    "    title=\"Comparação de Modelos - Acurácia\",\n",
    "    text_auto='.2f',\n",
    "    color=\"Acurácia\",\n",
    "    color_continuous_scale=\"Blues\"\n",
    ")\n",
    "fig.update_layout(xaxis_title=\"Modelos\", yaxis_title=\"Acurácia\", title_x=0.5)\n",
    "fig.show()"
   ]
  },
  {
   "cell_type": "markdown",
   "id": "0bd8b4c9",
   "metadata": {},
   "source": [
    "### 📈 Visualização dos critérios de parada do modelo"
   ]
  },
  {
   "cell_type": "code",
   "execution_count": 17,
   "id": "2899993f",
   "metadata": {},
   "outputs": [
    {
     "data": {
      "image/png": "[encoded data removed]",
      "text/plain": [
       "<Figure size 2000x1000 with 1 Axes>"
      ]
     },
     "metadata": {},
     "output_type": "display_data"
    }
   ],
   "source": [
    "# Plotar a Random Forest\n",
    "plt.figure(figsize=(20, 10))\n",
    "plot_tree(modelos[\"Random Forest\"].estimators_[0], filled=True, feature_names=X.columns, rounded=True)\n",
    "plt.title(\"Árvore de Decisão da Random Forest\")\n",
    "plt.show()"
   ]
  },
  {
   "cell_type": "markdown",
   "id": "f312bc93",
   "metadata": {},
   "source": [
    "## 🥒 Exportação do modelo para o formato pickle"
   ]
  },
  {
   "cell_type": "code",
   "execution_count": 18,
   "id": "c693da7a",
   "metadata": {},
   "outputs": [],
   "source": [
    "with open('../backend/models/model.pkl', 'wb') as f:\n",
    "    pickle.dump(modelos[\"Random Forest\"], f)\n",
    "\n",
    "with open('../backend/models/scaler.pkl', 'wb') as f:\n",
    "    pickle.dump(scaler, f)"
   ]
  },
  {
   "cell_type": "markdown",
   "id": "870530e8",
   "metadata": {},
   "source": [
    "### 📋 Teste dos arquivos exportados"
   ]
  },
  {
   "cell_type": "code",
   "execution_count": null,
   "id": "77ec7160",
   "metadata": {},
   "outputs": [
    {
     "name": "stdout",
     "output_type": "stream",
     "text": [
      "🔍 Dados de entrada: [13.8, 15.7, 85.6, 520.1, 0.1]\n",
      "Expectativa: Benigno\n",
      "Resultado: Benigno\n",
      "\n",
      "🔍 Dados de entrada: [14.5, 20.0, 95.5, 600.2, 0.12]\n",
      "Expectativa: Maligno\n",
      "Resultado: Maligno\n"
     ]
    }
   ],
   "source": [
    "# Carregar modelo e scaler\n",
    "with open('../backend/models/model.pkl', 'rb') as f:\n",
    "    model = pickle.load(f)\n",
    "\n",
    "with open('../backend/models/scaler.pkl', 'rb') as f:\n",
    "    scaler = pickle.load(f)\n",
    "\n",
    "def predict(data):\n",
    "    input_df = pd.DataFrame([data], columns=['mean_radius', 'mean_texture', 'mean_perimeter', 'mean_area', 'mean_smoothness'])\n",
    "    input_scaled = scaler.transform(input_df)\n",
    "    prediction = model.predict(input_scaled)[0]\n",
    "    return \"Benigno\" if prediction == 1 else \"Maligno\"\n",
    "\n",
    "benigno = [13.8, 15.7, 85.6, 520.1, 0.1]\n",
    "print(f\"🔍 Dados de entrada: {benigno}\\nExpectativa: Benigno\\nResultado: {predict(benigno)}\\n\")\n",
    "\n",
    "maligno = [14.5, 20.0, 95.5, 600.2, 0.12]\n",
    "print(f\"🔍 Dados de entrada: {maligno}\\nExpectativa: Maligno\\nResultado: {predict(maligno)}\")"
   ]
  }
 ],
 "metadata": {
  "kernelspec": {
   "display_name": "Python 3",
   "language": "python",
   "name": "python3"
  },
  "language_info": {
   "codemirror_mode": {
    "name": "ipython",
    "version": 3
   },
   "file_extension": ".py",
   "mimetype": "text/x-python",
   "name": "python",
   "nbconvert_exporter": "python",
   "pygments_lexer": "ipython3",
   "version": "3.13.2"
  }
 },
 "nbformat": 4,
 "nbformat_minor": 5
}
